{
  "nbformat": 4,
  "nbformat_minor": 0,
  "metadata": {
    "colab": {
      "name": "[4] Neural Network Conscientious Cars A.ipynb",
      "provenance": [],
      "collapsed_sections": [],
      "include_colab_link": true
    },
    "kernelspec": {
      "name": "python3",
      "display_name": "Python 3"
    },
    "accelerator": "GPU"
  },
  "cells": [
    {
      "cell_type": "markdown",
      "metadata": {
        "id": "view-in-github",
        "colab_type": "text"
      },
      "source": [
        "<a href=\"https://colab.research.google.com/github/stephen-ics/Artificial-Intelligence/blob/main/%5B4%5D_Neural_Network_Conscientious_Cars_A.ipynb\" target=\"_parent\"><img src=\"https://colab.research.google.com/assets/colab-badge.svg\" alt=\"Open In Colab\"/></a>"
      ]
    },
    {
      "cell_type": "markdown",
      "metadata": {
        "id": "TiM6gYg0nhkY"
      },
      "source": [
        "<font color=\"#de3023\"><h1><b>MAKE A COPY OF THIS NOTEBOOK SO YOUR EDITS ARE SAVED</b></h1></font>"
      ]
    },
    {
      "cell_type": "markdown",
      "metadata": {
        "id": "Sq-JhCcLpBwS"
      },
      "source": [
        "\n",
        "We work for CC: ConscientiousCars, where we help self-driving vehicles be more conscientious of their surroundings. Our cars have been very good at recognizing and avoiding humans. They haven't, however, been capable of recognizing dogs. Since dogs are man's best friend and will always be where we humans are, we want our cars to know if a dog is on the road in front of them and avoid the dog!\n",
        "\n",
        "The first step to avoiding these cute puppies is **knowing if a puppy is in front of the car**. So today we will **build a detector that can tell when our car sees a dog or not**!\n",
        "\n"
      ]
    },
    {
      "cell_type": "code",
      "metadata": {
        "id": "uhNVum16scIW"
      },
      "source": [
        "#@title Run this to load some packages and data! { display-mode: \"form\" }\n",
        "from sklearn.neural_network import MLPClassifier\n",
        "from sklearn.neighbors import KNeighborsClassifier\n",
        "from sklearn import model_selection\n",
        "from sklearn.metrics import accuracy_score\n",
        "from collections import Counter\n",
        "import tensorflow.keras as keras\n",
        "from keras.models import Sequential\n",
        "from keras.layers import Dense, Conv2D\n",
        "from keras.layers import Activation, MaxPooling2D, Dropout, Flatten, Reshape\n",
        "from keras.wrappers.scikit_learn import KerasClassifier\n",
        "from sklearn.model_selection import StratifiedKFold\n",
        "from sklearn.model_selection import cross_val_score\n",
        "import numpy as np\n",
        "import pandas as pd\n",
        "import seaborn as sns\n",
        "import matplotlib.pyplot as plt\n",
        "\n",
        "import warnings\n",
        "warnings.filterwarnings(\"ignore\", category=UserWarning)\n",
        "\n",
        "\n",
        "def categorical_to_numpy(labels_in):\n",
        "  labels = []\n",
        "  for label in labels_in:\n",
        "    if label == 'dog':\n",
        "      labels.append(np.array([1, 0]))\n",
        "    else:\n",
        "      labels.append(np.array([0, 1]))\n",
        "  return np.array(labels)\n",
        "\n",
        "def one_hot_encoding(input):\n",
        "  output = np.array(input)\n",
        "  output = np.zeros((input.size, input.max()+1))\n",
        "  output[np.arange(input.size),input] = 1\n",
        "  \n",
        "  return output\n",
        "\n",
        "\n",
        "def load_data():\n",
        "  # Run this cell to download our data into a file called 'cifar_data'\n",
        "  !wget -O cifar_data https://storage.googleapis.com/inspirit-ai-data-bucket-1/Data/AI%20Scholars/Sessions%201%20-%205/Session%204%20_%205%20-%20Neural%20Networks%20_%20CNN/dogs_v_roads\n",
        "\n",
        "  # now load the data from our cloud computer\n",
        "  import pickle\n",
        "  data_dict = pickle.load(open( \"cifar_data\", \"rb\" ));\n",
        "  \n",
        "  data   = data_dict['data']\n",
        "  labels = data_dict['labels']\n",
        "  \n",
        "  return data, labels\n",
        "\n",
        "def plot_one_image(data, labels, img_idx):\n",
        "  from google.colab.patches import cv2_imshow\n",
        "  import cv2\n",
        "  import matplotlib.pyplot as plt\n",
        "  my_img   = data[img_idx, :].squeeze().reshape([32,32,3]).copy()\n",
        "  my_label = labels[img_idx]\n",
        "  print('label: %s'%my_label)\n",
        "  fig, ax = plt.subplots(1,1)\n",
        "\n",
        "  img = ax.imshow(my_img, extent=[-1,1,-1,1])\n",
        "\n",
        "  x_label_list = [0, 8, 16, 24, 32]\n",
        "  y_label_list = [0, 8, 16, 24, 32]\n",
        "\n",
        "  ax.set_xticks([-1, -0.5, 0, 0.5, 1])\n",
        "  ax.set_yticks([-1, -0.5, 0, 0.5, 1])\n",
        "\n",
        "  ax.set_xticklabels(x_label_list)\n",
        "  ax.set_yticklabels(y_label_list)\n",
        "\n",
        "  fig.show(img)\n",
        "  \n",
        "def CNNClassifier(num_epochs=30, layers=4, dropout=0.5):\n",
        "  def create_model():\n",
        "    model = Sequential()\n",
        "    model.add(Reshape((32, 32, 3)))\n",
        "    \n",
        "    for i in range(layers):\n",
        "      model.add(Conv2D(32, (3, 3), padding='same'))\n",
        "      model.add(Activation('relu'))\n",
        "    \n",
        "    model.add(Conv2D(32, (3, 3)))\n",
        "    model.add(Activation('relu'))\n",
        "    model.add(MaxPooling2D(pool_size=(2, 2)))\n",
        "    model.add(Dropout(dropout))\n",
        "\n",
        "    model.add(Conv2D(64, (3, 3), padding='same'))\n",
        "    model.add(Activation('relu'))\n",
        "    model.add(Conv2D(64, (3, 3)))\n",
        "    model.add(Activation('relu'))\n",
        "    model.add(MaxPooling2D(pool_size=(2, 2)))\n",
        "    model.add(Dropout(dropout))\n",
        "\n",
        "    model.add(Flatten())\n",
        "    model.add(Dense(512))\n",
        "    model.add(Activation('relu'))\n",
        "    model.add(Dropout(dropout))\n",
        "    model.add(Dense(2))\n",
        "    model.add(Activation('softmax'))\n",
        "\n",
        "    # initiate RMSprop optimizer\n",
        "    opt = keras.optimizers.RMSprop(learning_rate=0.0001, decay=1e-6)\n",
        "\n",
        "    # Let's train the model using RMSprop\n",
        "    model.compile(loss='categorical_crossentropy',\n",
        "                  optimizer=opt,\n",
        "                  metrics=['accuracy'])\n",
        "    return model\n",
        "  return KerasClassifier(build_fn=create_model, epochs=num_epochs, batch_size=10, verbose=2)\n",
        "\n",
        "def plot_acc(history, ax = None, xlabel = 'Epoch #'):\n",
        "    history = history.history\n",
        "    history.update({'epoch':list(range(len(history['val_accuracy'])))})\n",
        "    history = pd.DataFrame.from_dict(history)\n",
        "\n",
        "    best_epoch = history.sort_values(by = 'val_accuracy', ascending = False).iloc[0]['epoch']\n",
        "\n",
        "    if not ax:\n",
        "      f, ax = plt.subplots(1,1)\n",
        "    sns.lineplot(x = 'epoch', y = 'val_accuracy', data = history, label = 'Validation', ax = ax)\n",
        "    sns.lineplot(x = 'epoch', y = 'accuracy', data = history, label = 'Training', ax = ax)\n",
        "    ax.axhline(0.5, linestyle = '--',color='red', label = 'Chance')\n",
        "    ax.axvline(x = best_epoch, linestyle = '--', color = 'green', label = 'Best Epoch')  \n",
        "    ax.legend(loc = 7)    \n",
        "    ax.set_ylim([0.4, 1])\n",
        "\n",
        "    ax.set_xlabel(xlabel)\n",
        "    ax.set_ylabel('Accuracy (Fraction)')\n",
        "    \n",
        "    plt.show()"
      ],
      "execution_count": 54,
      "outputs": []
    },
    {
      "cell_type": "markdown",
      "metadata": {
        "id": "EsGDD5lvQoBZ"
      },
      "source": [
        "In this notebook, you'll:\n",
        "- Explore the cars vs. roads dataset\n",
        "- Train a simple K-neighbors classifier for computer vision\n",
        "- Train neural nets to tell dogs from roads\n",
        "- Improve your model with convolutional neural networks!\n",
        "- (Optional challenge) Use a saliency map to implement explainable AI"
      ]
    },
    {
      "cell_type": "markdown",
      "metadata": {
        "id": "1QxGsnvhnn8R"
      },
      "source": [
        "# Understanding our data"
      ]
    },
    {
      "cell_type": "markdown",
      "metadata": {
        "id": "btr24O6Hqgo6"
      },
      "source": [
        "Our cars are very attentive and always have their eyes on the road.\n",
        "\n",
        "Every second, they're streaming in data about the street, including video.\n",
        "\n",
        "From this video data, we want our car to tell: is there 'road' or 'dog' in front of it?\n",
        "\n",
        "Lucky for us, we have a dataset of dog and road images already prepared! Let's start by reading that *labeled* data in. \n"
      ]
    },
    {
      "cell_type": "code",
      "metadata": {
        "id": "MmZbrZoKnthN",
        "colab": {
          "base_uri": "https://localhost:8080/"
        },
        "outputId": "c0adf7b9-a804-4235-ca42-5bda3f6d1027"
      },
      "source": [
        "# load our data \n",
        "data, labels = load_data()"
      ],
      "execution_count": 55,
      "outputs": [
        {
          "output_type": "stream",
          "name": "stdout",
          "text": [
            "--2022-08-08 05:12:13--  https://storage.googleapis.com/inspirit-ai-data-bucket-1/Data/AI%20Scholars/Sessions%201%20-%205/Session%204%20_%205%20-%20Neural%20Networks%20_%20CNN/dogs_v_roads\n",
            "Resolving storage.googleapis.com (storage.googleapis.com)... 142.250.141.128, 142.251.2.128, 2607:f8b0:4023:c0b::80\n",
            "Connecting to storage.googleapis.com (storage.googleapis.com)|142.250.141.128|:443... connected.\n",
            "HTTP request sent, awaiting response... 200 OK\n",
            "Length: 3689015 (3.5M) [application/octet-stream]\n",
            "Saving to: ‘cifar_data’\n",
            "\n",
            "\rcifar_data            0%[                    ]       0  --.-KB/s               \rcifar_data          100%[===================>]   3.52M  --.-KB/s    in 0.02s   \n",
            "\n",
            "2022-08-08 05:12:13 (191 MB/s) - ‘cifar_data’ saved [3689015/3689015]\n",
            "\n"
          ]
        }
      ]
    },
    {
      "cell_type": "markdown",
      "metadata": {
        "id": "AGO0FFnqdFne"
      },
      "source": [
        "Let's look at an image of a dog!\n",
        "\n",
        "Try changing the number below. What does it do?\n",
        "\n"
      ]
    },
    {
      "cell_type": "code",
      "metadata": {
        "id": "csXB_FPMrx1D",
        "colab": {
          "base_uri": "https://localhost:8080/",
          "height": 287
        },
        "outputId": "2fe4e454-c3d7-4d8c-d57f-0a23d37edd96"
      },
      "source": [
        "plot_one_image(data, labels, 0) #change this number"
      ],
      "execution_count": 56,
      "outputs": [
        {
          "output_type": "stream",
          "name": "stdout",
          "text": [
            "label: dog\n"
          ]
        },
        {
          "output_type": "display_data",
          "data": {
            "text/plain": [
              "<Figure size 432x288 with 1 Axes>"
            ],
            "image/png": "[encoded data removed]"
          },
          "metadata": {
            "needs_background": "light"
          }
        }
      ]
    },
    {
      "cell_type": "markdown",
      "metadata": {
        "id": "ZYRzHTxVdSTG"
      },
      "source": [
        "**Discuss:** Why might we be using such blurry images?\n",
        "\n",
        "Next, let's try a road image. Again, try changing the number:"
      ]
    },
    {
      "cell_type": "code",
      "metadata": {
        "id": "CsRj6BAqs25Y",
        "colab": {
          "base_uri": "https://localhost:8080/",
          "height": 287
        },
        "outputId": "c17c67c6-9766-4061-a06a-2f39229befdc"
      },
      "source": [
        "plot_one_image(data, labels, 700) #change this number"
      ],
      "execution_count": 57,
      "outputs": [
        {
          "output_type": "stream",
          "name": "stdout",
          "text": [
            "label: road\n"
          ]
        },
        {
          "output_type": "display_data",
          "data": {
            "text/plain": [
              "<Figure size 432x288 with 1 Axes>"
            ],
            "image/png": "[encoded data removed]"
          },
          "metadata": {
            "needs_background": "light"
          }
        }
      ]
    },
    {
      "cell_type": "markdown",
      "metadata": {
        "id": "r0Qx4UYxdbTK"
      },
      "source": [
        "How many images do we have?"
      ]
    },
    {
      "cell_type": "code",
      "metadata": {
        "id": "6LQXCiGmAmz-",
        "colab": {
          "base_uri": "https://localhost:8080/"
        },
        "outputId": "c5ad41d5-0a24-44d0-eda2-e784a1232e8c"
      },
      "source": [
        "print (len(data))\n",
        "print(Counter(labels))"
      ],
      "execution_count": 58,
      "outputs": [
        {
          "output_type": "stream",
          "name": "stdout",
          "text": [
            "1200\n",
            "Counter({'dog': 600, 'road': 600})\n"
          ]
        }
      ]
    },
    {
      "cell_type": "markdown",
      "metadata": {
        "id": "OojOPMbLAl2B"
      },
      "source": [
        "The dataset is organized such that there are 600 images of dogs and 600 images of roads."
      ]
    },
    {
      "cell_type": "markdown",
      "metadata": {
        "id": "9Sz2c5LlU7Sj"
      },
      "source": [
        "#### Optional Exercise: Examining More Images\n",
        "\n",
        "**Look at a few more images of both classes.** \n",
        "\n",
        "Try using a `for` loop to look at 5 images!"
      ]
    },
    {
      "cell_type": "code",
      "metadata": {
        "id": "DkcqdB2ZVoNc",
        "colab": {
          "base_uri": "https://localhost:8080/",
          "height": 1000
        },
        "outputId": "1a2f339f-95e8-402d-d317-0335b2813cc7"
      },
      "source": [
        "### YOUR CODE HERE\n",
        "for i in range(5):\n",
        "  plot_one_image(data, labels, i)\n",
        "\n",
        "\n",
        "### END CODE"
      ],
      "execution_count": 59,
      "outputs": [
        {
          "output_type": "stream",
          "name": "stdout",
          "text": [
            "label: dog\n",
            "label: dog\n",
            "label: dog\n",
            "label: dog\n",
            "label: dog\n"
          ]
        },
        {
          "output_type": "display_data",
          "data": {
            "text/plain": [
              "<Figure size 432x288 with 1 Axes>"
            ],
            "image/png": "[encoded data removed]"
          },
          "metadata": {
            "needs_background": "light"
          }
        },
        {
          "output_type": "display_data",
          "data": {
            "text/plain": [
              "<Figure size 432x288 with 1 Axes>"
            ],
            "image/png": "[encoded data removed]"
          },
          "metadata": {
            "needs_background": "light"
          }
        },
        {
          "output_type": "display_data",
          "data": {
            "text/plain": [
              "<Figure size 432x288 with 1 Axes>"
            ],
            "image/png": "[encoded data removed]"
          },
          "metadata": {
            "needs_background": "light"
          }
        },
        {
          "output_type": "display_data",
          "data": {
            "text/plain": [
              "<Figure size 432x288 with 1 Axes>"
            ],
            "image/png": "[encoded data removed]"
          },
          "metadata": {
            "needs_background": "light"
          }
        },
        {
          "output_type": "display_data",
          "data": {
            "text/plain": [
              "<Figure size 432x288 with 1 Axes>"
            ],
            "image/png": "[encoded data removed]"
          },
          "metadata": {
            "needs_background": "light"
          }
        }
      ]
    },
    {
      "cell_type": "markdown",
      "metadata": {
        "id": "PHS0E_3wt0RS"
      },
      "source": [
        "##Understanding our Data Representation\n",
        "\n",
        "In an image each pixel is denoted by 3 numbers that represent the intensity value of that pixel (0 - 255) for each color channel (R, G, and B). Below we \n",
        "see a list of numbers for each image that represent the intensity values. \n"
      ]
    },
    {
      "cell_type": "code",
      "metadata": {
        "id": "DlgF6jWit9jz",
        "colab": {
          "base_uri": "https://localhost:8080/"
        },
        "outputId": "21cc8dff-4f06-4ba9-ca39-45927076ab2a"
      },
      "source": [
        "print('One image looks like: ')\n",
        "print(data[0])\n",
        "print(\"Length of list: \", len(data[0]))"
      ],
      "execution_count": 60,
      "outputs": [
        {
          "output_type": "stream",
          "name": "stdout",
          "text": [
            "One image looks like: \n",
            "[45 20 19 ... 83 99 31]\n",
            "Length of list:  3072\n"
          ]
        }
      ]
    },
    {
      "cell_type": "markdown",
      "metadata": {
        "id": "gPu7IDsZU_On"
      },
      "source": [
        "**Discuss:** What does each number mean? Can you explain the length of the list?"
      ]
    },
    {
      "cell_type": "code",
      "metadata": {
        "id": "YWBX6fWUui4R",
        "cellView": "form",
        "colab": {
          "base_uri": "https://localhost:8080/"
        },
        "outputId": "13e02490-ebf1-48a7-d7d3-8aae8868ca9b"
      },
      "source": [
        "#@title Exercise: Fill in the correct values for each image's height, width, and number of color channels:\n",
        "\n",
        "img_height =  32#@param {type:\"integer\"}\n",
        "img_width =  32#@param {type:\"integer\"}\n",
        "color_channels =  3#@param {type:\"integer\"}\n",
        "\n",
        "if img_height == 32 and img_width == 32 and color_channels == 3:\n",
        "  print(\"Correct!\")\n",
        "  print (\"Each image is\", img_height, 'x', img_width, 'pixels.')\n",
        "  print (\"Each pixel has\", color_channels, \"channels for red, green, blue.\")\n",
        "  print (\"This gives a total of\", img_height * img_width * color_channels, \"intensity values per image.\")\n",
        "else:\n",
        "  print(\"Those aren't quite the values.\")\n",
        "  print(\"Your values give a total of\", img_height * img_width * color_channels, \"intensity values per image.\") \n",
        "  print(\"Discuss with your group and try again!\")\n",
        "\n"
      ],
      "execution_count": 61,
      "outputs": [
        {
          "output_type": "stream",
          "name": "stdout",
          "text": [
            "Correct!\n",
            "Each image is 32 x 32 pixels.\n",
            "Each pixel has 3 channels for red, green, blue.\n",
            "This gives a total of 3072 intensity values per image.\n"
          ]
        }
      ]
    },
    {
      "cell_type": "markdown",
      "metadata": {
        "id": "-haNvnOwt-YE"
      },
      "source": [
        "We use these values as **inputs** to predict an **output** label: 'dog' or 'road'!\n",
        "\n",
        "Here's what our entire dataset looks like:"
      ]
    },
    {
      "cell_type": "code",
      "metadata": {
        "id": "JZIiCuBrvS6z",
        "colab": {
          "base_uri": "https://localhost:8080/"
        },
        "outputId": "762045ad-4be1-4ac2-9117-7a8182e44aa6"
      },
      "source": [
        "print ('Data shape:', data.shape)\n",
        "print ('Data:', data)"
      ],
      "execution_count": 62,
      "outputs": [
        {
          "output_type": "stream",
          "name": "stdout",
          "text": [
            "Data shape: (1200, 3072)\n",
            "Data: [[ 45  20  19 ...  83  99  31]\n",
            " [101 114  35 ... 155 134  91]\n",
            " [213 221 221 ... 139  58  47]\n",
            " ...\n",
            " [126 174 202 ... 124 128 129]\n",
            " [191 232 240 ...  74  93  81]\n",
            " [237 248 254 ...  45  56  10]]\n"
          ]
        }
      ]
    },
    {
      "cell_type": "markdown",
      "metadata": {
        "id": "tUjr5CKnhvtg"
      },
      "source": [
        "#A Simple Machine Learner"
      ]
    },
    {
      "cell_type": "markdown",
      "metadata": {
        "id": "hPskDCqlzOEE"
      },
      "source": [
        "We want to create a machine learning model that can tell us whether a new image is either a dog or a road.\n",
        "\n",
        "We will give our model a training manual of data and labels that it will study or train on.\n",
        "\n",
        "We then check how well our model is doing on a test, where it is given data and told to predict their labels.\n"
      ]
    },
    {
      "cell_type": "markdown",
      "metadata": {
        "id": "S0tDoNWFVVYB"
      },
      "source": [
        "##Building a KNN##"
      ]
    },
    {
      "cell_type": "markdown",
      "metadata": {
        "id": "Q8_JZ9PVzKzr"
      },
      "source": [
        "Let's start by using the `KNeighborsClassifier` model.\n",
        "\n",
        "**Playground:** Explore [this demo](http://vision.stanford.edu/teaching/cs231n-demos/knn/) to understand what the KNN model is doing! \n",
        "\n",
        "**Exercise:** Below, please build, train, and measure the accuracy of your own KNN model. Experiment with changing the number of neighbors!\n"
      ]
    },
    {
      "cell_type": "code",
      "metadata": {
        "id": "ZFOgS2VEyTkH",
        "colab": {
          "base_uri": "https://localhost:8080/"
        },
        "outputId": "69d4d595-4a3f-4ed2-8c27-48b8b891ca40"
      },
      "source": [
        "X_train, X_test, y_train, y_test = model_selection.train_test_split(data, labels, test_size=0.2, random_state=1)\n",
        "### YOUR CODE HERE\n",
        "\n",
        "for i in range(20):\n",
        "  # Initialize our model\n",
        "  knn_model = KNeighborsClassifier(i+1)\n",
        "\n",
        "  # Train our model\n",
        "  knn_model.fit(X_train, y_train)\n",
        "\n",
        "  # Test our model\n",
        "  y_pred = knn_model.predict(X_test)\n",
        "\n",
        "  # Print the score on the testing data\n",
        "  accuracy = accuracy_score(y_test, y_pred)\n",
        "  print((i+1), accuracy)\n",
        "\n",
        "### END CODE"
      ],
      "execution_count": 63,
      "outputs": [
        {
          "output_type": "stream",
          "name": "stdout",
          "text": [
            "1 0.8\n",
            "2 0.8916666666666667\n",
            "3 0.8\n",
            "4 0.8666666666666667\n",
            "5 0.7916666666666666\n",
            "6 0.8375\n",
            "7 0.8\n",
            "8 0.8375\n",
            "9 0.7916666666666666\n",
            "10 0.8291666666666667\n",
            "11 0.8166666666666667\n",
            "12 0.8375\n",
            "13 0.8208333333333333\n",
            "14 0.8458333333333333\n",
            "15 0.825\n",
            "16 0.8375\n",
            "17 0.8166666666666667\n",
            "18 0.825\n",
            "19 0.8125\n",
            "20 0.825\n"
          ]
        }
      ]
    },
    {
      "cell_type": "markdown",
      "metadata": {
        "id": "x1ZgBtyIHYr7"
      },
      "source": [
        "**(Optional):** After you've built your KNN model, remove ```random_state=1``` and re-run the cells above. How does removing ```random_state=1``` affect your accuracy? Why?"
      ]
    },
    {
      "cell_type": "markdown",
      "metadata": {
        "id": "uU48O9l18_-C"
      },
      "source": [
        "##Predicting on images\n",
        "\n",
        "We can use our trained model to predict whether our car is seeing a `dog` or `road`. Let's try this out - experiment with different images!\n"
      ]
    },
    {
      "cell_type": "code",
      "metadata": {
        "id": "Az1_moLl9E0B",
        "colab": {
          "base_uri": "https://localhost:8080/",
          "height": 305
        },
        "outputId": "ee4ab6ef-8e17-43fd-f777-25132ee599d1"
      },
      "source": [
        "# Specify which image you want to show\n",
        "image_id = 41 #Change this!\n",
        "\n",
        "# Visualize the image\n",
        "plot_one_image(X_test, y_test, image_id)\n",
        "\n",
        "# Use the model to predict what this might be and print it\n",
        "print('prediction:', knn_model.predict([X_test[image_id]])[0])"
      ],
      "execution_count": 64,
      "outputs": [
        {
          "output_type": "stream",
          "name": "stdout",
          "text": [
            "label: dog\n",
            "prediction: road\n"
          ]
        },
        {
          "output_type": "display_data",
          "data": {
            "text/plain": [
              "<Figure size 432x288 with 1 Axes>"
            ],
            "image/png": "[encoded data removed]"
          },
          "metadata": {
            "needs_background": "light"
          }
        }
      ]
    },
    {
      "cell_type": "markdown",
      "metadata": {
        "id": "4oW_Wb-1CTfB"
      },
      "source": [
        "## Choosing a value of k\n",
        "\n",
        "**Exercise** Determine the optimal value of \"K\" for our data. Use a for-loop to loop through different values of \"K\". In particular, *at the very least* try K = 1, 3, 5, 10, 20, and 30. For each of these values of \"K\", define a new KNN model, train it, and evaluate the accuracy."
      ]
    },
    {
      "cell_type": "code",
      "metadata": {
        "id": "OrZK_qoAZOAd"
      },
      "source": [
        "### YOUR CODE HERE\n",
        "\n",
        "### END CODE"
      ],
      "execution_count": 65,
      "outputs": []
    },
    {
      "cell_type": "markdown",
      "metadata": {
        "id": "AZ9uYgKMCX-z"
      },
      "source": [
        "**Discuss:** What are the advantages and disadvantages of using a bigger vs. smaller **k**? What is the optimal value?"
      ]
    },
    {
      "cell_type": "markdown",
      "metadata": {
        "id": "j09evSD_YfJ4"
      },
      "source": [
        "## (Optional) Understanding our mistakes\n",
        "\n",
        "Our classifications are OK, but are they good enough for our conscientious cars?\n",
        "\n",
        "Let's put on our detective hats to determine the root causes of the incorrect classifications!\n",
        "\n",
        "**Exercise:** Below, please print out 4 images of true positives, 4 images of true negatives, 4 images of false positives, and 4 images of false negatives. What are the reasons for failure (both for false positives and false negatives)? "
      ]
    },
    {
      "cell_type": "code",
      "metadata": {
        "id": "xWy1S_gyGoJT",
        "colab": {
          "base_uri": "https://localhost:8080/",
          "height": 1000
        },
        "outputId": "5f06020b-ec61-4fcd-f2fc-a28ac4422b2c"
      },
      "source": [
        "#True Positives (code provided)\n",
        "tp_count = 0\n",
        "print (\"TRUE POSITIVES\")\n",
        "i = 0\n",
        "while tp_count < 4 and i < len(X_test):\n",
        "  prediction = knn_model.predict([X_test[i]])[0] \n",
        "  if prediction == y_test[i] and prediction == 'dog':\n",
        "    plot_one_image(X_test, y_test, i)\n",
        "    tp_count += 1\n",
        "  i += 1\n",
        "\n",
        "#False Positives\n",
        "#YOUR CODE HERE\n",
        "\n",
        "#True Negatives\n",
        "#YOUR CODE HERE\n",
        "\n",
        "#False Negatives\n",
        "#YOUR CODE HERE"
      ],
      "execution_count": 66,
      "outputs": [
        {
          "output_type": "stream",
          "name": "stdout",
          "text": [
            "TRUE POSITIVES\n",
            "label: dog\n",
            "label: dog\n",
            "label: dog\n",
            "label: dog\n"
          ]
        },
        {
          "output_type": "display_data",
          "data": {
            "text/plain": [
              "<Figure size 432x288 with 1 Axes>"
            ],
            "image/png": "[encoded data removed]"
          },
          "metadata": {
            "needs_background": "light"
          }
        },
        {
          "output_type": "display_data",
          "data": {
            "text/plain": [
              "<Figure size 432x288 with 1 Axes>"
            ],
            "image/png": "[encoded data removed]"
          },
          "metadata": {
            "needs_background": "light"
          }
        },
        {
          "output_type": "display_data",
          "data": {
            "text/plain": [
              "<Figure size 432x288 with 1 Axes>"
            ],
            "image/png": "[encoded data removed]"
          },
          "metadata": {
            "needs_background": "light"
          }
        },
        {
          "output_type": "display_data",
          "data": {
            "text/plain": [
              "<Figure size 432x288 with 1 Axes>"
            ],
            "image/png": "[encoded data removed]"
          },
          "metadata": {
            "needs_background": "light"
          }
        }
      ]
    },
    {
      "cell_type": "markdown",
      "metadata": {
        "id": "nSx8HEhHKxFd"
      },
      "source": [
        "**Discuss:** What patterns did you notice? What are some reasons that the model makes mistakes?"
      ]
    },
    {
      "cell_type": "markdown",
      "metadata": {
        "id": "doLXp1Ot8D2C"
      },
      "source": [
        "#Neural Networks\n",
        "Now, let's create some new models using neural networks!\n",
        "\n",
        "You can play around with [TensorFlow Playground](https://playground.tensorflow.org/#activation=tanh&batchSize=10&dataset=circle&regDataset=reg-plane&learningRate=0.03&regularizationRate=0&noise=0&networkShape=4,2&seed=0.62283&showTestData=false&discretize=false&percTrainData=50&x=true&y=true&xTimesY=false&xSquared=false&ySquared=false&cosX=false&sinX=false&cosY=false&sinY=false&collectStats=false&problem=classification&initZero=false&hideText=false&regularization_hide=true&regularizationRate_hide=true&learningRate_hide=true&batchSize_hide=true&stepButton_hide=true&activation_hide=true) to get a feel for how neural nets work."
      ]
    },
    {
      "cell_type": "markdown",
      "metadata": {
        "id": "u9iFe-B4zqQA"
      },
      "source": [
        "To build a simple neural network, we use `MLPClassifier` from scikit-learn. We will play with the **number of neurons** and the **number of hidden layers** to adjust the complexity of our model, just like we did in Playground!\n",
        "\n",
        "**Example 1:**\n",
        "Here's how we create a neural network with 1 hidden layer of 3 neurons.\n",
        "\n",
        "`nnet = MLPClassifier(hidden_layer_sizes=(3)) `\n",
        "\n",
        "**Example 2:**\n",
        "\n",
        "Here's how we create a neural network with 2 hidden layers: one of 3 neurons and one of 4 neurons.\n",
        "\n",
        "`nnet = MLPClassifier(hidden_layer_sizes=(3, 4)) `\n",
        "\n",
        "**Discuss:** How might you build a neural network with 3 hidden layers? Run the code below and modify it!"
      ]
    },
    {
      "cell_type": "code",
      "metadata": {
        "id": "x4XblMWBzm96",
        "colab": {
          "base_uri": "https://localhost:8080/"
        },
        "outputId": "7949864d-c65e-460d-fb2c-e85c8e4b91d5"
      },
      "source": [
        "# Create and train our multi layer perceptron model\n",
        "nnet = MLPClassifier(hidden_layer_sizes=(1000, 3, 3), random_state=1, max_iter=10000000)  ## How many hidden layers? How many neurons does this have?\n",
        "nnet.fit(X_train, y_train)\n",
        "\n",
        "# Predict what the classes are based on the testing data\n",
        "predictions = nnet.predict(X_test)\n",
        "\n",
        "# Print the score on the testing data\n",
        "print(\"MLP Testing Accuracy:\")\n",
        "print(accuracy_score(y_test, predictions)*100)"
      ],
      "execution_count": 67,
      "outputs": [
        {
          "output_type": "stream",
          "name": "stdout",
          "text": [
            "MLP Testing Accuracy:\n",
            "47.083333333333336\n"
          ]
        }
      ]
    },
    {
      "cell_type": "markdown",
      "metadata": {
        "id": "J1QYZTxq0RCV"
      },
      "source": [
        "**How well did your neural network perform?** \n",
        "\n",
        "Multilayer perceptrons are more complex models and it can be difficult to find the right \"settings\" for them. It takes some trial and error!"
      ]
    },
    {
      "cell_type": "markdown",
      "metadata": {
        "id": "nX27P2eY0yqQ"
      },
      "source": [
        "**Exercise: try the following out and see how well you can get your network to do!**\n",
        "* Train a 1 layer, 10 neuron network for practice\n",
        "* Change the number of neurons and/or add layers to see how well you can do\n",
        "* Increase or decrease the number of iterations"
      ]
    },
    {
      "cell_type": "code",
      "metadata": {
        "id": "_nPOrTN-JMYk",
        "colab": {
          "base_uri": "https://localhost:8080/"
        },
        "outputId": "ee788c18-4f54-451d-a9c5-1e3b061eb9b5"
      },
      "source": [
        "#YOUR CODE HERE\n",
        "\n",
        "nnet = MLPClassifier(hidden_layer_sizes=(10), random_state=1, max_iter=10000000)  ## How many hidden layers? How many neurons does this have?\n",
        "nnet.fit(X_train, y_train)\n",
        "\n",
        "# Predict what the classes are based on the testing data\n",
        "predictions = nnet.predict(X_test)\n",
        "\n",
        "# Print the score on the testing data\n",
        "print(\"MLP Testing Accuracy:\")\n",
        "print(accuracy_score(y_test, predictions)*100)"
      ],
      "execution_count": 68,
      "outputs": [
        {
          "output_type": "stream",
          "name": "stdout",
          "text": [
            "MLP Testing Accuracy:\n",
            "52.916666666666664\n"
          ]
        }
      ]
    },
    {
      "cell_type": "markdown",
      "metadata": {
        "id": "hXud5MuBXqzo"
      },
      "source": [
        "###Automating our Experiments \n",
        "\n",
        "**Exercise:** Similar to what you did for KNNs, use a for loop to automate your investigation. Explore different numbers of hidden layers, the size of the hidden layers, and the number of iterations! How well can you get your network performing?"
      ]
    },
    {
      "cell_type": "code",
      "metadata": {
        "id": "owrF6cDvX0HX",
        "colab": {
          "base_uri": "https://localhost:8080/"
        },
        "outputId": "60f34c6a-a2e3-4272-e3bf-1017a77a392c"
      },
      "source": [
        "### YOUR CODE HERE\n",
        "for network_config in [(10, 10, 10, 10, 10, 10, 10, 10, 10, 10, 10, 10, 10, 10, 10, 10, 10, 10, 10, 10, 10, 10, 10, 10), (1, 1, 1), (10, 10, 10), (100, 100, 100), (1000, 1000), (1000), (10, 10, 10, 10, 10, 10, 10)]:\n",
        "  print(str(network_config) + ' Hidden Layers Look Like')\n",
        "  nnet = MLPClassifier(hidden_layer_sizes=network_config, random_state=1, max_iter=100)  ## How many hidden layers? How many neurons does this have?\n",
        "  nnet.fit(X_train, y_train)\n",
        "\n",
        "  # Predict what the classes are based on the testing data\n",
        "  predictions = nnet.predict(X_test)\n",
        "\n",
        "  # Print the score on the testing data\n",
        "  print(\"MLP Testing Accuracy:\")\n",
        "  print(accuracy_score(y_test, predictions)*100)\n",
        "\n",
        "### END CODE"
      ],
      "execution_count": 69,
      "outputs": [
        {
          "output_type": "stream",
          "name": "stdout",
          "text": [
            "(10, 10, 10, 10, 10, 10, 10, 10, 10, 10, 10, 10, 10, 10, 10, 10, 10, 10, 10, 10, 10, 10, 10, 10) Hidden Layers Look Like\n",
            "MLP Testing Accuracy:\n",
            "88.33333333333333\n",
            "(1, 1, 1) Hidden Layers Look Like\n",
            "MLP Testing Accuracy:\n",
            "47.083333333333336\n",
            "(10, 10, 10) Hidden Layers Look Like\n",
            "MLP Testing Accuracy:\n",
            "52.916666666666664\n",
            "(100, 100, 100) Hidden Layers Look Like\n",
            "MLP Testing Accuracy:\n",
            "84.16666666666667\n",
            "(1000, 1000) Hidden Layers Look Like\n",
            "MLP Testing Accuracy:\n",
            "83.75\n",
            "1000 Hidden Layers Look Like\n",
            "MLP Testing Accuracy:\n",
            "82.91666666666667\n",
            "(10, 10, 10, 10, 10, 10, 10) Hidden Layers Look Like\n",
            "MLP Testing Accuracy:\n",
            "90.0\n"
          ]
        }
      ]
    },
    {
      "cell_type": "markdown",
      "metadata": {
        "id": "37O_VE_D1Bdy"
      },
      "source": [
        "# Models for Vision: Convolutional Neural Networks\n",
        "There is a famous type of neural network known as convolutional neural networks (CNNs). These types of neural networks work particularly well on problems to do with computer vision. Let's try one out!"
      ]
    },
    {
      "cell_type": "markdown",
      "metadata": {
        "id": "GqrfI4JiVeFr"
      },
      "source": [
        "###Training Your CNN\n",
        "To load up a simple CNN on scikit-learn, just run:\n",
        "\n",
        "`cnn = CNNClassifier(num_epochs=N)`\n",
        "\n",
        "The `num_epochs` represents how many times the neural network passes through the training dataset. \n",
        "\n",
        "We'll need to change our data to floats (decimal numbers).\n",
        "\n",
        "**Exercise:** Please train and test your CNN below!"
      ]
    },
    {
      "cell_type": "code",
      "metadata": {
        "id": "dSwghlVU4WTy",
        "colab": {
          "base_uri": "https://localhost:8080/"
        },
        "outputId": "ac83fb56-9d9e-4169-b421-15a0dd90cef6"
      },
      "source": [
        "# convert our data to floats for our CNN\n",
        "X_train = X_train.astype(float)\n",
        "X_test = X_test.astype(float)\n",
        "\n",
        "### YOUR CODE HERE\n",
        "# Create and train our cnn\n",
        "cnn = CNNClassifier(num_epochs=10)\n",
        "cnn.fit(X_train, y_train)\n",
        "\n",
        "# Predict what the classes are based on the testing data\n",
        "y_predict = cnn.predict(X_test)\n",
        "\n",
        "# Print the score on the testing data\n",
        "print(\"CNN Testing Set Score:\")\n",
        "print(accuracy_score(y_test, predictions))\n",
        "\n",
        "\n",
        "### END CODE"
      ],
      "execution_count": 70,
      "outputs": [
        {
          "output_type": "stream",
          "name": "stdout",
          "text": [
            "Epoch 1/10\n"
          ]
        },
        {
          "output_type": "stream",
          "name": "stderr",
          "text": [
            "/usr/local/lib/python3.7/dist-packages/ipykernel_launcher.py:111: DeprecationWarning: KerasClassifier is deprecated, use Sci-Keras (https://github.com/adriangb/scikeras) instead. See https://www.adriangb.com/scikeras/stable/migration.html for help migrating.\n"
          ]
        },
        {
          "output_type": "stream",
          "name": "stdout",
          "text": [
            "96/96 - 12s - loss: 1.3787 - accuracy: 0.6313 - 12s/epoch - 126ms/step\n",
            "Epoch 2/10\n",
            "96/96 - 11s - loss: 0.4835 - accuracy: 0.7677 - 11s/epoch - 112ms/step\n",
            "Epoch 3/10\n",
            "96/96 - 13s - loss: 0.3254 - accuracy: 0.8687 - 13s/epoch - 132ms/step\n",
            "Epoch 4/10\n",
            "96/96 - 11s - loss: 0.2605 - accuracy: 0.9073 - 11s/epoch - 111ms/step\n",
            "Epoch 5/10\n",
            "96/96 - 11s - loss: 0.2212 - accuracy: 0.9187 - 11s/epoch - 112ms/step\n",
            "Epoch 6/10\n",
            "96/96 - 12s - loss: 0.2288 - accuracy: 0.9177 - 12s/epoch - 124ms/step\n",
            "Epoch 7/10\n",
            "96/96 - 11s - loss: 0.1934 - accuracy: 0.9219 - 11s/epoch - 112ms/step\n",
            "Epoch 8/10\n",
            "96/96 - 11s - loss: 0.1904 - accuracy: 0.9354 - 11s/epoch - 112ms/step\n",
            "Epoch 9/10\n",
            "96/96 - 11s - loss: 0.1623 - accuracy: 0.9385 - 11s/epoch - 112ms/step\n",
            "Epoch 10/10\n",
            "96/96 - 11s - loss: 0.1641 - accuracy: 0.9438 - 11s/epoch - 111ms/step\n",
            "CNN Testing Set Score:\n",
            "0.9\n"
          ]
        }
      ]
    },
    {
      "cell_type": "markdown",
      "metadata": {
        "id": "KGWpgsVXP1ut"
      },
      "source": [
        "**Discuss: Is this CNN good enough to use in practice?** \n",
        "\n",
        "CNNs typically perform better than basic Neural Networks on vision problems - but like basic Neural Networks, they aren't always consistent in their results and are sensitive to a number of factors. \n",
        "\n",
        "If you're interested in learning more about CNNs, spend some time exploring the [CNN Explainer](https://poloclub.github.io/cnn-explainer/)!\n",
        "\n",
        "**Report to the class your highest model accuracy.**\n",
        "\n",
        "**Bonus Question:** Each of you might see a different max accuracy. Can you think of why that might be?\n"
      ]
    },
    {
      "cell_type": "markdown",
      "metadata": {
        "id": "c-XRh5Y5P_CL"
      },
      "source": [
        "## Training and Validation Curves\n",
        "\n",
        "An important aspect of training neural networks is to prevent overfitting. **How do you know when your model is overfitting?**\n",
        "\n",
        "To plot our model's history, we can train it with\n",
        "```\n",
        "history = model.fit(X_train, categorical_to_numpy(y_train), validation_data=(X_test, categorical_to_numpy(y_test)))\n",
        "```\n",
        "\n",
        "and then use\n",
        "```\n",
        "plot_acc(history)\n",
        "```\n",
        "Don't forget to change ```model``` to be the name of your model!"
      ]
    },
    {
      "cell_type": "markdown",
      "metadata": {
        "id": "8eaFvE2PQEFe"
      },
      "source": [
        "**Exercise:** Train a CNN model and plot a train vs. test curve.\n",
        "\n",
        "**After how many epochs does the model begin to overfit?** Overfitting occurs when the validation accuracy starts to drop below the training accuracy."
      ]
    },
    {
      "cell_type": "code",
      "metadata": {
        "id": "OsVAasDbjARJ",
        "colab": {
          "base_uri": "https://localhost:8080/",
          "height": 660
        },
        "outputId": "90e8890b-3beb-4a68-eca7-8f9348cc36bc"
      },
      "source": [
        "### YOUR CODE HERE\n",
        "history = cnn.fit(X_train, categorical_to_numpy(y_train), validation_data=(X_test, categorical_to_numpy(y_test)))\n",
        "plot_acc(history)\n",
        "\n",
        "### END CODE"
      ],
      "execution_count": 71,
      "outputs": [
        {
          "output_type": "stream",
          "name": "stdout",
          "text": [
            "Epoch 1/10\n",
            "96/96 - 13s - loss: 1.7382 - accuracy: 0.6323 - val_loss: 0.3524 - val_accuracy: 0.8750 - 13s/epoch - 132ms/step\n",
            "Epoch 2/10\n",
            "96/96 - 11s - loss: 0.5076 - accuracy: 0.7833 - val_loss: 0.3001 - val_accuracy: 0.9000 - 11s/epoch - 117ms/step\n",
            "Epoch 3/10\n",
            "96/96 - 11s - loss: 0.3466 - accuracy: 0.8594 - val_loss: 0.2306 - val_accuracy: 0.9208 - 11s/epoch - 117ms/step\n",
            "Epoch 4/10\n",
            "96/96 - 11s - loss: 0.2961 - accuracy: 0.8833 - val_loss: 0.1691 - val_accuracy: 0.9458 - 11s/epoch - 117ms/step\n",
            "Epoch 5/10\n",
            "96/96 - 12s - loss: 0.2683 - accuracy: 0.8906 - val_loss: 0.1806 - val_accuracy: 0.9333 - 12s/epoch - 129ms/step\n",
            "Epoch 6/10\n",
            "96/96 - 11s - loss: 0.2367 - accuracy: 0.9125 - val_loss: 0.1516 - val_accuracy: 0.9500 - 11s/epoch - 117ms/step\n",
            "Epoch 7/10\n",
            "96/96 - 11s - loss: 0.1946 - accuracy: 0.9219 - val_loss: 0.1320 - val_accuracy: 0.9542 - 11s/epoch - 116ms/step\n",
            "Epoch 8/10\n",
            "96/96 - 11s - loss: 0.1801 - accuracy: 0.9271 - val_loss: 0.1981 - val_accuracy: 0.9083 - 11s/epoch - 116ms/step\n",
            "Epoch 9/10\n",
            "96/96 - 11s - loss: 0.1574 - accuracy: 0.9417 - val_loss: 0.1290 - val_accuracy: 0.9708 - 11s/epoch - 116ms/step\n",
            "Epoch 10/10\n",
            "96/96 - 11s - loss: 0.1545 - accuracy: 0.9417 - val_loss: 0.1229 - val_accuracy: 0.9667 - 11s/epoch - 116ms/step\n"
          ]
        },
        {
          "output_type": "display_data",
          "data": {
            "text/plain": [
              "<Figure size 432x288 with 1 Axes>"
            ],
            "image/png": "[encoded data removed]"
          },
          "metadata": {
            "needs_background": "light"
          }
        }
      ]
    },
    {
      "cell_type": "markdown",
      "metadata": {
        "id": "RVzEpI_xWpE5"
      },
      "source": [
        "### Hopefully your CNN worked *very* well! We want to keep the doggos as safe as they can be.\n",
        "\n",
        "![](https://images.pexels.com/photos/316/black-and-white-animal-dog-pet.jpg?auto=compress&cs=tinysrgb&dpr=2&h=650&w=940)"
      ]
    },
    {
      "cell_type": "markdown",
      "metadata": {
        "id": "7Y1wGoQPm2Ko"
      },
      "source": [
        "# Challenge Exercise: Explainability through Saliency Maps"
      ]
    },
    {
      "cell_type": "markdown",
      "metadata": {
        "id": "UnGTR2Vdb08i"
      },
      "source": [
        "Neural networks have achieved incredible results in many fields. But they have a big problem: it’s very difficult to explain exactly why a neural network makes the decisions it does. This makes it difficult to trust them in high-stakes applications like medicine, self-driving cars, and criminal justice - would you trust an AI that diagnosed you with a disease, but couldn’t explain why?\n",
        "\n",
        "Other classifiers are much more explainable:\n",
        "\n",
        "*   With logistic regression, we can see the coefficient (importance) attached to each input feature.\n",
        "*   With a decision tree, we can trace a particular decision down the tree.\n",
        "*   With KNN, we can examine the nearby neighbors.\n",
        "\n",
        "Our CNN, above, works well. For example, let's try choosing an image from our dataset and classifying it."
      ]
    },
    {
      "cell_type": "code",
      "metadata": {
        "id": "HmU6Peb7m67F",
        "colab": {
          "base_uri": "https://localhost:8080/",
          "height": 337
        },
        "outputId": "e2e53e12-75c7-49e3-a950-a36abad69266"
      },
      "source": [
        "image_index = 70 #pick any image you'd like\n",
        "input_image = X_test[image_index] \n",
        "print (input_image.shape) \n",
        "print (input_image) #How many numbers are there? What does each represent?\n",
        "\n",
        "plt.imshow(input_image.reshape(32,32,3).astype(int))\n",
        "plt.show()\n",
        "\n",
        "print ('Classification:')\n",
        "print(cnn.predict(np.array([input_image]))) #Our predict function expects a 2D array.\n",
        "#0 means dog, 1 means road"
      ],
      "execution_count": 72,
      "outputs": [
        {
          "output_type": "stream",
          "name": "stdout",
          "text": [
            "(3072,)\n",
            "[144. 144. 148. ... 207. 173. 142.]\n"
          ]
        },
        {
          "output_type": "display_data",
          "data": {
            "text/plain": [
              "<Figure size 432x288 with 1 Axes>"
            ],
            "image/png": "[encoded data removed]"
          },
          "metadata": {
            "needs_background": "light"
          }
        },
        {
          "output_type": "stream",
          "name": "stdout",
          "text": [
            "Classification:\n",
            "[0]\n"
          ]
        }
      ]
    },
    {
      "cell_type": "markdown",
      "metadata": {
        "id": "c6P7DX_WcfOU"
      },
      "source": [
        "But why did the CNN reach that decision? It’s really hard to give a clear answer! The CNN relies on multiplying input features by the weights it has set. You can print out and look at the hundreds of weights:\n"
      ]
    },
    {
      "cell_type": "code",
      "metadata": {
        "id": "w8M8UZCgcpqO",
        "colab": {
          "base_uri": "https://localhost:8080/"
        },
        "outputId": "2a55ceef-cba1-4159-ac5d-629b92d245e2"
      },
      "source": [
        "#Warning: expect a large output!\n",
        "for layer_weights in history.model.weights:\n",
        "  print (layer_weights)"
      ],
      "execution_count": 73,
      "outputs": [
        {
          "output_type": "stream",
          "name": "stdout",
          "text": [
            "<tf.Variable 'conv2d_21/kernel:0' shape=(3, 3, 3, 32) dtype=float32, numpy=\n",
            "array([[[[-0.10828857,  0.07856172, -0.00025172, -0.06431115,\n",
            "          -0.0694732 , -0.00386231, -0.06878024, -0.0954904 ,\n",
            "          -0.08180588,  0.13266581, -0.12689723,  0.05890744,\n",
            "           0.11409009, -0.04321792,  0.11972885,  0.0789173 ,\n",
            "           0.05675694, -0.08977374,  0.10573228, -0.00689722,\n",
            "          -0.12626545, -0.04703559, -0.06579024, -0.07343985,\n",
            "          -0.07774112, -0.11414658, -0.02760742,  0.02138383,\n",
            "           0.08226357,  0.11099107, -0.1311579 ,  0.07180655],\n",
            "         [-0.01630435, -0.0381515 ,  0.08648521,  0.12933925,\n",
            "           0.01779235,  0.05127121,  0.12177407, -0.12473425,\n",
            "          -0.07238346, -0.12682423, -0.0183627 ,  0.08996349,\n",
            "          -0.04057662,  0.12356708, -0.02427768, -0.04598194,\n",
            "           0.0066822 , -0.03651523, -0.12959881,  0.13200633,\n",
            "           0.03096007, -0.13854101, -0.10812109,  0.01482229,\n",
            "          -0.13246584, -0.06571265, -0.12607038,  0.13622038,\n",
            "          -0.01830989, -0.08669958,  0.0358659 , -0.11894895],\n",
            "         [ 0.02085848,  0.09765524, -0.11959837, -0.11803586,\n",
            "           0.08990725, -0.05398686, -0.02233558, -0.02913373,\n",
            "           0.01480918, -0.09160782, -0.03658515,  0.08556074,\n",
            "           0.09330366, -0.08521449,  0.07404657,  0.10678393,\n",
            "          -0.01042329,  0.04607521, -0.0321171 ,  0.00739255,\n",
            "           0.07015438,  0.04815073,  0.08207302, -0.02788523,\n",
            "          -0.11633428,  0.02701445, -0.02353087,  0.11079959,\n",
            "           0.006083  , -0.13657254, -0.08197292, -0.008828  ]],\n",
            "\n",
            "        [[ 0.03173288, -0.02889032, -0.12548386, -0.08557165,\n",
            "           0.01511127,  0.13353854,  0.03517934,  0.00437683,\n",
            "          -0.08201987, -0.03022107, -0.08930587,  0.05594368,\n",
            "          -0.01622238,  0.11029258,  0.04901163, -0.10093032,\n",
            "           0.04238904, -0.02527277, -0.03391906,  0.04445805,\n",
            "          -0.04997915, -0.02613414,  0.01284642, -0.04983503,\n",
            "           0.03132554, -0.1330331 , -0.02669148, -0.1083375 ,\n",
            "           0.13298388, -0.10592403, -0.01499164, -0.13169347],\n",
            "         [ 0.11163609, -0.11179025, -0.05955704,  0.087083  ,\n",
            "           0.08729593,  0.07432772, -0.08501178,  0.04221451,\n",
            "           0.09664604,  0.07547316, -0.05378934, -0.08335539,\n",
            "           0.06659291, -0.01175949,  0.020994  , -0.07460508,\n",
            "          -0.12094226, -0.13044989, -0.06662662,  0.08884583,\n",
            "          -0.08587701, -0.09695858,  0.06110964,  0.05623719,\n",
            "          -0.06779981, -0.00774289, -0.08070776,  0.09437393,\n",
            "           0.13357711,  0.11789782, -0.11461804,  0.06493597],\n",
            "         [ 0.11112768,  0.00084012, -0.0743201 , -0.13833128,\n",
            "          -0.02401754,  0.12959246,  0.1211703 ,  0.08815036,\n",
            "          -0.01196142, -0.0103378 , -0.12505734,  0.10046026,\n",
            "           0.02086482,  0.1295768 , -0.0702254 , -0.05633158,\n",
            "           0.09480633, -0.04988614, -0.07785526,  0.012061  ,\n",
            "           0.01318206,  0.01997268, -0.10656613, -0.13349824,\n",
            "           0.04037785, -0.06115176, -0.057672  , -0.08672781,\n",
            "          -0.02310755, -0.04140843,  0.10766815, -0.02686397]],\n",
            "\n",
            "        [[-0.12876111, -0.02451619,  0.05118152,  0.09216557,\n",
            "          -0.03228796,  0.01578434, -0.04589864,  0.05034394,\n",
            "           0.08065018, -0.04900932, -0.02729105, -0.05542487,\n",
            "          -0.05842287,  0.06785481, -0.02885671, -0.09280672,\n",
            "          -0.11219119,  0.05141318,  0.11282303,  0.07543801,\n",
            "          -0.09313533, -0.07353753,  0.07673978, -0.01806699,\n",
            "          -0.06819464, -0.08433688,  0.07575142,  0.12964876,\n",
            "          -0.05959089,  0.03839462,  0.03583161, -0.00855431],\n",
            "         [-0.09575164,  0.0440477 ,  0.11547865,  0.13232872,\n",
            "           0.11902248, -0.05042227, -0.10372239,  0.05622288,\n",
            "          -0.06500085,  0.04473534,  0.02891308, -0.11472271,\n",
            "           0.03078186,  0.00021577, -0.02590136, -0.01450844,\n",
            "           0.06266902,  0.07475895, -0.07636186, -0.09140099,\n",
            "          -0.07762236, -0.0728776 , -0.0613624 ,  0.07647774,\n",
            "          -0.12046032,  0.0061688 , -0.03865735, -0.07363096,\n",
            "           0.09400819, -0.10094163,  0.04946522,  0.01753555],\n",
            "         [ 0.06945051, -0.0329925 ,  0.09255765,  0.03868428,\n",
            "           0.03844016, -0.127122  , -0.11223093, -0.08923877,\n",
            "           0.04726221, -0.09935883, -0.00513048,  0.08873373,\n",
            "           0.09464504,  0.08854521, -0.08105579,  0.0167897 ,\n",
            "           0.10086684, -0.00416425, -0.03829633, -0.11126177,\n",
            "          -0.03024418, -0.05726397,  0.10527914, -0.06728338,\n",
            "           0.01001737,  0.12957872, -0.04367957,  0.01265284,\n",
            "          -0.04133098,  0.13631871,  0.00943749, -0.01256608]]],\n",
            "\n",
            "\n",
            "       [[[ 0.0749969 , -0.12341737, -0.14341588,  0.12464856,\n",
            "           0.00286896, -0.03664987,  0.11794256, -0.10361177,\n",
            "          -0.0633215 , -0.02792949, -0.02287966,  0.13135771,\n",
            "           0.10920198, -0.04652085, -0.10922985,  0.03116427,\n",
            "           0.07289528, -0.01666652,  0.14238974,  0.07506699,\n",
            "           0.05799978,  0.13045384,  0.09234538,  0.1132435 ,\n",
            "          -0.13410187,  0.01500525, -0.04219916, -0.10365787,\n",
            "          -0.08273079, -0.11121713,  0.12217637, -0.1277418 ],\n",
            "         [ 0.004369  , -0.09817307, -0.09267765, -0.02275169,\n",
            "           0.04034705, -0.12439727,  0.06910551,  0.02159913,\n",
            "           0.03445373, -0.10244007, -0.00747376, -0.08541615,\n",
            "          -0.07889184,  0.02732882, -0.10482781,  0.09746614,\n",
            "          -0.07540839, -0.02866421, -0.11097001, -0.02551426,\n",
            "           0.06068362,  0.12752956, -0.1176172 , -0.11231695,\n",
            "           0.04039921,  0.08015835,  0.00226274, -0.09460273,\n",
            "           0.00503684,  0.09178502,  0.0746335 ,  0.06093045],\n",
            "         [-0.1321202 ,  0.0162478 , -0.0900828 , -0.04081281,\n",
            "           0.06742152, -0.03299782,  0.13159421, -0.03875682,\n",
            "           0.07974539,  0.00332258,  0.01244523,  0.09857056,\n",
            "          -0.01548511, -0.01709226,  0.05511908,  0.09950162,\n",
            "           0.05413708,  0.10006836,  0.14022875,  0.04840682,\n",
            "          -0.02908131,  0.09626592, -0.005052  , -0.04927021,\n",
            "          -0.06832641,  0.01386991, -0.00648451, -0.01901642,\n",
            "           0.13890658,  0.08907714, -0.13701324,  0.12235706]],\n",
            "\n",
            "        [[-0.10432252,  0.10522697, -0.10590228,  0.09799491,\n",
            "           0.12316889,  0.07008278, -0.10923021,  0.00874418,\n",
            "          -0.11762623, -0.06659722, -0.00070565,  0.04929449,\n",
            "          -0.03033905,  0.03293457, -0.03057604, -0.02601587,\n",
            "          -0.13176617,  0.0240837 ,  0.13593878, -0.0750846 ,\n",
            "          -0.08628459, -0.13920674,  0.07517954, -0.03528204,\n",
            "          -0.08068892,  0.09204943, -0.015386  ,  0.09916738,\n",
            "          -0.09646807,  0.01681348,  0.07813357,  0.02655946],\n",
            "         [-0.10728961, -0.13163167, -0.05869948, -0.01227076,\n",
            "          -0.02368656, -0.07280761, -0.11182235,  0.03797166,\n",
            "           0.12623344, -0.12034342,  0.00255096, -0.00676726,\n",
            "           0.07735384,  0.07223988, -0.05935409, -0.04903885,\n",
            "           0.04621274,  0.03632253, -0.091419  , -0.07969271,\n",
            "           0.0542104 ,  0.06262845,  0.10834493,  0.03488449,\n",
            "           0.01446564,  0.03911921,  0.07648189, -0.1224847 ,\n",
            "          -0.11369947, -0.01848878, -0.11347646, -0.0460993 ],\n",
            "         [ 0.09537243,  0.1035555 ,  0.12098569, -0.10599747,\n",
            "          -0.06374667,  0.08386166, -0.13110334, -0.08046681,\n",
            "          -0.01684197,  0.020973  ,  0.08438066, -0.07518027,\n",
            "           0.12814158,  0.04827015, -0.08374596,  0.05388993,\n",
            "           0.05284548, -0.04207503, -0.08063295,  0.12695216,\n",
            "           0.03907057,  0.06185408, -0.08398867,  0.13600922,\n",
            "           0.04570702, -0.08553771, -0.02527455, -0.00539071,\n",
            "           0.08348402,  0.00779227,  0.10068668,  0.0871203 ]],\n",
            "\n",
            "        [[-0.06762916,  0.02933082,  0.11568726,  0.01476366,\n",
            "          -0.00985947, -0.06966706,  0.10927755,  0.09267307,\n",
            "          -0.06038117,  0.06531876, -0.07067364, -0.00573693,\n",
            "           0.09451906,  0.13483365,  0.0015992 , -0.04407914,\n",
            "           0.12204118, -0.01864995, -0.07483832, -0.00171058,\n",
            "           0.13281637,  0.10072318,  0.00174215,  0.11225186,\n",
            "          -0.09553669,  0.02399204, -0.08149394,  0.08423324,\n",
            "          -0.0783281 , -0.07075987, -0.02968395, -0.12581638],\n",
            "         [ 0.04141191, -0.08569559, -0.08457866, -0.0122366 ,\n",
            "           0.1187578 , -0.00991688,  0.12318798, -0.07144372,\n",
            "           0.1364364 ,  0.11529127,  0.09713367, -0.12114166,\n",
            "          -0.01409038, -0.00980269, -0.09699722,  0.10464932,\n",
            "           0.1275185 , -0.06158924, -0.10039427, -0.10301839,\n",
            "           0.06598213, -0.0979204 ,  0.09017269,  0.01420564,\n",
            "          -0.09011196, -0.04129067,  0.10224868, -0.05464143,\n",
            "           0.01395727,  0.03721007, -0.05003178,  0.08844438],\n",
            "         [ 0.08760879,  0.06115647, -0.10718839,  0.06986436,\n",
            "           0.0538165 ,  0.0742342 , -0.12194498, -0.00828232,\n",
            "           0.0347125 , -0.08061363, -0.09086449, -0.01740937,\n",
            "           0.12791036,  0.03935052,  0.09778197,  0.1272574 ,\n",
            "           0.02906559, -0.02254933, -0.07389238,  0.0602652 ,\n",
            "          -0.07091863, -0.06595795, -0.02806322, -0.12267046,\n",
            "           0.01744236,  0.08017825,  0.04828117,  0.02259438,\n",
            "          -0.04343798, -0.12938988, -0.10640265, -0.1249176 ]]],\n",
            "\n",
            "\n",
            "       [[[-0.12834235,  0.03982508, -0.08468958, -0.11799826,\n",
            "           0.03888473,  0.07614246, -0.01664603, -0.00511003,\n",
            "          -0.0899277 ,  0.01744674,  0.14071055, -0.09730293,\n",
            "           0.09365295,  0.08685363, -0.06577073, -0.04218176,\n",
            "          -0.09630293,  0.0348836 ,  0.08198028, -0.03245927,\n",
            "           0.1169448 , -0.12278879,  0.01697276, -0.04073802,\n",
            "          -0.12684776, -0.09824757, -0.09305967,  0.01837019,\n",
            "           0.10155883, -0.02779084, -0.08644137,  0.03800635],\n",
            "         [ 0.05326888, -0.00049397,  0.11561684,  0.08394147,\n",
            "          -0.13730082, -0.13597383,  0.07938861,  0.02449494,\n",
            "          -0.11257923,  0.06024716,  0.0463344 ,  0.08118612,\n",
            "           0.06195767,  0.03662091,  0.01853813,  0.11398739,\n",
            "           0.11881559,  0.0245262 ,  0.12110349,  0.05301885,\n",
            "           0.12536612, -0.07382857,  0.08853199,  0.01949818,\n",
            "           0.0041929 , -0.12600487, -0.07133729, -0.09331263,\n",
            "          -0.13527305,  0.0572985 , -0.05069285,  0.0307076 ],\n",
            "         [ 0.08776465, -0.01379593,  0.05871029,  0.12905395,\n",
            "           0.12046392,  0.10281615,  0.04606595,  0.10307597,\n",
            "          -0.0335349 ,  0.03749322, -0.04426243, -0.09758194,\n",
            "          -0.0468498 , -0.11868547, -0.13533266, -0.13059378,\n",
            "          -0.09325243, -0.0768699 ,  0.07074624,  0.00864217,\n",
            "          -0.12226096,  0.07780831,  0.06442341,  0.11360405,\n",
            "          -0.04739422, -0.11919743,  0.1290551 , -0.06828184,\n",
            "          -0.09327729,  0.09931714,  0.04564897, -0.11068177]],\n",
            "\n",
            "        [[-0.06137153,  0.06216612, -0.04941399, -0.04013922,\n",
            "           0.0022705 ,  0.0617326 , -0.11839373, -0.11371463,\n",
            "           0.01821928,  0.03838796, -0.02529013, -0.09626809,\n",
            "          -0.06280042, -0.09807017, -0.13933964, -0.07777102,\n",
            "          -0.04808507, -0.05292264,  0.09063668, -0.12956877,\n",
            "           0.00554285,  0.07861883,  0.11834154,  0.04182941,\n",
            "          -0.01596727, -0.10949342,  0.12338938,  0.09398475,\n",
            "           0.10589145,  0.13345988,  0.07121586, -0.05081525],\n",
            "         [-0.09366328,  0.03582598, -0.00229978,  0.00924257,\n",
            "          -0.00286375, -0.08682881,  0.00226085,  0.10449631,\n",
            "          -0.00387226,  0.05291871, -0.00149824, -0.059781  ,\n",
            "           0.05572337,  0.12510277,  0.09252371, -0.09709572,\n",
            "          -0.10581329, -0.02862657,  0.00022071,  0.11227858,\n",
            "          -0.08045846, -0.0162817 , -0.03122726,  0.04013833,\n",
            "          -0.08912647, -0.06486596,  0.04491657,  0.11517842,\n",
            "           0.03252169, -0.1009947 ,  0.04222673, -0.01652305],\n",
            "         [-0.01254197,  0.08940507, -0.02777777, -0.05447917,\n",
            "           0.05890823,  0.00508394, -0.01197391, -0.00017729,\n",
            "           0.04281382, -0.04434549, -0.13076945,  0.08618749,\n",
            "           0.0693381 , -0.01059389, -0.03863427,  0.04319294,\n",
            "          -0.06154454,  0.08066014, -0.10907506, -0.0184664 ,\n",
            "          -0.12696587,  0.11549289, -0.04190493, -0.11277452,\n",
            "           0.05238464,  0.0412777 ,  0.11101862,  0.0541215 ,\n",
            "           0.06570762,  0.03383805,  0.1089821 , -0.01850929]],\n",
            "\n",
            "        [[ 0.03562516,  0.03168657,  0.05785636, -0.02617065,\n",
            "          -0.06452939, -0.0144642 ,  0.09041168, -0.07055432,\n",
            "           0.02926514,  0.11431247,  0.02425302,  0.08062951,\n",
            "          -0.04714108,  0.01587938, -0.0949038 , -0.04777224,\n",
            "          -0.00634405,  0.00842454, -0.00144578, -0.08418652,\n",
            "           0.09599011, -0.01754464,  0.00450266,  0.03716461,\n",
            "          -0.00344436,  0.09311023,  0.06833933,  0.10410231,\n",
            "          -0.12043848, -0.08255517,  0.09275511, -0.1020858 ],\n",
            "         [ 0.03744683,  0.01102289, -0.04542042,  0.12554967,\n",
            "           0.12057286, -0.01285771,  0.02410392, -0.00617548,\n",
            "           0.1300031 ,  0.05245557,  0.06520627, -0.05837398,\n",
            "          -0.10111575,  0.06311946,  0.0779423 , -0.02712975,\n",
            "          -0.05437455,  0.00600482, -0.10569093, -0.01167109,\n",
            "           0.0947268 ,  0.05144591, -0.1112861 ,  0.11104348,\n",
            "          -0.11698286, -0.03163375, -0.02878564, -0.01823876,\n",
            "          -0.0280771 ,  0.00335762, -0.00867053,  0.07703878],\n",
            "         [ 0.01062304,  0.13046819, -0.1103859 ,  0.00974453,\n",
            "           0.09776624, -0.09605473, -0.00945244,  0.00942384,\n",
            "          -0.09361295,  0.05641822, -0.12114912,  0.02296985,\n",
            "           0.09357628, -0.04410252, -0.03166636,  0.00908359,\n",
            "           0.11819815,  0.1165624 , -0.01381842, -0.00748853,\n",
            "          -0.03774886,  0.12834594, -0.00536221,  0.03111968,\n",
            "          -0.04731574,  0.10452677, -0.06348095, -0.00862722,\n",
            "          -0.06184608,  0.13322341,  0.03171583, -0.03018917]]]],\n",
            "      dtype=float32)>\n",
            "<tf.Variable 'conv2d_21/bias:0' shape=(32,) dtype=float32, numpy=\n",
            "array([ 0.00033777, -0.00375669, -0.00442646,  0.00017516, -0.00046241,\n",
            "        0.00286114, -0.00259408,  0.00013747,  0.00215714, -0.00150525,\n",
            "        0.00410934, -0.00432223, -0.0006054 , -0.00548379, -0.00153231,\n",
            "        0.00608786,  0.00477728,  0.00178264,  0.00393359, -0.00295181,\n",
            "        0.00190601, -0.00592773, -0.00377424,  0.00427204,  0.00025309,\n",
            "        0.00302429, -0.00253738, -0.0032549 ,  0.0008791 ,  0.00029308,\n",
            "       -0.00088511, -0.00254498], dtype=float32)>\n",
            "<tf.Variable 'conv2d_22/kernel:0' shape=(3, 3, 32, 32) dtype=float32, numpy=\n",
            "array([[[[-0.06817155,  0.07699372,  0.02724138, ...,  0.03410278,\n",
            "          -0.01191068,  0.03981311],\n",
            "         [-0.09934929,  0.07847372, -0.03079793, ..., -0.02558784,\n",
            "          -0.0818838 , -0.05281955],\n",
            "         [ 0.08249628, -0.09369889, -0.02446662, ..., -0.07839957,\n",
            "           0.03354318,  0.05635426],\n",
            "         ...,\n",
            "         [ 0.03644442, -0.04493876, -0.09128944, ..., -0.00273903,\n",
            "           0.09781131, -0.04188272],\n",
            "         [-0.05451714, -0.03251858,  0.03886745, ...,  0.06051556,\n",
            "          -0.0339135 , -0.00539195],\n",
            "         [ 0.02029873,  0.00533222, -0.0212393 , ...,  0.09157794,\n",
            "          -0.01873718,  0.09630875]],\n",
            "\n",
            "        [[-0.00340117,  0.07721145, -0.00749572, ..., -0.07060081,\n",
            "          -0.09710892,  0.09693093],\n",
            "         [-0.05528715, -0.04617662, -0.07390686, ...,  0.0939799 ,\n",
            "           0.00753866,  0.06929918],\n",
            "         [ 0.0498436 ,  0.01714738, -0.08849753, ..., -0.09334184,\n",
            "          -0.02568168,  0.0908679 ],\n",
            "         ...,\n",
            "         [ 0.05771775, -0.03097746,  0.06297952, ...,  0.040779  ,\n",
            "           0.02276632,  0.07045949],\n",
            "         [ 0.08982043, -0.08044274,  0.03655731, ..., -0.02023121,\n",
            "           0.07062554,  0.06965265],\n",
            "         [-0.07024671,  0.03714679, -0.08750971, ...,  0.0267698 ,\n",
            "           0.0139813 , -0.04372636]],\n",
            "\n",
            "        [[-0.10343041,  0.03606091, -0.05588397, ...,  0.03703147,\n",
            "          -0.00270302, -0.02598806],\n",
            "         [-0.07746769,  0.09516527,  0.02360231, ...,  0.02544719,\n",
            "           0.0168867 ,  0.02408401],\n",
            "         [-0.00394328,  0.05067154, -0.00897935, ...,  0.09973605,\n",
            "          -0.05932124,  0.04241408],\n",
            "         ...,\n",
            "         [-0.08020663, -0.0279813 ,  0.02846685, ...,  0.00383667,\n",
            "          -0.04470201, -0.00907682],\n",
            "         [-0.00406417, -0.05612909, -0.01893995, ..., -0.05689354,\n",
            "           0.0908173 , -0.02746787],\n",
            "         [-0.0844609 , -0.04760227, -0.05578851, ..., -0.05615232,\n",
            "          -0.07361626, -0.06422777]]],\n",
            "\n",
            "\n",
            "       [[[ 0.0403773 , -0.0398989 , -0.02011822, ..., -0.07367803,\n",
            "          -0.0834351 , -0.00507698],\n",
            "         [-0.05451945, -0.08224853,  0.07573392, ...,  0.09592476,\n",
            "          -0.10275214,  0.08527751],\n",
            "         [ 0.03420244,  0.10123169, -0.05232253, ...,  0.09254465,\n",
            "          -0.06564505,  0.01318687],\n",
            "         ...,\n",
            "         [-0.08468495,  0.09253092,  0.05806559, ..., -0.0479935 ,\n",
            "           0.04457488,  0.10446305],\n",
            "         [-0.03994965, -0.07170859, -0.08514091, ..., -0.10049206,\n",
            "           0.06038914, -0.09525803],\n",
            "         [-0.0401886 ,  0.0203533 ,  0.06837685, ..., -0.09668408,\n",
            "          -0.06978302, -0.04273826]],\n",
            "\n",
            "        [[ 0.02323786,  0.08026624,  0.09041536, ...,  0.06516717,\n",
            "           0.01373051, -0.0257499 ],\n",
            "         [-0.07857347,  0.00980101, -0.03856981, ..., -0.10655982,\n",
            "           0.02191242, -0.06515153],\n",
            "         [-0.02087682, -0.06041651,  0.07407247, ..., -0.06149518,\n",
            "           0.06243505,  0.09650998],\n",
            "         ...,\n",
            "         [-0.07394892, -0.04784086,  0.0285987 , ...,  0.03771369,\n",
            "           0.06962575, -0.00499741],\n",
            "         [ 0.0341256 ,  0.04914914,  0.0787174 , ...,  0.0255241 ,\n",
            "          -0.02661251, -0.05724744],\n",
            "         [-0.08524647, -0.00258098, -0.00090067, ...,  0.09293809,\n",
            "           0.07024807,  0.02830263]],\n",
            "\n",
            "        [[-0.05687059, -0.02984509,  0.02700695, ...,  0.00400753,\n",
            "          -0.03569565,  0.00476717],\n",
            "         [-0.02596337, -0.02420135, -0.03557813, ..., -0.04001055,\n",
            "          -0.06814013, -0.05406928],\n",
            "         [-0.05430052,  0.0297404 , -0.01196969, ...,  0.01852462,\n",
            "          -0.05962685,  0.02801732],\n",
            "         ...,\n",
            "         [ 0.05323064,  0.08506273, -0.05644625, ...,  0.05752682,\n",
            "           0.03650254, -0.00515602],\n",
            "         [ 0.05005621, -0.03791972, -0.05665472, ..., -0.11045612,\n",
            "          -0.09188827, -0.02685296],\n",
            "         [ 0.01191926,  0.08727507, -0.08804952, ...,  0.07190383,\n",
            "           0.03149211, -0.09846159]]],\n",
            "\n",
            "\n",
            "       [[[ 0.08125743,  0.06105284,  0.09398969, ...,  0.08696654,\n",
            "          -0.00510214, -0.04704098],\n",
            "         [-0.06322265, -0.00432463, -0.05897967, ...,  0.0868018 ,\n",
            "           0.04408737, -0.07784221],\n",
            "         [-0.04381467, -0.07948582, -0.02937771, ...,  0.06647715,\n",
            "           0.06506438, -0.01019462],\n",
            "         ...,\n",
            "         [-0.05911436,  0.04387337,  0.05748445, ...,  0.00047387,\n",
            "          -0.09334046, -0.07296979],\n",
            "         [-0.05427705, -0.09674498, -0.03181768, ...,  0.01607139,\n",
            "          -0.05451268,  0.09474333],\n",
            "         [ 0.01403594,  0.03336665, -0.08562433, ...,  0.00081072,\n",
            "          -0.01909595, -0.09141181]],\n",
            "\n",
            "        [[-0.00764879,  0.02902961,  0.04643544, ...,  0.09271082,\n",
            "          -0.02854065,  0.10199779],\n",
            "         [-0.09786115,  0.08286306,  0.07775594, ...,  0.00761509,\n",
            "          -0.01490035,  0.05598767],\n",
            "         [ 0.00979658, -0.04185999, -0.04116936, ..., -0.03968892,\n",
            "           0.03649879,  0.04282767],\n",
            "         ...,\n",
            "         [ 0.03355359, -0.09407213, -0.03637721, ...,  0.08576247,\n",
            "          -0.01522962, -0.03428224],\n",
            "         [-0.10027521, -0.08294031, -0.08794029, ..., -0.01910718,\n",
            "          -0.00702636, -0.02960556],\n",
            "         [ 0.01208196,  0.0243823 ,  0.07444736, ...,  0.09272625,\n",
            "          -0.05436407, -0.09523666]],\n",
            "\n",
            "        [[ 0.02902383, -0.0495976 , -0.02856162, ...,  0.08867922,\n",
            "          -0.00362617, -0.08257229],\n",
            "         [-0.09538127, -0.07465561, -0.01238697, ..., -0.00480821,\n",
            "           0.03936519,  0.02028782],\n",
            "         [-0.06200843, -0.05373012,  0.04161261, ...,  0.08491525,\n",
            "          -0.05573379,  0.01224377],\n",
            "         ...,\n",
            "         [ 0.00092874, -0.07287163, -0.02220428, ..., -0.07983913,\n",
            "           0.09259482,  0.03422266],\n",
            "         [-0.01561392,  0.01293281, -0.05404614, ..., -0.06898093,\n",
            "          -0.07736436,  0.02412166],\n",
            "         [-0.08869028, -0.0103415 , -0.07906353, ...,  0.04196535,\n",
            "          -0.00080465,  0.08138098]]]], dtype=float32)>\n",
            "<tf.Variable 'conv2d_22/bias:0' shape=(32,) dtype=float32, numpy=\n",
            "array([-2.1856064e-03,  4.2797672e-03, -4.5040883e-03,  4.6143745e-04,\n",
            "       -2.0200638e-03, -4.4145710e-03, -8.0003642e-04,  1.2395813e-03,\n",
            "       -9.0863742e-03,  4.0887506e-04, -3.3215105e-03, -2.5917431e-03,\n",
            "       -5.4786319e-04,  3.4538812e-03,  2.1486150e-03, -1.4019996e-03,\n",
            "       -8.7652923e-05, -3.8681854e-03, -3.3245983e-03, -3.4913600e-03,\n",
            "       -3.1483416e-03,  1.4736790e-03,  2.1490189e-03,  3.3096138e-03,\n",
            "        2.2629392e-03, -3.7111586e-03,  1.8282891e-03,  1.7039517e-03,\n",
            "        1.9572587e-03, -5.3201853e-03, -1.3390597e-03, -3.2036460e-03],\n",
            "      dtype=float32)>\n",
            "<tf.Variable 'conv2d_23/kernel:0' shape=(3, 3, 32, 32) dtype=float32, numpy=\n",
            "array([[[[ 2.20065340e-02,  3.40782553e-02, -7.73053840e-02, ...,\n",
            "           7.66681358e-02,  4.18977700e-02,  9.23529565e-02],\n",
            "         [-1.01998754e-01, -9.20359790e-02,  3.81989740e-02, ...,\n",
            "           9.45880339e-02,  2.75235008e-02,  4.20578644e-02],\n",
            "         [-6.58796877e-02, -1.44082606e-02,  6.77617118e-02, ...,\n",
            "          -2.65078377e-02, -2.45859772e-02, -7.97715485e-02],\n",
            "         ...,\n",
            "         [-9.53167304e-02,  6.06936868e-03, -2.04242654e-02, ...,\n",
            "          -1.79539770e-02, -5.49901165e-02,  3.38903368e-02],\n",
            "         [-9.23842713e-02, -8.80495757e-02, -7.91171789e-02, ...,\n",
            "          -2.01605130e-02,  4.47282642e-02,  8.36110786e-02],\n",
            "         [-8.38751271e-02, -3.46967056e-02,  2.94913519e-02, ...,\n",
            "           2.62184534e-02,  1.66489873e-02,  7.60464817e-02]],\n",
            "\n",
            "        [[-2.91720778e-02,  5.85198477e-02,  7.68950135e-02, ...,\n",
            "          -4.52305004e-02, -9.29124206e-02,  1.02652989e-01],\n",
            "         [ 2.88679581e-02,  4.83822338e-02, -3.66048925e-02, ...,\n",
            "           4.68864031e-02,  9.91854444e-02,  9.49215591e-02],\n",
            "         [-6.24735057e-02,  1.14703067e-02,  9.71703753e-02, ...,\n",
            "           7.69027174e-02, -3.99773708e-03, -1.04032829e-01],\n",
            "         ...,\n",
            "         [-8.30621049e-02,  8.73631760e-02, -1.96620952e-02, ...,\n",
            "          -8.71385783e-02, -3.74189243e-02,  9.43560600e-02],\n",
            "         [-1.63914431e-02, -4.07532565e-02, -9.69581082e-02, ...,\n",
            "          -8.69452357e-02, -8.19125921e-02, -6.63679466e-02],\n",
            "         [ 1.96654350e-02, -3.05744503e-02,  5.45345657e-02, ...,\n",
            "           1.51503831e-02, -2.35905573e-02, -7.12829903e-02]],\n",
            "\n",
            "        [[ 1.04501367e-01, -7.18482956e-02,  8.28384683e-02, ...,\n",
            "           2.10997202e-02,  2.52594352e-02, -7.21969530e-02],\n",
            "         [ 4.36554365e-02, -9.47053656e-02, -4.37289961e-02, ...,\n",
            "           9.47714150e-02, -7.68358484e-02,  7.38691837e-02],\n",
            "         [ 7.78899267e-02, -2.99756695e-03, -9.09700617e-03, ...,\n",
            "          -2.19883434e-02,  2.61954665e-02, -7.97601417e-02],\n",
            "         ...,\n",
            "         [-5.81228025e-02,  3.99349257e-02,  4.05622907e-02, ...,\n",
            "           9.02302936e-02, -5.14943060e-03,  5.21137416e-02],\n",
            "         [ 7.39987046e-02,  1.46062244e-02, -8.58938098e-02, ...,\n",
            "           3.18741687e-02, -7.14569911e-02,  2.57222150e-02],\n",
            "         [ 8.73279124e-02,  2.37344187e-02,  4.76334849e-03, ...,\n",
            "          -9.13605988e-02,  3.68556157e-02, -4.48743924e-02]]],\n",
            "\n",
            "\n",
            "       [[[ 2.67304741e-02,  5.38536645e-02, -9.90068465e-02, ...,\n",
            "           6.18900210e-02, -1.60486586e-02, -7.98667967e-02],\n",
            "         [ 1.18872337e-02, -7.09464476e-02, -2.25068927e-02, ...,\n",
            "           1.68682411e-02,  2.41018180e-02, -5.11309765e-02],\n",
            "         [ 4.23763506e-02, -7.21595213e-02, -4.29253243e-02, ...,\n",
            "          -9.37487036e-02,  1.81869734e-02, -6.19611926e-02],\n",
            "         ...,\n",
            "         [-3.97672802e-02,  6.44439608e-02,  6.79928809e-02, ...,\n",
            "           3.33004110e-02, -4.56360728e-03, -4.13671806e-02],\n",
            "         [-4.54683788e-02,  7.90955126e-02,  4.99274544e-02, ...,\n",
            "          -2.54921746e-02, -4.00406793e-02,  4.94014025e-02],\n",
            "         [ 6.84925243e-02, -6.95640454e-03, -3.53072323e-02, ...,\n",
            "          -4.53437911e-03, -6.15656115e-02,  5.63933253e-02]],\n",
            "\n",
            "        [[ 7.51873106e-02,  9.91486534e-02, -2.39058901e-02, ...,\n",
            "           3.75665911e-02, -5.60824722e-02,  1.32388184e-02],\n",
            "         [-6.82557747e-02, -8.08285251e-02,  2.80607436e-02, ...,\n",
            "           9.24893692e-02, -1.74246877e-02, -8.92250314e-02],\n",
            "         [ 6.93023298e-03, -6.11707903e-02,  1.43554565e-02, ...,\n",
            "           5.25704101e-02,  7.32652768e-02,  4.33229096e-03],\n",
            "         ...,\n",
            "         [ 6.91641867e-02,  6.02744594e-02, -6.84655011e-02, ...,\n",
            "           4.94746976e-02,  4.62725721e-02, -4.90484424e-02],\n",
            "         [-6.31504953e-02,  1.01708896e-01,  6.42725602e-02, ...,\n",
            "          -8.48492384e-02, -6.12106174e-02,  5.74020110e-03],\n",
            "         [ 8.09704587e-02, -3.90513837e-02, -5.43103442e-02, ...,\n",
            "           9.14491192e-02,  8.75870511e-02, -4.95392270e-02]],\n",
            "\n",
            "        [[ 6.43421486e-02, -1.30557502e-02,  9.25835967e-02, ...,\n",
            "           1.60661773e-04,  9.08560306e-02,  9.80755016e-02],\n",
            "         [ 2.35855952e-02, -1.89788621e-02,  7.97061622e-02, ...,\n",
            "          -5.06187305e-02, -6.79536760e-02, -7.33901411e-02],\n",
            "         [-7.80330077e-02, -4.04725708e-02,  3.85867879e-02, ...,\n",
            "          -5.41786104e-02, -1.51509112e-02, -8.38692337e-02],\n",
            "         ...,\n",
            "         [ 6.44898489e-02, -3.94404568e-02,  5.35535067e-02, ...,\n",
            "          -3.78297933e-04,  6.09913561e-03,  6.12348095e-02],\n",
            "         [-7.36650974e-02, -6.95139766e-02, -8.22647586e-02, ...,\n",
            "           8.02745670e-02, -5.41080609e-02,  3.79813761e-02],\n",
            "         [-6.05355315e-02, -9.82591435e-02,  4.82676961e-02, ...,\n",
            "           2.87158471e-02,  9.04184431e-02, -3.25901359e-02]]],\n",
            "\n",
            "\n",
            "       [[[-9.56200808e-02,  1.05868630e-01, -2.22756695e-02, ...,\n",
            "           5.46469875e-02,  8.53304714e-02,  1.84886307e-02],\n",
            "         [ 6.50332123e-02, -3.93795557e-02, -7.93765262e-02, ...,\n",
            "           1.56182135e-02, -8.82420503e-03, -3.95694934e-02],\n",
            "         [-5.61316311e-02, -4.99666147e-02, -4.62952666e-02, ...,\n",
            "           4.84027378e-02, -3.40211503e-02,  5.04718162e-02],\n",
            "         ...,\n",
            "         [-3.92547026e-02,  8.38180408e-02,  9.38227698e-02, ...,\n",
            "           6.10919297e-02,  1.94947775e-02,  5.30854948e-02],\n",
            "         [-6.11942522e-02,  2.93917600e-02,  7.27253482e-02, ...,\n",
            "          -4.38775420e-02,  6.23775534e-02, -7.76951760e-02],\n",
            "         [ 3.21253091e-02, -4.62664571e-03, -7.15838792e-03, ...,\n",
            "          -5.56481183e-02,  8.15843046e-02, -7.18680918e-02]],\n",
            "\n",
            "        [[-8.07586983e-02, -9.40906480e-02,  6.22799397e-02, ...,\n",
            "          -8.93811435e-02, -4.09797877e-02,  3.64125669e-02],\n",
            "         [ 2.85554398e-02, -6.49486557e-02,  4.32104878e-02, ...,\n",
            "          -6.06359169e-02,  3.54264677e-02,  8.48547071e-02],\n",
            "         [ 2.23283339e-02, -7.09265843e-02, -8.37626234e-02, ...,\n",
            "           8.72950070e-03,  4.26801853e-02,  4.09247987e-02],\n",
            "         ...,\n",
            "         [ 1.63200181e-02,  7.57030696e-02,  5.78462519e-02, ...,\n",
            "           7.13192075e-02,  8.06440264e-02, -1.04714245e-01],\n",
            "         [-5.42625925e-03,  2.56515183e-02,  5.64326383e-02, ...,\n",
            "          -6.05380908e-02,  6.62828609e-02,  6.14120699e-02],\n",
            "         [-1.12701263e-02,  4.55233417e-02,  9.06708837e-02, ...,\n",
            "           1.26201073e-02, -3.33936326e-02, -7.59874703e-03]],\n",
            "\n",
            "        [[ 6.30742088e-02, -3.24856350e-03, -4.52183303e-04, ...,\n",
            "           7.62683749e-02,  4.40104157e-02, -4.71108109e-02],\n",
            "         [ 9.35548022e-02, -3.58544290e-02,  8.91563296e-02, ...,\n",
            "          -2.44846791e-02,  2.30485518e-02, -5.84285520e-02],\n",
            "         [-1.26143936e-02,  4.99694012e-02, -6.74739257e-02, ...,\n",
            "           5.96768372e-02,  8.63062441e-02,  8.20999127e-03],\n",
            "         ...,\n",
            "         [ 4.09648679e-02, -3.95491756e-02,  5.47867792e-04, ...,\n",
            "           9.22593847e-02,  7.47118220e-02,  3.59290752e-05],\n",
            "         [-1.15415743e-02, -1.39889447e-02, -7.77816176e-02, ...,\n",
            "           3.32445242e-02,  9.06822085e-02, -2.38030981e-02],\n",
            "         [ 3.51084135e-02,  5.45547046e-02,  7.01933950e-02, ...,\n",
            "          -1.14616835e-02, -5.92459105e-02,  5.93239404e-02]]]],\n",
            "      dtype=float32)>\n",
            "<tf.Variable 'conv2d_23/bias:0' shape=(32,) dtype=float32, numpy=\n",
            "array([-1.0754061e-03, -3.6626121e-03,  7.2458765e-04, -2.9525768e-03,\n",
            "       -3.7775573e-03, -3.8925593e-03,  5.5431444e-03,  2.6373989e-05,\n",
            "       -1.7189229e-03,  2.2008156e-03,  5.7369904e-03, -5.1265624e-03,\n",
            "       -4.3372214e-03,  5.0881403e-03, -1.2513356e-03, -5.2999980e-03,\n",
            "       -2.2380056e-03, -1.2488301e-03, -2.1145514e-03,  6.5364386e-03,\n",
            "       -1.6775441e-03, -5.9553497e-03, -6.0862456e-03, -1.5842534e-03,\n",
            "        6.0412614e-03,  3.3942249e-03,  3.5971305e-03, -3.7138857e-04,\n",
            "        1.8713708e-03,  2.0734540e-03, -3.1117252e-03, -2.8345708e-03],\n",
            "      dtype=float32)>\n",
            "<tf.Variable 'conv2d_24/kernel:0' shape=(3, 3, 32, 32) dtype=float32, numpy=\n",
            "array([[[[ 0.07554189,  0.06737812,  0.05464362, ...,  0.04624656,\n",
            "          -0.03825749, -0.02526164],\n",
            "         [ 0.01087086, -0.09823301, -0.07201096, ...,  0.06967341,\n",
            "          -0.02856493, -0.06592639],\n",
            "         [-0.02922911, -0.02676881,  0.03248709, ..., -0.05579239,\n",
            "          -0.0650418 ,  0.00591769],\n",
            "         ...,\n",
            "         [-0.05457854,  0.04466173,  0.02828155, ..., -0.03849024,\n",
            "          -0.06680586,  0.01317523],\n",
            "         [-0.09354914, -0.07166745,  0.01499443, ..., -0.03023173,\n",
            "          -0.00981478,  0.01010358],\n",
            "         [ 0.0347366 , -0.06672022,  0.04708221, ..., -0.0908763 ,\n",
            "           0.05904118,  0.0461844 ]],\n",
            "\n",
            "        [[-0.06148329, -0.02961893,  0.01426108, ...,  0.08489445,\n",
            "           0.03153297,  0.08899748],\n",
            "         [ 0.07714005, -0.07133833, -0.03029343, ..., -0.00250266,\n",
            "          -0.04434118,  0.01554003],\n",
            "         [ 0.06418657, -0.02159763, -0.07294102, ...,  0.01011651,\n",
            "          -0.00694362, -0.09031931],\n",
            "         ...,\n",
            "         [ 0.0636741 ,  0.00852344,  0.01443902, ...,  0.03848558,\n",
            "           0.04138745,  0.04520785],\n",
            "         [ 0.0155885 ,  0.05519342,  0.08583695, ..., -0.09045313,\n",
            "           0.09291548, -0.0840509 ],\n",
            "         [ 0.08855166, -0.04535596,  0.00590309, ...,  0.064754  ,\n",
            "           0.03108092, -0.02764901]],\n",
            "\n",
            "        [[ 0.08764762,  0.05707073, -0.04495132, ..., -0.02932996,\n",
            "           0.00603813, -0.0287489 ],\n",
            "         [ 0.08567515,  0.03107786,  0.03845581, ..., -0.0181803 ,\n",
            "          -0.09867205, -0.03450103],\n",
            "         [ 0.06349054,  0.05021251, -0.05075814, ..., -0.02420656,\n",
            "          -0.01472164,  0.06401403],\n",
            "         ...,\n",
            "         [-0.05526601, -0.04272529,  0.03040174, ..., -0.06150249,\n",
            "          -0.03498422,  0.04432439],\n",
            "         [ 0.10082236, -0.0062897 , -0.0082932 , ...,  0.02990986,\n",
            "          -0.05746632,  0.08886419],\n",
            "         [ 0.00974773,  0.02402803,  0.02540718, ..., -0.01824676,\n",
            "           0.09440756,  0.05004488]]],\n",
            "\n",
            "\n",
            "       [[[ 0.03639257, -0.09067389,  0.10026264, ..., -0.05526775,\n",
            "          -0.07089628, -0.07803854],\n",
            "         [-0.0923107 ,  0.07830624,  0.07705992, ..., -0.09897099,\n",
            "          -0.04998456,  0.02831776],\n",
            "         [-0.01344261,  0.04216105,  0.07339346, ...,  0.05889448,\n",
            "          -0.02173536,  0.07450893],\n",
            "         ...,\n",
            "         [ 0.02489289, -0.07676416, -0.01264835, ..., -0.01283215,\n",
            "           0.02210885,  0.02178622],\n",
            "         [ 0.01152727,  0.07509526,  0.0218284 , ..., -0.02580196,\n",
            "          -0.0846776 ,  0.09486965],\n",
            "         [ 0.04749339, -0.00170827, -0.0812332 , ..., -0.05785828,\n",
            "          -0.07744513,  0.07287413]],\n",
            "\n",
            "        [[-0.08703025,  0.09278727, -0.02909294, ...,  0.02946723,\n",
            "          -0.09149782,  0.02095595],\n",
            "         [-0.07149587,  0.10487566,  0.00711924, ..., -0.02363335,\n",
            "           0.08312083,  0.08329527],\n",
            "         [ 0.03650608, -0.02804   ,  0.10514814, ...,  0.10075187,\n",
            "           0.06708955, -0.06112493],\n",
            "         ...,\n",
            "         [ 0.03712972,  0.0097768 ,  0.02316055, ...,  0.01814741,\n",
            "           0.08106425, -0.01556927],\n",
            "         [-0.06487135,  0.047214  , -0.10036349, ...,  0.01007396,\n",
            "          -0.09530456, -0.04743282],\n",
            "         [ 0.06708501, -0.04392371,  0.03001761, ...,  0.08327584,\n",
            "           0.04334212, -0.03778509]],\n",
            "\n",
            "        [[ 0.02266256, -0.03600306,  0.0973457 , ..., -0.00860864,\n",
            "          -0.08473638, -0.02688775],\n",
            "         [-0.00420508, -0.01737022, -0.07990731, ..., -0.04710664,\n",
            "          -0.01076993, -0.05339528],\n",
            "         [ 0.02680375,  0.00172378, -0.09349274, ...,  0.01997141,\n",
            "           0.04071289,  0.00398613],\n",
            "         ...,\n",
            "         [-0.08187249,  0.10028191, -0.06430369, ...,  0.09487891,\n",
            "           0.05691167,  0.09680037],\n",
            "         [ 0.07101206, -0.05424885,  0.06954493, ...,  0.05535491,\n",
            "           0.06263216, -0.04969358],\n",
            "         [ 0.02721971, -0.09124115,  0.01520731, ..., -0.06306119,\n",
            "           0.08166385,  0.09073732]]],\n",
            "\n",
            "\n",
            "       [[[ 0.02280516,  0.00324645, -0.05638038, ..., -0.07168347,\n",
            "          -0.00585095, -0.07373356],\n",
            "         [-0.09315463,  0.07893431,  0.01524512, ...,  0.03618005,\n",
            "          -0.02024529,  0.01743126],\n",
            "         [ 0.08678999, -0.00669708,  0.09025697, ..., -0.02615564,\n",
            "           0.10005006,  0.00148236],\n",
            "         ...,\n",
            "         [ 0.06104361,  0.06255726, -0.02857214, ...,  0.00785811,\n",
            "          -0.02144451, -0.08507524],\n",
            "         [ 0.00941053, -0.06488592,  0.04015563, ..., -0.00343272,\n",
            "           0.08840648,  0.08881622],\n",
            "         [-0.0512225 ,  0.09206031, -0.07319232, ...,  0.04606111,\n",
            "           0.09190774,  0.00443226]],\n",
            "\n",
            "        [[-0.07180497, -0.05108915,  0.09546524, ..., -0.10046069,\n",
            "          -0.08097787,  0.01929628],\n",
            "         [ 0.04570498,  0.04400916,  0.04678353, ...,  0.0854556 ,\n",
            "          -0.00677149, -0.01644105],\n",
            "         [ 0.02681335, -0.04654808,  0.08089682, ..., -0.01756866,\n",
            "          -0.03746405,  0.04160737],\n",
            "         ...,\n",
            "         [ 0.00212149, -0.02774573,  0.08160762, ..., -0.09038832,\n",
            "           0.01029421,  0.06441444],\n",
            "         [-0.04894188, -0.03569752, -0.04583099, ..., -0.06882808,\n",
            "           0.07586101,  0.02862021],\n",
            "         [-0.073062  , -0.09544939, -0.04615737, ..., -0.06330949,\n",
            "          -0.03324763,  0.09733666]],\n",
            "\n",
            "        [[ 0.04619296,  0.05461539, -0.09831129, ...,  0.03331057,\n",
            "           0.02013577, -0.00836653],\n",
            "         [ 0.08611701,  0.0818418 ,  0.09158749, ...,  0.06335101,\n",
            "          -0.08896706,  0.07786942],\n",
            "         [ 0.02236786,  0.03331579,  0.01286038, ...,  0.00854774,\n",
            "           0.00371913,  0.02854219],\n",
            "         ...,\n",
            "         [-0.00651183, -0.04201524, -0.10407861, ..., -0.05866284,\n",
            "           0.0636965 ,  0.0210541 ],\n",
            "         [ 0.02725391,  0.03917745, -0.02429768, ...,  0.00541466,\n",
            "          -0.09342956,  0.05471691],\n",
            "         [ 0.03156547, -0.07540926,  0.05709009, ..., -0.03025736,\n",
            "           0.04347348,  0.03388316]]]], dtype=float32)>\n",
            "<tf.Variable 'conv2d_24/bias:0' shape=(32,) dtype=float32, numpy=\n",
            "array([ 6.3717156e-04, -3.4549001e-03, -2.2942105e-03, -5.0111343e-03,\n",
            "       -4.2107431e-03, -1.5205370e-03,  6.2940548e-05, -4.2819837e-03,\n",
            "       -6.0980585e-03,  7.9509476e-03,  2.9025006e-03,  2.5421425e-03,\n",
            "       -1.3305937e-04, -1.4483298e-03,  7.4923714e-04, -9.5562926e-03,\n",
            "       -4.5725624e-03, -4.6737650e-03,  2.1508221e-04,  2.4585548e-04,\n",
            "       -8.5794361e-04, -1.4199595e-03, -2.6550936e-03,  2.4380772e-03,\n",
            "       -3.0847411e-03,  2.9036505e-03,  9.8091201e-05,  2.8369629e-03,\n",
            "       -4.2544799e-03, -1.8218232e-03, -1.3880860e-03, -6.6399522e-04],\n",
            "      dtype=float32)>\n",
            "<tf.Variable 'conv2d_25/kernel:0' shape=(3, 3, 32, 32) dtype=float32, numpy=\n",
            "array([[[[-0.08538379,  0.02101362,  0.0597613 , ...,  0.01728445,\n",
            "           0.00552291,  0.09442096],\n",
            "         [ 0.0760595 ,  0.00547613, -0.0138842 , ..., -0.03456175,\n",
            "          -0.08828268, -0.04141434],\n",
            "         [-0.07907383,  0.04267546,  0.04179845, ..., -0.03343513,\n",
            "           0.09718102,  0.00042218],\n",
            "         ...,\n",
            "         [-0.03704219,  0.0706746 , -0.02806197, ..., -0.10481734,\n",
            "          -0.042944  , -0.06053033],\n",
            "         [-0.03771999, -0.01442312, -0.07600574, ..., -0.10546547,\n",
            "           0.0168876 ,  0.08016789],\n",
            "         [-0.02279554, -0.04219043,  0.08501867, ..., -0.01087405,\n",
            "           0.06099866, -0.03425718]],\n",
            "\n",
            "        [[ 0.07877181,  0.08512779,  0.05075741, ..., -0.0375211 ,\n",
            "          -0.0658344 , -0.00422235],\n",
            "         [ 0.10146749,  0.03285193, -0.06874821, ..., -0.0320296 ,\n",
            "          -0.0432247 , -0.06110771],\n",
            "         [ 0.04809537,  0.0844209 ,  0.05326107, ..., -0.01054601,\n",
            "          -0.06464221,  0.07383855],\n",
            "         ...,\n",
            "         [-0.06904758, -0.05543235, -0.02426385, ..., -0.08820762,\n",
            "          -0.01887953,  0.06657966],\n",
            "         [ 0.06922296, -0.00672111, -0.08633538, ..., -0.05194763,\n",
            "          -0.09427193, -0.03941786],\n",
            "         [-0.04492554, -0.02852592,  0.07124811, ..., -0.10570708,\n",
            "           0.00418816,  0.02647092]],\n",
            "\n",
            "        [[-0.04300424,  0.07736177,  0.0225854 , ...,  0.03085175,\n",
            "           0.07925185, -0.04152044],\n",
            "         [-0.0368411 , -0.00405151, -0.08315513, ...,  0.05246914,\n",
            "           0.03803107, -0.08548928],\n",
            "         [-0.01544365, -0.03647209, -0.04314517, ...,  0.05599616,\n",
            "           0.02684193,  0.04187119],\n",
            "         ...,\n",
            "         [ 0.0607297 ,  0.06296535, -0.0272656 , ..., -0.08014834,\n",
            "          -0.06980661,  0.08538775],\n",
            "         [ 0.06712814,  0.04845153,  0.07414653, ..., -0.09486063,\n",
            "           0.04666944,  0.03147694],\n",
            "         [-0.05109994, -0.04418291,  0.00021887, ..., -0.08702184,\n",
            "          -0.01908954, -0.07443187]]],\n",
            "\n",
            "\n",
            "       [[[-0.06769985, -0.05505539, -0.03523923, ..., -0.01782203,\n",
            "           0.03099751,  0.00508941],\n",
            "         [ 0.00766024,  0.08005715,  0.06752625, ...,  0.04914508,\n",
            "          -0.07270171, -0.0795158 ],\n",
            "         [-0.01496151,  0.01982688,  0.09299432, ...,  0.10154195,\n",
            "          -0.0772049 ,  0.0315996 ],\n",
            "         ...,\n",
            "         [-0.06459797, -0.0956092 ,  0.05745378, ..., -0.08026703,\n",
            "          -0.05954416, -0.04397224],\n",
            "         [-0.00091239,  0.08355249, -0.09274254, ..., -0.05463568,\n",
            "           0.00298208,  0.00347698],\n",
            "         [ 0.05943182, -0.03610872, -0.06856514, ..., -0.08154128,\n",
            "          -0.0742158 ,  0.04823895]],\n",
            "\n",
            "        [[ 0.00217314,  0.09542608,  0.05468353, ...,  0.01276362,\n",
            "          -0.04388125,  0.02046957],\n",
            "         [-0.01225209,  0.04641326,  0.02720271, ...,  0.0119466 ,\n",
            "           0.09800734, -0.06215411],\n",
            "         [-0.02114298, -0.0061829 , -0.03896966, ...,  0.00847848,\n",
            "          -0.05730059, -0.03894093],\n",
            "         ...,\n",
            "         [ 0.0254587 ,  0.02721039, -0.03248518, ...,  0.0037223 ,\n",
            "          -0.00561293, -0.07305138],\n",
            "         [-0.04228088,  0.03850061, -0.0856014 , ...,  0.02079103,\n",
            "           0.01119862, -0.09954563],\n",
            "         [ 0.0389621 , -0.07944086, -0.09707393, ...,  0.08547454,\n",
            "           0.02878497,  0.0149542 ]],\n",
            "\n",
            "        [[-0.00130015,  0.07034996,  0.02319428, ..., -0.05223278,\n",
            "          -0.08820974,  0.08813895],\n",
            "         [ 0.06835715, -0.08482005, -0.06989145, ...,  0.01694957,\n",
            "          -0.02508209,  0.01990319],\n",
            "         [ 0.0825089 , -0.04227978,  0.02994282, ..., -0.09728047,\n",
            "           0.06814951, -0.02362568],\n",
            "         ...,\n",
            "         [ 0.09421504, -0.02658525, -0.05499598, ...,  0.08295775,\n",
            "           0.00589348,  0.01041055],\n",
            "         [ 0.00682517,  0.09085414,  0.00179995, ..., -0.0200018 ,\n",
            "          -0.01412214,  0.0988446 ],\n",
            "         [-0.03045131,  0.06737801,  0.05517895, ...,  0.08752009,\n",
            "          -0.01227165, -0.01102503]]],\n",
            "\n",
            "\n",
            "       [[[-0.06993069, -0.06232737, -0.06755257, ..., -0.01857536,\n",
            "          -0.0679623 , -0.09557668],\n",
            "         [ 0.07798924,  0.02512161, -0.02145095, ...,  0.0180507 ,\n",
            "          -0.0374415 , -0.04526483],\n",
            "         [ 0.09596696, -0.10226624, -0.0943316 , ..., -0.06854485,\n",
            "          -0.08750568, -0.06291544],\n",
            "         ...,\n",
            "         [-0.0399997 ,  0.01552229, -0.04413987, ..., -0.05521052,\n",
            "           0.0985686 , -0.04986057],\n",
            "         [ 0.00152389,  0.06374139,  0.09244127, ..., -0.07562951,\n",
            "          -0.02935096,  0.09795425],\n",
            "         [ 0.0261097 ,  0.05877572, -0.07088035, ...,  0.08357333,\n",
            "           0.09590298,  0.10616324]],\n",
            "\n",
            "        [[ 0.04876289, -0.03471284, -0.05650169, ...,  0.04060495,\n",
            "          -0.04135552,  0.05662364],\n",
            "         [ 0.08880595, -0.06551719, -0.09314686, ..., -0.05249142,\n",
            "          -0.04058103,  0.09457389],\n",
            "         [ 0.09622318,  0.10118718, -0.10004354, ..., -0.02097659,\n",
            "          -0.01393514, -0.08886538],\n",
            "         ...,\n",
            "         [ 0.04552094, -0.07310118,  0.03109525, ...,  0.00170968,\n",
            "          -0.09286277, -0.0773742 ],\n",
            "         [-0.0637605 ,  0.01054393,  0.01330282, ...,  0.02152975,\n",
            "           0.0640831 ,  0.00461618],\n",
            "         [ 0.05478978,  0.06793034,  0.00773333, ..., -0.04011424,\n",
            "          -0.00083505, -0.0013895 ]],\n",
            "\n",
            "        [[-0.05894436,  0.04482215,  0.05026337, ..., -0.01820692,\n",
            "          -0.01161284,  0.03306923],\n",
            "         [ 0.01991782, -0.03444113, -0.04645459, ...,  0.00175164,\n",
            "          -0.08689076, -0.05093522],\n",
            "         [-0.07649191,  0.01047799,  0.06306826, ...,  0.00720074,\n",
            "          -0.03712634, -0.06694034],\n",
            "         ...,\n",
            "         [-0.04647026,  0.09381453,  0.00705182, ..., -0.06724326,\n",
            "          -0.08791669, -0.06209417],\n",
            "         [-0.01975046,  0.01883828, -0.06800406, ...,  0.005662  ,\n",
            "          -0.01684019, -0.00646496],\n",
            "         [-0.02886737,  0.05903269, -0.01611593, ..., -0.05471659,\n",
            "           0.04559301,  0.07879651]]]], dtype=float32)>\n",
            "<tf.Variable 'conv2d_25/bias:0' shape=(32,) dtype=float32, numpy=\n",
            "array([-3.6880388e-03, -2.3596969e-03, -9.8990500e-03, -1.4198201e-03,\n",
            "       -8.4346521e-04,  2.1655983e-03, -2.8366060e-04, -7.8347558e-03,\n",
            "       -7.9457677e-04, -2.6744867e-03,  4.1516186e-04, -3.5395853e-03,\n",
            "       -4.2484393e-03, -5.7177884e-03, -9.4385957e-04, -1.1106569e-03,\n",
            "       -2.0884953e-03, -2.9716548e-03, -3.9631613e-03,  7.6669734e-05,\n",
            "       -5.0293519e-03,  3.1817940e-03, -8.0916462e-03, -2.2025153e-03,\n",
            "       -2.5611261e-03, -7.6923841e-03, -1.1948025e-03, -8.0066957e-03,\n",
            "       -4.5559132e-03, -3.5343093e-03,  5.0337554e-04,  1.1280710e-03],\n",
            "      dtype=float32)>\n",
            "<tf.Variable 'conv2d_26/kernel:0' shape=(3, 3, 32, 64) dtype=float32, numpy=\n",
            "array([[[[ 0.01154215,  0.00412189,  0.06145754, ...,  0.06575042,\n",
            "          -0.06574555,  0.06427156],\n",
            "         [ 0.01988181, -0.04888589, -0.04165642, ...,  0.04369178,\n",
            "          -0.03977644,  0.01032779],\n",
            "         [-0.04070219, -0.0588241 , -0.01131684, ...,  0.00209575,\n",
            "           0.02773835,  0.05459601],\n",
            "         ...,\n",
            "         [ 0.04049041,  0.03984501,  0.05376053, ...,  0.01965918,\n",
            "          -0.070678  ,  0.05182865],\n",
            "         [-0.0614484 ,  0.02484566, -0.05988032, ...,  0.05720967,\n",
            "          -0.01403718,  0.00184779],\n",
            "         [ 0.02295024,  0.01817937, -0.05244507, ..., -0.05500681,\n",
            "          -0.03627415, -0.04897665]],\n",
            "\n",
            "        [[ 0.00044023, -0.01348198, -0.07104705, ..., -0.05976381,\n",
            "          -0.0833025 ,  0.07850219],\n",
            "         [-0.05617423, -0.05523204, -0.03526555, ...,  0.0147356 ,\n",
            "          -0.04453048,  0.06494278],\n",
            "         [ 0.02817647, -0.00753946,  0.03438196, ..., -0.0023412 ,\n",
            "           0.02104699, -0.00452532],\n",
            "         ...,\n",
            "         [ 0.06529056,  0.06296604, -0.06622019, ...,  0.07190012,\n",
            "           0.05718932,  0.02527048],\n",
            "         [-0.02550889,  0.04491395, -0.07169363, ...,  0.01445842,\n",
            "           0.00520127,  0.04302302],\n",
            "         [-0.01758295, -0.02986597, -0.03427446, ...,  0.07319639,\n",
            "           0.03655218, -0.02793586]],\n",
            "\n",
            "        [[ 0.04227677,  0.01220794, -0.00670219, ..., -0.02672729,\n",
            "           0.0204502 ,  0.07697804],\n",
            "         [-0.02604618,  0.05695252, -0.08034214, ..., -0.02080009,\n",
            "           0.05622824, -0.00309387],\n",
            "         [-0.02358326,  0.01278519,  0.06655522, ...,  0.06532573,\n",
            "           0.01907138,  0.03321422],\n",
            "         ...,\n",
            "         [ 0.01063383, -0.01909903, -0.05633153, ..., -0.07620284,\n",
            "          -0.07839536, -0.07246136],\n",
            "         [-0.0483991 ,  0.02022643,  0.03509311, ...,  0.05030873,\n",
            "          -0.07670403,  0.05474148],\n",
            "         [-0.03322558, -0.02053255, -0.02029598, ...,  0.05430044,\n",
            "          -0.01093346, -0.0306604 ]]],\n",
            "\n",
            "\n",
            "       [[[-0.0465645 , -0.02835792,  0.04622586, ..., -0.00864086,\n",
            "          -0.07386306,  0.04339839],\n",
            "         [ 0.00647549, -0.02643065, -0.06206679, ...,  0.06979592,\n",
            "           0.07278123, -0.00021495],\n",
            "         [-0.03091723,  0.0469385 ,  0.02757734, ...,  0.0537418 ,\n",
            "          -0.05696693, -0.01979206],\n",
            "         ...,\n",
            "         [-0.06770446, -0.02443312, -0.04064244, ...,  0.08016831,\n",
            "           0.00491274,  0.08357574],\n",
            "         [ 0.04359098,  0.00666167, -0.03638231, ..., -0.06354652,\n",
            "           0.06051267, -0.06554411],\n",
            "         [ 0.01182551,  0.04406603, -0.0359521 , ..., -0.02364884,\n",
            "           0.01504505, -0.00327145]],\n",
            "\n",
            "        [[-0.07802062,  0.0792326 , -0.04757074, ..., -0.03371514,\n",
            "          -0.07078473, -0.00611387],\n",
            "         [-0.06622868,  0.06497101, -0.01050092, ...,  0.04700231,\n",
            "          -0.08401264,  0.01764084],\n",
            "         [ 0.07312007, -0.0224152 ,  0.04289153, ..., -0.04786632,\n",
            "          -0.08599956,  0.02348576],\n",
            "         ...,\n",
            "         [ 0.07894185, -0.02456226,  0.0463073 , ...,  0.03736895,\n",
            "          -0.05205657, -0.07651468],\n",
            "         [-0.06248581, -0.03292955, -0.0672297 , ..., -0.05370251,\n",
            "           0.03654922, -0.03383271],\n",
            "         [-0.0840786 ,  0.06562083, -0.07040165, ..., -0.08380851,\n",
            "          -0.0590516 ,  0.02227414]],\n",
            "\n",
            "        [[-0.01599249,  0.04181525,  0.05466903, ..., -0.08119426,\n",
            "          -0.00852272, -0.00624972],\n",
            "         [ 0.01356992,  0.06034391, -0.0180099 , ...,  0.04190291,\n",
            "           0.06495742,  0.02638495],\n",
            "         [ 0.0686518 , -0.04900067,  0.01199106, ..., -0.00699969,\n",
            "           0.05397439,  0.02056778],\n",
            "         ...,\n",
            "         [-0.03425416,  0.02215521, -0.06375388, ...,  0.02611131,\n",
            "          -0.07826628, -0.06474659],\n",
            "         [ 0.03818356,  0.07265633,  0.01839809, ..., -0.05894801,\n",
            "           0.0588916 , -0.05907939],\n",
            "         [-0.01611366, -0.04453629, -0.02198958, ...,  0.05885291,\n",
            "          -0.00916169, -0.06238623]]],\n",
            "\n",
            "\n",
            "       [[[ 0.05357716,  0.03026851,  0.07989077, ..., -0.08146585,\n",
            "          -0.00441448, -0.04942673],\n",
            "         [ 0.03625439, -0.05459185,  0.04651562, ...,  0.02946292,\n",
            "          -0.00895922,  0.00650697],\n",
            "         [ 0.05718654,  0.06489794, -0.04847933, ..., -0.07370099,\n",
            "          -0.0392095 ,  0.002041  ],\n",
            "         ...,\n",
            "         [-0.02812253, -0.08390143, -0.03394631, ...,  0.07286398,\n",
            "           0.06011712, -0.0097308 ],\n",
            "         [-0.07150877, -0.06619779, -0.08467972, ...,  0.04606828,\n",
            "           0.07556915,  0.01575759],\n",
            "         [ 0.05175875, -0.04887299,  0.02236247, ..., -0.03636409,\n",
            "           0.06566275,  0.01014011]],\n",
            "\n",
            "        [[-0.01363422,  0.01051381,  0.02545819, ..., -0.00946508,\n",
            "          -0.02622288, -0.06144468],\n",
            "         [ 0.07818711,  0.04499208,  0.0527616 , ..., -0.00611178,\n",
            "          -0.05674713,  0.04161959],\n",
            "         [-0.07617974, -0.01070237,  0.03034367, ..., -0.05694949,\n",
            "          -0.08381447,  0.03354985],\n",
            "         ...,\n",
            "         [-0.0326621 ,  0.05261474, -0.06590265, ..., -0.01046823,\n",
            "          -0.00193309, -0.06710153],\n",
            "         [-0.0839757 ,  0.08154717, -0.03099108, ..., -0.05576115,\n",
            "          -0.03365687, -0.02093034],\n",
            "         [ 0.01926311, -0.06365262, -0.0766805 , ...,  0.05385441,\n",
            "          -0.054456  , -0.05264268]],\n",
            "\n",
            "        [[-0.03717947, -0.08047417, -0.07613646, ...,  0.01014578,\n",
            "           0.05188081, -0.07836121],\n",
            "         [ 0.00757786, -0.03568002, -0.03664137, ...,  0.04376449,\n",
            "          -0.01919381, -0.06408949],\n",
            "         [ 0.05472697, -0.07960378, -0.0015451 , ...,  0.02172801,\n",
            "           0.05855313, -0.05237835],\n",
            "         ...,\n",
            "         [ 0.0614734 ,  0.00708836, -0.069031  , ..., -0.05265338,\n",
            "          -0.07012594,  0.06116978],\n",
            "         [ 0.03761964, -0.01793681, -0.05020232, ...,  0.02585427,\n",
            "           0.00293815,  0.0667738 ],\n",
            "         [-0.07004868,  0.01408737, -0.04712628, ..., -0.08250515,\n",
            "          -0.06227858, -0.02599077]]]], dtype=float32)>\n",
            "<tf.Variable 'conv2d_26/bias:0' shape=(64,) dtype=float32, numpy=\n",
            "array([-0.00347211, -0.00478569,  0.01727602, -0.00643788, -0.00801479,\n",
            "       -0.00601848, -0.00159701, -0.00401112, -0.01092276,  0.00128562,\n",
            "        0.0052424 ,  0.00116583,  0.00363691, -0.00021943, -0.01074152,\n",
            "       -0.00676453, -0.01069875,  0.0101029 ,  0.00190111, -0.0045493 ,\n",
            "        0.00221465,  0.00388206, -0.00147499, -0.00136739, -0.00319882,\n",
            "       -0.00458938, -0.00306994, -0.00729105,  0.00403724, -0.00179394,\n",
            "       -0.01192511,  0.00438213, -0.00168909, -0.00555885, -0.00205078,\n",
            "        0.00251596, -0.00405542, -0.00109913, -0.00445305,  0.00790429,\n",
            "        0.00106899, -0.00427584, -0.00683363, -0.00123709,  0.01170595,\n",
            "        0.00058788, -0.00381993, -0.00465997, -0.0090208 , -0.00674134,\n",
            "        0.00537829, -0.00353588,  0.00333301, -0.00068655, -0.00185504,\n",
            "       -0.01090586, -0.00287945, -0.00798603, -0.00387387,  0.00499558,\n",
            "       -0.00956175, -0.00479046, -0.00403484,  0.00089487], dtype=float32)>\n",
            "<tf.Variable 'conv2d_27/kernel:0' shape=(3, 3, 64, 64) dtype=float32, numpy=\n",
            "array([[[[-0.04302264, -0.06159973, -0.00437549, ..., -0.02758293,\n",
            "           0.04445452,  0.05947889],\n",
            "         [-0.01519511,  0.0121152 , -0.02759114, ...,  0.01563762,\n",
            "           0.06936618,  0.04189543],\n",
            "         [-0.06113888, -0.07768054,  0.06351198, ...,  0.0294744 ,\n",
            "           0.02067883, -0.04793295],\n",
            "         ...,\n",
            "         [ 0.0008372 , -0.00942034, -0.05323082, ...,  0.06434413,\n",
            "           0.02122777,  0.03729276],\n",
            "         [ 0.01283425, -0.01311979, -0.00332285, ..., -0.0361162 ,\n",
            "           0.0533901 , -0.01817504],\n",
            "         [ 0.0448432 ,  0.02919163, -0.06822053, ..., -0.00155437,\n",
            "          -0.04451866,  0.01187068]],\n",
            "\n",
            "        [[-0.03094257, -0.00955096, -0.01044582, ..., -0.0085685 ,\n",
            "           0.00539695, -0.03595591],\n",
            "         [-0.04499787,  0.01888436, -0.01946374, ..., -0.06254079,\n",
            "          -0.05161611,  0.00291354],\n",
            "         [ 0.02876048,  0.0267326 ,  0.00499458, ..., -0.01953831,\n",
            "           0.00691037,  0.02098597],\n",
            "         ...,\n",
            "         [-0.05964752,  0.00397748,  0.0019691 , ...,  0.0402697 ,\n",
            "           0.04638241,  0.02490152],\n",
            "         [ 0.06608564, -0.02079381,  0.04330171, ...,  0.02334262,\n",
            "           0.0093243 , -0.02018833],\n",
            "         [ 0.0548804 , -0.03152017, -0.00777904, ...,  0.0609801 ,\n",
            "          -0.0558595 ,  0.00493344]],\n",
            "\n",
            "        [[-0.05870218,  0.01834142, -0.06111345, ...,  0.05900069,\n",
            "          -0.07027076,  0.01711305],\n",
            "         [-0.01119179, -0.04254838,  0.02683678, ...,  0.06768841,\n",
            "           0.04127348,  0.0001597 ],\n",
            "         [ 0.06686632,  0.03230094,  0.01684426, ...,  0.039059  ,\n",
            "          -0.00802264, -0.05976212],\n",
            "         ...,\n",
            "         [ 0.0680244 , -0.05465794,  0.06368528, ..., -0.03586797,\n",
            "           0.04584937,  0.03578444],\n",
            "         [ 0.02425445, -0.0735632 , -0.04850727, ..., -0.05364079,\n",
            "          -0.02386799, -0.0522898 ],\n",
            "         [-0.02568478, -0.04851172,  0.07066337, ..., -0.05844593,\n",
            "           0.02058807, -0.07646706]]],\n",
            "\n",
            "\n",
            "       [[[ 0.04023865, -0.05137277,  0.03504418, ..., -0.00543999,\n",
            "           0.03006127, -0.03291551],\n",
            "         [ 0.0162681 ,  0.05376678,  0.03775627, ...,  0.02279009,\n",
            "           0.02662181,  0.05639175],\n",
            "         [-0.04673032, -0.06416882, -0.03963979, ..., -0.00187018,\n",
            "          -0.04055598,  0.05363809],\n",
            "         ...,\n",
            "         [ 0.00027815,  0.00777409,  0.03184443, ...,  0.06004194,\n",
            "           0.05335092,  0.01326418],\n",
            "         [-0.05479459, -0.00572904,  0.01041355, ...,  0.01610716,\n",
            "           0.05341642,  0.02318302],\n",
            "         [-0.01782118,  0.06469014, -0.04411023, ..., -0.02127604,\n",
            "          -0.01991852, -0.07535516]],\n",
            "\n",
            "        [[ 0.04374465,  0.06699928, -0.04719109, ..., -0.0631059 ,\n",
            "          -0.03624826,  0.01451967],\n",
            "         [-0.06660247,  0.02484746,  0.0101607 , ...,  0.04355896,\n",
            "           0.01699887, -0.06839828],\n",
            "         [-0.05917411, -0.06215408, -0.03479672, ...,  0.05574451,\n",
            "          -0.06301169, -0.02209577],\n",
            "         ...,\n",
            "         [ 0.01522654,  0.01554235,  0.01232661, ...,  0.04451701,\n",
            "           0.03789227, -0.07676663],\n",
            "         [ 0.02083622, -0.04906356, -0.03362518, ...,  0.04624169,\n",
            "          -0.05351025, -0.00457751],\n",
            "         [-0.04151178,  0.03841452,  0.02238318, ..., -0.02630908,\n",
            "           0.03981071, -0.02670745]],\n",
            "\n",
            "        [[-0.06500503, -0.0023938 , -0.03207875, ..., -0.02193657,\n",
            "          -0.03601851,  0.06643251],\n",
            "         [-0.02000881, -0.0306296 ,  0.0199789 , ..., -0.06543569,\n",
            "           0.06420702,  0.00256089],\n",
            "         [-0.0347316 , -0.02509787,  0.04348988, ..., -0.05725089,\n",
            "           0.03721199, -0.02302657],\n",
            "         ...,\n",
            "         [-0.03317412, -0.01285174,  0.05200051, ..., -0.06468479,\n",
            "          -0.00811345, -0.0058051 ],\n",
            "         [ 0.00186477,  0.06984962,  0.00919816, ..., -0.02136558,\n",
            "          -0.04204338,  0.00955793],\n",
            "         [-0.0538979 ,  0.04761118,  0.05987508, ..., -0.01764108,\n",
            "           0.050813  , -0.0322243 ]]],\n",
            "\n",
            "\n",
            "       [[[-0.04671952,  0.03617529, -0.02414062, ...,  0.03790036,\n",
            "           0.05877167,  0.05533062],\n",
            "         [-0.07332485,  0.00502547, -0.05012751, ..., -0.02135194,\n",
            "           0.01518227, -0.03621086],\n",
            "         [ 0.03665943, -0.03121296, -0.06217865, ..., -0.03545758,\n",
            "          -0.03850694, -0.00729623],\n",
            "         ...,\n",
            "         [ 0.01383298,  0.01018255,  0.0367763 , ...,  0.02832722,\n",
            "          -0.04813461,  0.03117224],\n",
            "         [ 0.0635744 , -0.06140093, -0.00840074, ...,  0.04454492,\n",
            "          -0.00254432,  0.02299343],\n",
            "         [-0.04660046, -0.0202279 , -0.05983387, ..., -0.04444285,\n",
            "          -0.06316225,  0.00017653]],\n",
            "\n",
            "        [[-0.00634357, -0.03651647,  0.00867433, ...,  0.03778175,\n",
            "           0.05222147,  0.03232388],\n",
            "         [ 0.00879466,  0.00960856,  0.02729343, ..., -0.03809726,\n",
            "           0.05515288,  0.03072226],\n",
            "         [-0.01863085, -0.03910941, -0.04113887, ..., -0.00362688,\n",
            "          -0.06070547,  0.05716862],\n",
            "         ...,\n",
            "         [-0.00848922,  0.02024237,  0.01368713, ..., -0.04324069,\n",
            "          -0.00574358,  0.00520381],\n",
            "         [-0.05248715,  0.03697315,  0.01540139, ...,  0.06633283,\n",
            "           0.04481345,  0.03049673],\n",
            "         [-0.04894157, -0.02416977,  0.06556604, ...,  0.05596456,\n",
            "           0.06243413,  0.0424105 ]],\n",
            "\n",
            "        [[ 0.04071923, -0.06021243, -0.01025719, ...,  0.0223852 ,\n",
            "          -0.05143007, -0.01987416],\n",
            "         [ 0.05356601, -0.023166  , -0.00753417, ..., -0.04006413,\n",
            "           0.04347682, -0.02081381],\n",
            "         [-0.01766594, -0.05250665,  0.04194288, ..., -0.05919292,\n",
            "          -0.00698682,  0.00286209],\n",
            "         ...,\n",
            "         [-0.04220927, -0.04463465, -0.02002407, ..., -0.02312095,\n",
            "          -0.06816522, -0.06949741],\n",
            "         [ 0.00659278, -0.00220881, -0.00293876, ...,  0.00422824,\n",
            "          -0.05041816,  0.05955919],\n",
            "         [-0.07423759,  0.05845413,  0.01440688, ..., -0.05438603,\n",
            "           0.06528216, -0.06611022]]]], dtype=float32)>\n",
            "<tf.Variable 'conv2d_27/bias:0' shape=(64,) dtype=float32, numpy=\n",
            "array([-6.90059317e-03, -1.06062619e-02, -1.14708440e-04,  3.82531900e-04,\n",
            "        4.04754980e-03, -6.19712984e-03, -8.42522178e-03, -3.20248795e-03,\n",
            "        3.86298983e-03, -6.62239036e-03, -1.04946196e-02, -5.65999001e-03,\n",
            "        3.41155822e-03, -8.37543607e-03, -3.36085749e-03, -9.59459413e-03,\n",
            "       -7.08991662e-03, -1.72304211e-03, -7.36572500e-03, -7.91802444e-03,\n",
            "       -7.15131685e-03,  2.19358318e-03, -6.44343253e-03, -5.85471140e-03,\n",
            "        6.38607889e-04, -1.10383369e-02, -3.70204070e-04, -2.90518417e-03,\n",
            "       -7.79208727e-03, -1.18478229e-02,  4.50419961e-03,  2.44284654e-03,\n",
            "       -8.15149490e-03,  2.64723273e-03, -6.89872913e-03, -1.24191260e-02,\n",
            "       -1.03874225e-02, -3.89679708e-03,  1.89692120e-03, -1.34447301e-02,\n",
            "       -8.76814313e-03,  3.83716263e-03, -3.56530974e-04,  3.60730046e-05,\n",
            "       -1.01023549e-02, -7.27187982e-03, -1.04862023e-02, -5.53372037e-03,\n",
            "       -9.06887744e-03, -7.36016082e-03,  4.78191953e-03, -5.68322698e-03,\n",
            "       -3.16669000e-03, -6.15442730e-03,  7.36775761e-03, -7.41043454e-03,\n",
            "       -3.92411230e-03, -1.09309135e-02,  3.16580525e-03, -7.05784326e-03,\n",
            "       -6.98472559e-03, -7.72043644e-03, -3.09832604e-03, -3.33325332e-03],\n",
            "      dtype=float32)>\n",
            "<tf.Variable 'dense_6/kernel:0' shape=(2304, 512) dtype=float32, numpy=\n",
            "array([[-2.6281392e-02,  2.4881396e-02, -2.1549271e-02, ...,\n",
            "         3.5445940e-02,  3.9416405e-05, -3.8339153e-02],\n",
            "       [ 3.8961817e-02, -8.1987018e-03,  1.8589465e-02, ...,\n",
            "        -4.7631599e-02,  2.0448202e-02,  2.7845068e-02],\n",
            "       [-2.4869630e-02, -1.6735062e-02, -4.8247769e-02, ...,\n",
            "         6.3367034e-03,  3.9706685e-02, -2.2846924e-02],\n",
            "       ...,\n",
            "       [-4.3000910e-02, -7.4222954e-03,  2.5608821e-02, ...,\n",
            "        -2.1289906e-02,  3.9529376e-02,  1.9714558e-02],\n",
            "       [ 4.2961583e-02, -4.4441298e-02, -3.1469103e-02, ...,\n",
            "        -1.8527966e-02,  1.4670743e-02, -3.5051439e-02],\n",
            "       [ 1.8036088e-05, -4.1718081e-02,  5.9893895e-03, ...,\n",
            "         4.3309603e-02, -6.1132726e-03, -2.0842027e-02]], dtype=float32)>\n",
            "<tf.Variable 'dense_6/bias:0' shape=(512,) dtype=float32, numpy=\n",
            "array([-6.4910930e-03,  5.1161130e-03, -5.0052614e-03,  2.7483152e-03,\n",
            "        2.6938431e-03, -3.7253378e-03,  1.2754204e-03, -1.8843522e-03,\n",
            "       -2.0602588e-03,  5.3276885e-03, -2.8675732e-03,  1.9857117e-03,\n",
            "       -6.8556285e-03,  1.0587052e-03, -7.2523728e-03, -3.4713582e-03,\n",
            "        6.4084111e-03, -7.7909888e-03, -4.6612442e-04, -3.9399541e-03,\n",
            "        2.1861189e-03, -3.9102862e-04, -3.4595653e-03, -2.1598290e-03,\n",
            "       -6.5647420e-03, -3.1870594e-03,  2.0656604e-03,  3.5911014e-03,\n",
            "       -1.0050148e-03,  1.6388005e-03, -3.2473519e-03,  7.3820236e-03,\n",
            "       -3.9817546e-03, -4.7876523e-03,  4.3463446e-03, -7.8366362e-03,\n",
            "       -1.3563855e-03,  1.9191421e-03,  4.8529026e-03, -1.9281615e-03,\n",
            "        2.6003914e-03, -3.2541172e-03,  7.7901925e-05, -3.6677050e-03,\n",
            "       -8.1128692e-03, -6.4989305e-03,  2.1049930e-03, -4.3396782e-03,\n",
            "       -7.7973804e-03, -3.5138922e-03,  6.2513407e-03,  5.8187428e-03,\n",
            "       -4.8965751e-03, -4.1081100e-03, -4.1174679e-03, -7.3285410e-03,\n",
            "       -3.3544539e-03,  4.7402680e-03,  2.6407582e-03, -4.4542258e-03,\n",
            "        8.7753200e-04, -9.2421396e-04,  3.3969337e-03, -2.8486650e-03,\n",
            "        4.9849092e-03,  5.8796462e-03,  8.7414458e-03, -6.1536860e-03,\n",
            "        6.6305744e-03,  1.2576998e-03, -6.3366625e-03,  8.8951346e-03,\n",
            "       -4.6577812e-03, -3.3540907e-03,  2.3328080e-03,  2.4405317e-03,\n",
            "       -3.0723733e-03,  3.9792485e-03,  3.2799118e-03,  4.9165734e-03,\n",
            "       -4.0525668e-03, -3.0908373e-04, -2.6895883e-03, -2.7621721e-03,\n",
            "        7.0157261e-03,  2.7706400e-03, -2.2874458e-03,  7.5980024e-03,\n",
            "       -5.2864724e-03,  3.1761453e-03, -1.3302909e-03, -3.1486128e-03,\n",
            "       -5.1539624e-03,  7.1697393e-03,  1.5059966e-03,  2.7715650e-03,\n",
            "        2.8443115e-03, -4.6678707e-03,  8.3563884e-04, -1.9757734e-03,\n",
            "        8.6074596e-04, -8.4479951e-04, -3.5747539e-03, -2.8771614e-03,\n",
            "       -4.2137927e-03, -3.1771350e-03, -5.5972585e-03,  2.1108596e-03,\n",
            "       -5.6329663e-03, -3.1502454e-03, -2.7240601e-03, -4.2194445e-03,\n",
            "       -7.0304121e-03,  4.5862230e-03, -7.8996290e-03, -4.8809578e-03,\n",
            "        4.8742807e-03, -4.3178769e-03,  1.4294273e-03, -7.3722471e-03,\n",
            "       -6.2886416e-03,  1.1361971e-03,  8.8377921e-03, -4.3127178e-03,\n",
            "       -9.2731492e-04,  1.2018133e-03, -3.6285205e-03,  3.9912811e-03,\n",
            "        4.6040826e-03, -3.7687374e-03,  2.6471759e-03,  4.2541157e-03,\n",
            "       -6.9698161e-03,  1.1924708e-03, -2.9199992e-03, -4.6807691e-03,\n",
            "       -3.2326907e-03,  1.7552556e-03, -6.2015234e-03, -2.7605840e-03,\n",
            "       -6.4560226e-03,  5.4568481e-03,  6.4787001e-04,  2.3894778e-03,\n",
            "       -3.9500273e-03,  5.5297632e-03, -6.5905170e-04,  6.8905177e-03,\n",
            "       -2.8824110e-03,  2.1153844e-03, -4.2847320e-03,  3.5603533e-03,\n",
            "        5.8475109e-03,  2.1432075e-03, -5.0185444e-03,  1.8814533e-03,\n",
            "       -1.5584946e-04,  4.0158220e-03, -3.3977360e-03, -3.6666763e-03,\n",
            "       -3.3432490e-03, -5.5434247e-03,  5.1998859e-03, -3.5997224e-03,\n",
            "       -5.0179515e-04, -5.9201452e-03,  4.5660334e-03,  8.0418604e-04,\n",
            "       -4.8007276e-03, -1.2228366e-03, -4.5284610e-03, -5.3049265e-03,\n",
            "       -1.0478686e-04, -3.5602713e-03, -4.0877676e-03,  3.5110847e-03,\n",
            "        5.3592403e-03, -1.7963474e-03, -4.4547650e-03,  4.9079857e-03,\n",
            "       -6.8712947e-03, -6.5596420e-03,  7.5297995e-04,  2.7239386e-03,\n",
            "       -6.2923124e-03, -1.3432434e-03,  7.1069980e-03, -8.6551430e-03,\n",
            "       -3.5004660e-03, -3.0502849e-03,  4.5808689e-03,  4.1909153e-03,\n",
            "       -4.0024198e-03, -6.9263079e-03,  4.0774746e-03, -6.3660103e-03,\n",
            "       -3.0013979e-03,  3.9425106e-03, -6.7275087e-03,  3.1625836e-03,\n",
            "       -2.5587499e-03, -1.8602208e-05, -5.0839414e-03,  1.4488681e-03,\n",
            "        5.2397507e-03, -1.5041853e-03,  4.3553365e-03, -5.8704861e-03,\n",
            "        4.3891706e-03, -3.2991259e-03,  5.3735953e-03, -6.7573925e-03,\n",
            "        2.8562930e-03, -5.7200403e-03,  5.0176736e-03, -5.7883859e-03,\n",
            "        2.6068380e-03, -4.1130357e-03, -6.7057824e-03,  9.2718634e-04,\n",
            "        4.2863729e-04,  3.0027300e-03,  3.1564720e-03, -2.0488917e-03,\n",
            "        2.2412064e-03, -3.3134327e-03,  3.8506081e-03, -6.2008697e-04,\n",
            "        3.5489858e-03,  4.7528828e-03,  2.9281622e-03, -5.4022367e-03,\n",
            "       -5.5738911e-03,  2.4867863e-03, -3.9630327e-03, -1.6402227e-03,\n",
            "       -4.4010771e-03, -2.6082925e-03, -3.8891206e-03, -4.3859459e-03,\n",
            "       -3.1180810e-03, -3.3538493e-03, -1.8560034e-03, -4.7927829e-03,\n",
            "       -3.4986895e-03, -5.2991756e-03, -5.5269129e-03, -5.8278162e-03,\n",
            "       -5.3807590e-03,  3.3420732e-03,  7.7594561e-04, -6.8825367e-03,\n",
            "        5.5728969e-03,  3.8798372e-03, -3.9870979e-04, -7.3349886e-03,\n",
            "       -3.3262856e-03, -4.1981442e-03,  7.2632113e-04,  8.7910553e-04,\n",
            "        5.1564528e-03, -3.9966684e-03, -5.8242576e-03,  6.4903377e-03,\n",
            "       -7.1374751e-03, -6.3787121e-03, -3.1665342e-03,  3.9298758e-03,\n",
            "       -7.2215823e-03, -2.0989196e-03, -2.9107772e-03,  1.5817689e-03,\n",
            "       -5.0387736e-03, -2.2403547e-03, -4.7157216e-03,  4.4635385e-03,\n",
            "        6.1517349e-04, -4.2301067e-03,  4.1066133e-03, -2.0351836e-03,\n",
            "       -6.8108919e-03,  2.6349730e-03,  7.9074840e-04, -1.6621201e-03,\n",
            "        3.3869452e-03,  1.7453835e-03,  1.4817487e-03,  3.5116463e-03,\n",
            "        1.6903233e-03, -1.4363355e-03, -1.7086031e-03,  5.2494695e-03,\n",
            "       -6.4502666e-03,  1.4235041e-04, -2.6107461e-03,  5.3432322e-04,\n",
            "       -6.1606518e-03,  3.6969760e-03, -4.2382092e-03, -2.2831105e-03,\n",
            "       -5.5740657e-03, -4.6417331e-03, -7.5120027e-03,  4.6070758e-03,\n",
            "       -1.6837348e-03, -3.0290622e-03,  4.6397191e-03, -6.2910886e-03,\n",
            "       -5.1645497e-03,  2.2590188e-03,  4.2633670e-03, -4.8890496e-03,\n",
            "        2.3826891e-04,  1.7078839e-03, -6.3261180e-03, -7.5684758e-03,\n",
            "       -2.4012101e-03, -4.0222220e-03, -5.4257158e-03, -4.7017890e-03,\n",
            "       -6.3083014e-03,  6.2597794e-03,  4.2076879e-03, -4.6658698e-03,\n",
            "       -6.0989293e-03, -7.3360763e-03,  3.0180151e-03, -4.8621269e-03,\n",
            "       -5.4548373e-03,  5.2064667e-03, -2.7940702e-03, -2.6416145e-03,\n",
            "        1.6246322e-03,  3.8027738e-03,  1.2469816e-03, -3.6342952e-03,\n",
            "       -3.9454582e-03,  6.5184841e-03,  3.8201590e-03, -3.7242903e-03,\n",
            "       -6.7341053e-03, -3.5946642e-03, -7.8047463e-03, -7.1726223e-03,\n",
            "        4.5562796e-03,  4.1504931e-03,  6.4797667e-03,  5.2415989e-03,\n",
            "        1.3356745e-03,  4.6254140e-03,  2.3240750e-03,  3.1176016e-03,\n",
            "       -4.4681900e-03, -1.1164591e-03,  5.4364381e-03,  4.1450514e-03,\n",
            "       -7.5811334e-04, -5.2560270e-03, -7.3606675e-03, -1.2265822e-03,\n",
            "       -6.6677090e-03, -1.9387688e-03, -3.3793158e-03,  1.5378059e-03,\n",
            "       -7.5107426e-03,  2.7282340e-03, -8.3662951e-03,  6.6134376e-03,\n",
            "        1.9234840e-03,  7.7559026e-03, -7.1574184e-03, -7.3928745e-03,\n",
            "       -5.4582409e-03, -5.6272983e-03, -3.5185488e-03,  4.0611415e-03,\n",
            "       -6.4689955e-03, -9.6029686e-03,  1.0470762e-03, -5.9444620e-03,\n",
            "       -5.9079211e-03, -4.2266916e-03,  8.2258582e-03,  7.2474615e-03,\n",
            "       -1.5545244e-04,  1.9870125e-04,  1.1074104e-03, -2.4586869e-03,\n",
            "        3.8384763e-03, -2.6448651e-03,  5.7388567e-03,  2.2824260e-03,\n",
            "        6.6820299e-04,  1.2783329e-02,  2.4937405e-03, -3.8496777e-03,\n",
            "       -6.6607818e-03, -5.7204948e-03,  4.8406250e-03, -3.6667390e-03,\n",
            "       -6.5969410e-03,  1.4781933e-03, -5.6008101e-03,  5.7358900e-04,\n",
            "        5.4979557e-03,  3.6076370e-03,  6.0706511e-03, -5.4921862e-03,\n",
            "       -5.9353444e-03, -2.5627408e-03,  1.2739712e-03,  6.1186315e-03,\n",
            "       -4.4557522e-03,  5.2776164e-03, -5.6817941e-03, -4.4396929e-03,\n",
            "        5.4810033e-03,  5.7116142e-03, -3.8565947e-03, -9.4370469e-03,\n",
            "       -5.6567104e-03, -3.7228337e-03,  4.6852254e-03,  1.0139828e-03,\n",
            "        3.5892576e-03,  4.6090428e-03,  3.1569924e-03, -1.8956241e-03,\n",
            "        1.9621956e-03,  2.9518029e-03, -5.0129560e-03,  5.0229104e-03,\n",
            "        2.4165444e-03,  4.4320659e-03, -5.2070995e-03, -5.3550070e-03,\n",
            "       -1.4645164e-03,  9.3385177e-03, -4.1408492e-03, -3.6633057e-03,\n",
            "       -1.2235336e-03, -4.5658727e-03, -6.3808551e-03, -4.3274774e-03,\n",
            "       -7.3577929e-04, -5.8357222e-03,  4.5409673e-03,  2.4236862e-03,\n",
            "        2.2336985e-03, -4.9786260e-03, -8.7100612e-03, -4.2290837e-04,\n",
            "       -6.3855853e-03,  5.3057056e-03, -4.6975547e-03, -5.0708740e-03,\n",
            "        2.8181081e-03,  4.0917434e-03,  7.8491550e-03, -1.1930437e-03,\n",
            "       -7.7257478e-03,  3.7173065e-04,  7.7581215e-03,  8.4440522e-03,\n",
            "       -3.3416301e-03, -6.4190673e-03,  4.5912983e-03, -3.7407840e-03,\n",
            "       -3.2910351e-03, -5.1244851e-03, -5.7489588e-04, -5.0486466e-03,\n",
            "       -6.5653119e-03,  2.0303647e-03,  1.2582701e-03,  3.5771632e-03,\n",
            "        6.6823103e-03, -5.7666460e-03,  6.2022428e-03, -5.4165121e-04,\n",
            "       -2.6941188e-03,  2.7470736e-04, -5.0524850e-03, -8.6730858e-03,\n",
            "       -7.7218828e-03,  3.8418374e-03, -4.8524477e-03, -4.4563035e-03,\n",
            "       -5.1470445e-03, -2.2751626e-04,  5.6515862e-03,  8.0546206e-03,\n",
            "       -4.7693555e-03,  2.8135566e-04,  3.1199332e-03,  2.9787272e-03,\n",
            "       -5.1415395e-03, -2.4003373e-03, -3.2089879e-03, -2.5171726e-03,\n",
            "       -4.9354634e-03, -5.4263626e-03, -8.1770821e-03,  6.9477205e-04,\n",
            "       -6.5925731e-03,  6.5924940e-03,  3.6534041e-03,  4.1341162e-03,\n",
            "       -5.7987231e-03, -7.1828514e-03, -2.0137515e-03, -6.5798745e-03],\n",
            "      dtype=float32)>\n",
            "<tf.Variable 'dense_7/kernel:0' shape=(512, 2) dtype=float32, numpy=\n",
            "array([[-0.00869285, -0.02620099],\n",
            "       [-0.04354189,  0.03343828],\n",
            "       [ 0.03941561, -0.06677298],\n",
            "       ...,\n",
            "       [ 0.03544555, -0.07028865],\n",
            "       [ 0.10389419,  0.09198111],\n",
            "       [ 0.07093506,  0.02489271]], dtype=float32)>\n",
            "<tf.Variable 'dense_7/bias:0' shape=(2,) dtype=float32, numpy=array([-0.00788595,  0.00788595], dtype=float32)>\n"
          ]
        }
      ]
    },
    {
      "cell_type": "markdown",
      "metadata": {
        "id": "SR42boMgczoF"
      },
      "source": [
        "Unfortunately, that probably didn’t help you make a useful explanation.\n",
        "\n",
        "Researchers are currently studying ways to make neural networks more explainable. One approach is using **saliency maps** to figure out the saliency (importance) of each individual pixel. Check out a demo [here](https://lrpserver.hhi.fraunhofer.de/image-classification). Intuitively, we're trying to understand the neural network by tracking what it \"pays attention\" to, in the same way that psychologists study babies' cognition by [tracking what babies look at](https://www.ncbi.nlm.nih.gov/pmc/articles/PMC3259733/).\n",
        "\n",
        "In this exercise, we're going to build a simple version of a saliency map for the image you chose above. We'll see what pixels were most important in helping the network make its classification.\n",
        "\n",
        "To do this, we'll investigate the effects of changing each pixel a little bit. If changing a particular pixel changes the result a lot, we conclude that pixel must be important for classifying. If changing that pixel doesn't change the result, we conclude that pixel is unimportant.\n"
      ]
    },
    {
      "cell_type": "markdown",
      "metadata": {
        "id": "0RpZL6ChfLZ6"
      },
      "source": [
        "We're going to use the raw predicted probabilities, rather than the final classification."
      ]
    },
    {
      "cell_type": "code",
      "metadata": {
        "id": "gkdMS7sJfR6j",
        "colab": {
          "base_uri": "https://localhost:8080/"
        },
        "outputId": "4c059a16-d415-4057-e260-b432bbe75a78"
      },
      "source": [
        "pred = cnn.predict_proba(np.array([input_image])) #What does each number mean?\n",
        "print (pred)\n",
        "dog_prob = pred[0][0] #This is the probability we'll use (if we know dog prob, we know the classification)\n",
        "\n",
        "print ('Probability of dog:')\n",
        "print (dog_prob)"
      ],
      "execution_count": 74,
      "outputs": [
        {
          "output_type": "stream",
          "name": "stdout",
          "text": [
            "[[9.9987292e-01 1.2705321e-04]]\n",
            "Probability of dog:\n",
            "0.9998729\n"
          ]
        }
      ]
    },
    {
      "cell_type": "markdown",
      "metadata": {
        "id": "Xla3j0R1geJY"
      },
      "source": [
        "Now, we need to calculate the saliency for each pixel (really, each R/G/B value). The core idea is that a pixel's saliency is the average value of \n",
        "\n",
        " $D = |\\frac{\\Delta probability}{\\Delta pixel}|$\n",
        " \n",
        " where $\\Delta$ is the amount of change. If a small change in the pixel value results in a large change in the probability (either up or down), we know this pixel is important. If you've seen derivatives in calculus, this idea should feel familiar.\n",
        "\n",
        "Here's the game plan:\n",
        "\n",
        "*   Consider each pixel value in turn: R, G, B, then the next pixel.\n",
        "*   Make a copy of the image array before you change anything!\n",
        "*   Make the pixel value larger or smaller by various amounts. Each time, find the CNN's prediction with the changed value, and calculate the value of D.\n",
        "*   Repeat the previous step a few times, and calculate the pixel's saliency: the average value of D.\n",
        "*   Store the saliency of each pixel in a list, so that we can visualize it later.\n",
        "\n",
        "Try it below! (Warning: this code might be very slow. As a further challenge, try to speed it up!)\n"
      ]
    },
    {
      "cell_type": "code",
      "metadata": {
        "id": "RnABhKUJmNCF",
        "colab": {
          "base_uri": "https://localhost:8080/"
        },
        "outputId": "725bac5c-cf29-4587-9410-40de4b21dc66"
      },
      "source": [
        "saliencies = [] #eventually, will be the same size as input_image\n",
        "\n",
        "for index, pixel in enumerate(input_image):\n",
        "  #index counts up from 0, pixel is between 0 and 255\n",
        "  \n",
        "  if index%100 == 0: #will track progress - this might take a while\n",
        "    print (index)\n",
        "  \n",
        "  changed_input = input_image.copy() #make sure not to change the original input_image!\n",
        "  \n",
        "  #YOUR CODE HERE:\n",
        "  #In changed_input, change the value of this pixel by some amount.\n",
        "  D_list = []\n",
        "  change = 20\n",
        "  changed_pixel = pixel + change\n",
        "\n",
        "  if 0 <= changed_pixel <= 255:\n",
        "    changed_input[index] = changed_pixel\n",
        "  #Use the CNN to classify changed_input.\n",
        "    changed_pred = cnn.predict_proba(np.array([changed_input]))\n",
        "    changed_dog_prob = changed_pred[0][0]\n",
        "  #Calculate the value of D.\n",
        "  D = (changed_dog_prob - dog_prob) / change\n",
        "  D_list.append(np.abs(D))\n",
        "  #Repeat with various-size changes, and calculate saliency as the average D.\n",
        "  saliency = np.mean(D_list) #Change this!\n",
        "\n",
        "  saliencies.append(saliency)\n",
        "  \n",
        "\n",
        "print (saliencies)"
      ],
      "execution_count": 83,
      "outputs": [
        {
          "output_type": "stream",
          "name": "stdout",
          "text": [
            "0\n",
            "100\n",
            "200\n",
            "300\n",
            "400\n",
            "500\n",
            "600\n",
            "700\n",
            "800\n",
            "900\n",
            "1000\n",
            "1100\n",
            "1200\n",
            "1300\n",
            "1400\n",
            "1500\n",
            "1600\n",
            "1700\n",
            "1800\n",
            "1900\n",
            "2000\n",
            "2100\n",
            "2200\n",
            "2300\n",
            "2400\n",
            "2500\n",
            "2600\n",
            "2700\n",
            "2800\n",
            "2900\n",
            "3000\n",
            "[4.1723251342773435e-08, 7.152557373046875e-08, 3.5762786865234374e-08, 5.3644180297851564e-08, 6.556510925292969e-08, 1.1920928955078126e-08, 5.960464477539063e-09, 7.748603820800782e-08, 2.384185791015625e-08, 2.9802322387695312e-08, 1.1920928955078126e-08, 5.960464477539063e-08, 1.7881393432617187e-08, 4.1723251342773435e-08, 5.3644180297851564e-08, 4.1723251342773435e-08, 0.0, 2.9802322387695312e-08, 1.1920928955078126e-08, 2.9802322387695312e-08, 2.9802322387695312e-08, 2.384185791015625e-08, 1.7881393432617187e-08, 2.384185791015625e-08, 2.9802322387695312e-08, 5.3644180297851564e-08, 2.384185791015625e-08, 2.384185791015625e-08, 4.76837158203125e-08, 5.960464477539063e-09, 4.76837158203125e-08, 5.960464477539063e-08, 2.384185791015625e-08, 3.5762786865234374e-08, 4.76837158203125e-08, 4.1723251342773435e-08, 3.5762786865234374e-08, 7.152557373046875e-08, 0.0, 8.940696716308594e-08, 2.384185791015625e-08, 5.960464477539063e-08, 3.5762786865234374e-08, 5.960464477539063e-08, 1.7881393432617187e-08, 1.1920928955078126e-08, 1.0728836059570313e-07, 1.0728836059570313e-07, 5.960464477539063e-08, 6.556510925292969e-08, 2.9802322387695312e-08, 1.2516975402832032e-07, 4.1723251342773435e-08, 5.3644180297851564e-08, 2.9802322387695312e-08, 3.5762786865234374e-08, 5.3644180297851564e-08, 1.0728836059570313e-07, 1.1920928955078126e-08, 2.9802322387695312e-08, 2.9802322387695312e-08, 2.384185791015625e-08, 8.940696716308594e-08, 1.1920928955078126e-08, 1.1920928955078126e-08, 6.556510925292969e-08, 6.556510925292969e-08, 4.76837158203125e-08, 1.1920928955078126e-08, 2.9802322387695312e-08, 4.1723251342773435e-08, 2.9802322387695312e-08, 1.7881393432617187e-08, 2.9802322387695312e-08, 5.3644180297851564e-08, 4.1723251342773435e-08, 1.1920928955078126e-08, 0.0, 1.7881393432617187e-08, 4.76837158203125e-08, 2.384185791015625e-08, 2.9802322387695312e-08, 2.9802322387695312e-08, 3.5762786865234374e-08, 0.0, 1.7881393432617187e-08, 1.7881393432617187e-08, 1.7881393432617187e-08, 5.960464477539063e-09, 0.0, 3.5762786865234374e-08, 1.1920928955078126e-08, 5.960464477539063e-09, 5.960464477539063e-09, 5.960464477539063e-09, 5.960464477539063e-09, 2.9802322387695312e-08, 7.152557373046875e-08, 1.7881393432617187e-08, 0.0, 7.748603820800782e-08, 5.960464477539063e-09, 2.384185791015625e-08, 0.0, 5.3644180297851564e-08, 9.5367431640625e-08, 1.1920928955078126e-08, 1.1324882507324218e-07, 4.1723251342773435e-08, 0.0, 1.1920928955078126e-08, 1.1920928955078126e-08, 4.76837158203125e-08, 2.384185791015625e-08, 1.7881393432617187e-08, 4.76837158203125e-08, 3.5762786865234374e-08, 1.7881393432617187e-08, 2.9802322387695312e-08, 8.940696716308594e-08, 1.3113021850585939e-07, 5.960464477539063e-08, 2.9802322387695312e-08, 1.1920928955078126e-08, 5.3644180297851564e-08, 7.152557373046875e-08, 6.556510925292969e-08, 5.960464477539063e-08, 4.76837158203125e-08, 1.7881393432617187e-08, 0.0, 8.940696716308594e-08, 2.384185791015625e-08, 8.940696716308594e-08, 2.384185791015625e-08, 2.384185791015625e-08, 2.9802322387695312e-08, 1.7881393432617187e-08, 6.556510925292969e-08, 2.384185791015625e-08, 0.0, 5.960464477539063e-09, 3.5762786865234374e-08, 7.748603820800782e-08, 9.5367431640625e-08, 2.2649765014648436e-07, 1.9669532775878905e-07, 1.1324882507324218e-07, 1.1920928955078126e-08, 1.728534698486328e-07, 3.5762786865234374e-08, 4.1723251342773435e-08, 7.748603820800782e-08, 6.556510925292969e-08, 2.384185791015625e-08, 2.9802322387695312e-08, 5.960464477539063e-09, 2.384185791015625e-08, 5.960464477539063e-08, 5.960464477539063e-09, 1.7881393432617187e-08, 2.9802322387695312e-08, 2.9802322387695312e-08, 0.0, 7.152557373046875e-08, 4.1723251342773435e-08, 4.1723251342773435e-08, 4.1723251342773435e-08, 2.384185791015625e-08, 4.1723251342773435e-08, 2.9802322387695312e-08, 6.556510925292969e-08, 4.1723251342773435e-08, 2.384185791015625e-08, 7.152557373046875e-08, 5.960464477539063e-09, 2.9802322387695312e-08, 5.960464477539063e-09, 1.7881393432617187e-08, 2.9802322387695312e-08, 2.384185791015625e-08, 2.384185791015625e-08, 1.1920928955078126e-08, 1.7881393432617187e-08, 5.960464477539063e-08, 2.384185791015625e-08, 5.960464477539063e-09, 4.76837158203125e-08, 1.1920928955078126e-08, 1.1920928955078126e-08, 1.7881393432617187e-08, 5.960464477539063e-09, 1.7881393432617187e-08, 3.5762786865234374e-08, 4.1723251342773435e-08, 5.3644180297851564e-08, 5.960464477539063e-08, 1.1920928955078126e-08, 9.5367431640625e-08, 4.76837158203125e-08, 3.5762786865234374e-08, 1.0728836059570313e-07, 4.76837158203125e-08, 4.76837158203125e-08, 2.9802322387695312e-08, 4.1723251342773435e-08, 1.7881393432617187e-08, 4.1723251342773435e-08, 5.960464477539063e-09, 1.1920928955078126e-08, 2.9802322387695312e-08, 6.556510925292969e-08, 5.3644180297851564e-08, 1.3113021850585939e-07, 5.960464477539063e-08, 1.1920928955078126e-08, 0.0, 1.7881393432617187e-08, 3.5762786865234374e-08, 0.0, 7.748603820800782e-08, 7.152557373046875e-08, 3.5762786865234374e-08, 5.3644180297851564e-08, 1.7881393432617187e-08, 4.1723251342773435e-08, 1.4901161193847656e-07, 2.9802322387695312e-08, 1.3113021850585939e-07, 5.960464477539063e-08, 4.1723251342773435e-08, 1.1920928955078126e-08, 1.6689300537109374e-07, 2.2053718566894532e-07, 4.76837158203125e-08, 8.344650268554687e-08, 1.728534698486328e-07, 1.7881393432617187e-08, 2.2649765014648436e-07, 5.3644180297851564e-08, 5.960464477539063e-09, 1.5497207641601563e-07, 1.609325408935547e-07, 2.9802322387695312e-08, 5.960464477539063e-09, 4.1723251342773435e-08, 1.0728836059570313e-07, 1.7881393432617187e-08, 4.1723251342773435e-08, 1.1920928955078125e-07, 9.5367431640625e-08, 5.960464477539063e-08, 5.3644180297851564e-08, 1.7881393432617187e-08, 6.556510925292969e-08, 6.556510925292969e-08, 1.7881393432617187e-08, 2.384185791015625e-08, 2.384185791015625e-08, 4.76837158203125e-08, 5.3644180297851564e-08, 1.7881393432617187e-08, 2.9802322387695312e-08, 1.1324882507324218e-07, 7.748603820800782e-08, 6.556510925292969e-08, 1.7881393432617187e-08, 1.7881393432617187e-08, 5.960464477539063e-08, 4.76837158203125e-08, 6.556510925292969e-08, 4.76837158203125e-08, 1.7881393432617187e-08, 2.384185791015625e-08, 2.384185791015625e-08, 4.76837158203125e-08, 2.9802322387695312e-08, 3.5762786865234374e-08, 5.960464477539063e-09, 1.1920928955078126e-08, 0.0, 2.384185791015625e-08, 2.9802322387695312e-08, 3.5762786865234374e-08, 2.9802322387695312e-08, 2.384185791015625e-08, 1.7881393432617187e-08, 5.960464477539063e-09, 2.9802322387695312e-08, 1.1920928955078125e-07, 1.0132789611816406e-07, 2.9802322387695312e-08, 3.5762786865234374e-08, 4.76837158203125e-08, 5.960464477539063e-09, 7.748603820800782e-08, 4.1723251342773435e-08, 3.5762786865234374e-08, 1.0132789611816406e-07, 7.152557373046875e-08, 1.7881393432617187e-08, 1.0132789611816406e-07, 8.344650268554687e-08, 8.344650268554687e-08, 4.1723251342773435e-08, 8.940696716308594e-08, 3.5762786865234374e-08, 8.940696716308594e-08, 1.8477439880371094e-07, 1.2516975402832032e-07, 5.3644180297851564e-08, 2.4437904357910154e-07, 5.3644180297851564e-08, 1.3113021850585939e-07, 2.9802322387695312e-08, 5.960464477539063e-09, 1.1920928955078126e-08, 2.9802322387695312e-08, 1.1324882507324218e-07, 3.5762786865234374e-08, 7.748603820800782e-08, 3.5762786865234374e-08, 5.960464477539063e-08, 3.5762786865234374e-08, 1.2516975402832032e-07, 1.6689300537109374e-07, 1.430511474609375e-07, 1.0728836059570313e-07, 1.609325408935547e-07, 5.960464477539063e-09, 1.6689300537109374e-07, 1.0728836059570313e-07, 2.384185791015625e-08, 2.384185791015625e-08, 4.1723251342773435e-08, 2.5033950805664064e-07, 2.384185791015625e-07, 1.5497207641601563e-07, 1.3709068298339843e-07, 4.76837158203125e-08, 2.384185791015625e-08, 3.5762786865234374e-08, 7.748603820800782e-08, 2.2053718566894532e-07, 8.940696716308594e-08, 5.960464477539063e-09, 2.0265579223632812e-07, 1.5497207641601563e-07, 1.1920928955078126e-08, 5.960464477539063e-08, 8.940696716308594e-08, 6.556510925292969e-08, 1.3709068298339843e-07, 1.1920928955078126e-08, 5.3644180297851564e-08, 2.384185791015625e-08, 2.9802322387695312e-08, 5.3644180297851564e-08, 1.0728836059570313e-07, 8.940696716308594e-08, 2.9802322387695312e-08, 1.2516975402832032e-07, 5.960464477539063e-08, 2.9802322387695312e-08, 1.0132789611816406e-07, 3.5762786865234374e-08, 3.5762786865234374e-08, 1.7881393432617187e-08, 2.384185791015625e-08, 5.960464477539063e-09, 4.1723251342773435e-08, 0.0, 4.1723251342773435e-08, 5.960464477539063e-08, 1.7881393432617187e-08, 1.1920928955078126e-08, 5.960464477539063e-09, 6.556510925292969e-08, 2.384185791015625e-08, 2.384185791015625e-08, 1.7881393432617187e-08, 3.5762786865234374e-08, 1.1920928955078126e-08, 2.384185791015625e-08, 2.384185791015625e-08, 1.3113021850585939e-07, 4.1723251342773435e-08, 2.384185791015625e-08, 1.2516975402832032e-07, 2.9802322387695312e-08, 1.1920928955078125e-07, 2.9802322387695312e-08, 5.960464477539063e-08, 8.344650268554687e-08, 1.609325408935547e-07, 2.9802322387695312e-08, 7.152557373046875e-08, 1.7881393432617187e-08, 1.5497207641601563e-07, 5.3644180297851564e-08, 6.556510925292969e-08, 8.940696716308594e-08, 1.609325408935547e-07, 9.5367431640625e-08, 3.5762786865234374e-08, 1.0132789611816406e-07, 1.1920928955078126e-08, 1.0132789611816406e-07, 1.9669532775878905e-07, 3.5762786865234374e-08, 8.940696716308594e-08, 3.5762786865234374e-08, 5.960464477539063e-09, 1.6689300537109374e-07, 7.152557373046875e-08, 1.5497207641601563e-07, 2.384185791015625e-08, 5.960464477539063e-08, 1.9073486328125e-07, 1.5497207641601563e-07, 4.1723251342773435e-08, 4.1723251342773435e-08, 4.1723251342773435e-08, 1.5497207641601563e-07, 1.7881393432617187e-08, 2.9802322387695312e-08, 1.728534698486328e-07, 1.1324882507324218e-07, 2.86102294921875e-07, 3.5762786865234374e-08, 2.980232238769531e-07, 1.7881393432617187e-08, 1.3709068298339843e-07, 2.980232238769531e-07, 1.1920928955078125e-07, 3.5762786865234374e-08, 1.4901161193847656e-07, 1.0728836059570313e-07, 1.7881393432617187e-08, 1.4901161193847656e-07, 2.9802322387695312e-08, 5.960464477539063e-09, 1.0728836059570313e-07, 7.748603820800782e-08, 1.1324882507324218e-07, 3.5762786865234374e-08, 1.2516975402832032e-07, 8.940696716308594e-08, 6.556510925292969e-08, 8.940696716308594e-08, 7.748603820800782e-08, 4.1723251342773435e-08, 8.344650268554687e-08, 8.344650268554687e-08, 5.960464477539063e-08, 9.5367431640625e-08, 1.0728836059570313e-07, 1.7881393432617187e-08, 4.76837158203125e-08, 4.76837158203125e-08, 1.1324882507324218e-07, 7.152557373046875e-08, 7.152557373046875e-08, 5.960464477539063e-08, 3.5762786865234374e-08, 4.76837158203125e-08, 4.1723251342773435e-08, 7.748603820800782e-08, 5.3644180297851564e-08, 2.384185791015625e-08, 3.5762786865234374e-08, 4.1723251342773435e-08, 5.960464477539063e-09, 5.960464477539063e-09, 3.5762786865234374e-08, 2.384185791015625e-08, 0.0, 2.9802322387695312e-08, 5.960464477539063e-09, 2.9802322387695312e-08, 6.556510925292969e-08, 5.3644180297851564e-08, 7.748603820800782e-08, 7.748603820800782e-08, 1.7881393432617187e-08, 9.5367431640625e-08, 0.0, 2.9802322387695312e-08, 1.7881393432617187e-08, 2.384185791015625e-08, 4.76837158203125e-08, 2.384185791015625e-08, 2.384185791015625e-08, 1.3113021850585939e-07, 3.5762786865234374e-08, 1.1920928955078125e-07, 8.344650268554687e-08, 3.5762786865234374e-08, 5.960464477539063e-09, 4.1723251342773435e-08, 7.152557373046875e-08, 1.3709068298339843e-07, 8.344650268554687e-08, 2.5033950805664064e-07, 7.748603820800782e-08, 1.2516975402832032e-07, 5.3644180297851564e-08, 1.1920928955078126e-08, 1.430511474609375e-07, 1.430511474609375e-07, 1.1920928955078126e-08, 1.728534698486328e-07, 1.7881393432617187e-08, 7.152557373046875e-08, 1.1324882507324218e-07, 7.152557373046875e-08, 1.2516975402832032e-07, 9.5367431640625e-08, 5.3644180297851564e-08, 5.960464477539063e-09, 7.748603820800782e-08, 2.562999725341797e-07, 2.384185791015625e-07, 7.748603820800782e-08, 7.152557373046875e-08, 2.3245811462402343e-07, 2.2053718566894532e-07, 6.556510925292969e-08, 2.86102294921875e-07, 9.5367431640625e-08, 4.1723251342773435e-08, 1.4901161193847656e-07, 2.384185791015625e-08, 7.748603820800782e-08, 1.0728836059570313e-07, 7.748603820800782e-08, 2.3245811462402343e-07, 6.556510925292969e-08, 6.556510925292969e-08, 1.2516975402832032e-07, 4.1723251342773435e-08, 4.1723251342773435e-08, 4.76837158203125e-08, 1.7881393432617187e-08, 1.6689300537109374e-07, 4.76837158203125e-08, 3.5762786865234374e-08, 7.152557373046875e-08, 1.7881393432617187e-08, 8.940696716308594e-08, 5.960464477539063e-08, 6.556510925292969e-08, 6.556510925292969e-08, 7.748603820800782e-08, 0.0, 0.0, 5.960464477539063e-09, 1.7881393432617187e-08, 1.0132789611816406e-07, 4.1723251342773435e-08, 3.5762786865234374e-08, 5.3644180297851564e-08, 5.960464477539063e-08, 4.1723251342773435e-08, 3.5762786865234374e-08, 6.556510925292969e-08, 2.9802322387695312e-08, 2.9802322387695312e-08, 2.9802322387695312e-08, 1.7881393432617187e-08, 5.960464477539063e-09, 0.0, 1.1920928955078126e-08, 1.1920928955078126e-08, 1.7881393432617187e-08, 0.0, 6.556510925292969e-08, 7.152557373046875e-08, 9.5367431640625e-08, 2.9802322387695312e-08, 2.9802322387695312e-08, 1.0728836059570313e-07, 5.960464477539063e-08, 1.7881393432617187e-08, 2.9802322387695312e-08, 8.940696716308594e-08, 1.3113021850585939e-07, 1.3113021850585939e-07, 9.5367431640625e-08, 9.5367431640625e-08, 2.9802322387695312e-08, 1.1920928955078126e-08, 1.0132789611816406e-07, 5.3644180297851564e-08, 1.0728836059570313e-07, 1.9073486328125e-07, 5.960464477539063e-09, 8.940696716308594e-08, 2.384185791015625e-08, 1.1324882507324218e-07, 8.344650268554687e-08, 1.5497207641601563e-07, 1.1920928955078125e-07, 1.7881393432617187e-08, 1.1324882507324218e-07, 1.1920928955078126e-08, 4.1723251342773435e-08, 4.76837158203125e-08, 8.344650268554687e-08, 1.1920928955078126e-08, 1.7881393432617188e-07, 5.960464477539063e-08, 1.430511474609375e-07, 4.76837158203125e-08, 8.940696716308594e-08, 4.76837158203125e-08, 5.960464477539063e-08, 7.152557373046875e-08, 2.0265579223632812e-07, 4.76837158203125e-08, 1.9073486328125e-07, 1.6689300537109374e-07, 1.609325408935547e-07, 5.960464477539063e-09, 8.940696716308594e-08, 8.940696716308594e-08, 1.7881393432617187e-08, 1.2516975402832032e-07, 1.7881393432617187e-08, 1.1324882507324218e-07, 5.960464477539063e-08, 1.4901161193847656e-07, 5.960464477539063e-08, 2.9802322387695312e-08, 1.6689300537109374e-07, 6.556510925292969e-08, 2.1457672119140626e-07, 1.2516975402832032e-07, 1.1920928955078125e-07, 2.9802322387695312e-08, 1.7881393432617187e-08, 0.0, 1.3113021850585939e-07, 1.5497207641601563e-07, 1.3113021850585939e-07, 2.384185791015625e-08, 4.1723251342773435e-08, 9.5367431640625e-08, 9.5367431640625e-08, 7.748603820800782e-08, 3.5762786865234374e-08, 0.0, 2.9802322387695312e-08, 1.0132789611816406e-07, 2.384185791015625e-08, 9.5367431640625e-08, 1.7881393432617187e-08, 1.1920928955078126e-08, 1.7881393432617187e-08, 5.960464477539063e-09, 9.5367431640625e-08, 5.960464477539063e-09, 1.7881393432617187e-08, 5.960464477539063e-09, 5.3644180297851564e-08, 2.9802322387695312e-08, 6.556510925292969e-08, 2.9802322387695312e-08, 2.384185791015625e-08, 1.7881393432617187e-08, 1.1920928955078126e-08, 1.1920928955078126e-08, 1.3113021850585939e-07, 1.7881393432617187e-08, 1.1920928955078125e-07, 4.1723251342773435e-08, 1.3113021850585939e-07, 5.3644180297851564e-08, 9.5367431640625e-08, 6.556510925292969e-08, 5.3644180297851564e-08, 3.2782554626464844e-07, 2.9802322387695312e-08, 1.1920928955078125e-07, 1.3113021850585939e-07, 1.3113021850585939e-07, 1.7881393432617188e-07, 8.344650268554687e-08, 5.960464477539063e-09, 2.384185791015625e-08, 1.3709068298339843e-07, 4.76837158203125e-08, 5.960464477539063e-08, 1.0728836059570313e-07, 1.2516975402832032e-07, 5.3644180297851564e-08, 1.430511474609375e-07, 2.9802322387695312e-08, 1.5497207641601563e-07, 1.4901161193847656e-07, 2.9802322387695312e-08, 9.5367431640625e-08, 1.1920928955078125e-07, 1.609325408935547e-07, 2.086162567138672e-07, 1.7881393432617187e-08, 1.9669532775878905e-07, 8.940696716308594e-08, 1.430511474609375e-07, 9.5367431640625e-08, 1.0728836059570313e-07, 2.920627593994141e-07, 2.1457672119140626e-07, 1.3113021850585939e-07, 2.384185791015625e-08, 2.562999725341797e-07, 8.344650268554687e-08, 5.960464477539063e-09, 1.1324882507324218e-07, 1.0132789611816406e-07, 0.0, 3.337860107421875e-07, 1.609325408935547e-07, 1.4901161193847656e-07, 1.7881393432617188e-07, 3.0994415283203126e-07, 9.5367431640625e-08, 1.1920928955078126e-08, 1.728534698486328e-07, 1.0132789611816406e-07, 6.556510925292969e-08, 2.2053718566894532e-07, 2.5033950805664064e-07, 1.609325408935547e-07, 2.1457672119140626e-07, 1.7881393432617187e-08, 1.2516975402832032e-07, 2.086162567138672e-07, 9.5367431640625e-08, 1.0728836059570313e-07, 8.344650268554687e-08, 1.0132789611816406e-07, 9.5367431640625e-08, 1.4901161193847656e-07, 1.4901161193847656e-07, 4.1723251342773435e-08, 1.7881393432617187e-08, 1.7881393432617187e-08, 1.0132789611816406e-07, 8.940696716308594e-08, 1.1920928955078126e-08, 1.609325408935547e-07, 1.7881393432617187e-08, 2.384185791015625e-08, 0.0, 5.960464477539063e-08, 1.7881393432617187e-08, 5.960464477539063e-09, 8.344650268554687e-08, 2.384185791015625e-08, 1.7881393432617187e-08, 4.76837158203125e-08, 2.384185791015625e-08, 5.960464477539063e-09, 3.5762786865234374e-08, 1.7881393432617187e-08, 4.1723251342773435e-08, 2.384185791015625e-08, 1.7881393432617187e-08, 4.76837158203125e-08, 2.9802322387695312e-08, 1.0132789611816406e-07, 2.9802322387695312e-08, 3.5762786865234374e-08, 2.1457672119140626e-07, 1.3113021850585939e-07, 1.9073486328125e-07, 3.5762786865234374e-08, 6.556510925292969e-08, 1.9073486328125e-07, 2.9802322387695312e-08, 7.152557373046875e-08, 1.609325408935547e-07, 1.1324882507324218e-07, 9.5367431640625e-08, 2.5033950805664064e-07, 4.1723251342773435e-08, 2.9802322387695312e-08, 3.5762786865234374e-08, 3.5762786865234374e-08, 4.1723251342773435e-08, 2.1457672119140626e-07, 2.6226043701171877e-07, 1.4901161193847656e-07, 1.3709068298339843e-07, 4.1723251342773435e-08, 5.960464477539063e-08, 7.152557373046875e-08, 1.430511474609375e-07, 1.7881393432617187e-08, 1.7881393432617187e-08, 3.5762786865234374e-08, 1.7881393432617187e-08, 6.556510925292969e-08, 1.430511474609375e-07, 1.609325408935547e-07, 5.960464477539063e-08, 8.940696716308594e-08, 2.682209014892578e-07, 2.920627593994141e-07, 1.6689300537109374e-07, 5.960464477539063e-08, 4.1723251342773435e-08, 1.5497207641601563e-07, 5.3644180297851564e-08, 2.384185791015625e-08, 1.2516975402832032e-07, 1.1324882507324218e-07, 9.5367431640625e-08, 0.0, 1.7881393432617187e-08, 5.3644180297851564e-08, 4.76837158203125e-08, 7.152557373046875e-08, 5.3644180297851564e-08, 2.682209014892578e-07, 2.9802322387695312e-08, 2.1457672119140626e-07, 4.1723251342773435e-08, 2.9802322387695312e-08, 4.76837158203125e-08, 5.960464477539063e-08, 1.9073486328125e-07, 2.6226043701171877e-07, 1.1920928955078125e-07, 4.76837158203125e-08, 6.556510925292969e-08, 1.728534698486328e-07, 2.9802322387695312e-08, 5.3644180297851564e-08, 2.384185791015625e-08, 5.960464477539063e-08, 8.344650268554687e-08, 1.7881393432617187e-08, 8.940696716308594e-08, 5.960464477539063e-08, 6.556510925292969e-08, 1.1324882507324218e-07, 1.1920928955078126e-08, 1.1920928955078126e-08, 1.7881393432617187e-08, 1.0132789611816406e-07, 7.748603820800782e-08, 5.960464477539063e-09, 1.7881393432617187e-08, 1.1920928955078126e-08, 4.76837158203125e-08, 2.9802322387695312e-08, 5.960464477539063e-09, 5.960464477539063e-09, 3.5762786865234374e-08, 1.1920928955078126e-08, 0.0, 1.1920928955078126e-08, 5.3644180297851564e-08, 1.7881393432617187e-08, 1.0728836059570313e-07, 7.152557373046875e-08, 5.3644180297851564e-08, 1.2516975402832032e-07, 9.5367431640625e-08, 4.1723251342773435e-08, 1.1920928955078126e-08, 1.6689300537109374e-07, 4.76837158203125e-08, 1.1920928955078126e-08, 5.960464477539063e-08, 1.7881393432617188e-07, 5.960464477539063e-09, 1.1324882507324218e-07, 0.0, 7.152557373046875e-08, 3.5762786865234374e-08, 1.728534698486328e-07, 8.940696716308594e-08, 1.4901161193847656e-07, 1.3709068298339843e-07, 1.609325408935547e-07, 2.2649765014648436e-07, 5.960464477539063e-08, 2.384185791015625e-08, 2.1457672119140626e-07, 7.748603820800782e-08, 3.5762786865234374e-08, 1.1920928955078126e-08, 2.7418136596679685e-07, 5.960464477539063e-09, 8.344650268554687e-08, 1.0728836059570313e-07, 1.1324882507324218e-07, 1.728534698486328e-07, 1.8477439880371094e-07, 1.5497207641601563e-07, 1.430511474609375e-07, 6.556510925292969e-08, 2.6226043701171877e-07, 2.3245811462402343e-07, 8.940696716308594e-08, 1.1920928955078126e-08, 1.9073486328125e-07, 7.152557373046875e-08, 2.384185791015625e-08, 1.609325408935547e-07, 5.960464477539063e-09, 3.0994415283203126e-07, 5.960464477539063e-08, 8.344650268554687e-08, 5.3644180297851564e-08, 2.086162567138672e-07, 1.609325408935547e-07, 1.609325408935547e-07, 5.960464477539063e-09, 4.172325134277344e-07, 9.5367431640625e-08, 8.940696716308594e-08, 2.562999725341797e-07, 1.7881393432617188e-07, 1.6689300537109374e-07, 3.0994415283203126e-07, 5.960464477539063e-09, 1.3709068298339843e-07, 2.86102294921875e-07, 0.0, 3.5762786865234374e-08, 6.556510925292969e-08, 1.0132789611816406e-07, 1.1324882507324218e-07, 8.344650268554687e-08, 1.430511474609375e-07, 7.152557373046875e-08, 7.152557373046875e-08, 7.152557373046875e-08, 2.384185791015625e-08, 1.3113021850585939e-07, 5.3644180297851564e-08, 2.9802322387695312e-08, 5.960464477539063e-09, 1.1920928955078126e-08, 2.9802322387695312e-08, 1.1920928955078126e-08, 1.7881393432617187e-08, 5.3644180297851564e-08, 6.556510925292969e-08, 1.1920928955078126e-08, 7.748603820800782e-08, 1.7881393432617187e-08, 5.960464477539063e-09, 5.960464477539063e-09, 1.1920928955078126e-08, 0.0, 7.152557373046875e-08, 0.0, 1.7881393432617187e-08, 8.344650268554687e-08, 2.9802322387695312e-08, 3.5762786865234374e-08, 2.1457672119140626e-07, 2.384185791015625e-08, 1.0132789611816406e-07, 7.748603820800782e-08, 1.1920928955078125e-07, 2.9802322387695312e-08, 1.4901161193847656e-07, 8.940696716308594e-08, 2.384185791015625e-08, 1.1920928955078125e-07, 4.76837158203125e-08, 4.76837158203125e-08, 5.960464477539063e-09, 8.940696716308594e-08, 6.556510925292969e-08, 8.940696716308594e-08, 7.748603820800782e-08, 4.1723251342773435e-08, 8.940696716308594e-08, 3.5762786865234374e-08, 4.1723251342773435e-08, 6.556510925292969e-08, 1.7881393432617187e-08, 2.9802322387695312e-08, 1.1324882507324218e-07, 8.940696716308594e-08, 1.3709068298339843e-07, 1.430511474609375e-07, 2.682209014892578e-07, 5.3644180297851564e-08, 8.344650268554687e-08, 1.7881393432617187e-08, 1.5497207641601563e-07, 7.152557373046875e-08, 1.3113021850585939e-07, 2.6226043701171877e-07, 8.344650268554687e-08, 9.5367431640625e-08, 9.5367431640625e-08, 5.960464477539063e-08, 2.86102294921875e-07, 1.0728836059570313e-07, 5.960464477539063e-09, 4.7087669372558596e-07, 5.960464477539063e-09, 1.3709068298339843e-07, 1.6689300537109374e-07, 2.562999725341797e-07, 1.7881393432617188e-07, 7.152557373046875e-08, 4.76837158203125e-08, 9.5367431640625e-08, 1.1920928955078125e-07, 1.8477439880371094e-07, 2.2053718566894532e-07, 2.5033950805664064e-07, 2.0265579223632812e-07, 1.1920928955078125e-07, 1.1920928955078125e-07, 3.0994415283203126e-07, 1.4901161193847656e-07, 3.5762786865234374e-08, 5.960464477539063e-09, 4.1723251342773435e-08, 5.3644180297851564e-08, 2.3245811462402343e-07, 4.76837158203125e-08, 1.3113021850585939e-07, 1.0728836059570313e-07, 1.4901161193847656e-07, 1.0132789611816406e-07, 6.556510925292969e-08, 5.3644180297851564e-08, 8.940696716308594e-08, 4.1723251342773435e-08, 2.384185791015625e-08, 2.9802322387695312e-08, 1.7881393432617187e-08, 1.7881393432617187e-08, 0.0, 4.76837158203125e-08, 4.76837158203125e-08, 4.76837158203125e-08, 8.940696716308594e-08, 8.940696716308594e-08, 8.940696716308594e-08, 1.1920928955078126e-08, 1.1920928955078126e-08, 1.1920928955078126e-08, 0.0, 0.0, 1.1920928955078126e-08, 2.9802322387695312e-08, 2.384185791015625e-08, 1.1920928955078126e-08, 1.728534698486328e-07, 5.3644180297851564e-08, 6.556510925292969e-08, 7.748603820800782e-08, 8.344650268554687e-08, 6.556510925292969e-08, 8.940696716308594e-08, 5.3644180297851564e-08, 1.2516975402832032e-07, 7.152557373046875e-08, 1.0728836059570313e-07, 2.9802322387695312e-08, 1.1324882507324218e-07, 1.5497207641601563e-07, 1.1920928955078126e-08, 1.9073486328125e-07, 6.556510925292969e-08, 5.960464477539063e-09, 1.609325408935547e-07, 3.457069396972656e-07, 4.76837158203125e-08, 2.9802322387695312e-08, 1.8477439880371094e-07, 1.7881393432617188e-07, 1.0132789611816406e-07, 8.344650268554687e-08, 2.562999725341797e-07, 3.5762786865234374e-08, 2.3245811462402343e-07, 1.4901161193847656e-07, 2.9802322387695312e-08, 2.562999725341797e-07, 2.086162567138672e-07, 1.7881393432617187e-08, 1.728534698486328e-07, 1.2516975402832032e-07, 1.3113021850585939e-07, 7.152557373046875e-08, 1.2516975402832032e-07, 6.556510925292969e-08, 3.7550926208496093e-07, 3.5762786865234374e-08, 5.960464477539063e-09, 6.556510925292969e-08, 6.556510925292969e-08, 1.9073486328125e-07, 2.9802322387695312e-08, 1.0132789611816406e-07, 3.218650817871094e-07, 1.6689300537109374e-07, 1.3709068298339843e-07, 7.748603820800782e-08, 4.5299530029296873e-07, 2.2649765014648436e-07, 4.1723251342773435e-08, 1.3113021850585939e-07, 7.152557373046875e-08, 6.556510925292969e-08, 1.8477439880371094e-07, 2.086162567138672e-07, 1.728534698486328e-07, 2.384185791015625e-08, 0.0, 1.0728836059570313e-07, 8.940696716308594e-08, 2.086162567138672e-07, 7.152557373046875e-08, 9.5367431640625e-08, 2.0265579223632812e-07, 7.152557373046875e-08, 1.0132789611816406e-07, 1.0728836059570313e-07, 1.0132789611816406e-07, 1.7881393432617187e-08, 4.76837158203125e-08, 5.960464477539063e-08, 1.7881393432617187e-08, 1.1920928955078126e-08, 5.3644180297851564e-08, 5.3644180297851564e-08, 5.3644180297851564e-08, 4.1723251342773435e-08, 4.1723251342773435e-08, 4.1723251342773435e-08, 5.3644180297851564e-08, 5.3644180297851564e-08, 5.3644180297851564e-08, 5.960464477539063e-09, 5.960464477539063e-09, 5.960464477539063e-09, 1.1920928955078126e-08, 2.9802322387695312e-08, 7.152557373046875e-08, 2.384185791015625e-08, 8.940696716308594e-08, 7.748603820800782e-08, 5.960464477539063e-08, 2.384185791015625e-08, 1.430511474609375e-07, 6.556510925292969e-08, 7.748603820800782e-08, 1.3709068298339843e-07, 1.7881393432617187e-08, 1.0728836059570313e-07, 3.5762786865234374e-08, 6.556510925292969e-08, 9.5367431640625e-08, 1.7881393432617188e-07, 5.3644180297851564e-08, 1.1920928955078126e-08, 1.0132789611816406e-07, 1.0728836059570313e-07, 5.960464477539063e-09, 1.3709068298339843e-07, 1.5497207641601563e-07, 1.1920928955078126e-08, 2.9802322387695312e-08, 1.1324882507324218e-07, 2.384185791015625e-08, 7.748603820800782e-08, 1.3709068298339843e-07, 9.5367431640625e-08, 1.609325408935547e-07, 4.76837158203125e-08, 3.7550926208496093e-07, 9.5367431640625e-08, 2.384185791015625e-08, 2.2649765014648436e-07, 9.5367431640625e-08, 2.1457672119140626e-07, 5.960464477539063e-08, 1.7881393432617187e-08, 1.0132789611816406e-07, 3.516674041748047e-07, 1.9073486328125e-07, 3.5762786865234374e-08, 1.1324882507324218e-07, 1.5497207641601563e-07, 5.960464477539063e-09, 3.635883331298828e-07, 1.2516975402832032e-07, 1.0132789611816406e-07, 1.7881393432617188e-07, 3.457069396972656e-07, 5.3644180297851564e-08, 2.384185791015625e-08, 5.3644180297851564e-08, 7.152557373046875e-08, 1.9669532775878905e-07, 1.0132789611816406e-07, 7.152557373046875e-08, 5.3644180297851564e-08, 1.609325408935547e-07, 4.1723251342773435e-08, 1.7881393432617187e-08, 8.344650268554687e-08, 1.7881393432617187e-08, 1.0728836059570313e-07, 5.960464477539063e-09, 6.556510925292969e-08, 2.384185791015625e-08, 1.0132789611816406e-07, 5.3644180297851564e-08, 1.609325408935547e-07, 3.5762786865234374e-08, 1.0728836059570313e-07, 9.5367431640625e-08, 7.748603820800782e-08, 4.1723251342773435e-08, 1.0728836059570313e-07, 2.9802322387695312e-08, 7.748603820800782e-08, 3.5762786865234374e-08, 1.7881393432617187e-08, 5.3644180297851564e-08, 5.3644180297851564e-08, 5.3644180297851564e-08, 6.556510925292969e-08, 6.556510925292969e-08, 6.556510925292969e-08, 4.1723251342773435e-08, 4.1723251342773435e-08, 4.1723251342773435e-08, 2.9802322387695312e-08, 2.9802322387695312e-08, 2.9802322387695312e-08, 2.9802322387695312e-08, 5.960464477539063e-08, 5.960464477539063e-09, 4.1723251342773435e-08, 4.76837158203125e-08, 2.384185791015625e-08, 4.1723251342773435e-08, 2.384185791015625e-08, 8.940696716308594e-08, 2.9802322387695312e-08, 2.384185791015625e-08, 1.7881393432617187e-08, 9.5367431640625e-08, 4.1723251342773435e-08, 1.1920928955078126e-08, 8.940696716308594e-08, 2.6226043701171877e-07, 5.960464477539063e-09, 1.3113021850585939e-07, 2.7418136596679685e-07, 1.728534698486328e-07, 3.5762786865234374e-08, 6.556510925292969e-08, 1.2516975402832032e-07, 2.384185791015625e-08, 1.6689300537109374e-07, 6.556510925292969e-08, 1.7881393432617187e-08, 2.562999725341797e-07, 0.0, 7.748603820800782e-08, 1.9669532775878905e-07, 4.76837158203125e-08, 5.3644180297851564e-08, 5.960464477539063e-09, 4.3511390686035155e-07, 1.1920928955078126e-08, 2.384185791015625e-08, 1.1324882507324218e-07, 8.344650268554687e-08, 1.1324882507324218e-07, 1.0132789611816406e-07, 5.960464477539063e-08, 3.0994415283203126e-07, 1.9669532775878905e-07, 1.0728836059570313e-07, 5.960464477539063e-09, 1.6689300537109374e-07, 1.3113021850585939e-07, 6.556510925292969e-08, 1.1920928955078126e-08, 1.1324882507324218e-07, 7.748603820800782e-08, 8.344650268554687e-08, 1.7881393432617188e-07, 3.7550926208496093e-07, 5.3644180297851564e-08, 5.960464477539063e-08, 3.933906555175781e-07, 8.940696716308594e-08, 3.457069396972656e-07, 5.3644180297851564e-08, 7.152557373046875e-08, 1.1324882507324218e-07, 4.1723251342773435e-08, 1.3709068298339843e-07, 4.1723251342773435e-08, 1.430511474609375e-07, 1.3709068298339843e-07, 5.960464477539063e-09, 1.0132789611816406e-07, 7.748603820800782e-08, 5.3644180297851564e-08, 2.384185791015625e-08, 6.556510925292969e-08, 1.0728836059570313e-07, 4.1723251342773435e-08, 2.4437904357910154e-07, 1.1920928955078126e-08, 1.1920928955078126e-08, 5.3644180297851564e-08, 1.430511474609375e-07, 5.3644180297851564e-08, 4.1723251342773435e-08, 1.1920928955078126e-08, 1.1920928955078126e-08, 1.1920928955078126e-08, 0.0, 0.0, 0.0, 1.7881393432617187e-08, 1.7881393432617187e-08, 1.7881393432617187e-08, 3.5762786865234374e-08, 3.5762786865234374e-08, 3.5762786865234374e-08, 1.1920928955078126e-08, 1.1920928955078126e-08, 4.1723251342773435e-08, 4.76837158203125e-08, 7.748603820800782e-08, 4.1723251342773435e-08, 2.9802322387695312e-08, 1.430511474609375e-07, 1.1920928955078126e-08, 4.1723251342773435e-08, 5.3644180297851564e-08, 1.1920928955078126e-08, 8.940696716308594e-08, 2.1457672119140626e-07, 1.1920928955078126e-08, 1.9669532775878905e-07, 2.086162567138672e-07, 5.960464477539063e-08, 4.1723251342773435e-08, 5.960464477539063e-09, 1.4901161193847656e-07, 4.76837158203125e-08, 3.5762786865234374e-08, 5.960464477539063e-08, 1.5497207641601563e-07, 1.5497207641601563e-07, 1.5497207641601563e-07, 4.1723251342773435e-08, 4.1723251342773435e-08, 4.1723251342773435e-08, 8.940696716308594e-08, 5.960464477539063e-08, 3.5762786865234374e-08, 7.152557373046875e-08, 1.1920928955078125e-07, 1.1920928955078126e-08, 1.5497207641601563e-07, 1.1920928955078125e-07, 2.9802322387695312e-08, 1.728534698486328e-07, 2.5033950805664064e-07, 9.5367431640625e-08, 4.1723251342773435e-08, 3.218650817871094e-07, 2.2649765014648436e-07, 1.609325408935547e-07, 1.0132789611816406e-07, 2.6226043701171877e-07, 2.384185791015625e-07, 4.1723251342773435e-08, 2.384185791015625e-07, 5.3644180297851564e-08, 1.5497207641601563e-07, 1.1920928955078125e-07, 1.8477439880371094e-07, 9.5367431640625e-08, 1.7881393432617188e-07, 2.384185791015625e-08, 1.1324882507324218e-07, 4.76837158203125e-08, 5.960464477539063e-09, 2.384185791015625e-08, 2.384185791015625e-08, 0.0, 0.0, 2.86102294921875e-07, 3.5762786865234374e-08, 1.0132789611816406e-07, 1.2516975402832032e-07, 1.3709068298339843e-07, 7.748603820800782e-08, 2.384185791015625e-08, 1.7881393432617187e-08, 1.3709068298339843e-07, 1.430511474609375e-07, 5.960464477539063e-09, 2.384185791015625e-08, 1.0728836059570313e-07, 4.1723251342773435e-08, 5.960464477539063e-08, 1.1920928955078126e-08, 8.344650268554687e-08, 2.9802322387695312e-08, 7.748603820800782e-08, 1.7881393432617187e-08, 1.7881393432617187e-08, 1.7881393432617187e-08, 4.1723251342773435e-08, 4.1723251342773435e-08, 4.1723251342773435e-08, 2.9802322387695312e-08, 2.9802322387695312e-08, 2.9802322387695312e-08, 5.960464477539063e-09, 5.960464477539063e-09, 5.960464477539063e-09, 5.960464477539063e-09, 8.940696716308594e-08, 0.0, 4.76837158203125e-08, 3.5762786865234374e-08, 3.5762786865234374e-08, 1.1920928955078126e-08, 1.1920928955078126e-08, 1.1920928955078126e-08, 4.76837158203125e-08, 4.76837158203125e-08, 4.76837158203125e-08, 5.960464477539063e-09, 5.960464477539063e-09, 5.960464477539063e-09, 4.76837158203125e-08, 4.76837158203125e-08, 4.76837158203125e-08, 5.960464477539063e-08, 5.960464477539063e-08, 5.960464477539063e-08, 3.5762786865234374e-08, 3.5762786865234374e-08, 3.5762786865234374e-08, 1.0728836059570313e-07, 1.0728836059570313e-07, 1.0728836059570313e-07, 2.384185791015625e-08, 2.384185791015625e-08, 2.384185791015625e-08, 5.960464477539063e-09, 0.0, 6.556510925292969e-08, 2.384185791015625e-08, 1.1324882507324218e-07, 5.960464477539063e-08, 2.1457672119140626e-07, 1.0132789611816406e-07, 1.8477439880371094e-07, 3.5762786865234374e-08, 2.384185791015625e-08, 3.218650817871094e-07, 2.9802322387695312e-08, 8.344650268554687e-08, 1.5497207641601563e-07, 1.3113021850585939e-07, 2.562999725341797e-07, 1.3709068298339843e-07, 1.7881393432617188e-07, 7.748603820800782e-08, 3.7550926208496093e-07, 1.7881393432617187e-08, 2.6226043701171877e-07, 3.5762786865234374e-08, 5.3644180297851564e-08, 5.3644180297851564e-08, 1.2516975402832032e-07, 5.960464477539063e-08, 4.76837158203125e-08, 5.960464477539063e-08, 0.0, 1.609325408935547e-07, 2.2649765014648436e-07, 7.748603820800782e-08, 2.9802322387695312e-08, 5.3644180297851564e-08, 6.556510925292969e-08, 1.1920928955078125e-07, 4.76837158203125e-08, 4.1723251342773435e-08, 0.0, 1.7881393432617187e-08, 2.384185791015625e-08, 7.152557373046875e-08, 1.3113021850585939e-07, 9.5367431640625e-08, 4.76837158203125e-08, 7.152557373046875e-08, 3.5762786865234374e-08, 1.3113021850585939e-07, 5.960464477539063e-09, 1.7881393432617187e-08, 1.7881393432617187e-08, 2.384185791015625e-08, 1.7881393432617187e-08, 1.7881393432617187e-08, 1.7881393432617187e-08, 6.556510925292969e-08, 6.556510925292969e-08, 6.556510925292969e-08, 3.5762786865234374e-08, 3.5762786865234374e-08, 3.5762786865234374e-08, 5.960464477539063e-09, 5.960464477539063e-09, 5.960464477539063e-09, 1.7881393432617187e-08, 1.7881393432617187e-08, 1.7881393432617187e-08, 5.960464477539063e-09, 5.960464477539063e-09, 5.960464477539063e-09, 5.960464477539063e-09, 5.960464477539063e-09, 5.960464477539063e-09, 1.7881393432617187e-08, 1.7881393432617187e-08, 1.7881393432617187e-08, 1.7881393432617187e-08, 1.7881393432617187e-08, 1.7881393432617187e-08, 2.384185791015625e-08, 2.384185791015625e-08, 2.384185791015625e-08, 3.5762786865234374e-08, 3.5762786865234374e-08, 3.5762786865234374e-08, 5.960464477539063e-08, 5.960464477539063e-08, 5.960464477539063e-08, 1.7881393432617187e-08, 1.7881393432617187e-08, 1.7881393432617187e-08, 2.9802322387695312e-08, 2.9802322387695312e-08, 2.9802322387695312e-08, 1.1324882507324218e-07, 6.556510925292969e-08, 3.337860107421875e-07, 2.3245811462402343e-07, 2.384185791015625e-08, 4.1723251342773435e-08, 2.4437904357910154e-07, 5.960464477539063e-09, 4.1723251342773435e-08, 4.3511390686035155e-07, 7.152557373046875e-08, 7.152557373046875e-08, 1.8477439880371094e-07, 1.1920928955078126e-08, 2.384185791015625e-08, 1.3113021850585939e-07, 2.562999725341797e-07, 1.1920928955078125e-07, 1.1920928955078126e-08, 2.2649765014648436e-07, 5.960464477539063e-09, 1.5497207641601563e-07, 8.344650268554687e-08, 1.2516975402832032e-07, 1.1920928955078125e-07, 3.635883331298828e-07, 1.7881393432617187e-08, 1.2516975402832032e-07, 4.1723251342773435e-08, 1.3113021850585939e-07, 4.1723251342773435e-08, 5.960464477539063e-08, 5.3644180297851564e-08, 5.960464477539063e-09, 1.1920928955078125e-07, 3.5762786865234374e-08, 1.430511474609375e-07, 1.0132789611816406e-07, 4.1723251342773435e-08, 1.7881393432617187e-08, 8.940696716308594e-08, 5.3644180297851564e-08, 4.76837158203125e-08, 9.5367431640625e-08, 0.0, 1.7881393432617187e-08, 1.4901161193847656e-07, 5.3644180297851564e-08, 7.748603820800782e-08, 1.5497207641601563e-07, 4.76837158203125e-08, 0.0, 3.5762786865234374e-08, 4.1723251342773435e-08, 1.7881393432617187e-08, 1.7881393432617187e-08, 1.7881393432617187e-08, 4.1723251342773435e-08, 4.1723251342773435e-08, 4.1723251342773435e-08, 4.1723251342773435e-08, 4.1723251342773435e-08, 4.1723251342773435e-08, 1.7881393432617187e-08, 1.7881393432617187e-08, 1.7881393432617187e-08, 4.76837158203125e-08, 4.76837158203125e-08, 4.76837158203125e-08, 2.384185791015625e-08, 2.384185791015625e-08, 5.3644180297851564e-08, 1.1920928955078126e-08, 1.1920928955078126e-08, 2.384185791015625e-08, 4.76837158203125e-08, 4.76837158203125e-08, 4.76837158203125e-08, 2.384185791015625e-08, 2.384185791015625e-08, 2.384185791015625e-08, 2.384185791015625e-08, 2.384185791015625e-08, 2.384185791015625e-08, 1.1920928955078126e-08, 1.1920928955078126e-08, 1.1920928955078126e-08, 0.0, 0.0, 0.0, 1.430511474609375e-07, 1.430511474609375e-07, 1.430511474609375e-07, 4.1723251342773435e-08, 4.1723251342773435e-08, 4.1723251342773435e-08, 1.3709068298339843e-07, 1.6689300537109374e-07, 2.920627593994141e-07, 1.7881393432617188e-07, 1.1324882507324218e-07, 1.8477439880371094e-07, 4.4107437133789065e-07, 1.609325408935547e-07, 1.8477439880371094e-07, 2.4437904357910154e-07, 1.0132789611816406e-07, 1.1324882507324218e-07, 3.993511199951172e-07, 8.940696716308594e-08, 4.76837158203125e-08, 2.2649765014648436e-07, 5.3644180297851564e-08, 2.1457672119140626e-07, 1.728534698486328e-07, 1.728534698486328e-07, 1.9073486328125e-07, 2.980232238769531e-07, 1.3113021850585939e-07, 2.384185791015625e-08, 8.344650268554687e-08, 2.3245811462402343e-07, 5.960464477539063e-08, 2.9802322387695312e-08, 1.1324882507324218e-07, 1.1324882507324218e-07, 3.5762786865234374e-08, 1.1920928955078126e-08, 4.76837158203125e-08, 1.728534698486328e-07, 1.1920928955078125e-07, 2.9802322387695312e-08, 5.960464477539063e-08, 1.0728836059570313e-07, 5.960464477539063e-08, 7.152557373046875e-08, 5.960464477539063e-09, 7.748603820800782e-08, 4.76837158203125e-08, 1.7881393432617187e-08, 8.344650268554687e-08, 2.384185791015625e-08, 1.0728836059570313e-07, 3.5762786865234374e-08, 5.3644180297851564e-08, 5.3644180297851564e-08, 5.3644180297851564e-08, 1.1920928955078126e-08, 1.1920928955078126e-08, 1.1920928955078126e-08, 6.556510925292969e-08, 2.384185791015625e-08, 1.0132789611816406e-07, 5.3644180297851564e-08, 5.3644180297851564e-08, 5.3644180297851564e-08, 5.960464477539063e-08, 5.960464477539063e-08, 5.960464477539063e-08, 4.76837158203125e-08, 4.76837158203125e-08, 4.76837158203125e-08, 1.7881393432617187e-08, 1.7881393432617187e-08, 2.384185791015625e-08, 4.1723251342773435e-08, 4.1723251342773435e-08, 1.1920928955078126e-08, 1.1920928955078126e-08, 1.1920928955078126e-08, 1.7881393432617187e-08, 5.3644180297851564e-08, 5.3644180297851564e-08, 0.0, 2.384185791015625e-08, 2.384185791015625e-08, 2.384185791015625e-08, 5.960464477539063e-09, 5.960464477539063e-09, 5.960464477539063e-09, 9.5367431640625e-08, 9.5367431640625e-08, 9.5367431640625e-08, 9.5367431640625e-08, 9.5367431640625e-08, 9.5367431640625e-08, 1.1920928955078125e-07, 1.1920928955078125e-07, 1.1920928955078125e-07, 2.384185791015625e-08, 2.384185791015625e-08, 2.384185791015625e-08, 1.7881393432617188e-07, 2.920627593994141e-07, 2.6226043701171877e-07, 1.1920928955078125e-07, 3.3974647521972657e-07, 2.2053718566894532e-07, 2.384185791015625e-07, 1.3113021850585939e-07, 4.1723251342773435e-08, 2.2649765014648436e-07, 0.0, 1.7881393432617188e-07, 1.609325408935547e-07, 1.1920928955078126e-08, 1.5497207641601563e-07, 1.609325408935547e-07, 2.2649765014648436e-07, 2.9802322387695312e-08, 1.0728836059570313e-07, 1.0132789611816406e-07, 2.980232238769531e-07, 1.0132789611816406e-07, 2.2649765014648436e-07, 1.1324882507324218e-07, 3.993511199951172e-07, 1.9073486328125e-07, 3.7550926208496093e-07, 1.609325408935547e-07, 1.5497207641601563e-07, 1.9669532775878905e-07, 2.682209014892578e-07, 7.152557373046875e-08, 3.5762786865234374e-08, 1.1324882507324218e-07, 2.4437904357910154e-07, 2.9802322387695312e-08, 1.1324882507324218e-07, 7.152557373046875e-08, 7.748603820800782e-08, 1.0132789611816406e-07, 1.2516975402832032e-07, 5.960464477539063e-08, 3.5762786865234374e-08, 8.344650268554687e-08, 5.960464477539063e-08, 3.5762786865234374e-08, 5.960464477539063e-09, 3.5762786865234374e-08, 4.1723251342773435e-08, 1.1920928955078125e-07, 5.3644180297851564e-08, 4.1723251342773435e-08, 1.1920928955078126e-08, 1.1920928955078126e-08, 2.9802322387695312e-08, 5.960464477539063e-09, 5.960464477539063e-09, 5.960464477539063e-09, 5.960464477539063e-09, 5.960464477539063e-09, 1.1920928955078126e-08, 1.1920928955078126e-08, 1.1920928955078126e-08, 4.1723251342773435e-08, 4.1723251342773435e-08, 4.1723251342773435e-08, 0.0, 0.0, 0.0, 5.960464477539063e-09, 5.960464477539063e-09, 5.960464477539063e-09, 5.960464477539063e-09, 5.960464477539063e-09, 5.960464477539063e-09, 5.960464477539063e-09, 5.960464477539063e-09, 5.960464477539063e-09, 2.9802322387695312e-08, 2.9802322387695312e-08, 2.9802322387695312e-08, 1.7881393432617187e-08, 1.7881393432617187e-08, 1.7881393432617187e-08, 5.960464477539063e-09, 5.960464477539063e-09, 5.960464477539063e-09, 4.1723251342773435e-08, 4.1723251342773435e-08, 4.1723251342773435e-08, 5.960464477539063e-09, 5.960464477539063e-09, 5.960464477539063e-09, 1.6689300537109374e-07, 1.6689300537109374e-07, 1.6689300537109374e-07, 7.748603820800782e-08, 8.344650268554687e-08, 5.960464477539063e-08, 2.562999725341797e-07, 7.152557373046875e-08, 5.960464477539063e-08, 1.7881393432617188e-07, 9.5367431640625e-08, 2.6226043701171877e-07, 1.728534698486328e-07, 2.0265579223632812e-07, 1.0132789611816406e-07, 3.635883331298828e-07, 8.940696716308594e-08, 1.4901161193847656e-07, 0.0, 2.086162567138672e-07, 5.3644180297851564e-08, 1.1920928955078125e-07, 4.76837158203125e-08, 8.940696716308594e-08, 1.4901161193847656e-07, 8.940696716308594e-08, 2.920627593994141e-07, 2.384185791015625e-08, 7.748603820800782e-08, 1.0728836059570313e-07, 5.960464477539063e-08, 8.344650268554687e-08, 2.9802322387695312e-08, 2.9802322387695312e-08, 1.6689300537109374e-07, 9.5367431640625e-08, 8.344650268554687e-08, 1.1920928955078125e-07, 4.76837158203125e-08, 7.748603820800782e-08, 1.0728836059570313e-07, 0.0, 1.7881393432617187e-08, 7.152557373046875e-08, 8.940696716308594e-08, 2.384185791015625e-08, 5.960464477539063e-09, 5.960464477539063e-09, 8.940696716308594e-08, 0.0, 7.152557373046875e-08, 1.7881393432617187e-08, 5.960464477539063e-09, 5.960464477539063e-09, 5.3644180297851564e-08, 8.940696716308594e-08, 8.940696716308594e-08, 7.152557373046875e-08, 4.1723251342773435e-08, 4.1723251342773435e-08, 5.960464477539063e-09, 1.7881393432617187e-08, 1.7881393432617187e-08, 5.960464477539063e-09, 5.960464477539063e-09, 5.960464477539063e-09, 1.7881393432617187e-08, 1.7881393432617187e-08, 1.7881393432617187e-08, 5.960464477539063e-09, 5.960464477539063e-09, 5.960464477539063e-09, 0.0, 0.0, 0.0, 5.960464477539063e-09, 5.960464477539063e-09, 5.960464477539063e-09, 4.76837158203125e-08, 4.76837158203125e-08, 4.76837158203125e-08, 5.960464477539063e-09, 5.960464477539063e-09, 5.960464477539063e-09, 5.3644180297851564e-08, 5.3644180297851564e-08, 5.3644180297851564e-08, 3.5762786865234374e-08, 3.5762786865234374e-08, 3.5762786865234374e-08, 8.940696716308594e-08, 8.940696716308594e-08, 8.940696716308594e-08, 7.152557373046875e-08, 7.152557373046875e-08, 7.152557373046875e-08, 2.2053718566894532e-07, 4.5299530029296873e-07, 2.920627593994141e-07, 1.3709068298339843e-07, 1.728534698486328e-07, 4.76837158203125e-07, 3.516674041748047e-07, 0.0, 2.3245811462402343e-07, 2.9802322387695312e-08, 1.9669532775878905e-07, 4.76837158203125e-08, 7.748603820800782e-08, 3.218650817871094e-07, 8.940696716308594e-08, 2.2649765014648436e-07, 1.1920928955078126e-08, 7.152557373046875e-08, 2.980232238769531e-07, 3.5762786865234374e-08, 7.748603820800782e-08, 4.76837158203125e-08, 1.3113021850585939e-07, 2.8014183044433595e-07, 1.4901161193847656e-07, 1.0728836059570313e-07, 2.86102294921875e-07, 2.6226043701171877e-07, 1.1920928955078125e-07, 5.960464477539063e-09, 2.920627593994141e-07, 2.086162567138672e-07, 5.3644180297851564e-08, 8.940696716308594e-08, 1.8477439880371094e-07, 1.1920928955078125e-07, 2.6226043701171877e-07, 1.2516975402832032e-07, 1.6689300537109374e-07, 1.2516975402832032e-07, 1.609325408935547e-07, 2.384185791015625e-08, 2.0265579223632812e-07, 5.960464477539063e-08, 5.960464477539063e-08, 1.0132789611816406e-07, 1.1920928955078126e-08, 1.7881393432617187e-08, 0.0, 1.1920928955078126e-08, 7.748603820800782e-08, 6.556510925292969e-08, 1.1920928955078126e-08, 1.1920928955078126e-08, 1.1920928955078126e-08, 2.9802322387695312e-08, 2.9802322387695312e-08, 5.960464477539063e-09, 6.556510925292969e-08, 6.556510925292969e-08, 0.0, 4.1723251342773435e-08, 4.1723251342773435e-08, 2.9802322387695312e-08, 4.1723251342773435e-08, 4.1723251342773435e-08, 2.384185791015625e-08, 5.960464477539063e-09, 5.960464477539063e-09, 1.1920928955078126e-08, 1.1920928955078126e-08, 1.1920928955078126e-08, 5.960464477539063e-09, 5.960464477539063e-09, 5.960464477539063e-09, 5.960464477539063e-09, 5.960464477539063e-09, 5.960464477539063e-09, 5.960464477539063e-09, 5.960464477539063e-09, 5.960464477539063e-09, 5.960464477539063e-09, 5.960464477539063e-09, 5.960464477539063e-09, 3.5762786865234374e-08, 3.5762786865234374e-08, 3.5762786865234374e-08, 5.960464477539063e-08, 5.960464477539063e-08, 5.960464477539063e-08, 3.5762786865234374e-08, 3.5762786865234374e-08, 3.5762786865234374e-08, 1.0132789611816406e-07, 1.0132789611816406e-07, 1.0132789611816406e-07, 3.5762786865234374e-08, 1.6689300537109374e-07, 2.2053718566894532e-07, 3.0994415283203126e-07, 6.556510925292969e-08, 2.562999725341797e-07, 4.231929779052734e-07, 3.457069396972656e-07, 9.5367431640625e-08, 2.0265579223632812e-07, 4.1723251342773435e-08, 2.7418136596679685e-07, 5.960464477539063e-09, 1.609325408935547e-07, 1.1920928955078126e-08, 6.556510925292969e-08, 2.384185791015625e-08, 3.5762786865234374e-08, 5.960464477539063e-08, 3.0398368835449217e-07, 6.556510925292969e-08, 5.3644180297851564e-08, 1.1920928955078125e-07, 3.814697265625e-07, 1.2516975402832032e-07, 5.3644180297851564e-08, 9.5367431640625e-08, 1.1920928955078125e-07, 3.5762786865234375e-07, 1.9669532775878905e-07, 1.7881393432617188e-07, 2.2053718566894532e-07, 2.8014183044433595e-07, 1.9669532775878905e-07, 2.86102294921875e-07, 2.384185791015625e-08, 2.0265579223632812e-07, 2.0265579223632812e-07, 1.6689300537109374e-07, 1.6689300537109374e-07, 1.6689300537109374e-07, 8.940696716308594e-08, 1.4901161193847656e-07, 1.2516975402832032e-07, 1.3113021850585939e-07, 2.384185791015625e-08, 1.0132789611816406e-07, 1.9073486328125e-07, 2.384185791015625e-08, 0.0, 7.152557373046875e-08, 5.960464477539063e-08, 2.384185791015625e-08, 2.384185791015625e-08, 3.5762786865234374e-08, 5.960464477539063e-09, 5.960464477539063e-09, 5.3644180297851564e-08, 5.3644180297851564e-08, 5.3644180297851564e-08, 0.0, 5.960464477539063e-09, 5.960464477539063e-09, 5.960464477539063e-09, 1.1920928955078126e-08, 1.1920928955078126e-08, 1.7881393432617187e-08, 5.960464477539063e-09, 5.960464477539063e-09, 1.1920928955078126e-08, 0.0, 0.0, 5.960464477539063e-09, 2.384185791015625e-08, 2.384185791015625e-08, 5.960464477539063e-09, 5.960464477539063e-09, 0.0, 2.384185791015625e-08, 2.384185791015625e-08, 1.7881393432617187e-08, 1.7881393432617187e-08, 1.7881393432617187e-08, 5.960464477539063e-09, 2.9802322387695312e-08, 2.9802322387695312e-08, 5.3644180297851564e-08, 7.152557373046875e-08, 7.152557373046875e-08, 6.556510925292969e-08, 1.7881393432617187e-08, 1.7881393432617187e-08, 1.430511474609375e-07, 5.960464477539063e-08, 3.159046173095703e-07, 1.430511474609375e-07, 1.0132789611816406e-07, 1.4901161193847656e-07, 2.384185791015625e-07, 2.3245811462402343e-07, 2.562999725341797e-07, 2.86102294921875e-07, 1.0132789611816406e-07, 2.980232238769531e-07, 6.556510925292969e-08, 3.218650817871094e-07, 2.3245811462402343e-07, 4.887580871582031e-07, 2.4437904357910154e-07, 4.82797622680664e-07, 6.079673767089843e-07, 0.0, 4.0531158447265624e-07, 1.2516975402832032e-07, 1.2516975402832032e-07, 3.7550926208496093e-07, 5.841255187988282e-07, 1.728534698486328e-07, 3.218650817871094e-07, 1.9669532775878905e-07, 5.3644180297851564e-08, 5.960464477539063e-09, 1.1324882507324218e-07, 1.3113021850585939e-07, 2.3245811462402343e-07, 5.3644180297851564e-08, 1.0132789611816406e-07, 1.7881393432617187e-08, 2.384185791015625e-08, 3.7550926208496093e-07, 9.5367431640625e-08, 1.3113021850585939e-07, 2.8014183044433595e-07, 2.4437904357910154e-07, 1.1920928955078126e-08, 4.76837158203125e-08, 1.9669532775878905e-07, 2.384185791015625e-08, 7.748603820800782e-08, 4.76837158203125e-08, 1.0728836059570313e-07, 7.152557373046875e-08, 4.76837158203125e-08, 7.748603820800782e-08, 6.556510925292969e-08, 5.3644180297851564e-08, 2.384185791015625e-08, 9.5367431640625e-08, 3.5762786865234374e-08, 9.5367431640625e-08, 3.5762786865234374e-08, 4.76837158203125e-08, 4.76837158203125e-08, 0.0, 5.960464477539063e-09, 5.960464477539063e-09, 0.0, 0.0, 0.0, 1.7881393432617187e-08, 0.0, 0.0, 5.960464477539063e-09, 0.0, 0.0, 5.960464477539063e-09, 4.1723251342773435e-08, 0.0, 2.384185791015625e-08, 5.960464477539063e-09, 1.1920928955078126e-08, 1.7881393432617187e-08, 1.1920928955078126e-08, 6.556510925292969e-08, 0.0, 0.0, 1.1920928955078126e-08, 9.5367431640625e-08, 6.556510925292969e-08, 1.0728836059570313e-07, 4.1723251342773435e-08, 5.3644180297851564e-08, 1.7881393432617187e-08, 5.960464477539063e-08, 4.76837158203125e-08, 1.2516975402832032e-07, 6.556510925292969e-08, 1.1324882507324218e-07, 3.337860107421875e-07, 4.1723251342773435e-08, 3.814697265625e-07, 2.8014183044433595e-07, 4.76837158203125e-08, 1.8477439880371094e-07, 3.5762786865234375e-07, 5.960464477539063e-08, 4.470348358154297e-07, 4.470348358154297e-07, 4.1723251342773435e-08, 1.0132789611816406e-07, 2.682209014892578e-07, 7.748603820800782e-08, 5.960464477539063e-08, 1.1920928955078126e-08, 1.4901161193847656e-07, 1.6689300537109374e-07, 5.960464477539063e-08, 4.7087669372558596e-07, 4.82797622680664e-07, 5.960464477539063e-09, 3.695487976074219e-07, 1.3113021850585939e-07, 5.066394805908203e-07, 9.5367431640625e-08, 1.0132789611816406e-07, 8.940696716308594e-08, 5.3644180297851564e-08, 1.7881393432617187e-08, 3.2782554626464844e-07, 2.384185791015625e-07, 1.1920928955078126e-08, 5.006790161132813e-07, 2.5033950805664064e-07, 8.344650268554687e-08, 2.2053718566894532e-07, 1.7881393432617187e-08, 8.344650268554687e-08, 7.748603820800782e-08, 2.980232238769531e-07, 2.2053718566894532e-07, 1.1920928955078126e-08, 2.8014183044433595e-07, 8.940696716308594e-08, 1.1920928955078125e-07, 2.86102294921875e-07, 2.682209014892578e-07, 8.344650268554687e-08, 7.152557373046875e-08, 7.152557373046875e-08, 1.1920928955078125e-07, 1.1920928955078126e-08, 1.3709068298339843e-07, 2.9802322387695312e-08, 2.9802322387695312e-08, 6.556510925292969e-08, 5.960464477539063e-08, 5.3644180297851564e-08, 2.384185791015625e-08, 1.1920928955078126e-08, 2.384185791015625e-08, 5.3644180297851564e-08, 5.3644180297851564e-08, 1.1920928955078126e-08, 1.1920928955078126e-08, 1.1920928955078126e-08, 4.76837158203125e-08, 2.384185791015625e-08, 3.5762786865234374e-08, 5.960464477539063e-09, 1.1920928955078126e-08, 1.1920928955078126e-08, 1.1920928955078126e-08, 4.1723251342773435e-08, 2.384185791015625e-08, 0.0, 5.960464477539063e-09, 1.1920928955078126e-08, 0.0, 2.384185791015625e-08, 2.384185791015625e-08, 4.1723251342773435e-08, 5.960464477539063e-09, 5.960464477539063e-09, 8.344650268554687e-08, 2.9802322387695312e-08, 2.9802322387695312e-08, 1.1920928955078126e-08, 2.9802322387695312e-08, 1.1920928955078125e-07, 7.152557373046875e-08, 1.609325408935547e-07, 1.3709068298339843e-07, 3.5762786865234374e-08, 1.5497207641601563e-07, 2.3245811462402343e-07, 1.3113021850585939e-07, 2.1457672119140626e-07, 4.76837158203125e-08, 5.960464477539063e-09, 2.086162567138672e-07, 2.2053718566894532e-07, 3.516674041748047e-07, 1.8477439880371094e-07, 5.960464477539063e-09, 1.0132789611816406e-07, 4.1127204895019533e-07, 1.0728836059570313e-07, 7.152557373046875e-08, 2.1457672119140626e-07, 1.7881393432617188e-07, 1.7881393432617188e-07, 1.1324882507324218e-07, 5.960464477539063e-08, 1.1920928955078126e-08, 1.5497207641601563e-07, 2.562999725341797e-07, 2.0265579223632812e-07, 3.516674041748047e-07, 3.5762786865234374e-08, 1.2516975402832032e-07, 4.76837158203125e-08, 2.384185791015625e-08, 1.1920928955078125e-07, 1.7881393432617187e-08, 1.5497207641601563e-07, 2.6226043701171877e-07, 3.218650817871094e-07, 5.662441253662109e-07, 8.344650268554687e-08, 4.589557647705078e-07, 2.4437904357910154e-07, 5.3644180297851564e-08, 3.2782554626464844e-07, 3.5762786865234375e-07, 1.2516975402832032e-07, 4.76837158203125e-08, 1.1920928955078126e-08, 6.556510925292969e-08, 9.5367431640625e-08, 2.2649765014648436e-07, 3.5762786865234374e-08, 5.960464477539063e-09, 1.9669532775878905e-07, 5.960464477539063e-09, 4.76837158203125e-08, 4.1723251342773435e-08, 2.4437904357910154e-07, 2.4437904357910154e-07, 2.384185791015625e-08, 7.748603820800782e-08, 8.940696716308594e-08, 6.556510925292969e-08, 1.1920928955078126e-08, 1.1920928955078126e-08, 8.344650268554687e-08, 1.7881393432617187e-08, 1.7881393432617187e-08, 7.748603820800782e-08, 1.1324882507324218e-07, 1.7881393432617187e-08, 3.5762786865234374e-08, 4.1723251342773435e-08, 0.0, 3.5762786865234374e-08, 1.1920928955078126e-08, 1.1920928955078126e-08, 5.960464477539063e-09, 5.960464477539063e-09, 5.3644180297851564e-08, 5.960464477539063e-09, 0.0, 1.1920928955078126e-08, 2.384185791015625e-08, 2.9802322387695312e-08, 7.152557373046875e-08, 4.76837158203125e-08, 2.9802322387695312e-08, 5.3644180297851564e-08, 1.7881393432617187e-08, 4.76837158203125e-08, 1.7881393432617187e-08, 5.960464477539063e-09, 2.384185791015625e-08, 1.2516975402832032e-07, 1.1920928955078126e-08, 1.7881393432617187e-08, 5.3644180297851564e-08, 8.344650268554687e-08, 8.940696716308594e-08, 1.0728836059570313e-07, 1.728534698486328e-07, 1.6689300537109374e-07, 2.4437904357910154e-07, 1.0728836059570313e-07, 8.344650268554687e-08, 2.7418136596679685e-07, 2.4437904357910154e-07, 4.1723251342773435e-08, 8.344650268554687e-08, 5.3644180297851564e-08, 5.960464477539063e-09, 2.86102294921875e-07, 4.947185516357422e-07, 2.980232238769531e-07, 1.7881393432617187e-08, 1.7881393432617187e-08, 3.5762786865234374e-08, 2.384185791015625e-08, 0.0, 8.940696716308594e-08, 2.0265579223632812e-07, 4.1723251342773435e-08, 7.748603820800782e-08, 1.1920928955078126e-08, 1.1920928955078126e-08, 1.1920928955078126e-08, 2.5033950805664064e-07, 2.2053718566894532e-07, 1.0132789611816406e-07, 2.384185791015625e-07, 2.384185791015625e-07, 4.3511390686035155e-07, 8.344650268554687e-08, 1.609325408935547e-07, 3.457069396972656e-07, 1.9669532775878905e-07, 2.384185791015625e-08, 1.0728836059570313e-07, 1.9669532775878905e-07, 1.0728836059570313e-07, 2.562999725341797e-07, 1.2516975402832032e-07, 1.609325408935547e-07, 2.0265579223632812e-07, 2.1457672119140626e-07, 1.3113021850585939e-07, 1.9073486328125e-07, 0.0, 1.7881393432617188e-07, 1.3113021850585939e-07, 1.1920928955078125e-07, 5.960464477539063e-09, 5.960464477539063e-08, 2.2053718566894532e-07, 8.344650268554687e-08, 2.3245811462402343e-07, 5.960464477539063e-09, 4.1723251342773435e-08, 5.960464477539063e-08, 5.960464477539063e-09, 1.0132789611816406e-07, 1.0728836059570313e-07, 2.9802322387695312e-08, 2.384185791015625e-08, 5.960464477539063e-09, 1.7881393432617187e-08, 2.9802322387695312e-08, 5.960464477539063e-08, 2.9802322387695312e-08, 2.384185791015625e-08, 5.960464477539063e-09, 1.1920928955078126e-08, 0.0, 2.384185791015625e-08, 5.960464477539063e-09, 5.960464477539063e-09, 1.1920928955078126e-08, 1.7881393432617187e-08, 2.9802322387695312e-08, 5.960464477539063e-09, 4.1723251342773435e-08, 5.960464477539063e-09, 2.384185791015625e-08, 5.960464477539063e-09, 2.9802322387695312e-08, 1.7881393432617187e-08, 4.1723251342773435e-08, 3.5762786865234374e-08, 2.384185791015625e-08, 0.0, 2.384185791015625e-08, 4.76837158203125e-08, 1.0132789611816406e-07, 1.1920928955078125e-07, 5.960464477539063e-09, 1.1920928955078126e-08, 1.1920928955078126e-08, 9.5367431640625e-08, 4.76837158203125e-08, 1.7881393432617187e-08, 1.2516975402832032e-07, 7.152557373046875e-08, 4.1723251342773435e-08, 1.5497207641601563e-07, 1.0132789611816406e-07, 8.344650268554687e-08, 4.76837158203125e-08, 7.152557373046875e-08, 1.1920928955078125e-07, 3.0398368835449217e-07, 3.993511199951172e-07, 1.5497207641601563e-07, 1.4901161193847656e-07, 9.5367431640625e-08, 0.0, 2.920627593994141e-07, 4.76837158203125e-08, 4.76837158203125e-08, 1.1920928955078126e-08, 1.7881393432617188e-07, 1.0132789611816406e-07, 7.748603820800782e-08, 1.8477439880371094e-07, 1.8477439880371094e-07, 2.86102294921875e-07, 2.8014183044433595e-07, 3.218650817871094e-07, 7.748603820800782e-08, 3.337860107421875e-07, 2.2649765014648436e-07, 2.2649765014648436e-07, 5.960464477539063e-08, 5.3644180297851564e-08, 5.960464477539063e-08, 3.0398368835449217e-07, 1.2516975402832032e-07, 3.5762786865234375e-07, 1.609325408935547e-07, 4.1127204895019533e-07, 5.960464477539063e-09, 2.0265579223632812e-07, 5.960464477539063e-09, 1.6689300537109374e-07, 2.980232238769531e-07, 2.980232238769531e-07, 1.430511474609375e-07, 5.960464477539063e-09, 1.9073486328125e-07, 1.2516975402832032e-07, 7.152557373046875e-08, 8.344650268554687e-08, 7.748603820800782e-08, 2.384185791015625e-08, 2.9802322387695312e-08, 2.9802322387695312e-08, 3.5762786865234374e-08, 2.384185791015625e-08, 4.1723251342773435e-08, 5.960464477539063e-08, 5.960464477539063e-09, 7.748603820800782e-08, 1.7881393432617187e-08, 2.9802322387695312e-08, 5.3644180297851564e-08, 5.960464477539063e-09, 2.384185791015625e-08, 6.556510925292969e-08, 5.960464477539063e-09, 1.1920928955078126e-08, 0.0, 2.384185791015625e-08, 1.7881393432617187e-08, 1.1920928955078126e-08, 5.960464477539063e-08, 2.9802322387695312e-08, 0.0, 4.1723251342773435e-08, 3.5762786865234374e-08, 5.960464477539063e-09, 5.960464477539063e-09, 6.556510925292969e-08, 0.0, 1.7881393432617187e-08, 1.7881393432617187e-08, 5.960464477539063e-08, 3.5762786865234374e-08, 5.960464477539063e-08, 6.556510925292969e-08, 1.1920928955078126e-08, 5.960464477539063e-09, 6.556510925292969e-08, 2.9802322387695312e-08, 2.384185791015625e-08, 3.5762786865234374e-08, 4.76837158203125e-08, 5.3644180297851564e-08, 6.556510925292969e-08, 5.960464477539063e-09, 2.384185791015625e-08, 1.1920928955078126e-08, 1.7881393432617187e-08, 5.960464477539063e-09, 1.7881393432617187e-08, 2.384185791015625e-08, 6.556510925292969e-08, 4.1723251342773435e-08, 1.609325408935547e-07, 4.1723251342773435e-08, 1.430511474609375e-07, 0.0, 3.5762786865234374e-08, 5.3644180297851564e-08, 1.1920928955078125e-07, 8.940696716308594e-08, 1.430511474609375e-07, 5.960464477539063e-09, 2.384185791015625e-07, 4.1723251342773435e-08, 1.430511474609375e-07, 2.9802322387695312e-08, 2.0265579223632812e-07, 2.384185791015625e-08, 1.4901161193847656e-07, 1.1324882507324218e-07, 1.1920928955078125e-07, 1.2516975402832032e-07, 1.1920928955078125e-07, 1.0728836059570313e-07, 2.562999725341797e-07, 1.9073486328125e-07, 3.0398368835449217e-07, 1.7881393432617188e-07, 1.9073486328125e-07, 2.682209014892578e-07, 3.0994415283203126e-07, 8.344650268554687e-08, 2.384185791015625e-08, 5.960464477539063e-08, 2.384185791015625e-07, 6.556510925292969e-08, 1.1920928955078125e-07, 1.3113021850585939e-07, 2.562999725341797e-07, 1.7881393432617187e-08, 7.152557373046875e-08, 1.7881393432617187e-08, 8.344650268554687e-08, 5.960464477539063e-09, 3.5762786865234374e-08, 1.7881393432617187e-08, 0.0, 4.1723251342773435e-08, 1.1920928955078126e-08, 7.152557373046875e-08, 1.0728836059570313e-07, 3.5762786865234374e-08, 3.5762786865234374e-08, 2.384185791015625e-08, 5.960464477539063e-09, 4.76837158203125e-08, 7.152557373046875e-08, 1.1920928955078126e-08, 5.960464477539063e-09, 5.960464477539063e-09, 1.7881393432617187e-08, 5.960464477539063e-09, 5.960464477539063e-09, 5.960464477539063e-09, 1.1920928955078126e-08, 1.1920928955078126e-08, 1.7881393432617187e-08, 1.7881393432617187e-08, 1.1920928955078126e-08, 0.0, 2.9802322387695312e-08, 5.960464477539063e-08, 0.0, 0.0, 9.5367431640625e-08, 0.0, 2.9802322387695312e-08, 5.3644180297851564e-08, 1.7881393432617187e-08, 5.960464477539063e-09, 1.7881393432617187e-08, 5.960464477539063e-09, 1.7881393432617187e-08, 1.7881393432617187e-08, 5.3644180297851564e-08, 7.152557373046875e-08, 7.152557373046875e-08, 5.960464477539063e-09, 1.1920928955078126e-08, 4.1723251342773435e-08, 5.3644180297851564e-08, 2.9802322387695312e-08, 3.5762786865234374e-08, 5.3644180297851564e-08, 3.5762786865234374e-08, 9.5367431640625e-08, 5.3644180297851564e-08, 4.1723251342773435e-08, 9.5367431640625e-08, 5.960464477539063e-08, 8.344650268554687e-08, 4.1723251342773435e-08, 4.76837158203125e-08, 1.7881393432617188e-07, 1.0132789611816406e-07, 1.7881393432617188e-07, 2.384185791015625e-08, 5.3644180297851564e-08, 3.5762786865234374e-08, 1.1324882507324218e-07, 7.152557373046875e-08, 0.0, 4.1723251342773435e-08, 5.960464477539063e-09, 1.1920928955078125e-07, 2.86102294921875e-07, 2.384185791015625e-08, 7.748603820800782e-08, 1.728534698486328e-07, 1.1920928955078126e-08, 1.1324882507324218e-07, 8.344650268554687e-08, 3.5762786865234374e-08, 1.4901161193847656e-07, 1.6689300537109374e-07, 4.76837158203125e-08, 1.0728836059570313e-07, 1.7881393432617187e-08, 1.1920928955078126e-08, 1.7881393432617187e-08, 9.5367431640625e-08, 6.556510925292969e-08, 5.3644180297851564e-08, 1.1920928955078126e-08, 9.5367431640625e-08, 2.3245811462402343e-07, 3.5762786865234374e-08, 1.7881393432617187e-08, 6.556510925292969e-08, 1.1324882507324218e-07, 2.384185791015625e-08, 5.960464477539063e-09, 2.384185791015625e-08, 1.7881393432617187e-08, 2.9802322387695312e-08, 3.5762786865234374e-08, 5.3644180297851564e-08, 1.1920928955078126e-08, 4.1723251342773435e-08, 5.960464477539063e-09, 4.1723251342773435e-08, 2.9802322387695312e-08, 5.960464477539063e-09, 5.960464477539063e-09, 4.76837158203125e-08, 2.9802322387695312e-08, 5.960464477539063e-08, 0.0, 1.7881393432617187e-08, 1.1920928955078126e-08, 1.1920928955078126e-08, 1.1920928955078126e-08, 1.1920928955078126e-08, 1.1920928955078126e-08, 3.5762786865234374e-08, 1.1920928955078126e-08, 2.9802322387695312e-08, 2.9802322387695312e-08, 2.384185791015625e-08, 4.76837158203125e-08, 4.76837158203125e-08, 1.1920928955078126e-08, 4.76837158203125e-08, 1.7881393432617187e-08, 5.3644180297851564e-08, 4.1723251342773435e-08, 3.5762786865234374e-08, 1.7881393432617187e-08, 1.1920928955078126e-08, 5.960464477539063e-09, 8.344650268554687e-08, 1.7881393432617187e-08, 0.0, 5.3644180297851564e-08, 2.384185791015625e-08, 4.1723251342773435e-08, 2.384185791015625e-08, 3.5762786865234374e-08, 1.1920928955078126e-08, 1.0132789611816406e-07, 1.7881393432617187e-08, 1.7881393432617187e-08, 4.1723251342773435e-08, 8.344650268554687e-08, 8.344650268554687e-08, 7.748603820800782e-08, 2.384185791015625e-08, 0.0, 8.940696716308594e-08, 1.430511474609375e-07, 4.76837158203125e-08, 2.384185791015625e-08, 4.76837158203125e-08, 5.960464477539063e-08, 1.7881393432617188e-07, 1.4901161193847656e-07, 1.3709068298339843e-07, 1.1920928955078125e-07, 4.1723251342773435e-08, 1.1920928955078125e-07, 8.344650268554687e-08, 4.1723251342773435e-08, 1.4901161193847656e-07, 4.76837158203125e-08, 1.1324882507324218e-07, 7.748603820800782e-08, 1.0132789611816406e-07, 1.1920928955078125e-07, 2.384185791015625e-08, 1.2516975402832032e-07, 5.960464477539063e-08, 8.940696716308594e-08, 5.3644180297851564e-08, 5.960464477539063e-09, 1.1324882507324218e-07, 1.3113021850585939e-07, 2.9802322387695312e-08, 1.1920928955078126e-08, 1.1920928955078126e-08, 3.5762786865234374e-08, 6.556510925292969e-08, 5.960464477539063e-09, 1.7881393432617187e-08, 9.5367431640625e-08, 1.7881393432617187e-08, 4.76837158203125e-08, 1.3113021850585939e-07, 9.5367431640625e-08, 9.5367431640625e-08, 4.76837158203125e-08, 5.960464477539063e-09, 1.1920928955078126e-08, 4.76837158203125e-08, 3.5762786865234374e-08, 4.1723251342773435e-08, 1.7881393432617187e-08, 2.384185791015625e-08, 2.9802322387695312e-08, 5.960464477539063e-09, 0.0, 2.384185791015625e-08, 2.9802322387695312e-08, 2.9802322387695312e-08, 5.960464477539063e-09, 1.1920928955078126e-08, 0.0, 0.0, 5.960464477539063e-09, 5.960464477539063e-09, 1.1920928955078126e-08, 3.5762786865234374e-08, 1.7881393432617187e-08, 2.384185791015625e-08, 4.76837158203125e-08, 1.1920928955078126e-08, 2.384185791015625e-08, 2.9802322387695312e-08, 2.384185791015625e-08, 1.1920928955078126e-08, 1.1920928955078126e-08, 5.960464477539063e-09, 2.9802322387695312e-08, 3.5762786865234374e-08, 2.384185791015625e-08, 4.76837158203125e-08, 3.5762786865234374e-08, 1.7881393432617187e-08, 2.9802322387695312e-08, 2.384185791015625e-08, 4.1723251342773435e-08, 0.0, 2.9802322387695312e-08, 7.152557373046875e-08, 5.960464477539063e-09, 0.0, 2.384185791015625e-08, 3.5762786865234374e-08, 3.5762786865234374e-08, 1.1920928955078126e-08, 5.960464477539063e-09, 5.960464477539063e-09, 1.7881393432617187e-08, 4.76837158203125e-08, 5.960464477539063e-09, 1.7881393432617187e-08, 2.384185791015625e-08, 8.940696716308594e-08, 1.3113021850585939e-07, 9.5367431640625e-08, 3.5762786865234374e-08, 8.344650268554687e-08, 4.1723251342773435e-08, 1.8477439880371094e-07, 1.2516975402832032e-07, 1.4901161193847656e-07, 4.1723251342773435e-08, 1.3709068298339843e-07, 2.9802322387695312e-08, 2.9802322387695312e-08, 5.3644180297851564e-08, 1.3709068298339843e-07, 1.3709068298339843e-07, 0.0, 8.344650268554687e-08, 4.76837158203125e-08, 8.344650268554687e-08, 2.384185791015625e-08, 2.384185791015625e-08, 1.7881393432617187e-08, 2.384185791015625e-08, 5.960464477539063e-08, 1.3113021850585939e-07, 1.0132789611816406e-07, 1.7881393432617187e-08, 5.960464477539063e-08, 2.384185791015625e-08, 2.9802322387695312e-08, 2.9802322387695312e-08, 2.384185791015625e-08, 5.960464477539063e-08, 9.5367431640625e-08, 5.960464477539063e-09, 2.384185791015625e-08, 6.556510925292969e-08, 2.384185791015625e-08, 1.1920928955078126e-08, 2.384185791015625e-08, 2.384185791015625e-08, 5.960464477539063e-09, 0.0, 3.5762786865234374e-08, 5.960464477539063e-09, 1.1920928955078126e-08, 3.5762786865234374e-08, 1.7881393432617187e-08, 5.960464477539063e-09, 1.7881393432617187e-08, 0.0, 0.0, 1.1920928955078126e-08, 5.960464477539063e-09, 1.1920928955078126e-08, 5.960464477539063e-09, 1.1920928955078126e-08, 0.0, 1.1920928955078126e-08, 1.1920928955078126e-08, 0.0, 1.1920928955078126e-08, 1.1920928955078126e-08, 0.0, 5.960464477539063e-09, 0.0, 2.384185791015625e-08, 1.1920928955078126e-08, 2.9802322387695312e-08, 2.384185791015625e-08, 1.7881393432617187e-08, 1.1920928955078126e-08, 0.0, 3.5762786865234374e-08, 5.960464477539063e-09, 0.0, 2.9802322387695312e-08, 1.7881393432617187e-08, 5.960464477539063e-08, 2.384185791015625e-08, 2.384185791015625e-08, 5.960464477539063e-09, 2.384185791015625e-08, 2.9802322387695312e-08, 5.960464477539063e-09, 2.384185791015625e-08, 2.384185791015625e-08, 5.960464477539063e-09, 5.960464477539063e-09, 5.960464477539063e-09, 1.7881393432617187e-08, 1.1920928955078126e-08, 1.1920928955078126e-08, 4.1723251342773435e-08, 4.76837158203125e-08, 2.384185791015625e-08, 5.960464477539063e-09, 4.1723251342773435e-08, 2.384185791015625e-08, 7.748603820800782e-08, 8.344650268554687e-08, 1.7881393432617187e-08, 5.960464477539063e-09, 1.1920928955078126e-08, 5.3644180297851564e-08, 7.152557373046875e-08, 0.0, 1.1920928955078126e-08, 9.5367431640625e-08, 1.1920928955078126e-08, 1.1920928955078126e-08, 5.960464477539063e-08, 3.5762786865234374e-08, 4.76837158203125e-08, 0.0, 1.1920928955078126e-08, 5.960464477539063e-09, 2.384185791015625e-08, 2.384185791015625e-08, 3.5762786865234374e-08, 5.960464477539063e-09, 2.9802322387695312e-08, 2.9802322387695312e-08, 0.0, 5.960464477539063e-09, 3.5762786865234374e-08, 2.384185791015625e-08, 2.9802322387695312e-08, 2.384185791015625e-08, 2.384185791015625e-08, 2.9802322387695312e-08, 2.9802322387695312e-08, 2.9802322387695312e-08, 5.960464477539063e-09, 2.384185791015625e-08, 5.960464477539063e-09, 2.9802322387695312e-08, 1.1920928955078126e-08, 2.9802322387695312e-08, 5.960464477539063e-09, 5.960464477539063e-09, 2.9802322387695312e-08, 1.7881393432617187e-08, 1.1920928955078126e-08, 1.1920928955078126e-08, 1.7881393432617187e-08, 1.1920928955078126e-08, 5.960464477539063e-09, 1.1920928955078126e-08]\n"
          ]
        }
      ]
    },
    {
      "cell_type": "markdown",
      "metadata": {
        "id": "SJEAJ5VinTIZ"
      },
      "source": [
        "You'll notice that your saliencies are probably very small values, since each individual pixel has a small effect on the output. \n",
        "Here are the current min and max:"
      ]
    },
    {
      "cell_type": "code",
      "metadata": {
        "id": "S5vRrciYnZgk",
        "colab": {
          "base_uri": "https://localhost:8080/"
        },
        "outputId": "7faba3e9-99eb-4e43-db92-daf93b813bdd"
      },
      "source": [
        "sal_array = np.array(saliencies)\n",
        "print (sal_array.min(), sal_array.max())\n",
        "print (sal_array.shape)"
      ],
      "execution_count": 84,
      "outputs": [
        {
          "output_type": "stream",
          "name": "stdout",
          "text": [
            "0.0 6.079673767089843e-07\n",
            "(3072,)\n"
          ]
        }
      ]
    },
    {
      "cell_type": "markdown",
      "metadata": {
        "id": "UwQfwv6rnl--"
      },
      "source": [
        "To plot the saliencies, we need to do some arithmetic to transform them to a range of 0 to 1. Can you explain the function of each line?"
      ]
    },
    {
      "cell_type": "code",
      "metadata": {
        "id": "XL_W9k0W0Sai",
        "colab": {
          "base_uri": "https://localhost:8080/"
        },
        "outputId": "281a6a49-73b7-4019-f5a5-c244c2d5db55"
      },
      "source": [
        "sal_array = np.array(saliencies)\n",
        "sal_array = sal_array - sal_array.min()\n",
        "#TODO print min and max\n",
        "print(sal_array.min(), sal_array.max())\n",
        "\n",
        "sal_array = sal_array/sal_array.max()\n",
        "#TODO print min and max\n",
        "print(sal_array.min(), sal_array.max())\n",
        "\n",
        "#Can you perform this transformation in a single line of code?\n",
        "sal_array = (sal_array - sal_array.min())/(sal_array.max()-sal_array.min())\n",
        "print(sal_array.min(), sal_array.max())\n",
        "\n",
        "print (sal_array.shape)"
      ],
      "execution_count": 91,
      "outputs": [
        {
          "output_type": "stream",
          "name": "stdout",
          "text": [
            "0.0 6.079673767089843e-07\n",
            "0.0 1.0\n",
            "0.0 1.0\n",
            "(3072,)\n"
          ]
        }
      ]
    },
    {
      "cell_type": "markdown",
      "metadata": {
        "id": "OvFKoff4n_gf"
      },
      "source": [
        "Finally, we can plot our saliency map!\n",
        "\n",
        "If you're not getting great results, try experimenting with how much you're changing the pixel values."
      ]
    },
    {
      "cell_type": "code",
      "metadata": {
        "id": "2vANcgvj1Pvc",
        "colab": {
          "base_uri": "https://localhost:8080/",
          "height": 764
        },
        "outputId": "93f8501d-391c-428a-a095-222c8d231a03"
      },
      "source": [
        "#Plot our original image\n",
        "plt.imshow(input_image.reshape(32,32,3).astype(int))\n",
        "plt.show()\n",
        "\n",
        "#Plot our saliency map: the brighter, the higher the saliency\n",
        "plt.imshow(sal_array.reshape(32,32,3))\n",
        "plt.show()\n",
        "\n",
        "#Plot our saliency map superimposed on the image\n",
        "plt.imshow(input_image.reshape(32,32,3).astype(int))\n",
        "plt.imshow(sal_array.reshape(32,32,3),alpha=0.6)\n",
        "plt.show()"
      ],
      "execution_count": 92,
      "outputs": [
        {
          "output_type": "display_data",
          "data": {
            "text/plain": [
              "<Figure size 432x288 with 1 Axes>"
            ],
            "image/png": "[encoded data removed]"
          },
          "metadata": {
            "needs_background": "light"
          }
        },
        {
          "output_type": "display_data",
          "data": {
            "text/plain": [
              "<Figure size 432x288 with 1 Axes>"
            ],
            "image/png": "[encoded data removed]"
          },
          "metadata": {
            "needs_background": "light"
          }
        },
        {
          "output_type": "display_data",
          "data": {
            "text/plain": [
              "<Figure size 432x288 with 1 Axes>"
            ],
            "image/png": "[encoded data removed]"
          },
          "metadata": {
            "needs_background": "light"
          }
        }
      ]
    },
    {
      "cell_type": "markdown",
      "metadata": {
        "id": "fistwbaDp56y"
      },
      "source": [
        "We now have some insight into our neural network! We know which pixels matter in its decisions. \n",
        "\n",
        "You can experiment with the definition of saliency we used above; you might come up with a better way to measure it!"
      ]
    }
  ]
}