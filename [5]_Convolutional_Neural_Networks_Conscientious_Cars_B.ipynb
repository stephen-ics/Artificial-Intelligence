{
  "nbformat": 4,
  "nbformat_minor": 0,
  "metadata": {
    "accelerator": "GPU",
    "colab": {
      "name": "[5] Convolutional Neural Networks Conscientious Cars B.ipynb",
      "provenance": [],
      "collapsed_sections": [],
      "include_colab_link": true
    },
    "kernelspec": {
      "display_name": "Python 3",
      "language": "python",
      "name": "python3"
    },
    "language_info": {
      "codemirror_mode": {
        "name": "ipython",
        "version": 3
      },
      "file_extension": ".py",
      "mimetype": "text/x-python",
      "name": "python",
      "nbconvert_exporter": "python",
      "pygments_lexer": "ipython3",
      "version": "3.8.2"
    }
  },
  "cells": [
    {
      "cell_type": "markdown",
      "metadata": {
        "id": "view-in-github",
        "colab_type": "text"
      },
      "source": [
        "<a href=\"https://colab.research.google.com/github/stephen-ics/Artificial-Intelligence/blob/main/%5B5%5D_Convolutional_Neural_Networks_Conscientious_Cars_B.ipynb\" target=\"_parent\"><img src=\"https://colab.research.google.com/assets/colab-badge.svg\" alt=\"Open In Colab\"/></a>"
      ]
    },
    {
      "cell_type": "markdown",
      "metadata": {
        "id": "TiM6gYg0nhkY"
      },
      "source": [
        "<font color=\"#de3023\"><h1><b>REMINDER MAKE A COPY OF THIS NOTEBOOK, DO NOT EDIT</b></h1></font>"
      ]
    },
    {
      "cell_type": "markdown",
      "metadata": {
        "id": "Sq-JhCcLpBwS"
      },
      "source": [
        "#Conscientious Cars 2: Convolutional Neural Nets\n",
        "\n",
        "Welcome back to CC: ConscientiousCars! Today, we'll be improving on our system for distinguishing dogs from roads."
      ]
    },
    {
      "cell_type": "code",
      "metadata": {
        "id": "uhNVum16scIW",
        "colab": {
          "base_uri": "https://localhost:8080/"
        },
        "outputId": "3cca69b4-6de7-4769-92eb-1ad4715cbed3"
      },
      "source": [
        "#@title Run this to load some packages and data! { display-mode: \"form\" }\n",
        "import pickle\n",
        "import numpy as np\n",
        "import pandas as pd\n",
        "import seaborn as sns\n",
        "import matplotlib.pyplot as plt\n",
        "from sklearn.neural_network import MLPClassifier\n",
        "from sklearn.neighbors import KNeighborsClassifier\n",
        "from sklearn import model_selection\n",
        "from sklearn.metrics import accuracy_score\n",
        "from collections import Counter\n",
        "import keras.api._v2.keras as keras\n",
        "from keras.models import Sequential\n",
        "from keras.layers import Dense, Conv2D, InputLayer\n",
        "from keras.layers import Activation, MaxPooling2D, Dropout, Flatten, Reshape\n",
        "from keras.utils.np_utils import to_categorical \n",
        "!pip install -q git+https://github.com/rdk2132/scikeras # workaround for scikeras deprecation\n",
        "from scikeras.wrappers import KerasClassifier\n",
        "from sklearn.model_selection import StratifiedKFold\n",
        "from sklearn.model_selection import cross_val_score\n",
        "\n",
        "# Quiet deprecation warnings\n",
        "import warnings\n",
        "warnings.filterwarnings(\"ignore\") \n",
        "\n",
        "def categorical_to_numpy(labels_in):\n",
        "  labels = []\n",
        "  for label in labels_in:\n",
        "    if label == 'dog':\n",
        "      labels.append(np.array([1, 0]))\n",
        "    else:\n",
        "      labels.append(np.array([0, 1]))\n",
        "  return np.array(labels)\n",
        "\n",
        "def load_data():\n",
        "  # import the data from the Cloud\n",
        "  !wget -q --show-progress https://storage.googleapis.com/inspirit-ai-data-bucket-1/Data/AI%20Scholars/Sessions%201%20-%205/Session%204%20_%205%20-%20Neural%20Networks%20_%20CNN/dogs_v_roads\n",
        "\n",
        "  # initialize our input and output variables\n",
        "  data_dict = pickle.load(open( \"dogs_v_roads\", \"rb\" ));  \n",
        "  data   = data_dict['data']\n",
        "  labels = data_dict['labels']\n",
        "  \n",
        "  return data, labels\n",
        "\n",
        "\n",
        "def plot_one_image(data, labels, img_idx):\n",
        "  from google.colab.patches import cv2_imshow\n",
        "  import cv2\n",
        "  import matplotlib.pyplot as plt\n",
        "  my_img   = data[img_idx, :].squeeze().reshape([32,32,3]).copy()\n",
        "  my_label = labels[img_idx]\n",
        "  print('label: %s'%my_label)\n",
        "  plt.imshow(my_img)\n",
        "  plt.show()\n",
        "  \n",
        "def CNNClassifier(num_epochs=2, layers=1, dropout=0.15):\n",
        "  def create_model():\n",
        "    model = Sequential()\n",
        "    model.add(Reshape((32, 32, 3)))\n",
        "    \n",
        "    for i in range(layers):\n",
        "      model.add(Conv2D(32, (3, 3), padding='same'))\n",
        "      model.add(Activation('relu'))\n",
        "    \n",
        "    model.add(Conv2D(32, (3, 3)))\n",
        "    model.add(Activation('relu'))\n",
        "    model.add(MaxPooling2D(pool_size=(2, 2)))\n",
        "    model.add(Dropout(dropout))\n",
        "\n",
        "    model.add(Conv2D(64, (3, 3), padding='same'))\n",
        "    model.add(Activation('relu'))\n",
        "    model.add(Conv2D(64, (3, 3)))\n",
        "    model.add(Activation('relu'))\n",
        "    model.add(MaxPooling2D(pool_size=(2, 2)))\n",
        "    model.add(Dropout(dropout))\n",
        "\n",
        "    model.add(Flatten())\n",
        "    model.add(Dense(512))\n",
        "    model.add(Activation('relu'))\n",
        "    model.add(Dropout(dropout))\n",
        "    model.add(Dense(2))\n",
        "    model.add(Activation('softmax'))\n",
        "\n",
        "    return model\n",
        "  # initiate RMSprop optimizer\n",
        "  opt = keras.optimizers.RMSprop(learning_rate=0.0001, decay=1e-6)\n",
        "  return KerasClassifier(model=create_model, optimizer=opt, loss='categorical_crossentropy', epochs=num_epochs, batch_size=10, verbose=2, validation_batch_size=10, validation_split=.2, metrics=['accuracy'])\n",
        "\n",
        "    \n",
        "def plot_acc(history, ax = None, xlabel = 'Epoch #'):\n",
        "    if hasattr(history, 'history_'):\n",
        "      history = history.history_\n",
        "    else:\n",
        "      history = history.history\n",
        "    history.update({'epoch':list(range(len(history['val_accuracy'])))})\n",
        "    history = pd.DataFrame.from_dict(history)\n",
        "\n",
        "    best_epoch = history.sort_values(by = 'val_accuracy', ascending = False).iloc[0]['epoch']\n",
        "\n",
        "    if not ax:\n",
        "      f, ax = plt.subplots(1,1)\n",
        "    sns.lineplot(x = 'epoch', y = 'val_accuracy', data = history, label = 'Validation', ax = ax)\n",
        "    sns.lineplot(x = 'epoch', y = 'accuracy', data = history, label = 'Training', ax = ax)\n",
        "    ax.axhline(0.5, linestyle = '--',color='red', label = 'Chance')\n",
        "    ax.axvline(x = best_epoch, linestyle = '--', color = 'green', label = 'Best Epoch')  \n",
        "    ax.legend(loc = 7)    \n",
        "    ax.set_ylim([0.4, 1])\n",
        "\n",
        "    ax.set_xlabel(xlabel)\n",
        "    ax.set_ylabel('Accuracy (Fraction)')\n",
        "    \n",
        "    plt.show()\n",
        "\n",
        "def model_to_string(model):\n",
        "    import re\n",
        "    stringlist = []\n",
        "    model.summary(print_fn=lambda x: stringlist.append(x))\n",
        "    sms = \"\\n\".join(stringlist)\n",
        "    sms = re.sub('_\\d\\d\\d','', sms)\n",
        "    sms = re.sub('_\\d\\d','', sms)\n",
        "    sms = re.sub('_\\d','', sms)  \n",
        "    return sms"
      ],
      "execution_count": 1,
      "outputs": [
        {
          "output_type": "stream",
          "name": "stdout",
          "text": [
            "  Installing build dependencies ... \u001b[?25l\u001b[?25hdone\n",
            "  Getting requirements to build wheel ... \u001b[?25l\u001b[?25hdone\n",
            "    Preparing wheel metadata ... \u001b[?25l\u001b[?25hdone\n",
            "  Building wheel for scikeras (PEP 517) ... \u001b[?25l\u001b[?25hdone\n"
          ]
        }
      ]
    },
    {
      "cell_type": "markdown",
      "metadata": {
        "id": "wkseZ14ms7vs"
      },
      "source": [
        "In this notebook, we will:\n",
        "\n",
        "- Use a pre-built CNN function to classify roads vs. dogs.\n",
        "- Build neural networks from scratch in Keras.\n",
        "- Experiment with building CNN models from scratch in Keras.\n",
        "- (Advanced, Optional) Build CNN models for distinguishing cats from dogs, and even experiment with implementing a famous architecture!\n"
      ]
    },
    {
      "cell_type": "markdown",
      "metadata": {
        "id": "qMWQRlTqt6Yn"
      },
      "source": [
        "<font color=darkorange>**Change Hardware Accelerator to GPU to train faster (Runtime -> Change Runtime Type -> Hardware Accelerator -> GPU)**"
      ]
    },
    {
      "cell_type": "markdown",
      "metadata": {
        "id": "1QxGsnvhnn8R"
      },
      "source": [
        "#Loading in Data"
      ]
    },
    {
      "cell_type": "markdown",
      "metadata": {
        "id": "btr24O6Hqgo6"
      },
      "source": [
        "Once again, let's load in our dog/road dataset and create our training and test set. **What's the shape of each dataset? Why?**"
      ]
    },
    {
      "cell_type": "code",
      "metadata": {
        "id": "MmZbrZoKnthN",
        "colab": {
          "base_uri": "https://localhost:8080/"
        },
        "outputId": "5085e0e5-8821-455d-ec0e-fe99ae1b2abd"
      },
      "source": [
        "# load our data\n",
        "data_raw, labels_raw = load_data()\n",
        "data = data_raw.astype(float)\n",
        "labels = categorical_to_numpy(labels_raw)\n",
        "inputs_train, inputs_test, labels_train, labels_test = model_selection.train_test_split(data, labels, test_size=0.2, random_state=1)\n",
        "\n",
        "#Find the shape of our dataset!\n",
        "### YOUR CODE HERE\n",
        "\n",
        "### END CODE"
      ],
      "execution_count": 2,
      "outputs": [
        {
          "output_type": "stream",
          "name": "stdout",
          "text": [
            "\rdogs_v_roads          0%[                    ]       0  --.-KB/s               \rdogs_v_roads        100%[===================>]   3.52M  --.-KB/s    in 0.02s   \n"
          ]
        }
      ]
    },
    {
      "cell_type": "markdown",
      "metadata": {
        "id": "VcZra2S0NNSZ"
      },
      "source": [
        "Use the cell below as a reminder of what the data looks like."
      ]
    },
    {
      "cell_type": "code",
      "metadata": {
        "id": "B83F3CmPNSux",
        "colab": {
          "base_uri": "https://localhost:8080/",
          "height": 284
        },
        "outputId": "c61f92e9-77a5-42f3-d6c1-e40a1f784196"
      },
      "source": [
        "plot_one_image(data_raw, labels_raw, 300) # change this number"
      ],
      "execution_count": null,
      "outputs": [
        {
          "output_type": "stream",
          "name": "stdout",
          "text": [
            "label: dog\n"
          ]
        },
        {
          "output_type": "display_data",
          "data": {
            "text/plain": [
              "<Figure size 432x288 with 1 Axes>"
            ],
            "image/png": "[encoded data removed]"
          },
          "metadata": {
            "needs_background": "light"
          }
        }
      ]
    },
    {
      "cell_type": "markdown",
      "metadata": {
        "id": "37O_VE_D1Bdy"
      },
      "source": [
        "# Models for Vision: Convolutional Neural Networks"
      ]
    },
    {
      "cell_type": "markdown",
      "metadata": {
        "id": "GqrfI4JiVeFr"
      },
      "source": [
        "###Exercise: Exploring Hyperparameters ✍️\n",
        "\n",
        "As you know, there is a famous type of neural network known as convolutional neural networks (CNNs). These types of neural networks work particularly well on problems to do with computer vision. Let's try one out!\n",
        "\n",
        "To load up a simple CNN on scikit-learn, just run:\n",
        "\n",
        "`cnn = CNNClassifier(num_epochs, layers, dropout)`\n",
        "\n",
        "Work with your instructors to review what each parameter means and how it affects the model! The value for **dropout** is a float between 0 and 1 that represents the probability the weight for a neuron in the layer is set to 0 during training time. Each neuron in the layer is evaluated as such, which can help prevent overfitting.\n",
        "\n",
        "**Try different values of num_epochs, layers, and dropout so that you get the best possible accuracy on the test set using `model.score()`**!"
      ]
    },
    {
      "cell_type": "code",
      "metadata": {
        "id": "bmC3-T4KRJgW",
        "colab": {
          "base_uri": "https://localhost:8080/"
        },
        "outputId": "77cf7848-89c4-4ab4-c137-b3b1f76c03af"
      },
      "source": [
        "cnn = CNNClassifier(100, 2, 0)\n",
        "cnn.fit(inputs_train, labels_train)\n",
        "preds = cnn.predict(inputs_test)\n",
        "print(cnn.score(inputs_test, labels_test))"
      ],
      "execution_count": 3,
      "outputs": [
        {
          "output_type": "stream",
          "name": "stdout",
          "text": [
            "Epoch 1/100\n",
            "77/77 - 19s - loss: 1.7863 - accuracy: 0.7357 - val_loss: 0.4984 - val_accuracy: 0.8490 - 19s/epoch - 243ms/step\n",
            "Epoch 2/100\n",
            "77/77 - 1s - loss: 0.3276 - accuracy: 0.8945 - val_loss: 0.3129 - val_accuracy: 0.8854 - 748ms/epoch - 10ms/step\n",
            "Epoch 3/100\n",
            "77/77 - 1s - loss: 0.1533 - accuracy: 0.9453 - val_loss: 0.1602 - val_accuracy: 0.9323 - 845ms/epoch - 11ms/step\n",
            "Epoch 4/100\n",
            "77/77 - 1s - loss: 0.1272 - accuracy: 0.9492 - val_loss: 0.1296 - val_accuracy: 0.9479 - 748ms/epoch - 10ms/step\n",
            "Epoch 5/100\n",
            "77/77 - 1s - loss: 0.0658 - accuracy: 0.9701 - val_loss: 0.2307 - val_accuracy: 0.9115 - 620ms/epoch - 8ms/step\n",
            "Epoch 6/100\n",
            "77/77 - 0s - loss: 0.0449 - accuracy: 0.9818 - val_loss: 0.0734 - val_accuracy: 0.9688 - 428ms/epoch - 6ms/step\n",
            "Epoch 7/100\n",
            "77/77 - 0s - loss: 0.0353 - accuracy: 0.9831 - val_loss: 0.1523 - val_accuracy: 0.9427 - 416ms/epoch - 5ms/step\n",
            "Epoch 8/100\n",
            "77/77 - 0s - loss: 0.0185 - accuracy: 0.9948 - val_loss: 0.0991 - val_accuracy: 0.9635 - 415ms/epoch - 5ms/step\n",
            "Epoch 9/100\n",
            "77/77 - 0s - loss: 0.0117 - accuracy: 0.9961 - val_loss: 0.0756 - val_accuracy: 0.9635 - 423ms/epoch - 5ms/step\n",
            "Epoch 10/100\n",
            "77/77 - 0s - loss: 0.0077 - accuracy: 0.9961 - val_loss: 0.0953 - val_accuracy: 0.9688 - 433ms/epoch - 6ms/step\n",
            "Epoch 11/100\n",
            "77/77 - 0s - loss: 0.0125 - accuracy: 0.9961 - val_loss: 0.1183 - val_accuracy: 0.9479 - 438ms/epoch - 6ms/step\n",
            "Epoch 12/100\n",
            "77/77 - 0s - loss: 0.0172 - accuracy: 0.9974 - val_loss: 0.1312 - val_accuracy: 0.9583 - 405ms/epoch - 5ms/step\n",
            "Epoch 13/100\n",
            "77/77 - 0s - loss: 2.5224e-04 - accuracy: 1.0000 - val_loss: 0.0933 - val_accuracy: 0.9688 - 434ms/epoch - 6ms/step\n",
            "Epoch 14/100\n",
            "77/77 - 0s - loss: 0.0210 - accuracy: 0.9961 - val_loss: 0.0730 - val_accuracy: 0.9688 - 426ms/epoch - 6ms/step\n",
            "Epoch 15/100\n",
            "77/77 - 0s - loss: 0.0035 - accuracy: 0.9974 - val_loss: 0.0904 - val_accuracy: 0.9688 - 425ms/epoch - 6ms/step\n",
            "Epoch 16/100\n",
            "77/77 - 0s - loss: 0.0029 - accuracy: 0.9987 - val_loss: 0.0611 - val_accuracy: 0.9688 - 414ms/epoch - 5ms/step\n",
            "Epoch 17/100\n",
            "77/77 - 0s - loss: 0.0059 - accuracy: 0.9961 - val_loss: 0.1218 - val_accuracy: 0.9583 - 423ms/epoch - 5ms/step\n",
            "Epoch 18/100\n",
            "77/77 - 0s - loss: 0.0053 - accuracy: 0.9987 - val_loss: 0.0482 - val_accuracy: 0.9792 - 433ms/epoch - 6ms/step\n",
            "Epoch 19/100\n",
            "77/77 - 0s - loss: 0.0011 - accuracy: 1.0000 - val_loss: 0.0365 - val_accuracy: 0.9740 - 414ms/epoch - 5ms/step\n",
            "Epoch 20/100\n",
            "77/77 - 0s - loss: 0.0089 - accuracy: 0.9974 - val_loss: 0.0487 - val_accuracy: 0.9792 - 418ms/epoch - 5ms/step\n",
            "Epoch 21/100\n",
            "77/77 - 0s - loss: 0.0107 - accuracy: 0.9974 - val_loss: 0.1517 - val_accuracy: 0.9583 - 424ms/epoch - 6ms/step\n",
            "Epoch 22/100\n",
            "77/77 - 0s - loss: 9.4333e-05 - accuracy: 1.0000 - val_loss: 0.0498 - val_accuracy: 0.9792 - 422ms/epoch - 5ms/step\n",
            "Epoch 23/100\n",
            "77/77 - 0s - loss: 7.3573e-05 - accuracy: 1.0000 - val_loss: 0.1512 - val_accuracy: 0.9635 - 433ms/epoch - 6ms/step\n",
            "Epoch 24/100\n",
            "77/77 - 0s - loss: 0.0151 - accuracy: 0.9974 - val_loss: 0.0356 - val_accuracy: 0.9792 - 415ms/epoch - 5ms/step\n",
            "Epoch 25/100\n",
            "77/77 - 0s - loss: 3.2050e-06 - accuracy: 1.0000 - val_loss: 0.0495 - val_accuracy: 0.9740 - 425ms/epoch - 6ms/step\n",
            "Epoch 26/100\n",
            "77/77 - 0s - loss: 0.0012 - accuracy: 1.0000 - val_loss: 0.0941 - val_accuracy: 0.9740 - 402ms/epoch - 5ms/step\n",
            "Epoch 27/100\n",
            "77/77 - 0s - loss: 1.3352e-06 - accuracy: 1.0000 - val_loss: 0.0653 - val_accuracy: 0.9740 - 415ms/epoch - 5ms/step\n",
            "Epoch 28/100\n",
            "77/77 - 0s - loss: 9.9304e-04 - accuracy: 1.0000 - val_loss: 0.1644 - val_accuracy: 0.9635 - 406ms/epoch - 5ms/step\n",
            "Epoch 29/100\n",
            "77/77 - 0s - loss: 0.0020 - accuracy: 1.0000 - val_loss: 0.0629 - val_accuracy: 0.9740 - 402ms/epoch - 5ms/step\n",
            "Epoch 30/100\n",
            "77/77 - 0s - loss: 9.7543e-06 - accuracy: 1.0000 - val_loss: 0.0427 - val_accuracy: 0.9740 - 427ms/epoch - 6ms/step\n",
            "Epoch 31/100\n",
            "77/77 - 0s - loss: 8.2391e-04 - accuracy: 1.0000 - val_loss: 0.1452 - val_accuracy: 0.9583 - 412ms/epoch - 5ms/step\n",
            "Epoch 32/100\n",
            "77/77 - 0s - loss: 2.2387e-05 - accuracy: 1.0000 - val_loss: 0.0865 - val_accuracy: 0.9740 - 417ms/epoch - 5ms/step\n",
            "Epoch 33/100\n",
            "77/77 - 0s - loss: 3.0966e-07 - accuracy: 1.0000 - val_loss: 0.0723 - val_accuracy: 0.9688 - 416ms/epoch - 5ms/step\n",
            "Epoch 34/100\n",
            "77/77 - 0s - loss: 0.0065 - accuracy: 0.9987 - val_loss: 0.1076 - val_accuracy: 0.9792 - 415ms/epoch - 5ms/step\n",
            "Epoch 35/100\n",
            "77/77 - 0s - loss: 1.5583e-06 - accuracy: 1.0000 - val_loss: 0.0852 - val_accuracy: 0.9792 - 411ms/epoch - 5ms/step\n",
            "Epoch 36/100\n",
            "77/77 - 0s - loss: 3.0997e-07 - accuracy: 1.0000 - val_loss: 0.0858 - val_accuracy: 0.9844 - 416ms/epoch - 5ms/step\n",
            "Epoch 37/100\n",
            "77/77 - 0s - loss: 0.0094 - accuracy: 0.9987 - val_loss: 0.0800 - val_accuracy: 0.9792 - 419ms/epoch - 5ms/step\n",
            "Epoch 38/100\n",
            "77/77 - 0s - loss: 1.3240e-05 - accuracy: 1.0000 - val_loss: 0.0806 - val_accuracy: 0.9740 - 414ms/epoch - 5ms/step\n",
            "Epoch 39/100\n",
            "77/77 - 0s - loss: 1.1036e-07 - accuracy: 1.0000 - val_loss: 0.0736 - val_accuracy: 0.9740 - 424ms/epoch - 6ms/step\n",
            "Epoch 40/100\n",
            "77/77 - 0s - loss: 0.0138 - accuracy: 0.9974 - val_loss: 0.4280 - val_accuracy: 0.9323 - 431ms/epoch - 6ms/step\n",
            "Epoch 41/100\n",
            "77/77 - 0s - loss: 7.9803e-05 - accuracy: 1.0000 - val_loss: 0.1236 - val_accuracy: 0.9792 - 415ms/epoch - 5ms/step\n",
            "Epoch 42/100\n",
            "77/77 - 0s - loss: 0.0122 - accuracy: 0.9987 - val_loss: 0.2937 - val_accuracy: 0.9583 - 428ms/epoch - 6ms/step\n",
            "Epoch 43/100\n",
            "77/77 - 0s - loss: 8.0696e-05 - accuracy: 1.0000 - val_loss: 0.0794 - val_accuracy: 0.9740 - 424ms/epoch - 6ms/step\n",
            "Epoch 44/100\n",
            "77/77 - 0s - loss: 2.9056e-07 - accuracy: 1.0000 - val_loss: 0.0786 - val_accuracy: 0.9740 - 427ms/epoch - 6ms/step\n",
            "Epoch 45/100\n",
            "77/77 - 0s - loss: 3.8184e-08 - accuracy: 1.0000 - val_loss: 0.0573 - val_accuracy: 0.9740 - 416ms/epoch - 5ms/step\n",
            "Epoch 46/100\n",
            "77/77 - 0s - loss: 0.0272 - accuracy: 0.9961 - val_loss: 0.1519 - val_accuracy: 0.9583 - 412ms/epoch - 5ms/step\n",
            "Epoch 47/100\n",
            "77/77 - 0s - loss: 1.8731e-06 - accuracy: 1.0000 - val_loss: 0.0911 - val_accuracy: 0.9792 - 418ms/epoch - 5ms/step\n",
            "Epoch 48/100\n",
            "77/77 - 0s - loss: 1.4705e-06 - accuracy: 1.0000 - val_loss: 0.0747 - val_accuracy: 0.9688 - 411ms/epoch - 5ms/step\n",
            "Epoch 49/100\n",
            "77/77 - 0s - loss: 4.9049e-08 - accuracy: 1.0000 - val_loss: 0.0665 - val_accuracy: 0.9792 - 411ms/epoch - 5ms/step\n",
            "Epoch 50/100\n",
            "77/77 - 0s - loss: 3.0211e-04 - accuracy: 1.0000 - val_loss: 0.0735 - val_accuracy: 0.9792 - 396ms/epoch - 5ms/step\n",
            "Epoch 51/100\n",
            "77/77 - 0s - loss: 8.2111e-08 - accuracy: 1.0000 - val_loss: 0.0397 - val_accuracy: 0.9844 - 400ms/epoch - 5ms/step\n",
            "Epoch 52/100\n",
            "77/77 - 0s - loss: 1.3039e-08 - accuracy: 1.0000 - val_loss: 0.0388 - val_accuracy: 0.9792 - 431ms/epoch - 6ms/step\n",
            "Epoch 53/100\n",
            "77/77 - 0s - loss: 1.5522e-09 - accuracy: 1.0000 - val_loss: 0.0549 - val_accuracy: 0.9740 - 417ms/epoch - 5ms/step\n",
            "Epoch 54/100\n",
            "77/77 - 0s - loss: 1.5522e-10 - accuracy: 1.0000 - val_loss: 0.0592 - val_accuracy: 0.9740 - 404ms/epoch - 5ms/step\n",
            "Epoch 55/100\n",
            "77/77 - 0s - loss: 0.0000e+00 - accuracy: 1.0000 - val_loss: 0.0634 - val_accuracy: 0.9740 - 402ms/epoch - 5ms/step\n",
            "Epoch 56/100\n",
            "77/77 - 0s - loss: 0.0000e+00 - accuracy: 1.0000 - val_loss: 0.0650 - val_accuracy: 0.9740 - 488ms/epoch - 6ms/step\n",
            "Epoch 57/100\n",
            "77/77 - 0s - loss: 0.0000e+00 - accuracy: 1.0000 - val_loss: 0.0658 - val_accuracy: 0.9740 - 416ms/epoch - 5ms/step\n",
            "Epoch 58/100\n",
            "77/77 - 0s - loss: 0.0000e+00 - accuracy: 1.0000 - val_loss: 0.0674 - val_accuracy: 0.9740 - 420ms/epoch - 5ms/step\n",
            "Epoch 59/100\n",
            "77/77 - 0s - loss: 0.0000e+00 - accuracy: 1.0000 - val_loss: 0.0694 - val_accuracy: 0.9740 - 423ms/epoch - 5ms/step\n",
            "Epoch 60/100\n",
            "77/77 - 0s - loss: 0.0000e+00 - accuracy: 1.0000 - val_loss: 0.0694 - val_accuracy: 0.9740 - 419ms/epoch - 5ms/step\n",
            "Epoch 61/100\n",
            "77/77 - 0s - loss: 0.0000e+00 - accuracy: 1.0000 - val_loss: 0.0699 - val_accuracy: 0.9740 - 438ms/epoch - 6ms/step\n",
            "Epoch 62/100\n",
            "77/77 - 1s - loss: 0.0000e+00 - accuracy: 1.0000 - val_loss: 0.0715 - val_accuracy: 0.9740 - 611ms/epoch - 8ms/step\n",
            "Epoch 63/100\n",
            "77/77 - 1s - loss: 0.0000e+00 - accuracy: 1.0000 - val_loss: 0.0715 - val_accuracy: 0.9740 - 728ms/epoch - 9ms/step\n",
            "Epoch 64/100\n",
            "77/77 - 1s - loss: 0.0000e+00 - accuracy: 1.0000 - val_loss: 0.0730 - val_accuracy: 0.9740 - 758ms/epoch - 10ms/step\n",
            "Epoch 65/100\n",
            "77/77 - 1s - loss: 0.0000e+00 - accuracy: 1.0000 - val_loss: 0.0740 - val_accuracy: 0.9740 - 721ms/epoch - 9ms/step\n",
            "Epoch 66/100\n",
            "77/77 - 1s - loss: 0.0000e+00 - accuracy: 1.0000 - val_loss: 0.0740 - val_accuracy: 0.9740 - 771ms/epoch - 10ms/step\n",
            "Epoch 67/100\n",
            "77/77 - 1s - loss: 0.0000e+00 - accuracy: 1.0000 - val_loss: 0.0743 - val_accuracy: 0.9740 - 779ms/epoch - 10ms/step\n",
            "Epoch 68/100\n",
            "77/77 - 1s - loss: 0.0000e+00 - accuracy: 1.0000 - val_loss: 0.0740 - val_accuracy: 0.9740 - 745ms/epoch - 10ms/step\n",
            "Epoch 69/100\n",
            "77/77 - 1s - loss: 0.0000e+00 - accuracy: 1.0000 - val_loss: 0.0747 - val_accuracy: 0.9740 - 605ms/epoch - 8ms/step\n",
            "Epoch 70/100\n",
            "77/77 - 0s - loss: 0.0000e+00 - accuracy: 1.0000 - val_loss: 0.0748 - val_accuracy: 0.9740 - 430ms/epoch - 6ms/step\n",
            "Epoch 71/100\n",
            "77/77 - 0s - loss: 0.0000e+00 - accuracy: 1.0000 - val_loss: 0.0753 - val_accuracy: 0.9740 - 403ms/epoch - 5ms/step\n",
            "Epoch 72/100\n",
            "77/77 - 0s - loss: 0.0000e+00 - accuracy: 1.0000 - val_loss: 0.0761 - val_accuracy: 0.9740 - 409ms/epoch - 5ms/step\n",
            "Epoch 73/100\n",
            "77/77 - 0s - loss: 0.0000e+00 - accuracy: 1.0000 - val_loss: 0.0765 - val_accuracy: 0.9740 - 413ms/epoch - 5ms/step\n",
            "Epoch 74/100\n",
            "77/77 - 0s - loss: 0.0000e+00 - accuracy: 1.0000 - val_loss: 0.0773 - val_accuracy: 0.9740 - 400ms/epoch - 5ms/step\n",
            "Epoch 75/100\n",
            "77/77 - 0s - loss: 0.0000e+00 - accuracy: 1.0000 - val_loss: 0.0777 - val_accuracy: 0.9740 - 413ms/epoch - 5ms/step\n",
            "Epoch 76/100\n",
            "77/77 - 0s - loss: 0.0000e+00 - accuracy: 1.0000 - val_loss: 0.0783 - val_accuracy: 0.9740 - 500ms/epoch - 6ms/step\n",
            "Epoch 77/100\n",
            "77/77 - 0s - loss: 0.0000e+00 - accuracy: 1.0000 - val_loss: 0.0779 - val_accuracy: 0.9740 - 429ms/epoch - 6ms/step\n",
            "Epoch 78/100\n",
            "77/77 - 0s - loss: 0.0000e+00 - accuracy: 1.0000 - val_loss: 0.0784 - val_accuracy: 0.9740 - 428ms/epoch - 6ms/step\n",
            "Epoch 79/100\n",
            "77/77 - 0s - loss: 0.0000e+00 - accuracy: 1.0000 - val_loss: 0.0784 - val_accuracy: 0.9740 - 432ms/epoch - 6ms/step\n",
            "Epoch 80/100\n",
            "77/77 - 0s - loss: 0.0000e+00 - accuracy: 1.0000 - val_loss: 0.0789 - val_accuracy: 0.9740 - 393ms/epoch - 5ms/step\n",
            "Epoch 81/100\n",
            "77/77 - 0s - loss: 0.0000e+00 - accuracy: 1.0000 - val_loss: 0.0795 - val_accuracy: 0.9740 - 415ms/epoch - 5ms/step\n",
            "Epoch 82/100\n",
            "77/77 - 0s - loss: 0.0000e+00 - accuracy: 1.0000 - val_loss: 0.0795 - val_accuracy: 0.9740 - 412ms/epoch - 5ms/step\n",
            "Epoch 83/100\n",
            "77/77 - 0s - loss: 0.0000e+00 - accuracy: 1.0000 - val_loss: 0.0792 - val_accuracy: 0.9740 - 419ms/epoch - 5ms/step\n",
            "Epoch 84/100\n",
            "77/77 - 0s - loss: 0.0000e+00 - accuracy: 1.0000 - val_loss: 0.0794 - val_accuracy: 0.9740 - 433ms/epoch - 6ms/step\n",
            "Epoch 85/100\n",
            "77/77 - 0s - loss: 0.0000e+00 - accuracy: 1.0000 - val_loss: 0.0796 - val_accuracy: 0.9740 - 419ms/epoch - 5ms/step\n",
            "Epoch 86/100\n",
            "77/77 - 0s - loss: 0.0000e+00 - accuracy: 1.0000 - val_loss: 0.0795 - val_accuracy: 0.9740 - 427ms/epoch - 6ms/step\n",
            "Epoch 87/100\n",
            "77/77 - 0s - loss: 0.0000e+00 - accuracy: 1.0000 - val_loss: 0.0800 - val_accuracy: 0.9740 - 411ms/epoch - 5ms/step\n",
            "Epoch 88/100\n",
            "77/77 - 0s - loss: 0.0000e+00 - accuracy: 1.0000 - val_loss: 0.0797 - val_accuracy: 0.9740 - 410ms/epoch - 5ms/step\n",
            "Epoch 89/100\n",
            "77/77 - 0s - loss: 0.0000e+00 - accuracy: 1.0000 - val_loss: 0.0798 - val_accuracy: 0.9740 - 422ms/epoch - 5ms/step\n",
            "Epoch 90/100\n",
            "77/77 - 0s - loss: 0.0000e+00 - accuracy: 1.0000 - val_loss: 0.0791 - val_accuracy: 0.9740 - 412ms/epoch - 5ms/step\n",
            "Epoch 91/100\n",
            "77/77 - 0s - loss: 0.0000e+00 - accuracy: 1.0000 - val_loss: 0.0795 - val_accuracy: 0.9740 - 414ms/epoch - 5ms/step\n",
            "Epoch 92/100\n",
            "77/77 - 0s - loss: 0.0000e+00 - accuracy: 1.0000 - val_loss: 0.0796 - val_accuracy: 0.9740 - 411ms/epoch - 5ms/step\n",
            "Epoch 93/100\n",
            "77/77 - 0s - loss: 0.0000e+00 - accuracy: 1.0000 - val_loss: 0.0793 - val_accuracy: 0.9740 - 427ms/epoch - 6ms/step\n",
            "Epoch 94/100\n",
            "77/77 - 0s - loss: 0.0000e+00 - accuracy: 1.0000 - val_loss: 0.0793 - val_accuracy: 0.9740 - 419ms/epoch - 5ms/step\n",
            "Epoch 95/100\n",
            "77/77 - 0s - loss: 0.0000e+00 - accuracy: 1.0000 - val_loss: 0.0797 - val_accuracy: 0.9740 - 414ms/epoch - 5ms/step\n",
            "Epoch 96/100\n",
            "77/77 - 0s - loss: 0.0000e+00 - accuracy: 1.0000 - val_loss: 0.0797 - val_accuracy: 0.9740 - 415ms/epoch - 5ms/step\n",
            "Epoch 97/100\n",
            "77/77 - 0s - loss: 0.0000e+00 - accuracy: 1.0000 - val_loss: 0.0798 - val_accuracy: 0.9740 - 407ms/epoch - 5ms/step\n",
            "Epoch 98/100\n",
            "77/77 - 0s - loss: 0.0000e+00 - accuracy: 1.0000 - val_loss: 0.0798 - val_accuracy: 0.9740 - 402ms/epoch - 5ms/step\n",
            "Epoch 99/100\n",
            "77/77 - 0s - loss: 0.0000e+00 - accuracy: 1.0000 - val_loss: 0.0800 - val_accuracy: 0.9740 - 425ms/epoch - 6ms/step\n",
            "Epoch 100/100\n",
            "77/77 - 0s - loss: 0.0000e+00 - accuracy: 1.0000 - val_loss: 0.0801 - val_accuracy: 0.9740 - 411ms/epoch - 5ms/step\n",
            "24/24 - 0s - 149ms/epoch - 6ms/step\n",
            "24/24 - 0s - 55ms/epoch - 2ms/step\n",
            "0.9458333333333333\n"
          ]
        }
      ]
    },
    {
      "cell_type": "markdown",
      "metadata": {
        "id": "KGWpgsVXP1ut"
      },
      "source": [
        "**How well did your neural network perform?** \n",
        "\n",
        "CNNs typically perform better than fully-connected neural networks on vision problems, but, as before, they aren't always consistent. They are also sensitive to a number of parameters. "
      ]
    },
    {
      "cell_type": "markdown",
      "metadata": {
        "id": "c-XRh5Y5P_CL"
      },
      "source": [
        "## Training and Validation Curves\n",
        "\n",
        "An important aspect of training neural networks is to prevent overfitting. **How would we recognize overfitting?**\n",
        "\n",
        "In the first line of code below, we first **fit** the model on the training data and pass in some validation (or test) data to evaluate it. We call it the **history** because we want to retain information about the accuracy at each epoch.\n",
        "\n",
        "In the second line we plot the history so that we can compare the training and validation accuracies.  \n",
        "\n",
        "```\n",
        "history = model.fit(inputs_train, labels_train, validation_data=(inputs_test, labels_test))\n",
        "plot_acc(history)\n",
        "```"
      ]
    },
    {
      "cell_type": "markdown",
      "metadata": {
        "id": "8eaFvE2PQEFe"
      },
      "source": [
        "###Exercise: Plotting a Training vs. Validation Curve For Our CNN ✍️\n",
        "\n",
        "**After how many epochs does the model begin to overfit? How does this vary as you vary the number of hidden layers and dropout?** Overfitting occurs when the validation accuracy starts to drop below the training accuracy."
      ]
    },
    {
      "cell_type": "code",
      "metadata": {
        "id": "OsVAasDbjARJ",
        "colab": {
          "base_uri": "https://localhost:8080/",
          "height": 1000
        },
        "outputId": "717db98d-2f14-43e9-b6b1-fc5f2ff7b507"
      },
      "source": [
        "### YOUR CODE HERE\n",
        "history = cnn.fit(inputs_train, labels_train, validation_data=(inputs_test, labels_test))\n",
        "plot_acc(history)\n",
        "\n",
        "### END CODE"
      ],
      "execution_count": null,
      "outputs": [
        {
          "output_type": "stream",
          "name": "stdout",
          "text": [
            "Epoch 1/100\n",
            "77/77 - 7s - loss: 1.9671 - accuracy: 0.7487 - val_loss: 0.5035 - val_accuracy: 0.8594 - 7s/epoch - 91ms/step\n",
            "Epoch 2/100\n",
            "77/77 - 6s - loss: 0.3341 - accuracy: 0.9010 - val_loss: 0.3552 - val_accuracy: 0.8750 - 6s/epoch - 74ms/step\n",
            "Epoch 3/100\n",
            "77/77 - 6s - loss: 0.1727 - accuracy: 0.9349 - val_loss: 0.1902 - val_accuracy: 0.9062 - 6s/epoch - 73ms/step\n",
            "Epoch 4/100\n",
            "77/77 - 6s - loss: 0.1067 - accuracy: 0.9583 - val_loss: 0.3493 - val_accuracy: 0.8750 - 6s/epoch - 74ms/step\n",
            "Epoch 5/100\n",
            "77/77 - 6s - loss: 0.0567 - accuracy: 0.9766 - val_loss: 0.1908 - val_accuracy: 0.9271 - 6s/epoch - 75ms/step\n",
            "Epoch 6/100\n",
            "77/77 - 6s - loss: 0.0500 - accuracy: 0.9792 - val_loss: 0.1536 - val_accuracy: 0.9167 - 6s/epoch - 74ms/step\n",
            "Epoch 7/100\n",
            "77/77 - 6s - loss: 0.0303 - accuracy: 0.9909 - val_loss: 0.1388 - val_accuracy: 0.9479 - 6s/epoch - 75ms/step\n",
            "Epoch 8/100\n",
            "77/77 - 6s - loss: 0.0227 - accuracy: 0.9961 - val_loss: 0.0945 - val_accuracy: 0.9531 - 6s/epoch - 74ms/step\n",
            "Epoch 9/100\n",
            "77/77 - 6s - loss: 0.0087 - accuracy: 0.9961 - val_loss: 0.1036 - val_accuracy: 0.9583 - 6s/epoch - 75ms/step\n",
            "Epoch 10/100\n",
            "77/77 - 6s - loss: 0.0094 - accuracy: 0.9961 - val_loss: 0.1552 - val_accuracy: 0.9583 - 6s/epoch - 75ms/step\n",
            "Epoch 11/100\n",
            "77/77 - 6s - loss: 0.0069 - accuracy: 0.9987 - val_loss: 0.2403 - val_accuracy: 0.9323 - 6s/epoch - 75ms/step\n",
            "Epoch 12/100\n",
            "77/77 - 6s - loss: 0.0085 - accuracy: 0.9948 - val_loss: 0.1310 - val_accuracy: 0.9479 - 6s/epoch - 76ms/step\n",
            "Epoch 13/100\n",
            "77/77 - 6s - loss: 0.0028 - accuracy: 0.9987 - val_loss: 0.1730 - val_accuracy: 0.9740 - 6s/epoch - 76ms/step\n",
            "Epoch 14/100\n",
            "77/77 - 6s - loss: 0.0038 - accuracy: 0.9987 - val_loss: 0.1693 - val_accuracy: 0.9427 - 6s/epoch - 76ms/step\n",
            "Epoch 15/100\n",
            "77/77 - 6s - loss: 0.0146 - accuracy: 0.9974 - val_loss: 0.1783 - val_accuracy: 0.9583 - 6s/epoch - 75ms/step\n",
            "Epoch 16/100\n",
            "77/77 - 6s - loss: 7.0343e-05 - accuracy: 1.0000 - val_loss: 0.1349 - val_accuracy: 0.9635 - 6s/epoch - 75ms/step\n",
            "Epoch 17/100\n",
            "77/77 - 6s - loss: 0.0018 - accuracy: 0.9987 - val_loss: 0.1952 - val_accuracy: 0.9479 - 6s/epoch - 74ms/step\n",
            "Epoch 18/100\n",
            "77/77 - 6s - loss: 1.1155e-05 - accuracy: 1.0000 - val_loss: 0.2035 - val_accuracy: 0.9688 - 6s/epoch - 74ms/step\n",
            "Epoch 19/100\n",
            "77/77 - 6s - loss: 0.0071 - accuracy: 0.9987 - val_loss: 0.2183 - val_accuracy: 0.9531 - 6s/epoch - 82ms/step\n",
            "Epoch 20/100\n",
            "77/77 - 6s - loss: 1.3697e-05 - accuracy: 1.0000 - val_loss: 0.1965 - val_accuracy: 0.9583 - 6s/epoch - 83ms/step\n",
            "Epoch 21/100\n",
            "77/77 - 6s - loss: 2.2182e-04 - accuracy: 1.0000 - val_loss: 1.2904 - val_accuracy: 0.8646 - 6s/epoch - 75ms/step\n",
            "Epoch 22/100\n",
            "77/77 - 6s - loss: 0.0087 - accuracy: 0.9974 - val_loss: 0.2362 - val_accuracy: 0.9531 - 6s/epoch - 74ms/step\n",
            "Epoch 23/100\n",
            "77/77 - 6s - loss: 5.0771e-06 - accuracy: 1.0000 - val_loss: 0.1471 - val_accuracy: 0.9531 - 6s/epoch - 75ms/step\n",
            "Epoch 24/100\n",
            "77/77 - 6s - loss: 3.3426e-04 - accuracy: 1.0000 - val_loss: 0.2674 - val_accuracy: 0.9740 - 6s/epoch - 74ms/step\n",
            "Epoch 25/100\n",
            "77/77 - 6s - loss: 0.0017 - accuracy: 1.0000 - val_loss: 0.5431 - val_accuracy: 0.9479 - 6s/epoch - 75ms/step\n",
            "Epoch 26/100\n",
            "77/77 - 6s - loss: 1.0356e-05 - accuracy: 1.0000 - val_loss: 0.3876 - val_accuracy: 0.9479 - 6s/epoch - 75ms/step\n",
            "Epoch 27/100\n",
            "77/77 - 6s - loss: 5.2291e-07 - accuracy: 1.0000 - val_loss: 0.3474 - val_accuracy: 0.9531 - 6s/epoch - 75ms/step\n",
            "Epoch 28/100\n",
            "77/77 - 6s - loss: 0.0133 - accuracy: 0.9974 - val_loss: 0.5495 - val_accuracy: 0.9427 - 6s/epoch - 73ms/step\n",
            "Epoch 29/100\n",
            "77/77 - 6s - loss: 2.8354e-04 - accuracy: 1.0000 - val_loss: 0.4188 - val_accuracy: 0.9479 - 6s/epoch - 75ms/step\n",
            "Epoch 30/100\n",
            "77/77 - 6s - loss: 3.4247e-06 - accuracy: 1.0000 - val_loss: 0.2396 - val_accuracy: 0.9531 - 6s/epoch - 76ms/step\n",
            "Epoch 31/100\n",
            "77/77 - 6s - loss: 5.5724e-08 - accuracy: 1.0000 - val_loss: 0.2883 - val_accuracy: 0.9635 - 6s/epoch - 75ms/step\n",
            "Epoch 32/100\n",
            "77/77 - 6s - loss: 0.0081 - accuracy: 0.9974 - val_loss: 0.1798 - val_accuracy: 0.9740 - 6s/epoch - 75ms/step\n",
            "Epoch 33/100\n",
            "77/77 - 6s - loss: 4.8809e-07 - accuracy: 1.0000 - val_loss: 0.1858 - val_accuracy: 0.9688 - 6s/epoch - 74ms/step\n",
            "Epoch 34/100\n",
            "77/77 - 6s - loss: 2.2662e-08 - accuracy: 1.0000 - val_loss: 0.1939 - val_accuracy: 0.9688 - 6s/epoch - 75ms/step\n",
            "Epoch 35/100\n",
            "77/77 - 6s - loss: 6.9849e-09 - accuracy: 1.0000 - val_loss: 0.1901 - val_accuracy: 0.9792 - 6s/epoch - 76ms/step\n",
            "Epoch 36/100\n",
            "77/77 - 6s - loss: 5.5879e-09 - accuracy: 1.0000 - val_loss: 0.3309 - val_accuracy: 0.9583 - 6s/epoch - 75ms/step\n",
            "Epoch 37/100\n",
            "77/77 - 6s - loss: 1.0392e-04 - accuracy: 1.0000 - val_loss: 0.2081 - val_accuracy: 0.9635 - 6s/epoch - 76ms/step\n",
            "Epoch 38/100\n",
            "77/77 - 6s - loss: 1.0089e-08 - accuracy: 1.0000 - val_loss: 0.2104 - val_accuracy: 0.9635 - 6s/epoch - 78ms/step\n",
            "Epoch 39/100\n",
            "77/77 - 7s - loss: 4.0357e-09 - accuracy: 1.0000 - val_loss: 0.2647 - val_accuracy: 0.9635 - 7s/epoch - 91ms/step\n",
            "Epoch 40/100\n",
            "77/77 - 6s - loss: 1.5522e-10 - accuracy: 1.0000 - val_loss: 0.2593 - val_accuracy: 0.9688 - 6s/epoch - 78ms/step\n",
            "Epoch 41/100\n",
            "77/77 - 6s - loss: 0.0000e+00 - accuracy: 1.0000 - val_loss: 0.2643 - val_accuracy: 0.9688 - 6s/epoch - 78ms/step\n",
            "Epoch 42/100\n",
            "77/77 - 6s - loss: 0.0000e+00 - accuracy: 1.0000 - val_loss: 0.2691 - val_accuracy: 0.9688 - 6s/epoch - 77ms/step\n",
            "Epoch 43/100\n",
            "77/77 - 6s - loss: 0.0000e+00 - accuracy: 1.0000 - val_loss: 0.2747 - val_accuracy: 0.9688 - 6s/epoch - 76ms/step\n",
            "Epoch 44/100\n",
            "77/77 - 6s - loss: 0.0000e+00 - accuracy: 1.0000 - val_loss: 0.2796 - val_accuracy: 0.9688 - 6s/epoch - 76ms/step\n",
            "Epoch 45/100\n",
            "77/77 - 6s - loss: 0.0000e+00 - accuracy: 1.0000 - val_loss: 0.2833 - val_accuracy: 0.9688 - 6s/epoch - 76ms/step\n",
            "Epoch 46/100\n",
            "77/77 - 6s - loss: 0.0000e+00 - accuracy: 1.0000 - val_loss: 0.2869 - val_accuracy: 0.9688 - 6s/epoch - 77ms/step\n",
            "Epoch 47/100\n",
            "77/77 - 6s - loss: 0.0000e+00 - accuracy: 1.0000 - val_loss: 0.2900 - val_accuracy: 0.9688 - 6s/epoch - 77ms/step\n",
            "Epoch 48/100\n",
            "77/77 - 6s - loss: 0.0000e+00 - accuracy: 1.0000 - val_loss: 0.2919 - val_accuracy: 0.9688 - 6s/epoch - 76ms/step\n",
            "Epoch 49/100\n",
            "77/77 - 6s - loss: 0.0000e+00 - accuracy: 1.0000 - val_loss: 0.2954 - val_accuracy: 0.9688 - 6s/epoch - 75ms/step\n",
            "Epoch 50/100\n",
            "77/77 - 6s - loss: 0.0000e+00 - accuracy: 1.0000 - val_loss: 0.2981 - val_accuracy: 0.9688 - 6s/epoch - 76ms/step\n",
            "Epoch 51/100\n",
            "77/77 - 6s - loss: 0.0000e+00 - accuracy: 1.0000 - val_loss: 0.3010 - val_accuracy: 0.9688 - 6s/epoch - 76ms/step\n",
            "Epoch 52/100\n",
            "77/77 - 6s - loss: 0.0000e+00 - accuracy: 1.0000 - val_loss: 0.3033 - val_accuracy: 0.9688 - 6s/epoch - 75ms/step\n",
            "Epoch 53/100\n",
            "77/77 - 6s - loss: 0.0000e+00 - accuracy: 1.0000 - val_loss: 0.3046 - val_accuracy: 0.9688 - 6s/epoch - 75ms/step\n",
            "Epoch 54/100\n",
            "77/77 - 6s - loss: 0.0000e+00 - accuracy: 1.0000 - val_loss: 0.3070 - val_accuracy: 0.9688 - 6s/epoch - 76ms/step\n",
            "Epoch 55/100\n",
            "77/77 - 6s - loss: 0.0000e+00 - accuracy: 1.0000 - val_loss: 0.3087 - val_accuracy: 0.9688 - 6s/epoch - 77ms/step\n",
            "Epoch 56/100\n",
            "77/77 - 6s - loss: 0.0000e+00 - accuracy: 1.0000 - val_loss: 0.3107 - val_accuracy: 0.9688 - 6s/epoch - 75ms/step\n",
            "Epoch 57/100\n",
            "77/77 - 6s - loss: 0.0000e+00 - accuracy: 1.0000 - val_loss: 0.3124 - val_accuracy: 0.9688 - 6s/epoch - 77ms/step\n",
            "Epoch 58/100\n",
            "77/77 - 8s - loss: 0.0000e+00 - accuracy: 1.0000 - val_loss: 0.3140 - val_accuracy: 0.9688 - 8s/epoch - 105ms/step\n",
            "Epoch 59/100\n",
            "77/77 - 6s - loss: 0.0000e+00 - accuracy: 1.0000 - val_loss: 0.3154 - val_accuracy: 0.9688 - 6s/epoch - 75ms/step\n",
            "Epoch 60/100\n",
            "77/77 - 6s - loss: 0.0000e+00 - accuracy: 1.0000 - val_loss: 0.3167 - val_accuracy: 0.9688 - 6s/epoch - 76ms/step\n",
            "Epoch 61/100\n",
            "77/77 - 6s - loss: 0.0000e+00 - accuracy: 1.0000 - val_loss: 0.3185 - val_accuracy: 0.9688 - 6s/epoch - 76ms/step\n",
            "Epoch 62/100\n",
            "77/77 - 6s - loss: 0.0000e+00 - accuracy: 1.0000 - val_loss: 0.3196 - val_accuracy: 0.9688 - 6s/epoch - 77ms/step\n",
            "Epoch 63/100\n",
            "77/77 - 6s - loss: 0.0000e+00 - accuracy: 1.0000 - val_loss: 0.3208 - val_accuracy: 0.9688 - 6s/epoch - 77ms/step\n",
            "Epoch 64/100\n",
            "77/77 - 6s - loss: 0.0000e+00 - accuracy: 1.0000 - val_loss: 0.3218 - val_accuracy: 0.9688 - 6s/epoch - 75ms/step\n",
            "Epoch 65/100\n",
            "77/77 - 6s - loss: 0.0000e+00 - accuracy: 1.0000 - val_loss: 0.3228 - val_accuracy: 0.9688 - 6s/epoch - 83ms/step\n",
            "Epoch 66/100\n",
            "77/77 - 6s - loss: 0.0000e+00 - accuracy: 1.0000 - val_loss: 0.3242 - val_accuracy: 0.9688 - 6s/epoch - 76ms/step\n",
            "Epoch 67/100\n",
            "77/77 - 6s - loss: 0.0000e+00 - accuracy: 1.0000 - val_loss: 0.3251 - val_accuracy: 0.9688 - 6s/epoch - 77ms/step\n",
            "Epoch 68/100\n",
            "77/77 - 6s - loss: 0.0000e+00 - accuracy: 1.0000 - val_loss: 0.3262 - val_accuracy: 0.9688 - 6s/epoch - 78ms/step\n",
            "Epoch 69/100\n",
            "77/77 - 6s - loss: 0.0000e+00 - accuracy: 1.0000 - val_loss: 0.3270 - val_accuracy: 0.9688 - 6s/epoch - 78ms/step\n",
            "Epoch 70/100\n",
            "77/77 - 6s - loss: 0.0000e+00 - accuracy: 1.0000 - val_loss: 0.3282 - val_accuracy: 0.9688 - 6s/epoch - 76ms/step\n",
            "Epoch 71/100\n",
            "77/77 - 6s - loss: 0.0000e+00 - accuracy: 1.0000 - val_loss: 0.3292 - val_accuracy: 0.9688 - 6s/epoch - 76ms/step\n",
            "Epoch 72/100\n",
            "77/77 - 6s - loss: 0.0000e+00 - accuracy: 1.0000 - val_loss: 0.3307 - val_accuracy: 0.9688 - 6s/epoch - 76ms/step\n",
            "Epoch 73/100\n",
            "77/77 - 6s - loss: 0.0000e+00 - accuracy: 1.0000 - val_loss: 0.3323 - val_accuracy: 0.9688 - 6s/epoch - 77ms/step\n",
            "Epoch 74/100\n",
            "77/77 - 6s - loss: 0.0000e+00 - accuracy: 1.0000 - val_loss: 0.3335 - val_accuracy: 0.9688 - 6s/epoch - 77ms/step\n",
            "Epoch 75/100\n",
            "77/77 - 6s - loss: 0.0000e+00 - accuracy: 1.0000 - val_loss: 0.3348 - val_accuracy: 0.9688 - 6s/epoch - 78ms/step\n",
            "Epoch 76/100\n",
            "77/77 - 6s - loss: 0.0000e+00 - accuracy: 1.0000 - val_loss: 0.3363 - val_accuracy: 0.9688 - 6s/epoch - 78ms/step\n",
            "Epoch 77/100\n",
            "77/77 - 7s - loss: 0.0000e+00 - accuracy: 1.0000 - val_loss: 0.3379 - val_accuracy: 0.9688 - 7s/epoch - 90ms/step\n",
            "Epoch 78/100\n",
            "77/77 - 6s - loss: 0.0000e+00 - accuracy: 1.0000 - val_loss: 0.3392 - val_accuracy: 0.9688 - 6s/epoch - 76ms/step\n",
            "Epoch 79/100\n",
            "77/77 - 6s - loss: 0.0000e+00 - accuracy: 1.0000 - val_loss: 0.3408 - val_accuracy: 0.9688 - 6s/epoch - 78ms/step\n",
            "Epoch 80/100\n",
            "77/77 - 6s - loss: 0.0000e+00 - accuracy: 1.0000 - val_loss: 0.3426 - val_accuracy: 0.9688 - 6s/epoch - 78ms/step\n",
            "Epoch 81/100\n",
            "77/77 - 6s - loss: 0.0000e+00 - accuracy: 1.0000 - val_loss: 0.3444 - val_accuracy: 0.9688 - 6s/epoch - 78ms/step\n",
            "Epoch 82/100\n",
            "77/77 - 6s - loss: 0.0000e+00 - accuracy: 1.0000 - val_loss: 0.3457 - val_accuracy: 0.9688 - 6s/epoch - 79ms/step\n",
            "Epoch 83/100\n",
            "77/77 - 6s - loss: 0.0000e+00 - accuracy: 1.0000 - val_loss: 0.3474 - val_accuracy: 0.9688 - 6s/epoch - 77ms/step\n",
            "Epoch 84/100\n",
            "77/77 - 6s - loss: 0.0000e+00 - accuracy: 1.0000 - val_loss: 0.3491 - val_accuracy: 0.9688 - 6s/epoch - 77ms/step\n",
            "Epoch 85/100\n",
            "77/77 - 6s - loss: 0.0000e+00 - accuracy: 1.0000 - val_loss: 0.3502 - val_accuracy: 0.9688 - 6s/epoch - 78ms/step\n",
            "Epoch 86/100\n",
            "77/77 - 6s - loss: 0.0000e+00 - accuracy: 1.0000 - val_loss: 0.3520 - val_accuracy: 0.9688 - 6s/epoch - 77ms/step\n",
            "Epoch 87/100\n",
            "77/77 - 6s - loss: 0.0000e+00 - accuracy: 1.0000 - val_loss: 0.3537 - val_accuracy: 0.9688 - 6s/epoch - 76ms/step\n",
            "Epoch 88/100\n",
            "77/77 - 6s - loss: 0.0000e+00 - accuracy: 1.0000 - val_loss: 0.3550 - val_accuracy: 0.9688 - 6s/epoch - 77ms/step\n",
            "Epoch 89/100\n",
            "77/77 - 6s - loss: 0.0000e+00 - accuracy: 1.0000 - val_loss: 0.3566 - val_accuracy: 0.9688 - 6s/epoch - 78ms/step\n",
            "Epoch 90/100\n",
            "77/77 - 6s - loss: 0.0000e+00 - accuracy: 1.0000 - val_loss: 0.3582 - val_accuracy: 0.9688 - 6s/epoch - 77ms/step\n",
            "Epoch 91/100\n",
            "77/77 - 6s - loss: 0.0000e+00 - accuracy: 1.0000 - val_loss: 0.3596 - val_accuracy: 0.9688 - 6s/epoch - 77ms/step\n",
            "Epoch 92/100\n",
            "77/77 - 6s - loss: 0.0000e+00 - accuracy: 1.0000 - val_loss: 0.3613 - val_accuracy: 0.9688 - 6s/epoch - 75ms/step\n",
            "Epoch 93/100\n",
            "77/77 - 6s - loss: 0.0000e+00 - accuracy: 1.0000 - val_loss: 0.3627 - val_accuracy: 0.9688 - 6s/epoch - 78ms/step\n",
            "Epoch 94/100\n",
            "77/77 - 6s - loss: 0.0000e+00 - accuracy: 1.0000 - val_loss: 0.3640 - val_accuracy: 0.9688 - 6s/epoch - 79ms/step\n",
            "Epoch 95/100\n",
            "77/77 - 6s - loss: 0.0000e+00 - accuracy: 1.0000 - val_loss: 0.3652 - val_accuracy: 0.9688 - 6s/epoch - 79ms/step\n",
            "Epoch 96/100\n",
            "77/77 - 7s - loss: 0.0000e+00 - accuracy: 1.0000 - val_loss: 0.3663 - val_accuracy: 0.9688 - 7s/epoch - 90ms/step\n",
            "Epoch 97/100\n",
            "77/77 - 6s - loss: 0.0000e+00 - accuracy: 1.0000 - val_loss: 0.3677 - val_accuracy: 0.9688 - 6s/epoch - 78ms/step\n",
            "Epoch 98/100\n",
            "77/77 - 6s - loss: 0.0000e+00 - accuracy: 1.0000 - val_loss: 0.3691 - val_accuracy: 0.9688 - 6s/epoch - 77ms/step\n",
            "Epoch 99/100\n",
            "77/77 - 6s - loss: 0.0000e+00 - accuracy: 1.0000 - val_loss: 0.3706 - val_accuracy: 0.9688 - 6s/epoch - 77ms/step\n",
            "Epoch 100/100\n",
            "77/77 - 6s - loss: 0.0000e+00 - accuracy: 1.0000 - val_loss: 0.3718 - val_accuracy: 0.9688 - 6s/epoch - 76ms/step\n"
          ]
        },
        {
          "output_type": "display_data",
          "data": {
            "text/plain": [
              "<Figure size 432x288 with 1 Axes>"
            ],
            "image/png": "[encoded data removed]"
          },
          "metadata": {
            "needs_background": "light"
          }
        }
      ]
    },
    {
      "cell_type": "code",
      "source": [
        "# Print the score on the testing data\n",
        "print(\"CNN Testing Set Score:\")\n",
        "print(cnn.score(inputs_test, labels_test))"
      ],
      "metadata": {
        "id": "zEYUz17TJCGX",
        "colab": {
          "base_uri": "https://localhost:8080/"
        },
        "outputId": "e91615d6-d80f-4585-e3c3-ea26f25cf784"
      },
      "execution_count": null,
      "outputs": [
        {
          "output_type": "stream",
          "name": "stdout",
          "text": [
            "CNN Testing Set Score:\n",
            "24/24 - 1s - 514ms/epoch - 21ms/step\n",
            "0.9416666666666667\n"
          ]
        }
      ]
    },
    {
      "cell_type": "markdown",
      "metadata": {
        "id": "76z4NAY6afd7"
      },
      "source": [
        "# Building Neural Networks from Scratch in Keras \n",
        "\n",
        "So far, we've used helper functions which pre-build Keras neural network models. Now, we will build them on our own!\n",
        "\n",
        "Let's start with a \"toy example\": a tiny neural network with just three numerical inputs.\n"
      ]
    },
    {
      "cell_type": "markdown",
      "metadata": {
        "id": "jdngkAX_aCVu"
      },
      "source": [
        "###Exercise: Building a Simple Neural Network Using Keras! ✍️\n",
        "\n"
      ]
    },
    {
      "cell_type": "markdown",
      "metadata": {
        "id": "Bj-Pt3wGCXRu"
      },
      "source": [
        "\n",
        "We're going to build this model: \n",
        "\n",
        "![](http://cs231n.github.io/assets/nn1/neural_net.jpeg)"
      ]
    },
    {
      "cell_type": "markdown",
      "metadata": {
        "id": "H-6WGeedvTCS"
      },
      "source": [
        "This network can be described as: \n",
        "* Input Layer: 3 neurons\n",
        "* Layer 1 (Hidden): 4 neurons that are activated by `'relu'`\n",
        "* Layer 2 (Output): 2 neurons that are activated by `'softmax'`\n",
        "\n",
        "\n",
        "We also want to compile the model with\n",
        "`loss = 'categorical_crossentropy'`\n",
        "\n",
        "What does this represent? Here's one way to interpret it:\n",
        "* This model classifies animals as \"cat\" or \"dog\"\n",
        "* Our three inputs are height, weight, and age\n",
        "* Our ouputs represent \"probability of cat\" and \"probability of dog\"\n",
        "* Because this is a toy example, we aren't actually training the model here - just using randomly initialized weights! We will train later models in this notebook.\n",
        "\n",
        "Try filling in the blanks below and walking through each line! **If you want a hint or more details, check out the optional reference below.**"
      ]
    },
    {
      "cell_type": "code",
      "metadata": {
        "id": "dp-g9qotbRPU",
        "colab": {
          "base_uri": "https://localhost:8080/"
        },
        "outputId": "193a1a34-f26a-491c-f451-0180e124c90c"
      },
      "source": [
        "# Fill in the blanks with your group!\n",
        "### YOUR CODE HERE:\n",
        "model_1 = Sequential()\n",
        "model_1.add(InputLayer(input_shape=(3,)))\n",
        "model_1.add(Dense(4, activation = 'relu'))\n",
        "model_1.add(Dense(2, activation = 'softmax'))\n",
        "model_1.compile(loss='categorical_crossentropy',\n",
        "                optimizer = 'adam', \n",
        "                metrics = ['accuracy'])\n",
        "model_1.predict([[14,10,5]]) #Try any input! This represents an animal of height 14, weight 18, and age 5.\n",
        "### END CODE"
      ],
      "execution_count": null,
      "outputs": [
        {
          "output_type": "stream",
          "name": "stdout",
          "text": [
            "WARNING:tensorflow:5 out of the last 28 calls to <function Model.make_predict_function.<locals>.predict_function at 0x7f65d7c5e680> triggered tf.function retracing. Tracing is expensive and the excessive number of tracings could be due to (1) creating @tf.function repeatedly in a loop, (2) passing tensors with different shapes, (3) passing Python objects instead of tensors. For (1), please define your @tf.function outside of the loop. For (2), @tf.function has experimental_relax_shapes=True option that relaxes argument shapes that can avoid unnecessary retracing. For (3), please refer to https://www.tensorflow.org/guide/function#controlling_retracing and https://www.tensorflow.org/api_docs/python/tf/function for  more details.\n"
          ]
        },
        {
          "output_type": "execute_result",
          "data": {
            "text/plain": [
              "array([[0.8350711 , 0.16492888]], dtype=float32)"
            ]
          },
          "metadata": {},
          "execution_count": 17
        }
      ]
    },
    {
      "cell_type": "markdown",
      "metadata": {
        "id": "baWZ9zXtF2Cz"
      },
      "source": [
        "**Discuss:** How would you interpret this output? Does our (untrained) network classify this as a cat or a dog?"
      ]
    },
    {
      "cell_type": "markdown",
      "metadata": {
        "id": "781M4IyhssuA"
      },
      "source": [
        "####**Optional Reference**\n",
        "\n",
        "Here's some information about each step of the process. **You don't need to read through all this - check it as a reference if needed!**\n",
        "\n",
        "**1. Specify model**\n",
        "\n",
        "```\n",
        "model = Sequential()\n",
        "```\n",
        "In this line of code, we build our network where the information flows from LEFT to RIGHT through the network in ONE DIRECTION as opposed to multiple directions. Neurons on the right never pass informations to neurons on the left of it. \n",
        "\n",
        "\n",
        "**2. Add layers to the network**\n",
        "```\n",
        "model.add(Dense(4, activation = 'sigmoid'))\n",
        "```\n",
        "In this code, we add a layer of neurons to our network. \n",
        "\n",
        "This layers consists of 4 neurons. Each neuron is DENSE and connects to all of the previous layer's inputs and all of the subsequent layers outputs. We specify that there are 3 inputs here.\n",
        "\n",
        "We also specify what kind of output the neuron will give. If you want the neuron to output a number between 0 and 1 (like a probability!) you would use 'softmax' or 'sigmoid'. If you want the neuron to output any number, you can use 'linear'! You'll also often see 'relu', which is when a neuron will only output positive numbers. \n",
        "\n",
        "```\n",
        "model.add(Dense(1, activation = 'linear'))\n",
        "```\n",
        "This code adds ANOTHER layer to the network that has 1 neuron. This one neuron is used to predict a continuous value!\n",
        "\n",
        "**3. Turn the model on by compiling it** \n",
        "\n",
        "After having built the network, we want to train and use it, so we have to 'compile' it to prepare. We have to specify at the very least: a loss (how the model measures the quality of its weights), an optimizer (which adjusts the weights), and a metric (how to evaluate our results). Here are some common choices:\n",
        "```\n",
        "model.compile(loss='mean_squared_error',\n",
        "optimizer = 'adam',\n",
        "metrics = ['mean_squared_error'])\n",
        "  ```\n",
        "\n",
        "Once we've created our network, we can use it very simply! Just like we did with sklearn, we define our input data (x), the true predictions from that data (y), and then train our model with `fit`. \n",
        "\n",
        "```\n",
        "model.fit(x, y)\n",
        "```\n",
        "\n",
        "To use the model, you can use it to predict something with:\n",
        "```\n",
        "y = model.predict(x)\n",
        "```\n",
        "\n",
        "You can actually use the model before you even train it! It just won't perform very well. "
      ]
    },
    {
      "cell_type": "markdown",
      "metadata": {
        "id": "YovNRgfuy0Oq"
      },
      "source": [
        "###(Optional) Exercise: Building a Multi-layer Neural Net Using Keras ✍️\n",
        "\n",
        "![](http://cs231n.github.io/assets/nn1/neural_net2.jpeg)\n",
        "\n",
        "Let's try another, bigger example!\n",
        "\n",
        "Here, we are predicting a house price: regression! Our inputs could be \"year the house was built\", \"home square footage\", and \"lot square footage\", while our output is price (in thousands of dollars).\n",
        "\n",
        "* Input Layer: 3 neurons\n",
        "\n",
        "* Layer 1: 4 neurons that are activated by `'relu' `and take in 3 inputs.\n",
        "\n",
        "* Layer 2: 4 neurons that are activated by `'relu'`\n",
        "\n",
        "* Layer 3 (out): 1 neuron that is activated by `'relu'`\n",
        "\n",
        "Compile the model with\n",
        "`'mean_squared_error'` as both loss and metric, and try making a prediction for some made-up data.\n"
      ]
    },
    {
      "cell_type": "code",
      "metadata": {
        "id": "pm-ylEWqbXrQ",
        "colab": {
          "base_uri": "https://localhost:8080/"
        },
        "outputId": "d7634487-b40d-4160-db9c-3b70030f9a8a"
      },
      "source": [
        "### YOUR CODE HERE\n",
        "model_1 = Sequential()\n",
        "model_1.add(InputLayer(input_shape=(3,)))\n",
        "model_1.add(Dense(4, activation = 'relu'))\n",
        "model_1.add(Dense(4, activation = 'relu'))\n",
        "model_1.add(Dense(1, activation = 'relu'))\n",
        "model_1.compile(loss='mean_squared_error',\n",
        "                optimizer = 'adam', \n",
        "                metrics = ['accuracy'])\n",
        "model_1.predict([[14,10,5]])\n",
        "\n",
        "\n",
        "### END CODE"
      ],
      "execution_count": null,
      "outputs": [
        {
          "output_type": "stream",
          "name": "stdout",
          "text": [
            "WARNING:tensorflow:6 out of the last 29 calls to <function Model.make_predict_function.<locals>.predict_function at 0x7f65d7bfe950> triggered tf.function retracing. Tracing is expensive and the excessive number of tracings could be due to (1) creating @tf.function repeatedly in a loop, (2) passing tensors with different shapes, (3) passing Python objects instead of tensors. For (1), please define your @tf.function outside of the loop. For (2), @tf.function has experimental_relax_shapes=True option that relaxes argument shapes that can avoid unnecessary retracing. For (3), please refer to https://www.tensorflow.org/guide/function#controlling_retracing and https://www.tensorflow.org/api_docs/python/tf/function for  more details.\n"
          ]
        },
        {
          "output_type": "execute_result",
          "data": {
            "text/plain": [
              "array([[6.700872]], dtype=float32)"
            ]
          },
          "metadata": {},
          "execution_count": 18
        }
      ]
    },
    {
      "cell_type": "markdown",
      "metadata": {
        "id": "YVCmntRHRjPQ"
      },
      "source": [
        "###(Optional) Exercise: Dogs vs. Roads Using Keras\n",
        "\n",
        "Let's try an even bigger example! Here, we are going to distinguish between images of dogs and roads once again. \n",
        "\n",
        "* Input Layer: 3072 dimensions (32 pixels x 32 pixels x 3 color channels)\n",
        "\n",
        "* Layer 1: 32 neurons that are activated by `'relu' `and take in 3072 inputs.\n",
        "\n",
        "* Layer 2: 16 neurons that are activated by `'relu'`\n",
        "\n",
        "* Layer 3 (out): 2 neurons that is activated by `'sigmoid'`\n",
        "\n",
        "Compile the model with\n",
        "`loss = 'binary_crossentropy'`, and try making predictions on `inputs_train`!\n",
        "\n",
        "Once again, we are not actually training this model - so the predictions won't be any good. Soon we will create a CNN, which we will train!"
      ]
    },
    {
      "cell_type": "code",
      "metadata": {
        "id": "DD2Dc4AYR31r",
        "colab": {
          "base_uri": "https://localhost:8080/"
        },
        "outputId": "22d9efd4-b702-4142-df14-238dfa053d16"
      },
      "source": [
        "### YOUR CODE HERE\n",
        "model_2 = Sequential()\n",
        "model_2.add(InputLayer(input_shape=(3072,)))\n",
        "model_2.add(Dense(32, activation = 'relu'))\n",
        "model_2.add(Dense(16, activation = 'relu'))\n",
        "model_2.add(Dense(2, activation = 'sigmoid'))\n",
        "model_2.compile(loss='binary_crossentropy',\n",
        "                optimizer = 'adam', \n",
        "                metrics = ['accuracy'])\n",
        "model_2.predict(inputs_train[:1])\n",
        "\n",
        "\n",
        "### END CODE"
      ],
      "execution_count": null,
      "outputs": [
        {
          "output_type": "execute_result",
          "data": {
            "text/plain": [
              "array([[1., 1.]], dtype=float32)"
            ]
          },
          "metadata": {},
          "execution_count": 16
        }
      ]
    },
    {
      "cell_type": "markdown",
      "metadata": {
        "id": "QCbD6siv-Ip-"
      },
      "source": [
        "##Exercise: Building a CNN Using Keras! ✍️\n",
        "\n",
        "Now that we know how to build simple neural networks in Keras, let's build a CNN! The CNN will perform well on our data set of car and road images. \n",
        "\n",
        "Below is Keras code for a CNN. It will run as-is on the conscientious cars dataset. However, the performance is suboptimal. Add more layers and change the neural network hyperparameters so that the performance will be better. **Can you get the train and validation accuracy to both be higher than 95%?**\n",
        "\n",
        "The Keras core layer API may be a useful reference: https://keras.io/layers/core/ \n",
        "\n",
        "In particular and in addition to adding more of the existing convolutional layers and activations, consider using the following layers after a convolution + activation:\n",
        "\n",
        "`Dropout(N)`\n",
        "\n",
        "`MaxPooling2D(pool_size=(N, N))`\n"
      ]
    },
    {
      "cell_type": "code",
      "metadata": {
        "id": "LFVHyPKn-V4N",
        "colab": {
          "base_uri": "https://localhost:8080/",
          "height": 997
        },
        "outputId": "bed7dd43-3748-4b86-bc95-5915315fafa4"
      },
      "source": [
        "model = Sequential()\n",
        "model.add(Reshape((32, 32, 3)))\n",
        "\n",
        "model.add(Conv2D(32, (3, 3), padding='same'))\n",
        "model.add(Activation('relu'))\n",
        "model.add(MaxPooling2D(pool_size=(2, 2)))\n",
        "\n",
        "###\n",
        "###\n",
        "### TODO: ADD MORE LAYERS HERE!!!!!\n",
        "###\n",
        "###\n",
        "\n",
        "model.add(Flatten())\n",
        "model.add(Dense(512))\n",
        "model.add(Activation('relu'))\n",
        "model.add(Dense(2))\n",
        "model.add(Activation('softmax'))\n",
        "\n",
        "# initiate RMSprop optimizer\n",
        "opt = keras.optimizers.RMSprop(learning_rate=0.0001, decay=1e-6)\n",
        "\n",
        "# Let's train the model using RMSprop\n",
        "model.compile(loss='categorical_crossentropy',\n",
        "              optimizer=opt,\n",
        "              metrics=['accuracy'])\n",
        "\n",
        "# Train the CNN and plot accuracy.\n",
        "history = model.fit(inputs_train, labels_train, \\\n",
        "                    validation_data=(inputs_test, labels_test), \\\n",
        "                    epochs=20)\n",
        "plot_acc(history)\n"
      ],
      "execution_count": null,
      "outputs": [
        {
          "output_type": "stream",
          "name": "stdout",
          "text": [
            "Epoch 1/20\n",
            "30/30 [==============================] - 4s 90ms/step - loss: 51.5245 - accuracy: 0.6365 - val_loss: 2.8595 - val_accuracy: 0.9000\n",
            "Epoch 2/20\n",
            "30/30 [==============================] - 2s 72ms/step - loss: 10.3478 - accuracy: 0.7990 - val_loss: 60.5900 - val_accuracy: 0.4792\n",
            "Epoch 3/20\n",
            "30/30 [==============================] - 2s 73ms/step - loss: 10.2366 - accuracy: 0.8219 - val_loss: 1.2776 - val_accuracy: 0.9583\n",
            "Epoch 4/20\n",
            "30/30 [==============================] - 2s 72ms/step - loss: 5.0116 - accuracy: 0.8708 - val_loss: 1.4630 - val_accuracy: 0.9333\n",
            "Epoch 5/20\n",
            "30/30 [==============================] - 2s 72ms/step - loss: 5.3217 - accuracy: 0.8604 - val_loss: 4.6408 - val_accuracy: 0.8500\n",
            "Epoch 6/20\n",
            "30/30 [==============================] - 2s 70ms/step - loss: 5.0142 - accuracy: 0.8667 - val_loss: 2.2884 - val_accuracy: 0.9292\n",
            "Epoch 7/20\n",
            "30/30 [==============================] - 2s 72ms/step - loss: 1.9163 - accuracy: 0.9354 - val_loss: 1.4380 - val_accuracy: 0.9292\n",
            "Epoch 8/20\n",
            "30/30 [==============================] - 2s 70ms/step - loss: 3.0160 - accuracy: 0.9167 - val_loss: 1.5259 - val_accuracy: 0.9500\n",
            "Epoch 9/20\n",
            "30/30 [==============================] - 2s 69ms/step - loss: 2.8910 - accuracy: 0.9229 - val_loss: 1.2173 - val_accuracy: 0.9417\n",
            "Epoch 10/20\n",
            "30/30 [==============================] - 2s 72ms/step - loss: 2.2392 - accuracy: 0.9281 - val_loss: 1.8525 - val_accuracy: 0.9167\n",
            "Epoch 11/20\n",
            "30/30 [==============================] - 2s 72ms/step - loss: 1.6336 - accuracy: 0.9240 - val_loss: 3.9796 - val_accuracy: 0.8708\n",
            "Epoch 12/20\n",
            "30/30 [==============================] - 2s 71ms/step - loss: 1.7099 - accuracy: 0.9458 - val_loss: 1.0382 - val_accuracy: 0.9542\n",
            "Epoch 13/20\n",
            "30/30 [==============================] - 2s 69ms/step - loss: 0.5660 - accuracy: 0.9625 - val_loss: 6.3952 - val_accuracy: 0.7792\n",
            "Epoch 14/20\n",
            "30/30 [==============================] - 2s 70ms/step - loss: 1.6802 - accuracy: 0.9281 - val_loss: 1.3523 - val_accuracy: 0.9375\n",
            "Epoch 15/20\n",
            "30/30 [==============================] - 2s 71ms/step - loss: 0.4421 - accuracy: 0.9708 - val_loss: 1.0087 - val_accuracy: 0.9417\n",
            "Epoch 16/20\n",
            "30/30 [==============================] - 2s 70ms/step - loss: 1.1553 - accuracy: 0.9563 - val_loss: 1.4354 - val_accuracy: 0.9375\n",
            "Epoch 17/20\n",
            "30/30 [==============================] - 2s 71ms/step - loss: 0.7236 - accuracy: 0.9531 - val_loss: 1.3369 - val_accuracy: 0.9375\n",
            "Epoch 18/20\n",
            "30/30 [==============================] - 2s 71ms/step - loss: 0.8777 - accuracy: 0.9469 - val_loss: 1.1313 - val_accuracy: 0.9542\n",
            "Epoch 19/20\n",
            "30/30 [==============================] - 2s 72ms/step - loss: 0.1397 - accuracy: 0.9844 - val_loss: 1.4464 - val_accuracy: 0.9250\n",
            "Epoch 20/20\n",
            "30/30 [==============================] - 2s 73ms/step - loss: 0.6658 - accuracy: 0.9646 - val_loss: 1.1874 - val_accuracy: 0.9500\n"
          ]
        },
        {
          "output_type": "display_data",
          "data": {
            "text/plain": [
              "<Figure size 432x288 with 1 Axes>"
            ],
            "image/png": "[encoded data removed]"
          },
          "metadata": {
            "needs_background": "light"
          }
        }
      ]
    },
    {
      "cell_type": "markdown",
      "metadata": {
        "id": "9JFLu0CdXM6K"
      },
      "source": [
        "**What interesting observations** do you make from the graph? How many epochs should you train for?\n",
        "\n",
        "We can also print out the structure of our model. What do the parts of the summary mean?"
      ]
    },
    {
      "cell_type": "code",
      "metadata": {
        "id": "RGwXs3C8YZl-",
        "colab": {
          "base_uri": "https://localhost:8080/"
        },
        "outputId": "f9a83d60-0850-4c0e-a050-49bc9ef9867e"
      },
      "source": [
        "model.summary()"
      ],
      "execution_count": null,
      "outputs": [
        {
          "output_type": "stream",
          "name": "stdout",
          "text": [
            "Model: \"sequential_10\"\n",
            "_________________________________________________________________\n",
            " Layer (type)                Output Shape              Param #   \n",
            "=================================================================\n",
            " reshape_4 (Reshape)         (None, 32, 32, 3)         0         \n",
            "                                                                 \n",
            " conv2d_14 (Conv2D)          (None, 32, 32, 32)        896       \n",
            "                                                                 \n",
            " activation_24 (Activation)  (None, 32, 32, 32)        0         \n",
            "                                                                 \n",
            " max_pooling2d_8 (MaxPooling  (None, 16, 16, 32)       0         \n",
            " 2D)                                                             \n",
            "                                                                 \n",
            " flatten_5 (Flatten)         (None, 8192)              0         \n",
            "                                                                 \n",
            " dense_23 (Dense)            (None, 512)               4194816   \n",
            "                                                                 \n",
            " activation_25 (Activation)  (None, 512)               0         \n",
            "                                                                 \n",
            " dense_24 (Dense)            (None, 2)                 1026      \n",
            "                                                                 \n",
            " activation_26 (Activation)  (None, 2)                 0         \n",
            "                                                                 \n",
            "=================================================================\n",
            "Total params: 4,196,738\n",
            "Trainable params: 4,196,738\n",
            "Non-trainable params: 0\n",
            "_________________________________________________________________\n"
          ]
        }
      ]
    },
    {
      "cell_type": "markdown",
      "metadata": {
        "id": "YXINPAJvRr9W"
      },
      "source": [
        "#Advanced: Cats vs. Dogs with CNN\n",
        "\n",
        "So far, we've trained a CNN to distinguish between small images of cats and small images of dogs. It's more challenging and time-consuming to train CNNs for bigger images or harder tasks, like distinguishing dogs from cats (which look a lot more like dogs than roads do!)\n",
        "\n",
        "In this exercise, you'll adapt your previous model to classify large images of dogs vs. cats, and then try implementing a famous CNN architecture. Along the way, you'll deal with some of the debugging that machine learning engineers often have to handle."
      ]
    },
    {
      "cell_type": "code",
      "metadata": {
        "id": "6gU39z3jNMAt",
        "colab": {
          "base_uri": "https://localhost:8080/"
        },
        "outputId": "acd6587d-46a0-458f-8832-6f23a3ae5050"
      },
      "source": [
        "#@title Run this to load cat and dog data. { display-mode: \"form\" }\n",
        "\n",
        "#Code here from https://colab.research.google.com/github/google/eng-edu/blob/master/ml/pc/exercises/image_classification_part1.ipynb#scrollTo=4PIP1rkmeAYS\n",
        "\n",
        "import tensorflow as tf\n",
        "import os \n",
        "from tensorflow.keras.preprocessing.image import ImageDataGenerator\n",
        "from google.colab.patches import cv2_imshow\n",
        "import cv2\n",
        "import matplotlib.pyplot as plt\n",
        "\n",
        "try:\n",
        "  road_model = model\n",
        "  road_saved = True\n",
        "except NameError:\n",
        "  road_saved = False\n",
        "\n",
        "IMG_SHAPE  = 150  # Our training data consists of images with width of 150 pixels and height of 150 pixels\n",
        "_URL = 'https://storage.googleapis.com/mledu-datasets/cats_and_dogs_filtered.zip'\n",
        "zip_dir = tf.keras.utils.get_file('cats_and_dogs_filterted.zip', origin=_URL, extract=True)\n",
        "base_dir = os.path.join(os.path.dirname(zip_dir), 'cats_and_dogs_filtered')\n",
        "train_dir = os.path.join(base_dir, 'train')\n",
        "validation_dir = os.path.join(base_dir, 'validation')\n",
        "\n",
        "train_cats_dir = os.path.join(train_dir, 'cats')  # directory with our training cat pictures\n",
        "train_dogs_dir = os.path.join(train_dir, 'dogs')  # directory with our training dog pictures\n",
        "validation_cats_dir = os.path.join(validation_dir, 'cats')  # directory with our validation cat pictures\n",
        "validation_dogs_dir = os.path.join(validation_dir, 'dogs')  # directory with our validation dog pictures\n",
        "train_image_generator      = ImageDataGenerator()  # Generator for our training data\n",
        "validation_image_generator = ImageDataGenerator()  # Generator for our validation data\n",
        "train_data = train_image_generator.flow_from_directory(batch_size=2000,\n",
        "                                                           directory=train_dir,\n",
        "                                                           shuffle=True,\n",
        "                                                           target_size=(IMG_SHAPE,IMG_SHAPE), #(150,150)\n",
        "                                                           class_mode='binary').next()\n",
        "val_data = validation_image_generator.flow_from_directory(batch_size=1000,\n",
        "                                                              directory=validation_dir,\n",
        "                                                              shuffle=False,\n",
        "                                                              target_size=(IMG_SHAPE,IMG_SHAPE), #(150,150)\n",
        "\n",
        "                                                              class_mode='binary').next()\n",
        "cd_train_inputs, cd_train_labels = train_data\n",
        "cd_test_inputs, cd_test_labels = val_data"
      ],
      "execution_count": 5,
      "outputs": [
        {
          "output_type": "stream",
          "name": "stdout",
          "text": [
            "Downloading data from https://storage.googleapis.com/mledu-datasets/cats_and_dogs_filtered.zip\n",
            "68608000/68606236 [==============================] - 1s 0us/step\n",
            "68616192/68606236 [==============================] - 1s 0us/step\n",
            "Found 2000 images belonging to 2 classes.\n",
            "Found 1000 images belonging to 2 classes.\n"
          ]
        }
      ]
    },
    {
      "cell_type": "markdown",
      "metadata": {
        "id": "1y5etOJwScaG"
      },
      "source": [
        "**Run the code below to see the dimensions of our training and validation data. What does each number mean? What is different than our previous dataset?** "
      ]
    },
    {
      "cell_type": "code",
      "metadata": {
        "id": "kjdedJ0VNvWg",
        "colab": {
          "base_uri": "https://localhost:8080/"
        },
        "outputId": "335200b6-0b43-426b-e65d-d30cf3fd78ab"
      },
      "source": [
        "print(cd_train_inputs.shape) \n",
        "print(cd_train_labels.shape) \n",
        "print(cd_test_inputs.shape) \n",
        "print(cd_test_labels.shape) "
      ],
      "execution_count": 6,
      "outputs": [
        {
          "output_type": "stream",
          "name": "stdout",
          "text": [
            "(2000, 150, 150, 3)\n",
            "(2000,)\n",
            "(1000, 150, 150, 3)\n",
            "(1000,)\n"
          ]
        }
      ]
    },
    {
      "cell_type": "markdown",
      "metadata": {
        "id": "qIAkgOqWTAL7"
      },
      "source": [
        "**Run this code to see a random image from our training data (different each time).**"
      ]
    },
    {
      "cell_type": "code",
      "metadata": {
        "id": "HooiJ-RrQPcA",
        "colab": {
          "base_uri": "https://localhost:8080/",
          "height": 287
        },
        "outputId": "e603e6de-95b7-4164-e87e-2d7e7dac6b48"
      },
      "source": [
        "index = np.random.randint(len(cd_train_inputs))\n",
        "plt.imshow(cd_train_inputs[index]/255)\n",
        "plt.show()\n",
        "print(\"Label:\",cd_train_labels[index])"
      ],
      "execution_count": 7,
      "outputs": [
        {
          "output_type": "display_data",
          "data": {
            "text/plain": [
              "<Figure size 432x288 with 1 Axes>"
            ],
            "image/png": "[encoded data removed]"
          },
          "metadata": {
            "needs_background": "light"
          }
        },
        {
          "output_type": "stream",
          "name": "stdout",
          "text": [
            "Label: 0.0\n"
          ]
        }
      ]
    },
    {
      "cell_type": "markdown",
      "metadata": {
        "id": "HOwP9kX9UshH"
      },
      "source": [
        "**By adapting code from the previous exercise, build, train, and test a CNN to classify cats vs. dogs.**\n",
        "**Hints:**\n",
        "*   Use print(model.summary()) for a useful visualization of your model's architecture. Compare the summary of your cat/road and cat/dog classifiers.\n",
        "*  Substitute the names of the new datasets.\n",
        "*  Get a \"first try\" working by making small adjustments to a previous model before trying to optimize the accuracy. You can temporarily comment out layers as you figure things out.\n",
        "*  The outputs have different shapes betweeen the two datasets. What do you need to change? (You will get an ValueError that suggests how to transform the output to a one-hot encoding.) \n",
        "*  If you run out of memory, restart the notebook and/or use your knowledge of convolution arithmetic to reduce the size of an intermediate output (see [Keras documentation](https://www.tensorflow.org/api_docs/python/tf/keras/layers/Conv2D)).\n",
        "* Dropout layers help reduce overfitting.\n"
      ]
    },
    {
      "cell_type": "code",
      "metadata": {
        "id": "AeuqlzigZZ8I",
        "colab": {
          "base_uri": "https://localhost:8080/",
          "height": 1000
        },
        "outputId": "14a96e72-3379-41bc-9241-27e978fb16c1"
      },
      "source": [
        "#TODO: Your code here to build, train, and test a cats vs. dogs CNN!\n",
        "model = Sequential()\n",
        "#model.add(Reshape((32, 32, 3)))\n",
        "\n",
        "model.add(Conv2D(32, (3, 3), padding='same'))\n",
        "model.add(Activation('relu'))\n",
        "model.add(MaxPooling2D(pool_size=(5, 5)))\n",
        "\n",
        "###\n",
        "###\n",
        "### TODO: ADD MORE LAYERS HERE!!!!!\n",
        "model.add(Conv2D(64, (5, 5), padding='same'))\n",
        "model.add(Activation('relu'))\n",
        "model.add(MaxPooling2D(pool_size=(3, 3)))\n",
        "\n",
        "###\n",
        "###\n",
        "\n",
        "model.add(Flatten())\n",
        "model.add(Dense(512))\n",
        "model.add(Activation('relu'))\n",
        "model.add(Dense(2))\n",
        "model.add(Activation('softmax'))\n",
        "\n",
        "# initiate RMSprop optimizer\n",
        "opt = keras.optimizers.RMSprop(learning_rate=0.0001, decay=1e-6)\n",
        "\n",
        "# Let's train the model using RMSprop\n",
        "model.compile(loss='categorical_crossentropy',\n",
        "              optimizer=opt,\n",
        "              metrics=['accuracy'])\n",
        "\n",
        "# Train the CNN and plot accuracy.\n",
        "history = model.fit(cd_train_inputs, to_categorical(cd_train_labels), \\\n",
        "                    validation_data=(cd_test_inputs, to_categorical(cd_test_labels)), \\\n",
        "                    epochs=25)\n",
        "plot_acc(history)\n",
        "\n",
        "#If you run into errors, see the hints above for help debugging! \n",
        "#\n",
        "#\n"
      ],
      "execution_count": 8,
      "outputs": [
        {
          "output_type": "stream",
          "name": "stdout",
          "text": [
            "Epoch 1/25\n",
            "63/63 [==============================] - 3s 31ms/step - loss: 19.1412 - accuracy: 0.5440 - val_loss: 4.6305 - val_accuracy: 0.5030\n",
            "Epoch 2/25\n",
            "63/63 [==============================] - 1s 22ms/step - loss: 2.0971 - accuracy: 0.5880 - val_loss: 1.0064 - val_accuracy: 0.6450\n",
            "Epoch 3/25\n",
            "63/63 [==============================] - 1s 22ms/step - loss: 0.9389 - accuracy: 0.6420 - val_loss: 1.3195 - val_accuracy: 0.5660\n",
            "Epoch 4/25\n",
            "63/63 [==============================] - 1s 22ms/step - loss: 0.5130 - accuracy: 0.7595 - val_loss: 0.8778 - val_accuracy: 0.6390\n",
            "Epoch 5/25\n",
            "63/63 [==============================] - 1s 22ms/step - loss: 0.3286 - accuracy: 0.8590 - val_loss: 0.9217 - val_accuracy: 0.6370\n",
            "Epoch 6/25\n",
            "63/63 [==============================] - 1s 22ms/step - loss: 0.2262 - accuracy: 0.9075 - val_loss: 1.0269 - val_accuracy: 0.6300\n",
            "Epoch 7/25\n",
            "63/63 [==============================] - 1s 22ms/step - loss: 0.1489 - accuracy: 0.9440 - val_loss: 0.9686 - val_accuracy: 0.6900\n",
            "Epoch 8/25\n",
            "63/63 [==============================] - 1s 23ms/step - loss: 0.1059 - accuracy: 0.9635 - val_loss: 1.2477 - val_accuracy: 0.6190\n",
            "Epoch 9/25\n",
            "63/63 [==============================] - 1s 22ms/step - loss: 0.0845 - accuracy: 0.9655 - val_loss: 1.1471 - val_accuracy: 0.6530\n",
            "Epoch 10/25\n",
            "63/63 [==============================] - 1s 22ms/step - loss: 0.0574 - accuracy: 0.9840 - val_loss: 1.1049 - val_accuracy: 0.6940\n",
            "Epoch 11/25\n",
            "63/63 [==============================] - 1s 22ms/step - loss: 0.0655 - accuracy: 0.9870 - val_loss: 1.2984 - val_accuracy: 0.6670\n",
            "Epoch 12/25\n",
            "63/63 [==============================] - 1s 22ms/step - loss: 0.0941 - accuracy: 0.9810 - val_loss: 1.1299 - val_accuracy: 0.6810\n",
            "Epoch 13/25\n",
            "63/63 [==============================] - 1s 22ms/step - loss: 0.0451 - accuracy: 0.9870 - val_loss: 1.2443 - val_accuracy: 0.6960\n",
            "Epoch 14/25\n",
            "63/63 [==============================] - 1s 21ms/step - loss: 0.0726 - accuracy: 0.9825 - val_loss: 1.2459 - val_accuracy: 0.6830\n",
            "Epoch 15/25\n",
            "63/63 [==============================] - 1s 22ms/step - loss: 0.0561 - accuracy: 0.9880 - val_loss: 1.1370 - val_accuracy: 0.6920\n",
            "Epoch 16/25\n",
            "63/63 [==============================] - 1s 22ms/step - loss: 0.0013 - accuracy: 1.0000 - val_loss: 1.2862 - val_accuracy: 0.6960\n",
            "Epoch 17/25\n",
            "63/63 [==============================] - 1s 22ms/step - loss: 0.0315 - accuracy: 0.9910 - val_loss: 1.2988 - val_accuracy: 0.6980\n",
            "Epoch 18/25\n",
            "63/63 [==============================] - 1s 22ms/step - loss: 0.1235 - accuracy: 0.9845 - val_loss: 1.4148 - val_accuracy: 0.6990\n",
            "Epoch 19/25\n",
            "63/63 [==============================] - 1s 22ms/step - loss: 8.6015e-04 - accuracy: 1.0000 - val_loss: 1.3888 - val_accuracy: 0.6970\n",
            "Epoch 20/25\n",
            "63/63 [==============================] - 1s 22ms/step - loss: 0.0752 - accuracy: 0.9895 - val_loss: 1.3140 - val_accuracy: 0.7110\n",
            "Epoch 21/25\n",
            "63/63 [==============================] - 1s 21ms/step - loss: 6.2783e-04 - accuracy: 1.0000 - val_loss: 1.4163 - val_accuracy: 0.7030\n",
            "Epoch 22/25\n",
            "63/63 [==============================] - 1s 23ms/step - loss: 0.1120 - accuracy: 0.9880 - val_loss: 1.4053 - val_accuracy: 0.6990\n",
            "Epoch 23/25\n",
            "63/63 [==============================] - 1s 22ms/step - loss: 4.4118e-04 - accuracy: 1.0000 - val_loss: 1.4972 - val_accuracy: 0.6980\n",
            "Epoch 24/25\n",
            "63/63 [==============================] - 1s 22ms/step - loss: 6.1794e-05 - accuracy: 1.0000 - val_loss: 1.6418 - val_accuracy: 0.6990\n",
            "Epoch 25/25\n",
            "63/63 [==============================] - 1s 22ms/step - loss: 0.0908 - accuracy: 0.9860 - val_loss: 1.6949 - val_accuracy: 0.7030\n"
          ]
        },
        {
          "output_type": "display_data",
          "data": {
            "text/plain": [
              "<Figure size 432x288 with 1 Axes>"
            ],
            "image/png": "[encoded data removed]"
          },
          "metadata": {
            "needs_background": "light"
          }
        }
      ]
    },
    {
      "cell_type": "markdown",
      "metadata": {
        "id": "m6sFSGEqjPwe"
      },
      "source": [
        "#Advanced Challenge: Implementing a Famous Architecture for Cats vs. Dogs\n",
        "\n",
        "Having trouble designing an effective architecture? Try implementing a version of AlexNet, one of the most famous CNNs for image convolution ever. You can find this image and other useful information on this network [here](https://towardsdatascience.com/the-w3h-of-alexnet-vggnet-resnet-and-inception-7baaaecccc96).\n",
        "\n",
        "![](https://lh4.googleusercontent.com/gFAxn9Z-Y1lgkNy2GfsqjXy1DvSuYF8rvP3CslRvmuoP5SUaJMrEOr24YShU_LwalLpYNJFwpJgcDh9whk9XrMOGQ1ADQ9FY_0saicCVH0jsNPDKOYBcTG4YhbqpbPolW4hZSdUsDQ)\n",
        "\n",
        "How do we read this diagram?\n",
        "\n",
        "On the left side, we start with images of dimension 227x227x3 (RGB). We apply a filter composed of 96 kernels of size 11x11, with stride size 4. We end up with data of dimension 55x55x96. We pass through multiple layers of convolution and max pooling as shown, before ending with three dense (fully connected) layers.\n",
        "\n",
        "Not shown: each layer uses ReLU activation, and we include dropout before the first two dense layers. Make sure to include those!\n",
        "\n",
        "You'll want to adjust some of these dimensions, for a few reasons: we're starting with 150x150 rather than 227x227 images, ending with 2 labels rather than 1000, and have limited data and memory. Use your knowledge of convolution arithmetic (see CNN slides) and the [Keras documentation](https://www.tensorflow.org/api_docs/python/tf/keras/layers/Conv2D) to change the stride, kernel, and/or padding.\n",
        "\n",
        "Use model.summary() to understand the dimensions of your data at each step. To speed things up as you're building, you can set the number of epochs to 1."
      ]
    },
    {
      "cell_type": "code",
      "metadata": {
        "id": "8FHg8YTGtQ2t",
        "colab": {
          "base_uri": "https://localhost:8080/",
          "height": 1000
        },
        "outputId": "a204869d-88f9-4de3-b87b-7a2781b9c8fc"
      },
      "source": [
        "model = Sequential()\n",
        "#TODO: Your AlexNet code here:\n",
        "model.add(Conv2D(96, 11, strides = 3))\n",
        "model.add(Activation('relu'))\n",
        "\n",
        "model.add(Conv2D(256, 5))\n",
        "model.add(Activation('relu'))\n",
        "\n",
        "model.add(MaxPooling2D(2))\n",
        "model.add(Activation('relu'))\n",
        "\n",
        "model.add(Conv2D(384, 3, padding = 'same'))\n",
        "model.add(Activation('relu'))\n",
        "\n",
        "model.add(MaxPooling2D(2))\n",
        "model.add(Activation('relu'))\n",
        "\n",
        "model.add(Conv2D(384, 3, padding = 'same'))\n",
        "model.add(Activation('relu'))\n",
        "\n",
        "model.add(Conv2D(256, 3, padding = 'same'))\n",
        "model.add(Activation('relu'))\n",
        "\n",
        "model.add(MaxPooling2D(2))\n",
        "model.add(Activation('relu'))\n",
        "\n",
        "model.add(Flatten())\n",
        "\n",
        "model.add(Dropout(0.5))\n",
        "model.add(Dense(4096))\n",
        "model.add(Activation('relu'))\n",
        "\n",
        "model.add(Dropout(0.5))\n",
        "model.add(Dense(128))\n",
        "model.add(Activation('relu'))\n",
        "\n",
        "model.add(Dense(2))\n",
        "model.add(Activation('softmax'))\n",
        "\n",
        "# initiate RMSprop optimizer\n",
        "opt = keras.optimizers.RMSprop(learning_rate=0.0001, decay=1e-6)\n",
        "\n",
        "# Let's train the model using RMSprop\n",
        "model.compile(loss='categorical_crossentropy',\n",
        "              optimizer=opt,\n",
        "              metrics=['accuracy'])\n",
        "\n",
        "# Train the CNN and plot accuracy.\n",
        "# Substituted new dataset names; to_categorical converts to one-hot, as ValueError suggests \n",
        "history = model.fit(cd_train_inputs, to_categorical(cd_train_labels), \\\n",
        "                    validation_data=(cd_test_inputs, to_categorical(cd_test_labels)), \\\n",
        "                    epochs=10) \n",
        "plot_acc(history)\n",
        "\n",
        "print(model.summary())\n",
        "\n",
        "\n"
      ],
      "execution_count": 9,
      "outputs": [
        {
          "output_type": "stream",
          "name": "stdout",
          "text": [
            "Epoch 1/10\n",
            "63/63 [==============================] - 8s 85ms/step - loss: 1.9716 - accuracy: 0.5085 - val_loss: 0.9281 - val_accuracy: 0.5000\n",
            "Epoch 2/10\n",
            "63/63 [==============================] - 4s 65ms/step - loss: 0.7336 - accuracy: 0.4930 - val_loss: 0.6911 - val_accuracy: 0.5490\n",
            "Epoch 3/10\n",
            "63/63 [==============================] - 4s 65ms/step - loss: 0.7169 - accuracy: 0.5070 - val_loss: 0.6894 - val_accuracy: 0.5000\n",
            "Epoch 4/10\n",
            "63/63 [==============================] - 4s 65ms/step - loss: 0.7047 - accuracy: 0.5140 - val_loss: 0.6895 - val_accuracy: 0.5050\n",
            "Epoch 5/10\n",
            "63/63 [==============================] - 4s 66ms/step - loss: 0.6992 - accuracy: 0.5115 - val_loss: 0.6919 - val_accuracy: 0.5150\n",
            "Epoch 6/10\n",
            "63/63 [==============================] - 4s 66ms/step - loss: 0.6991 - accuracy: 0.5285 - val_loss: 0.6858 - val_accuracy: 0.5190\n",
            "Epoch 7/10\n",
            "63/63 [==============================] - 4s 66ms/step - loss: 0.6907 - accuracy: 0.5595 - val_loss: 0.7765 - val_accuracy: 0.5190\n",
            "Epoch 8/10\n",
            "63/63 [==============================] - 4s 65ms/step - loss: 0.6745 - accuracy: 0.5990 - val_loss: 0.6719 - val_accuracy: 0.5830\n",
            "Epoch 9/10\n",
            "63/63 [==============================] - 4s 66ms/step - loss: 0.6527 - accuracy: 0.6260 - val_loss: 0.6351 - val_accuracy: 0.6410\n",
            "Epoch 10/10\n",
            "63/63 [==============================] - 4s 69ms/step - loss: 0.6270 - accuracy: 0.6665 - val_loss: 0.6667 - val_accuracy: 0.5830\n"
          ]
        },
        {
          "output_type": "display_data",
          "data": {
            "text/plain": [
              "<Figure size 432x288 with 1 Axes>"
            ],
            "image/png": "[encoded data removed]"
          },
          "metadata": {
            "needs_background": "light"
          }
        },
        {
          "output_type": "stream",
          "name": "stdout",
          "text": [
            "Model: \"sequential_3\"\n",
            "_________________________________________________________________\n",
            " Layer (type)                Output Shape              Param #   \n",
            "=================================================================\n",
            " conv2d_8 (Conv2D)           (None, 47, 47, 96)        34944     \n",
            "                                                                 \n",
            " activation_11 (Activation)  (None, 47, 47, 96)        0         \n",
            "                                                                 \n",
            " conv2d_9 (Conv2D)           (None, 43, 43, 256)       614656    \n",
            "                                                                 \n",
            " activation_12 (Activation)  (None, 43, 43, 256)       0         \n",
            "                                                                 \n",
            " max_pooling2d_4 (MaxPooling  (None, 21, 21, 256)      0         \n",
            " 2D)                                                             \n",
            "                                                                 \n",
            " activation_13 (Activation)  (None, 21, 21, 256)       0         \n",
            "                                                                 \n",
            " conv2d_10 (Conv2D)          (None, 21, 21, 384)       885120    \n",
            "                                                                 \n",
            " activation_14 (Activation)  (None, 21, 21, 384)       0         \n",
            "                                                                 \n",
            " max_pooling2d_5 (MaxPooling  (None, 10, 10, 384)      0         \n",
            " 2D)                                                             \n",
            "                                                                 \n",
            " activation_15 (Activation)  (None, 10, 10, 384)       0         \n",
            "                                                                 \n",
            " conv2d_11 (Conv2D)          (None, 10, 10, 384)       1327488   \n",
            "                                                                 \n",
            " activation_16 (Activation)  (None, 10, 10, 384)       0         \n",
            "                                                                 \n",
            " conv2d_12 (Conv2D)          (None, 10, 10, 256)       884992    \n",
            "                                                                 \n",
            " activation_17 (Activation)  (None, 10, 10, 256)       0         \n",
            "                                                                 \n",
            " max_pooling2d_6 (MaxPooling  (None, 5, 5, 256)        0         \n",
            " 2D)                                                             \n",
            "                                                                 \n",
            " activation_18 (Activation)  (None, 5, 5, 256)         0         \n",
            "                                                                 \n",
            " flatten_2 (Flatten)         (None, 6400)              0         \n",
            "                                                                 \n",
            " dropout_3 (Dropout)         (None, 6400)              0         \n",
            "                                                                 \n",
            " dense_4 (Dense)             (None, 4096)              26218496  \n",
            "                                                                 \n",
            " activation_19 (Activation)  (None, 4096)              0         \n",
            "                                                                 \n",
            " dropout_4 (Dropout)         (None, 4096)              0         \n",
            "                                                                 \n",
            " dense_5 (Dense)             (None, 128)               524416    \n",
            "                                                                 \n",
            " activation_20 (Activation)  (None, 128)               0         \n",
            "                                                                 \n",
            " dense_6 (Dense)             (None, 2)                 258       \n",
            "                                                                 \n",
            " activation_21 (Activation)  (None, 2)                 0         \n",
            "                                                                 \n",
            "=================================================================\n",
            "Total params: 30,490,370\n",
            "Trainable params: 30,490,370\n",
            "Non-trainable params: 0\n",
            "_________________________________________________________________\n",
            "None\n"
          ]
        }
      ]
    },
    {
      "cell_type": "markdown",
      "metadata": {
        "id": "PlF308hDjwyC"
      },
      "source": [
        "You might find that even AlexNet isn't working that well for you!\n",
        "\n",
        "This is because having a good architecture is only half the battle: AlexNet is a complex model designed to learn from millions of images. We're using a small dataset of only 2000 training images, so it's not surprising that our results aren't great. Our model is overfitting: essentially memorizing the few training images, rather than really learning the difference between a cat and a dog. (The advantage is that our model trains quickly.)\n",
        "\n",
        "To get really good performance, we need more data. If we can't find more, we could use *data augmentation*: inventing new training data by transforming our existing images. You can read more about it at https://blog.keras.io/building-powerful-image-classification-models-using-very-little-data.html."
      ]
    },
    {
      "cell_type": "markdown",
      "metadata": {
        "id": "RVzEpI_xWpE5"
      },
      "source": [
        "![](https://images.pexels.com/photos/316/black-and-white-animal-dog-pet.jpg?auto=compress&cs=tinysrgb&dpr=2&h=650&w=940)"
      ]
    }
  ]
}