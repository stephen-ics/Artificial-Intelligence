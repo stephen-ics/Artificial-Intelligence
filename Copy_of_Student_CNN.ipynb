{
  "nbformat": 4,
  "nbformat_minor": 0,
  "metadata": {
    "accelerator": "GPU",
    "colab": {
      "name": "Copy of Student_CNN.ipynb",
      "provenance": [],
      "collapsed_sections": [],
      "include_colab_link": true
    },
    "kernelspec": {
      "display_name": "Python 3",
      "language": "python",
      "name": "python3"
    },
    "language_info": {
      "codemirror_mode": {
        "name": "ipython",
        "version": 3
      },
      "file_extension": ".py",
      "mimetype": "text/x-python",
      "name": "python",
      "nbconvert_exporter": "python",
      "pygments_lexer": "ipython3",
      "version": "3.8.2"
    }
  },
  "cells": [
    {
      "cell_type": "markdown",
      "metadata": {
        "id": "view-in-github",
        "colab_type": "text"
      },
      "source": [
        "<a href=\"https://colab.research.google.com/github/stephen-ics/Inspirit-AI/blob/main/Copy_of_Student_CNN.ipynb\" target=\"_parent\"><img src=\"https://colab.research.google.com/assets/colab-badge.svg\" alt=\"Open In Colab\"/></a>"
      ]
    },
    {
      "cell_type": "markdown",
      "metadata": {
        "id": "TiM6gYg0nhkY"
      },
      "source": [
        "<font color=\"#de3023\"><h1><b>REMINDER MAKE A COPY OF THIS NOTEBOOK, DO NOT EDIT</b></h1></font>"
      ]
    },
    {
      "cell_type": "markdown",
      "metadata": {
        "id": "Sq-JhCcLpBwS"
      },
      "source": [
        "#Conscientious Cars 2: Convolutional Neural Nets\n",
        "\n",
        "Welcome back to CC: ConscientiousCars! Today, we'll be improving on our system for distinguishing dogs from roads."
      ]
    },
    {
      "cell_type": "code",
      "metadata": {
        "id": "uhNVum16scIW",
        "colab": {
          "base_uri": "https://localhost:8080/"
        },
        "outputId": "a3b95e61-399e-4572-bbab-554feb8f9f6d"
      },
      "source": [
        "#@title Run this to load some packages and data! { display-mode: \"form\" }\n",
        "import pickle\n",
        "import numpy as np\n",
        "import pandas as pd\n",
        "import seaborn as sns\n",
        "import matplotlib.pyplot as plt\n",
        "from sklearn.neural_network import MLPClassifier\n",
        "from sklearn.neighbors import KNeighborsClassifier\n",
        "from sklearn import model_selection\n",
        "from sklearn.metrics import accuracy_score\n",
        "from collections import Counter\n",
        "import keras.api._v2.keras as keras\n",
        "from keras.models import Sequential\n",
        "from keras.layers import Dense, Conv2D, InputLayer\n",
        "from keras.layers import Activation, MaxPooling2D, Dropout, Flatten, Reshape\n",
        "from keras.utils.np_utils import to_categorical \n",
        "!pip install -q git+https://github.com/rdk2132/scikeras # workaround for scikeras deprecation\n",
        "from scikeras.wrappers import KerasClassifier\n",
        "from sklearn.model_selection import StratifiedKFold\n",
        "from sklearn.model_selection import cross_val_score\n",
        "\n",
        "# Quiet deprecation warnings\n",
        "import warnings\n",
        "warnings.filterwarnings(\"ignore\") \n",
        "\n",
        "def categorical_to_numpy(labels_in):\n",
        "  labels = []\n",
        "  for label in labels_in:\n",
        "    if label == 'dog':\n",
        "      labels.append(np.array([1, 0]))\n",
        "    else:\n",
        "      labels.append(np.array([0, 1]))\n",
        "  return np.array(labels)\n",
        "\n",
        "def load_data():\n",
        "  # import the data from the Cloud\n",
        "  !wget -q --show-progress https://storage.googleapis.com/inspirit-ai-data-bucket-1/Data/AI%20Scholars/Sessions%201%20-%205/Session%204%20_%205%20-%20Neural%20Networks%20_%20CNN/dogs_v_roads\n",
        "\n",
        "  # initialize our input and output variables\n",
        "  data_dict = pickle.load(open( \"dogs_v_roads\", \"rb\" ));  \n",
        "  data   = data_dict['data']\n",
        "  labels = data_dict['labels']\n",
        "  \n",
        "  return data, labels\n",
        "\n",
        "\n",
        "def plot_one_image(data, labels, img_idx):\n",
        "  from google.colab.patches import cv2_imshow\n",
        "  import cv2\n",
        "  import matplotlib.pyplot as plt\n",
        "  my_img   = data[img_idx, :].squeeze().reshape([32,32,3]).copy()\n",
        "  my_label = labels[img_idx]\n",
        "  print('label: %s'%my_label)\n",
        "  plt.imshow(my_img)\n",
        "  plt.show()\n",
        "  \n",
        "def CNNClassifier(num_epochs=2, layers=1, dropout=0.15):\n",
        "  def create_model():\n",
        "    model = Sequential()\n",
        "    model.add(Reshape((32, 32, 3)))\n",
        "    \n",
        "    for i in range(layers):\n",
        "      model.add(Conv2D(32, (3, 3), padding='same'))\n",
        "      model.add(Activation('relu'))\n",
        "    \n",
        "    model.add(Conv2D(32, (3, 3)))\n",
        "    model.add(Activation('relu'))\n",
        "    model.add(MaxPooling2D(pool_size=(2, 2)))\n",
        "    model.add(Dropout(dropout))\n",
        "\n",
        "    model.add(Conv2D(64, (3, 3), padding='same'))\n",
        "    model.add(Activation('relu'))\n",
        "    model.add(Conv2D(64, (3, 3)))\n",
        "    model.add(Activation('relu'))\n",
        "    model.add(MaxPooling2D(pool_size=(2, 2)))\n",
        "    model.add(Dropout(dropout))\n",
        "\n",
        "    model.add(Flatten())\n",
        "    model.add(Dense(512))\n",
        "    model.add(Activation('relu'))\n",
        "    model.add(Dropout(dropout))\n",
        "    model.add(Dense(2))\n",
        "    model.add(Activation('softmax'))\n",
        "\n",
        "    return model\n",
        "  # initiate RMSprop optimizer\n",
        "  opt = keras.optimizers.RMSprop(learning_rate=0.0001, decay=1e-6)\n",
        "  return KerasClassifier(model=create_model, optimizer=opt, loss='categorical_crossentropy', epochs=num_epochs, batch_size=10, verbose=2, validation_batch_size=10, validation_split=.2, metrics=['accuracy'])\n",
        "\n",
        "    \n",
        "def plot_acc(history, ax = None, xlabel = 'Epoch #'):\n",
        "    if hasattr(history, 'history_'):\n",
        "      history = history.history_\n",
        "    else:\n",
        "      history = history.history\n",
        "    history.update({'epoch':list(range(len(history['val_accuracy'])))})\n",
        "    history = pd.DataFrame.from_dict(history)\n",
        "\n",
        "    best_epoch = history.sort_values(by = 'val_accuracy', ascending = False).iloc[0]['epoch']\n",
        "\n",
        "    if not ax:\n",
        "      f, ax = plt.subplots(1,1)\n",
        "    sns.lineplot(x = 'epoch', y = 'val_accuracy', data = history, label = 'Validation', ax = ax)\n",
        "    sns.lineplot(x = 'epoch', y = 'accuracy', data = history, label = 'Training', ax = ax)\n",
        "    ax.axhline(0.5, linestyle = '--',color='red', label = 'Chance')\n",
        "    ax.axvline(x = best_epoch, linestyle = '--', color = 'green', label = 'Best Epoch')  \n",
        "    ax.legend(loc = 7)    \n",
        "    ax.set_ylim([0.4, 1])\n",
        "\n",
        "    ax.set_xlabel(xlabel)\n",
        "    ax.set_ylabel('Accuracy (Fraction)')\n",
        "    \n",
        "    plt.show()\n",
        "\n",
        "def model_to_string(model):\n",
        "    import re\n",
        "    stringlist = []\n",
        "    model.summary(print_fn=lambda x: stringlist.append(x))\n",
        "    sms = \"\\n\".join(stringlist)\n",
        "    sms = re.sub('_\\d\\d\\d','', sms)\n",
        "    sms = re.sub('_\\d\\d','', sms)\n",
        "    sms = re.sub('_\\d','', sms)  \n",
        "    return sms"
      ],
      "execution_count": 1,
      "outputs": [
        {
          "output_type": "stream",
          "name": "stdout",
          "text": [
            "  Installing build dependencies ... \u001b[?25l\u001b[?25hdone\n",
            "  Getting requirements to build wheel ... \u001b[?25l\u001b[?25hdone\n",
            "    Preparing wheel metadata ... \u001b[?25l\u001b[?25hdone\n",
            "  Building wheel for scikeras (PEP 517) ... \u001b[?25l\u001b[?25hdone\n"
          ]
        }
      ]
    },
    {
      "cell_type": "markdown",
      "metadata": {
        "id": "wkseZ14ms7vs"
      },
      "source": [
        "In this notebook, we will:\n",
        "\n",
        "- Use a pre-built CNN function to classify roads vs. dogs.\n",
        "- Build neural networks from scratch in Keras.\n",
        "- Experiment with building CNN models from scratch in Keras.\n",
        "- (Advanced, Optional) Build CNN models for distinguishing cats from dogs, and even experiment with implementing a famous architecture!\n"
      ]
    },
    {
      "cell_type": "markdown",
      "metadata": {
        "id": "qMWQRlTqt6Yn"
      },
      "source": [
        "<font color=darkorange>**Change Hardware Accelerator to GPU to train faster (Runtime -> Change Runtime Type -> Hardware Accelerator -> GPU)**"
      ]
    },
    {
      "cell_type": "markdown",
      "metadata": {
        "id": "1QxGsnvhnn8R"
      },
      "source": [
        "#Loading in Data"
      ]
    },
    {
      "cell_type": "markdown",
      "metadata": {
        "id": "btr24O6Hqgo6"
      },
      "source": [
        "Once again, let's load in our dog/road dataset and create our training and test set. **What's the shape of each dataset? Why?**"
      ]
    },
    {
      "cell_type": "code",
      "metadata": {
        "id": "MmZbrZoKnthN",
        "colab": {
          "base_uri": "https://localhost:8080/"
        },
        "outputId": "54eed651-0d19-4bfa-bdce-35f5b717bee2"
      },
      "source": [
        "# load our data\n",
        "data_raw, labels_raw = load_data()\n",
        "data = data_raw.astype(float)\n",
        "labels = categorical_to_numpy(labels_raw)\n",
        "inputs_train, inputs_test, labels_train, labels_test = model_selection.train_test_split(data, labels, test_size=0.2, random_state=1)\n",
        "\n",
        "#Find the shape of our dataset!\n",
        "### YOUR CODE HERE\n",
        "\n",
        "### END CODE"
      ],
      "execution_count": 2,
      "outputs": [
        {
          "output_type": "stream",
          "name": "stdout",
          "text": [
            "\rdogs_v_roads          0%[                    ]       0  --.-KB/s               \rdogs_v_roads        100%[===================>]   3.52M  --.-KB/s    in 0.02s   \n"
          ]
        }
      ]
    },
    {
      "cell_type": "markdown",
      "metadata": {
        "id": "VcZra2S0NNSZ"
      },
      "source": [
        "Use the cell below as a reminder of what the data looks like."
      ]
    },
    {
      "cell_type": "code",
      "metadata": {
        "id": "B83F3CmPNSux",
        "colab": {
          "base_uri": "https://localhost:8080/",
          "height": 284
        },
        "outputId": "42e41e15-a47d-48be-a220-961967991c93"
      },
      "source": [
        "plot_one_image(data_raw, labels_raw, 300) # change this number"
      ],
      "execution_count": 3,
      "outputs": [
        {
          "output_type": "stream",
          "name": "stdout",
          "text": [
            "label: dog\n"
          ]
        },
        {
          "output_type": "display_data",
          "data": {
            "text/plain": [
              "<Figure size 432x288 with 1 Axes>"
            ],
            "image/png": "[encoded data removed]"
          },
          "metadata": {
            "needs_background": "light"
          }
        }
      ]
    },
    {
      "cell_type": "markdown",
      "metadata": {
        "id": "37O_VE_D1Bdy"
      },
      "source": [
        "# Models for Vision: Convolutional Neural Networks"
      ]
    },
    {
      "cell_type": "markdown",
      "metadata": {
        "id": "GqrfI4JiVeFr"
      },
      "source": [
        "###Exercise: Exploring Hyperparameters ✍️\n",
        "\n",
        "As you know, there is a famous type of neural network known as convolutional neural networks (CNNs). These types of neural networks work particularly well on problems to do with computer vision. Let's try one out!\n",
        "\n",
        "To load up a simple CNN on scikit-learn, just run:\n",
        "\n",
        "`cnn = CNNClassifier(num_epochs, layers, dropout)`\n",
        "\n",
        "Work with your instructors to review what each parameter means and how it affects the model! The value for **dropout** is a float between 0 and 1 that represents the probability the weight for a neuron in the layer is set to 0 during training time. Each neuron in the layer is evaluated as such, which can help prevent overfitting.\n",
        "\n",
        "**Try different values of num_epochs, layers, and dropout so that you get the best possible accuracy on the test set using `model.score()`**!"
      ]
    },
    {
      "cell_type": "code",
      "metadata": {
        "id": "bmC3-T4KRJgW",
        "colab": {
          "base_uri": "https://localhost:8080/"
        },
        "outputId": "3d68f9b2-9c9c-4f65-b16a-cb45816ac63c"
      },
      "source": [
        "cnn = CNNClassifier(100, 2, 0)\n",
        "cnn.fit(inputs_train, labels_train)\n",
        "preds = cnn.predict(inputs_test)\n",
        "print(cnn.score(inputs_test, labels_test))"
      ],
      "execution_count": 15,
      "outputs": [
        {
          "output_type": "stream",
          "name": "stdout",
          "text": [
            "Epoch 1/100\n",
            "77/77 - 2s - loss: 1.9466 - accuracy: 0.7786 - val_loss: 0.4127 - val_accuracy: 0.8646 - 2s/epoch - 23ms/step\n",
            "Epoch 2/100\n",
            "77/77 - 1s - loss: 0.3379 - accuracy: 0.9062 - val_loss: 0.2706 - val_accuracy: 0.8854 - 647ms/epoch - 8ms/step\n",
            "Epoch 3/100\n",
            "77/77 - 1s - loss: 0.1860 - accuracy: 0.9414 - val_loss: 0.1839 - val_accuracy: 0.9115 - 513ms/epoch - 7ms/step\n",
            "Epoch 4/100\n",
            "77/77 - 0s - loss: 0.1235 - accuracy: 0.9583 - val_loss: 0.5693 - val_accuracy: 0.8073 - 389ms/epoch - 5ms/step\n",
            "Epoch 5/100\n",
            "77/77 - 0s - loss: 0.0971 - accuracy: 0.9661 - val_loss: 0.1581 - val_accuracy: 0.9688 - 398ms/epoch - 5ms/step\n",
            "Epoch 6/100\n",
            "77/77 - 0s - loss: 0.0542 - accuracy: 0.9753 - val_loss: 0.0870 - val_accuracy: 0.9688 - 398ms/epoch - 5ms/step\n",
            "Epoch 7/100\n",
            "77/77 - 0s - loss: 0.0417 - accuracy: 0.9805 - val_loss: 0.1240 - val_accuracy: 0.9583 - 412ms/epoch - 5ms/step\n",
            "Epoch 8/100\n",
            "77/77 - 0s - loss: 0.0364 - accuracy: 0.9870 - val_loss: 0.0781 - val_accuracy: 0.9688 - 410ms/epoch - 5ms/step\n",
            "Epoch 9/100\n",
            "77/77 - 0s - loss: 0.0255 - accuracy: 0.9922 - val_loss: 0.1318 - val_accuracy: 0.9375 - 389ms/epoch - 5ms/step\n",
            "Epoch 10/100\n",
            "77/77 - 0s - loss: 0.0224 - accuracy: 0.9909 - val_loss: 0.1930 - val_accuracy: 0.9479 - 413ms/epoch - 5ms/step\n",
            "Epoch 11/100\n",
            "77/77 - 0s - loss: 0.0263 - accuracy: 0.9935 - val_loss: 0.0821 - val_accuracy: 0.9688 - 401ms/epoch - 5ms/step\n",
            "Epoch 12/100\n",
            "77/77 - 0s - loss: 0.0052 - accuracy: 0.9974 - val_loss: 0.1003 - val_accuracy: 0.9583 - 421ms/epoch - 5ms/step\n",
            "Epoch 13/100\n",
            "77/77 - 0s - loss: 0.0081 - accuracy: 0.9948 - val_loss: 0.1277 - val_accuracy: 0.9688 - 391ms/epoch - 5ms/step\n",
            "Epoch 14/100\n",
            "77/77 - 0s - loss: 0.0050 - accuracy: 0.9987 - val_loss: 0.0941 - val_accuracy: 0.9792 - 389ms/epoch - 5ms/step\n",
            "Epoch 15/100\n",
            "77/77 - 0s - loss: 0.0111 - accuracy: 0.9961 - val_loss: 0.2190 - val_accuracy: 0.9323 - 410ms/epoch - 5ms/step\n",
            "Epoch 16/100\n",
            "77/77 - 0s - loss: 0.0039 - accuracy: 0.9987 - val_loss: 0.1259 - val_accuracy: 0.9688 - 389ms/epoch - 5ms/step\n",
            "Epoch 17/100\n",
            "77/77 - 0s - loss: 0.0071 - accuracy: 0.9974 - val_loss: 0.1290 - val_accuracy: 0.9688 - 411ms/epoch - 5ms/step\n",
            "Epoch 18/100\n",
            "77/77 - 0s - loss: 0.0148 - accuracy: 0.9961 - val_loss: 0.2076 - val_accuracy: 0.9583 - 392ms/epoch - 5ms/step\n",
            "Epoch 19/100\n",
            "77/77 - 0s - loss: 0.0061 - accuracy: 0.9974 - val_loss: 0.1493 - val_accuracy: 0.9583 - 401ms/epoch - 5ms/step\n",
            "Epoch 20/100\n",
            "77/77 - 0s - loss: 5.1974e-05 - accuracy: 1.0000 - val_loss: 0.7343 - val_accuracy: 0.9062 - 419ms/epoch - 5ms/step\n",
            "Epoch 21/100\n",
            "77/77 - 0s - loss: 0.0221 - accuracy: 0.9948 - val_loss: 0.1482 - val_accuracy: 0.9531 - 401ms/epoch - 5ms/step\n",
            "Epoch 22/100\n",
            "77/77 - 0s - loss: 0.0124 - accuracy: 0.9974 - val_loss: 0.1481 - val_accuracy: 0.9635 - 402ms/epoch - 5ms/step\n",
            "Epoch 23/100\n",
            "77/77 - 0s - loss: 3.6847e-05 - accuracy: 1.0000 - val_loss: 0.1430 - val_accuracy: 0.9688 - 394ms/epoch - 5ms/step\n",
            "Epoch 24/100\n",
            "77/77 - 0s - loss: 0.0191 - accuracy: 0.9974 - val_loss: 0.1642 - val_accuracy: 0.9583 - 407ms/epoch - 5ms/step\n",
            "Epoch 25/100\n",
            "77/77 - 0s - loss: 1.2205e-05 - accuracy: 1.0000 - val_loss: 0.1704 - val_accuracy: 0.9583 - 411ms/epoch - 5ms/step\n",
            "Epoch 26/100\n",
            "77/77 - 0s - loss: 0.0083 - accuracy: 0.9987 - val_loss: 0.1455 - val_accuracy: 0.9688 - 411ms/epoch - 5ms/step\n",
            "Epoch 27/100\n",
            "77/77 - 0s - loss: 6.7102e-06 - accuracy: 1.0000 - val_loss: 0.1889 - val_accuracy: 0.9635 - 393ms/epoch - 5ms/step\n",
            "Epoch 28/100\n",
            "77/77 - 0s - loss: 0.0075 - accuracy: 0.9974 - val_loss: 0.2939 - val_accuracy: 0.9531 - 409ms/epoch - 5ms/step\n",
            "Epoch 29/100\n",
            "77/77 - 0s - loss: 3.1345e-05 - accuracy: 1.0000 - val_loss: 0.2153 - val_accuracy: 0.9583 - 403ms/epoch - 5ms/step\n",
            "Epoch 30/100\n",
            "77/77 - 0s - loss: 0.0064 - accuracy: 0.9987 - val_loss: 0.2893 - val_accuracy: 0.9635 - 404ms/epoch - 5ms/step\n",
            "Epoch 31/100\n",
            "77/77 - 0s - loss: 3.0065e-05 - accuracy: 1.0000 - val_loss: 0.2329 - val_accuracy: 0.9688 - 402ms/epoch - 5ms/step\n",
            "Epoch 32/100\n",
            "77/77 - 0s - loss: 6.1150e-07 - accuracy: 1.0000 - val_loss: 0.2239 - val_accuracy: 0.9688 - 414ms/epoch - 5ms/step\n",
            "Epoch 33/100\n",
            "77/77 - 0s - loss: 9.4219e-08 - accuracy: 1.0000 - val_loss: 0.4484 - val_accuracy: 0.9323 - 400ms/epoch - 5ms/step\n",
            "Epoch 34/100\n",
            "77/77 - 0s - loss: 0.0489 - accuracy: 0.9948 - val_loss: 0.2282 - val_accuracy: 0.9688 - 387ms/epoch - 5ms/step\n",
            "Epoch 35/100\n",
            "77/77 - 0s - loss: 1.0014e-06 - accuracy: 1.0000 - val_loss: 0.2269 - val_accuracy: 0.9688 - 413ms/epoch - 5ms/step\n",
            "Epoch 36/100\n",
            "77/77 - 0s - loss: 9.2821e-08 - accuracy: 1.0000 - val_loss: 0.2267 - val_accuracy: 0.9792 - 387ms/epoch - 5ms/step\n",
            "Epoch 37/100\n",
            "77/77 - 0s - loss: 0.0047 - accuracy: 0.9974 - val_loss: 0.2822 - val_accuracy: 0.9635 - 396ms/epoch - 5ms/step\n",
            "Epoch 38/100\n",
            "77/77 - 0s - loss: 1.2405e-06 - accuracy: 1.0000 - val_loss: 0.2477 - val_accuracy: 0.9635 - 395ms/epoch - 5ms/step\n",
            "Epoch 39/100\n",
            "77/77 - 0s - loss: 9.8277e-07 - accuracy: 1.0000 - val_loss: 0.4320 - val_accuracy: 0.9479 - 407ms/epoch - 5ms/step\n",
            "Epoch 40/100\n",
            "77/77 - 0s - loss: 0.0236 - accuracy: 0.9987 - val_loss: 0.1725 - val_accuracy: 0.9635 - 419ms/epoch - 5ms/step\n",
            "Epoch 41/100\n",
            "77/77 - 0s - loss: 1.1836e-06 - accuracy: 1.0000 - val_loss: 0.2422 - val_accuracy: 0.9688 - 403ms/epoch - 5ms/step\n",
            "Epoch 42/100\n",
            "77/77 - 0s - loss: 3.0578e-08 - accuracy: 1.0000 - val_loss: 0.2709 - val_accuracy: 0.9635 - 400ms/epoch - 5ms/step\n",
            "Epoch 43/100\n",
            "77/77 - 0s - loss: 1.1331e-08 - accuracy: 1.0000 - val_loss: 0.3242 - val_accuracy: 0.9688 - 408ms/epoch - 5ms/step\n",
            "Epoch 44/100\n",
            "77/77 - 0s - loss: 0.0102 - accuracy: 0.9961 - val_loss: 0.1784 - val_accuracy: 0.9844 - 409ms/epoch - 5ms/step\n",
            "Epoch 45/100\n",
            "77/77 - 0s - loss: 5.5569e-08 - accuracy: 1.0000 - val_loss: 0.1784 - val_accuracy: 0.9792 - 401ms/epoch - 5ms/step\n",
            "Epoch 46/100\n",
            "77/77 - 0s - loss: 4.3151e-08 - accuracy: 1.0000 - val_loss: 0.2329 - val_accuracy: 0.9740 - 405ms/epoch - 5ms/step\n",
            "Epoch 47/100\n",
            "77/77 - 0s - loss: 2.6063e-05 - accuracy: 1.0000 - val_loss: 0.3083 - val_accuracy: 0.9688 - 398ms/epoch - 5ms/step\n",
            "Epoch 48/100\n",
            "77/77 - 0s - loss: 0.0067 - accuracy: 0.9974 - val_loss: 1.1852 - val_accuracy: 0.9062 - 413ms/epoch - 5ms/step\n",
            "Epoch 49/100\n",
            "77/77 - 0s - loss: 1.2075e-04 - accuracy: 1.0000 - val_loss: 0.2802 - val_accuracy: 0.9688 - 408ms/epoch - 5ms/step\n",
            "Epoch 50/100\n",
            "77/77 - 0s - loss: 1.8782e-08 - accuracy: 1.0000 - val_loss: 0.2715 - val_accuracy: 0.9688 - 400ms/epoch - 5ms/step\n",
            "Epoch 51/100\n",
            "77/77 - 0s - loss: 5.7432e-09 - accuracy: 1.0000 - val_loss: 0.2494 - val_accuracy: 0.9688 - 386ms/epoch - 5ms/step\n",
            "Epoch 52/100\n",
            "77/77 - 0s - loss: 7.1449e-05 - accuracy: 1.0000 - val_loss: 0.7069 - val_accuracy: 0.9479 - 416ms/epoch - 5ms/step\n",
            "Epoch 53/100\n",
            "77/77 - 0s - loss: 4.3220e-04 - accuracy: 1.0000 - val_loss: 0.4946 - val_accuracy: 0.9531 - 408ms/epoch - 5ms/step\n",
            "Epoch 54/100\n",
            "77/77 - 0s - loss: 5.5361e-05 - accuracy: 1.0000 - val_loss: 0.2089 - val_accuracy: 0.9740 - 391ms/epoch - 5ms/step\n",
            "Epoch 55/100\n",
            "77/77 - 0s - loss: 2.0023e-08 - accuracy: 1.0000 - val_loss: 0.2041 - val_accuracy: 0.9740 - 415ms/epoch - 5ms/step\n",
            "Epoch 56/100\n",
            "77/77 - 0s - loss: 3.4148e-09 - accuracy: 1.0000 - val_loss: 0.2256 - val_accuracy: 0.9740 - 391ms/epoch - 5ms/step\n",
            "Epoch 57/100\n",
            "77/77 - 0s - loss: 4.6566e-10 - accuracy: 1.0000 - val_loss: 0.2292 - val_accuracy: 0.9740 - 402ms/epoch - 5ms/step\n",
            "Epoch 58/100\n",
            "77/77 - 0s - loss: 0.0000e+00 - accuracy: 1.0000 - val_loss: 0.2138 - val_accuracy: 0.9792 - 411ms/epoch - 5ms/step\n",
            "Epoch 59/100\n",
            "77/77 - 0s - loss: 0.0000e+00 - accuracy: 1.0000 - val_loss: 0.2194 - val_accuracy: 0.9792 - 409ms/epoch - 5ms/step\n",
            "Epoch 60/100\n",
            "77/77 - 0s - loss: 0.0000e+00 - accuracy: 1.0000 - val_loss: 0.2182 - val_accuracy: 0.9792 - 416ms/epoch - 5ms/step\n",
            "Epoch 61/100\n",
            "77/77 - 0s - loss: 0.0000e+00 - accuracy: 1.0000 - val_loss: 0.2181 - val_accuracy: 0.9740 - 406ms/epoch - 5ms/step\n",
            "Epoch 62/100\n",
            "77/77 - 0s - loss: 0.0000e+00 - accuracy: 1.0000 - val_loss: 0.2173 - val_accuracy: 0.9740 - 417ms/epoch - 5ms/step\n",
            "Epoch 63/100\n",
            "77/77 - 0s - loss: 0.0000e+00 - accuracy: 1.0000 - val_loss: 0.2163 - val_accuracy: 0.9792 - 412ms/epoch - 5ms/step\n",
            "Epoch 64/100\n",
            "77/77 - 0s - loss: 0.0000e+00 - accuracy: 1.0000 - val_loss: 0.2165 - val_accuracy: 0.9740 - 388ms/epoch - 5ms/step\n",
            "Epoch 65/100\n",
            "77/77 - 0s - loss: 0.0000e+00 - accuracy: 1.0000 - val_loss: 0.2170 - val_accuracy: 0.9740 - 407ms/epoch - 5ms/step\n",
            "Epoch 66/100\n",
            "77/77 - 0s - loss: 0.0000e+00 - accuracy: 1.0000 - val_loss: 0.2193 - val_accuracy: 0.9740 - 388ms/epoch - 5ms/step\n",
            "Epoch 67/100\n",
            "77/77 - 0s - loss: 0.0000e+00 - accuracy: 1.0000 - val_loss: 0.2188 - val_accuracy: 0.9740 - 420ms/epoch - 5ms/step\n",
            "Epoch 68/100\n",
            "77/77 - 0s - loss: 0.0000e+00 - accuracy: 1.0000 - val_loss: 0.2200 - val_accuracy: 0.9740 - 404ms/epoch - 5ms/step\n",
            "Epoch 69/100\n",
            "77/77 - 0s - loss: 0.0000e+00 - accuracy: 1.0000 - val_loss: 0.2201 - val_accuracy: 0.9740 - 403ms/epoch - 5ms/step\n",
            "Epoch 70/100\n",
            "77/77 - 0s - loss: 0.0000e+00 - accuracy: 1.0000 - val_loss: 0.2216 - val_accuracy: 0.9740 - 410ms/epoch - 5ms/step\n",
            "Epoch 71/100\n",
            "77/77 - 0s - loss: 0.0000e+00 - accuracy: 1.0000 - val_loss: 0.2218 - val_accuracy: 0.9740 - 410ms/epoch - 5ms/step\n",
            "Epoch 72/100\n",
            "77/77 - 0s - loss: 0.0000e+00 - accuracy: 1.0000 - val_loss: 0.2223 - val_accuracy: 0.9740 - 415ms/epoch - 5ms/step\n",
            "Epoch 73/100\n",
            "77/77 - 0s - loss: 0.0000e+00 - accuracy: 1.0000 - val_loss: 0.2226 - val_accuracy: 0.9740 - 402ms/epoch - 5ms/step\n",
            "Epoch 74/100\n",
            "77/77 - 0s - loss: 0.0000e+00 - accuracy: 1.0000 - val_loss: 0.2214 - val_accuracy: 0.9740 - 411ms/epoch - 5ms/step\n",
            "Epoch 75/100\n",
            "77/77 - 0s - loss: 0.0000e+00 - accuracy: 1.0000 - val_loss: 0.2211 - val_accuracy: 0.9740 - 401ms/epoch - 5ms/step\n",
            "Epoch 76/100\n",
            "77/77 - 0s - loss: 0.0000e+00 - accuracy: 1.0000 - val_loss: 0.2215 - val_accuracy: 0.9740 - 425ms/epoch - 6ms/step\n",
            "Epoch 77/100\n",
            "77/77 - 0s - loss: 0.0000e+00 - accuracy: 1.0000 - val_loss: 0.2219 - val_accuracy: 0.9740 - 416ms/epoch - 5ms/step\n",
            "Epoch 78/100\n",
            "77/77 - 0s - loss: 0.0000e+00 - accuracy: 1.0000 - val_loss: 0.2226 - val_accuracy: 0.9740 - 404ms/epoch - 5ms/step\n",
            "Epoch 79/100\n",
            "77/77 - 0s - loss: 0.0000e+00 - accuracy: 1.0000 - val_loss: 0.2222 - val_accuracy: 0.9740 - 401ms/epoch - 5ms/step\n",
            "Epoch 80/100\n",
            "77/77 - 0s - loss: 0.0000e+00 - accuracy: 1.0000 - val_loss: 0.2220 - val_accuracy: 0.9740 - 395ms/epoch - 5ms/step\n",
            "Epoch 81/100\n",
            "77/77 - 0s - loss: 0.0000e+00 - accuracy: 1.0000 - val_loss: 0.2223 - val_accuracy: 0.9740 - 418ms/epoch - 5ms/step\n",
            "Epoch 82/100\n",
            "77/77 - 0s - loss: 0.0000e+00 - accuracy: 1.0000 - val_loss: 0.2220 - val_accuracy: 0.9740 - 415ms/epoch - 5ms/step\n",
            "Epoch 83/100\n",
            "77/77 - 0s - loss: 0.0000e+00 - accuracy: 1.0000 - val_loss: 0.2220 - val_accuracy: 0.9740 - 404ms/epoch - 5ms/step\n",
            "Epoch 84/100\n",
            "77/77 - 0s - loss: 0.0000e+00 - accuracy: 1.0000 - val_loss: 0.2219 - val_accuracy: 0.9740 - 409ms/epoch - 5ms/step\n",
            "Epoch 85/100\n",
            "77/77 - 0s - loss: 0.0000e+00 - accuracy: 1.0000 - val_loss: 0.2220 - val_accuracy: 0.9740 - 418ms/epoch - 5ms/step\n",
            "Epoch 86/100\n",
            "77/77 - 0s - loss: 0.0000e+00 - accuracy: 1.0000 - val_loss: 0.2222 - val_accuracy: 0.9740 - 423ms/epoch - 5ms/step\n",
            "Epoch 87/100\n",
            "77/77 - 0s - loss: 0.0000e+00 - accuracy: 1.0000 - val_loss: 0.2222 - val_accuracy: 0.9740 - 426ms/epoch - 6ms/step\n",
            "Epoch 88/100\n",
            "77/77 - 0s - loss: 0.0000e+00 - accuracy: 1.0000 - val_loss: 0.2223 - val_accuracy: 0.9740 - 398ms/epoch - 5ms/step\n",
            "Epoch 89/100\n",
            "77/77 - 0s - loss: 0.0000e+00 - accuracy: 1.0000 - val_loss: 0.2226 - val_accuracy: 0.9740 - 402ms/epoch - 5ms/step\n",
            "Epoch 90/100\n",
            "77/77 - 0s - loss: 0.0000e+00 - accuracy: 1.0000 - val_loss: 0.2222 - val_accuracy: 0.9740 - 387ms/epoch - 5ms/step\n",
            "Epoch 91/100\n",
            "77/77 - 0s - loss: 0.0000e+00 - accuracy: 1.0000 - val_loss: 0.2222 - val_accuracy: 0.9740 - 407ms/epoch - 5ms/step\n",
            "Epoch 92/100\n",
            "77/77 - 0s - loss: 0.0000e+00 - accuracy: 1.0000 - val_loss: 0.2220 - val_accuracy: 0.9740 - 409ms/epoch - 5ms/step\n",
            "Epoch 93/100\n",
            "77/77 - 0s - loss: 0.0000e+00 - accuracy: 1.0000 - val_loss: 0.2220 - val_accuracy: 0.9740 - 387ms/epoch - 5ms/step\n",
            "Epoch 94/100\n",
            "77/77 - 0s - loss: 0.0000e+00 - accuracy: 1.0000 - val_loss: 0.2218 - val_accuracy: 0.9740 - 399ms/epoch - 5ms/step\n",
            "Epoch 95/100\n",
            "77/77 - 0s - loss: 0.0000e+00 - accuracy: 1.0000 - val_loss: 0.2221 - val_accuracy: 0.9740 - 402ms/epoch - 5ms/step\n",
            "Epoch 96/100\n",
            "77/77 - 0s - loss: 0.0000e+00 - accuracy: 1.0000 - val_loss: 0.2217 - val_accuracy: 0.9740 - 391ms/epoch - 5ms/step\n",
            "Epoch 97/100\n",
            "77/77 - 0s - loss: 0.0000e+00 - accuracy: 1.0000 - val_loss: 0.2219 - val_accuracy: 0.9740 - 407ms/epoch - 5ms/step\n",
            "Epoch 98/100\n",
            "77/77 - 0s - loss: 0.0000e+00 - accuracy: 1.0000 - val_loss: 0.2214 - val_accuracy: 0.9740 - 418ms/epoch - 5ms/step\n",
            "Epoch 99/100\n",
            "77/77 - 0s - loss: 0.0000e+00 - accuracy: 1.0000 - val_loss: 0.2213 - val_accuracy: 0.9740 - 398ms/epoch - 5ms/step\n",
            "Epoch 100/100\n",
            "77/77 - 0s - loss: 0.0000e+00 - accuracy: 1.0000 - val_loss: 0.2212 - val_accuracy: 0.9740 - 398ms/epoch - 5ms/step\n",
            "24/24 - 0s - 121ms/epoch - 5ms/step\n",
            "24/24 - 0s - 50ms/epoch - 2ms/step\n",
            "0.9625\n"
          ]
        }
      ]
    },
    {
      "cell_type": "markdown",
      "metadata": {
        "id": "KGWpgsVXP1ut"
      },
      "source": [
        "**How well did your neural network perform?** \n",
        "\n",
        "CNNs typically perform better than fully-connected neural networks on vision problems, but, as before, they aren't always consistent. They are also sensitive to a number of parameters. "
      ]
    },
    {
      "cell_type": "markdown",
      "metadata": {
        "id": "c-XRh5Y5P_CL"
      },
      "source": [
        "## Training and Validation Curves\n",
        "\n",
        "An important aspect of training neural networks is to prevent overfitting. **How would we recognize overfitting?**\n",
        "\n",
        "In the first line of code below, we first **fit** the model on the training data and pass in some validation (or test) data to evaluate it. We call it the **history** because we want to retain information about the accuracy at each epoch.\n",
        "\n",
        "In the second line we plot the history so that we can compare the training and validation accuracies.  \n",
        "\n",
        "```\n",
        "history = model.fit(inputs_train, labels_train, validation_data=(inputs_test, labels_test))\n",
        "plot_acc(history)\n",
        "```"
      ]
    },
    {
      "cell_type": "markdown",
      "metadata": {
        "id": "8eaFvE2PQEFe"
      },
      "source": [
        "###Exercise: Plotting a Training vs. Validation Curve For Our CNN ✍️\n",
        "\n",
        "**After how many epochs does the model begin to overfit? How does this vary as you vary the number of hidden layers and dropout?** Overfitting occurs when the validation accuracy starts to drop below the training accuracy."
      ]
    },
    {
      "cell_type": "code",
      "metadata": {
        "id": "OsVAasDbjARJ",
        "colab": {
          "base_uri": "https://localhost:8080/",
          "height": 1000
        },
        "outputId": "2e62902f-9653-4d96-84e6-7c49fa0c125b"
      },
      "source": [
        "### YOUR CODE HERE\n",
        "history = cnn.fit(inputs_train, labels_train, validation_data=(inputs_test, labels_test))\n",
        "plot_acc(history)\n",
        "\n",
        "### END CODE"
      ],
      "execution_count": 16,
      "outputs": [
        {
          "output_type": "stream",
          "name": "stdout",
          "text": [
            "Epoch 1/100\n",
            "77/77 - 2s - loss: 3.3291 - accuracy: 0.7448 - val_loss: 0.6557 - val_accuracy: 0.8490 - 2s/epoch - 20ms/step\n",
            "Epoch 2/100\n",
            "77/77 - 0s - loss: 0.5344 - accuracy: 0.8646 - val_loss: 1.7509 - val_accuracy: 0.7344 - 409ms/epoch - 5ms/step\n",
            "Epoch 3/100\n",
            "77/77 - 0s - loss: 0.3251 - accuracy: 0.9115 - val_loss: 0.2669 - val_accuracy: 0.9271 - 428ms/epoch - 6ms/step\n",
            "Epoch 4/100\n",
            "77/77 - 0s - loss: 0.1842 - accuracy: 0.9323 - val_loss: 0.3906 - val_accuracy: 0.8802 - 417ms/epoch - 5ms/step\n",
            "Epoch 5/100\n",
            "77/77 - 0s - loss: 0.1447 - accuracy: 0.9557 - val_loss: 0.3011 - val_accuracy: 0.9167 - 411ms/epoch - 5ms/step\n",
            "Epoch 6/100\n",
            "77/77 - 0s - loss: 0.0814 - accuracy: 0.9727 - val_loss: 0.2322 - val_accuracy: 0.9479 - 407ms/epoch - 5ms/step\n",
            "Epoch 7/100\n",
            "77/77 - 0s - loss: 0.0861 - accuracy: 0.9661 - val_loss: 0.2069 - val_accuracy: 0.9375 - 404ms/epoch - 5ms/step\n",
            "Epoch 8/100\n",
            "77/77 - 0s - loss: 0.0626 - accuracy: 0.9818 - val_loss: 0.2548 - val_accuracy: 0.9271 - 432ms/epoch - 6ms/step\n",
            "Epoch 9/100\n",
            "77/77 - 0s - loss: 0.0706 - accuracy: 0.9857 - val_loss: 0.1966 - val_accuracy: 0.9323 - 415ms/epoch - 5ms/step\n",
            "Epoch 10/100\n",
            "77/77 - 0s - loss: 0.0260 - accuracy: 0.9935 - val_loss: 0.2451 - val_accuracy: 0.9375 - 398ms/epoch - 5ms/step\n",
            "Epoch 11/100\n",
            "77/77 - 0s - loss: 0.0359 - accuracy: 0.9909 - val_loss: 0.3615 - val_accuracy: 0.9010 - 411ms/epoch - 5ms/step\n",
            "Epoch 12/100\n",
            "77/77 - 0s - loss: 0.0286 - accuracy: 0.9922 - val_loss: 0.1622 - val_accuracy: 0.9583 - 411ms/epoch - 5ms/step\n",
            "Epoch 13/100\n",
            "77/77 - 0s - loss: 0.0242 - accuracy: 0.9922 - val_loss: 0.1910 - val_accuracy: 0.9427 - 409ms/epoch - 5ms/step\n",
            "Epoch 14/100\n",
            "77/77 - 0s - loss: 0.0174 - accuracy: 0.9909 - val_loss: 0.1782 - val_accuracy: 0.9479 - 421ms/epoch - 5ms/step\n",
            "Epoch 15/100\n",
            "77/77 - 0s - loss: 0.0261 - accuracy: 0.9922 - val_loss: 0.1855 - val_accuracy: 0.9583 - 418ms/epoch - 5ms/step\n",
            "Epoch 16/100\n",
            "77/77 - 0s - loss: 0.0203 - accuracy: 0.9922 - val_loss: 0.2482 - val_accuracy: 0.9635 - 406ms/epoch - 5ms/step\n",
            "Epoch 17/100\n",
            "77/77 - 0s - loss: 0.0066 - accuracy: 0.9974 - val_loss: 0.2264 - val_accuracy: 0.9375 - 419ms/epoch - 5ms/step\n",
            "Epoch 18/100\n",
            "77/77 - 0s - loss: 0.0161 - accuracy: 0.9974 - val_loss: 0.3761 - val_accuracy: 0.9375 - 433ms/epoch - 6ms/step\n",
            "Epoch 19/100\n",
            "77/77 - 0s - loss: 0.0064 - accuracy: 0.9987 - val_loss: 0.2896 - val_accuracy: 0.9375 - 415ms/epoch - 5ms/step\n",
            "Epoch 20/100\n",
            "77/77 - 0s - loss: 0.0104 - accuracy: 0.9974 - val_loss: 0.2914 - val_accuracy: 0.9479 - 426ms/epoch - 6ms/step\n",
            "Epoch 21/100\n",
            "77/77 - 0s - loss: 0.0145 - accuracy: 0.9961 - val_loss: 0.3445 - val_accuracy: 0.9479 - 421ms/epoch - 5ms/step\n",
            "Epoch 22/100\n",
            "77/77 - 0s - loss: 0.0099 - accuracy: 0.9961 - val_loss: 0.3423 - val_accuracy: 0.9375 - 427ms/epoch - 6ms/step\n",
            "Epoch 23/100\n",
            "77/77 - 0s - loss: 0.0141 - accuracy: 0.9974 - val_loss: 0.1867 - val_accuracy: 0.9531 - 412ms/epoch - 5ms/step\n",
            "Epoch 24/100\n",
            "77/77 - 0s - loss: 1.3095e-05 - accuracy: 1.0000 - val_loss: 0.3082 - val_accuracy: 0.9427 - 430ms/epoch - 6ms/step\n",
            "Epoch 25/100\n",
            "77/77 - 1s - loss: 0.0037 - accuracy: 0.9987 - val_loss: 0.2987 - val_accuracy: 0.9583 - 611ms/epoch - 8ms/step\n",
            "Epoch 26/100\n",
            "77/77 - 0s - loss: 0.0011 - accuracy: 0.9987 - val_loss: 0.3206 - val_accuracy: 0.9375 - 443ms/epoch - 6ms/step\n",
            "Epoch 27/100\n",
            "77/77 - 0s - loss: 0.0053 - accuracy: 0.9974 - val_loss: 0.2866 - val_accuracy: 0.9531 - 413ms/epoch - 5ms/step\n",
            "Epoch 28/100\n",
            "77/77 - 0s - loss: 0.0077 - accuracy: 0.9974 - val_loss: 0.3671 - val_accuracy: 0.9479 - 408ms/epoch - 5ms/step\n",
            "Epoch 29/100\n",
            "77/77 - 0s - loss: 1.5697e-04 - accuracy: 1.0000 - val_loss: 0.3241 - val_accuracy: 0.9635 - 433ms/epoch - 6ms/step\n",
            "Epoch 30/100\n",
            "77/77 - 0s - loss: 0.0043 - accuracy: 0.9987 - val_loss: 0.3185 - val_accuracy: 0.9635 - 426ms/epoch - 6ms/step\n",
            "Epoch 31/100\n",
            "77/77 - 0s - loss: 7.1094e-06 - accuracy: 1.0000 - val_loss: 0.3527 - val_accuracy: 0.9688 - 415ms/epoch - 5ms/step\n",
            "Epoch 32/100\n",
            "77/77 - 0s - loss: 0.0014 - accuracy: 1.0000 - val_loss: 0.3046 - val_accuracy: 0.9635 - 410ms/epoch - 5ms/step\n",
            "Epoch 33/100\n",
            "77/77 - 0s - loss: 1.3305e-06 - accuracy: 1.0000 - val_loss: 0.3063 - val_accuracy: 0.9635 - 414ms/epoch - 5ms/step\n",
            "Epoch 34/100\n",
            "77/77 - 0s - loss: 1.4358e-07 - accuracy: 1.0000 - val_loss: 0.3185 - val_accuracy: 0.9583 - 412ms/epoch - 5ms/step\n",
            "Epoch 35/100\n",
            "77/77 - 0s - loss: 0.0546 - accuracy: 0.9935 - val_loss: 0.2713 - val_accuracy: 0.9635 - 427ms/epoch - 6ms/step\n",
            "Epoch 36/100\n",
            "77/77 - 0s - loss: 4.3382e-07 - accuracy: 1.0000 - val_loss: 0.2673 - val_accuracy: 0.9583 - 422ms/epoch - 5ms/step\n",
            "Epoch 37/100\n",
            "77/77 - 0s - loss: 1.4948e-07 - accuracy: 1.0000 - val_loss: 0.2790 - val_accuracy: 0.9583 - 449ms/epoch - 6ms/step\n",
            "Epoch 38/100\n",
            "77/77 - 0s - loss: 3.0113e-08 - accuracy: 1.0000 - val_loss: 0.4430 - val_accuracy: 0.9427 - 421ms/epoch - 5ms/step\n",
            "Epoch 39/100\n",
            "77/77 - 0s - loss: 0.0226 - accuracy: 0.9948 - val_loss: 0.3743 - val_accuracy: 0.9427 - 409ms/epoch - 5ms/step\n",
            "Epoch 40/100\n",
            "77/77 - 0s - loss: 0.0165 - accuracy: 0.9987 - val_loss: 0.6280 - val_accuracy: 0.9323 - 401ms/epoch - 5ms/step\n",
            "Epoch 41/100\n",
            "77/77 - 0s - loss: 1.0548e-04 - accuracy: 1.0000 - val_loss: 0.4244 - val_accuracy: 0.9583 - 408ms/epoch - 5ms/step\n",
            "Epoch 42/100\n",
            "77/77 - 0s - loss: 1.2930e-07 - accuracy: 1.0000 - val_loss: 0.4368 - val_accuracy: 0.9635 - 415ms/epoch - 5ms/step\n",
            "Epoch 43/100\n",
            "77/77 - 0s - loss: 0.0346 - accuracy: 0.9974 - val_loss: 0.6478 - val_accuracy: 0.9219 - 424ms/epoch - 6ms/step\n",
            "Epoch 44/100\n",
            "77/77 - 0s - loss: 0.0405 - accuracy: 0.9974 - val_loss: 0.4368 - val_accuracy: 0.9740 - 418ms/epoch - 5ms/step\n",
            "Epoch 45/100\n",
            "77/77 - 0s - loss: 0.0132 - accuracy: 0.9961 - val_loss: 0.3847 - val_accuracy: 0.9531 - 405ms/epoch - 5ms/step\n",
            "Epoch 46/100\n",
            "77/77 - 0s - loss: 0.0012 - accuracy: 1.0000 - val_loss: 0.5024 - val_accuracy: 0.9271 - 423ms/epoch - 5ms/step\n",
            "Epoch 47/100\n",
            "77/77 - 0s - loss: 0.0076 - accuracy: 0.9987 - val_loss: 0.3964 - val_accuracy: 0.9583 - 396ms/epoch - 5ms/step\n",
            "Epoch 48/100\n",
            "77/77 - 0s - loss: 6.7966e-07 - accuracy: 1.0000 - val_loss: 0.3902 - val_accuracy: 0.9583 - 410ms/epoch - 5ms/step\n",
            "Epoch 49/100\n",
            "77/77 - 0s - loss: 7.5592e-08 - accuracy: 1.0000 - val_loss: 0.4692 - val_accuracy: 0.9583 - 415ms/epoch - 5ms/step\n",
            "Epoch 50/100\n",
            "77/77 - 0s - loss: 0.0078 - accuracy: 0.9974 - val_loss: 0.4954 - val_accuracy: 0.9688 - 415ms/epoch - 5ms/step\n",
            "Epoch 51/100\n",
            "77/77 - 0s - loss: 4.0697e-07 - accuracy: 1.0000 - val_loss: 0.4498 - val_accuracy: 0.9635 - 405ms/epoch - 5ms/step\n",
            "Epoch 52/100\n",
            "77/77 - 0s - loss: 1.4901e-08 - accuracy: 1.0000 - val_loss: 0.4986 - val_accuracy: 0.9688 - 410ms/epoch - 5ms/step\n",
            "Epoch 53/100\n",
            "77/77 - 0s - loss: 1.2573e-08 - accuracy: 1.0000 - val_loss: 0.4827 - val_accuracy: 0.9583 - 399ms/epoch - 5ms/step\n",
            "Epoch 54/100\n",
            "77/77 - 0s - loss: 0.0135 - accuracy: 0.9987 - val_loss: 0.4653 - val_accuracy: 0.9583 - 402ms/epoch - 5ms/step\n",
            "Epoch 55/100\n",
            "77/77 - 0s - loss: 7.4506e-09 - accuracy: 1.0000 - val_loss: 0.4546 - val_accuracy: 0.9583 - 394ms/epoch - 5ms/step\n",
            "Epoch 56/100\n",
            "77/77 - 0s - loss: 2.1731e-09 - accuracy: 1.0000 - val_loss: 0.4570 - val_accuracy: 0.9583 - 422ms/epoch - 5ms/step\n",
            "Epoch 57/100\n",
            "77/77 - 0s - loss: 1.2418e-09 - accuracy: 1.0000 - val_loss: 0.4665 - val_accuracy: 0.9583 - 388ms/epoch - 5ms/step\n",
            "Epoch 58/100\n",
            "77/77 - 0s - loss: 6.2088e-10 - accuracy: 1.0000 - val_loss: 0.4683 - val_accuracy: 0.9635 - 403ms/epoch - 5ms/step\n",
            "Epoch 59/100\n",
            "77/77 - 0s - loss: 4.6566e-10 - accuracy: 1.0000 - val_loss: 0.5225 - val_accuracy: 0.9583 - 399ms/epoch - 5ms/step\n",
            "Epoch 60/100\n",
            "77/77 - 0s - loss: 5.6183e-04 - accuracy: 1.0000 - val_loss: 0.5718 - val_accuracy: 0.9688 - 394ms/epoch - 5ms/step\n",
            "Epoch 61/100\n",
            "77/77 - 0s - loss: 1.2773e-06 - accuracy: 1.0000 - val_loss: 0.6224 - val_accuracy: 0.9635 - 402ms/epoch - 5ms/step\n",
            "Epoch 62/100\n",
            "77/77 - 0s - loss: 3.1044e-09 - accuracy: 1.0000 - val_loss: 0.5532 - val_accuracy: 0.9583 - 386ms/epoch - 5ms/step\n",
            "Epoch 63/100\n",
            "77/77 - 0s - loss: 6.2088e-10 - accuracy: 1.0000 - val_loss: 0.6195 - val_accuracy: 0.9635 - 411ms/epoch - 5ms/step\n",
            "Epoch 64/100\n",
            "77/77 - 0s - loss: 0.0114 - accuracy: 0.9961 - val_loss: 0.4437 - val_accuracy: 0.9635 - 401ms/epoch - 5ms/step\n",
            "Epoch 65/100\n",
            "77/77 - 0s - loss: 2.0085e-07 - accuracy: 1.0000 - val_loss: 0.4288 - val_accuracy: 0.9635 - 406ms/epoch - 5ms/step\n",
            "Epoch 66/100\n",
            "77/77 - 0s - loss: 1.5056e-08 - accuracy: 1.0000 - val_loss: 0.4579 - val_accuracy: 0.9531 - 398ms/epoch - 5ms/step\n",
            "Epoch 67/100\n",
            "77/77 - 0s - loss: 6.2088e-09 - accuracy: 1.0000 - val_loss: 0.5601 - val_accuracy: 0.9531 - 412ms/epoch - 5ms/step\n",
            "Epoch 68/100\n",
            "77/77 - 0s - loss: 1.5522e-10 - accuracy: 1.0000 - val_loss: 0.5352 - val_accuracy: 0.9531 - 413ms/epoch - 5ms/step\n",
            "Epoch 69/100\n",
            "77/77 - 0s - loss: 0.0000e+00 - accuracy: 1.0000 - val_loss: 0.5245 - val_accuracy: 0.9531 - 398ms/epoch - 5ms/step\n",
            "Epoch 70/100\n",
            "77/77 - 0s - loss: 0.0000e+00 - accuracy: 1.0000 - val_loss: 0.5204 - val_accuracy: 0.9531 - 409ms/epoch - 5ms/step\n",
            "Epoch 71/100\n",
            "77/77 - 0s - loss: 0.0000e+00 - accuracy: 1.0000 - val_loss: 0.5203 - val_accuracy: 0.9531 - 418ms/epoch - 5ms/step\n",
            "Epoch 72/100\n",
            "77/77 - 0s - loss: 0.0000e+00 - accuracy: 1.0000 - val_loss: 0.5205 - val_accuracy: 0.9531 - 407ms/epoch - 5ms/step\n",
            "Epoch 73/100\n",
            "77/77 - 0s - loss: 0.0000e+00 - accuracy: 1.0000 - val_loss: 0.5199 - val_accuracy: 0.9531 - 392ms/epoch - 5ms/step\n",
            "Epoch 74/100\n",
            "77/77 - 0s - loss: 0.0000e+00 - accuracy: 1.0000 - val_loss: 0.5180 - val_accuracy: 0.9531 - 389ms/epoch - 5ms/step\n",
            "Epoch 75/100\n",
            "77/77 - 0s - loss: 0.0000e+00 - accuracy: 1.0000 - val_loss: 0.5172 - val_accuracy: 0.9531 - 394ms/epoch - 5ms/step\n",
            "Epoch 76/100\n",
            "77/77 - 0s - loss: 0.0000e+00 - accuracy: 1.0000 - val_loss: 0.5161 - val_accuracy: 0.9531 - 419ms/epoch - 5ms/step\n",
            "Epoch 77/100\n",
            "77/77 - 0s - loss: 0.0000e+00 - accuracy: 1.0000 - val_loss: 0.5158 - val_accuracy: 0.9531 - 415ms/epoch - 5ms/step\n",
            "Epoch 78/100\n",
            "77/77 - 0s - loss: 0.0000e+00 - accuracy: 1.0000 - val_loss: 0.5164 - val_accuracy: 0.9531 - 421ms/epoch - 5ms/step\n",
            "Epoch 79/100\n",
            "77/77 - 0s - loss: 0.0000e+00 - accuracy: 1.0000 - val_loss: 0.5160 - val_accuracy: 0.9531 - 392ms/epoch - 5ms/step\n",
            "Epoch 80/100\n",
            "77/77 - 0s - loss: 0.0000e+00 - accuracy: 1.0000 - val_loss: 0.5153 - val_accuracy: 0.9531 - 392ms/epoch - 5ms/step\n",
            "Epoch 81/100\n",
            "77/77 - 0s - loss: 0.0000e+00 - accuracy: 1.0000 - val_loss: 0.5150 - val_accuracy: 0.9531 - 421ms/epoch - 5ms/step\n",
            "Epoch 82/100\n",
            "77/77 - 0s - loss: 0.0000e+00 - accuracy: 1.0000 - val_loss: 0.5149 - val_accuracy: 0.9531 - 398ms/epoch - 5ms/step\n",
            "Epoch 83/100\n",
            "77/77 - 0s - loss: 0.0000e+00 - accuracy: 1.0000 - val_loss: 0.5148 - val_accuracy: 0.9531 - 414ms/epoch - 5ms/step\n",
            "Epoch 84/100\n",
            "77/77 - 0s - loss: 0.0000e+00 - accuracy: 1.0000 - val_loss: 0.5143 - val_accuracy: 0.9531 - 385ms/epoch - 5ms/step\n",
            "Epoch 85/100\n",
            "77/77 - 0s - loss: 0.0000e+00 - accuracy: 1.0000 - val_loss: 0.5141 - val_accuracy: 0.9531 - 421ms/epoch - 5ms/step\n",
            "Epoch 86/100\n",
            "77/77 - 0s - loss: 0.0000e+00 - accuracy: 1.0000 - val_loss: 0.5140 - val_accuracy: 0.9531 - 409ms/epoch - 5ms/step\n",
            "Epoch 87/100\n",
            "77/77 - 0s - loss: 0.0000e+00 - accuracy: 1.0000 - val_loss: 0.5138 - val_accuracy: 0.9531 - 417ms/epoch - 5ms/step\n",
            "Epoch 88/100\n",
            "77/77 - 0s - loss: 0.0000e+00 - accuracy: 1.0000 - val_loss: 0.5138 - val_accuracy: 0.9531 - 408ms/epoch - 5ms/step\n",
            "Epoch 89/100\n",
            "77/77 - 0s - loss: 0.0000e+00 - accuracy: 1.0000 - val_loss: 0.5137 - val_accuracy: 0.9531 - 405ms/epoch - 5ms/step\n",
            "Epoch 90/100\n",
            "77/77 - 0s - loss: 0.0000e+00 - accuracy: 1.0000 - val_loss: 0.5130 - val_accuracy: 0.9531 - 406ms/epoch - 5ms/step\n",
            "Epoch 91/100\n",
            "77/77 - 0s - loss: 0.0000e+00 - accuracy: 1.0000 - val_loss: 0.5127 - val_accuracy: 0.9531 - 405ms/epoch - 5ms/step\n",
            "Epoch 92/100\n",
            "77/77 - 0s - loss: 0.0000e+00 - accuracy: 1.0000 - val_loss: 0.5126 - val_accuracy: 0.9531 - 411ms/epoch - 5ms/step\n",
            "Epoch 93/100\n",
            "77/77 - 0s - loss: 0.0000e+00 - accuracy: 1.0000 - val_loss: 0.5128 - val_accuracy: 0.9531 - 421ms/epoch - 5ms/step\n",
            "Epoch 94/100\n",
            "77/77 - 0s - loss: 0.0000e+00 - accuracy: 1.0000 - val_loss: 0.5129 - val_accuracy: 0.9531 - 397ms/epoch - 5ms/step\n",
            "Epoch 95/100\n",
            "77/77 - 0s - loss: 0.0000e+00 - accuracy: 1.0000 - val_loss: 0.5129 - val_accuracy: 0.9531 - 418ms/epoch - 5ms/step\n",
            "Epoch 96/100\n",
            "77/77 - 0s - loss: 0.0000e+00 - accuracy: 1.0000 - val_loss: 0.5130 - val_accuracy: 0.9531 - 418ms/epoch - 5ms/step\n",
            "Epoch 97/100\n",
            "77/77 - 0s - loss: 0.0000e+00 - accuracy: 1.0000 - val_loss: 0.5128 - val_accuracy: 0.9531 - 411ms/epoch - 5ms/step\n",
            "Epoch 98/100\n",
            "77/77 - 0s - loss: 0.0000e+00 - accuracy: 1.0000 - val_loss: 0.5126 - val_accuracy: 0.9531 - 417ms/epoch - 5ms/step\n",
            "Epoch 99/100\n",
            "77/77 - 0s - loss: 0.0000e+00 - accuracy: 1.0000 - val_loss: 0.5126 - val_accuracy: 0.9531 - 422ms/epoch - 5ms/step\n",
            "Epoch 100/100\n",
            "77/77 - 0s - loss: 0.0000e+00 - accuracy: 1.0000 - val_loss: 0.5126 - val_accuracy: 0.9531 - 401ms/epoch - 5ms/step\n"
          ]
        },
        {
          "output_type": "display_data",
          "data": {
            "text/plain": [
              "<Figure size 432x288 with 1 Axes>"
            ],
            "image/png": "[encoded data removed]"
          },
          "metadata": {
            "needs_background": "light"
          }
        }
      ]
    },
    {
      "cell_type": "code",
      "source": [
        "# Print the score on the testing data\n",
        "print(\"CNN Testing Set Score:\")\n",
        "print(cnn.score(inputs_test, labels_test))"
      ],
      "metadata": {
        "id": "zEYUz17TJCGX"
      },
      "execution_count": null,
      "outputs": []
    },
    {
      "cell_type": "markdown",
      "metadata": {
        "id": "76z4NAY6afd7"
      },
      "source": [
        "# Building Neural Networks from Scratch in Keras \n",
        "\n",
        "So far, we've used helper functions which pre-build Keras neural network models. Now, we will build them on our own!\n",
        "\n",
        "Let's start with a \"toy example\": a tiny neural network with just three numerical inputs.\n"
      ]
    },
    {
      "cell_type": "markdown",
      "metadata": {
        "id": "jdngkAX_aCVu"
      },
      "source": [
        "###Exercise: Building a Simple Neural Network Using Keras! ✍️\n",
        "\n"
      ]
    },
    {
      "cell_type": "markdown",
      "metadata": {
        "id": "Bj-Pt3wGCXRu"
      },
      "source": [
        "\n",
        "We're going to build this model: \n",
        "\n",
        "![](http://cs231n.github.io/assets/nn1/neural_net.jpeg)"
      ]
    },
    {
      "cell_type": "markdown",
      "metadata": {
        "id": "H-6WGeedvTCS"
      },
      "source": [
        "This network can be described as: \n",
        "* Input Layer: 3 neurons\n",
        "* Layer 1 (Hidden): 4 neurons that are activated by `'relu'`\n",
        "* Layer 2 (Output): 2 neurons that are activated by `'softmax'`\n",
        "\n",
        "\n",
        "We also want to compile the model with\n",
        "`loss = 'categorical_crossentropy'`\n",
        "\n",
        "What does this represent? Here's one way to interpret it:\n",
        "* This model classifies animals as \"cat\" or \"dog\"\n",
        "* Our three inputs are height, weight, and age\n",
        "* Our ouputs represent \"probability of cat\" and \"probability of dog\"\n",
        "* Because this is a toy example, we aren't actually training the model here - just using randomly initialized weights! We will train later models in this notebook.\n",
        "\n",
        "Try filling in the blanks below and walking through each line! **If you want a hint or more details, check out the optional reference below.**"
      ]
    },
    {
      "cell_type": "code",
      "metadata": {
        "id": "dp-g9qotbRPU",
        "colab": {
          "base_uri": "https://localhost:8080/"
        },
        "outputId": "3636bfd5-09ac-4bf2-9f9d-a65f7de0f8dc"
      },
      "source": [
        "# Fill in the blanks with your group!\n",
        "### YOUR CODE HERE:\n",
        "model_1 = Sequential()\n",
        "model_1.add(InputLayer(input_shape=(3,)))\n",
        "model_1.add(Dense(4, activation = 'relu'))\n",
        "model_1.add(Dense(2, activation = 'softmax'))\n",
        "model_1.compile(loss='categorical_crossentropy',\n",
        "                optimizer = 'adam', \n",
        "                metrics = ['accuracy'])\n",
        "model_1.predict([[14,18,5]]) #Try any input! This represents an animal of height 14, weight 18, and age 5.\n",
        "### END CODE"
      ],
      "execution_count": 26,
      "outputs": [
        {
          "output_type": "execute_result",
          "data": {
            "text/plain": [
              "array([[1.0000000e+00, 1.4334542e-10]], dtype=float32)"
            ]
          },
          "metadata": {},
          "execution_count": 26
        }
      ]
    },
    {
      "cell_type": "markdown",
      "metadata": {
        "id": "baWZ9zXtF2Cz"
      },
      "source": [
        "**Discuss:** How would you interpret this output? Does our (untrained) network classify this as a cat or a dog?"
      ]
    },
    {
      "cell_type": "markdown",
      "metadata": {
        "id": "781M4IyhssuA"
      },
      "source": [
        "####**Optional Reference**\n",
        "\n",
        "Here's some information about each step of the process. **You don't need to read through all this - check it as a reference if needed!**\n",
        "\n",
        "**1. Specify model**\n",
        "\n",
        "```\n",
        "model = Sequential()\n",
        "```\n",
        "In this line of code, we build our network where the information flows from LEFT to RIGHT through the network in ONE DIRECTION as opposed to multiple directions. Neurons on the right never pass informations to neurons on the left of it. \n",
        "\n",
        "\n",
        "**2. Add layers to the network**\n",
        "```\n",
        "model.add(Dense(4, activation = 'sigmoid'))\n",
        "```\n",
        "In this code, we add a layer of neurons to our network. \n",
        "\n",
        "This layers consists of 4 neurons. Each neuron is DENSE and connects to all of the previous layer's inputs and all of the subsequent layers outputs. We specify that there are 3 inputs here.\n",
        "\n",
        "We also specify what kind of output the neuron will give. If you want the neuron to output a number between 0 and 1 (like a probability!) you would use 'softmax' or 'sigmoid'. If you want the neuron to output any number, you can use 'linear'! You'll also often see 'relu', which is when a neuron will only output positive numbers. \n",
        "\n",
        "```\n",
        "model.add(Dense(1, activation = 'linear'))\n",
        "```\n",
        "This code adds ANOTHER layer to the network that has 1 neuron. This one neuron is used to predict a continuous value!\n",
        "\n",
        "**3. Turn the model on by compiling it** \n",
        "\n",
        "After having built the network, we want to train and use it, so we have to 'compile' it to prepare. We have to specify at the very least: a loss (how the model measures the quality of its weights), an optimizer (which adjusts the weights), and a metric (how to evaluate our results). Here are some common choices:\n",
        "```\n",
        "model.compile(loss='mean_squared_error',\n",
        "optimizer = 'adam',\n",
        "metrics = ['mean_squared_error'])\n",
        "  ```\n",
        "\n",
        "Once we've created our network, we can use it very simply! Just like we did with sklearn, we define our input data (x), the true predictions from that data (y), and then train our model with `fit`. \n",
        "\n",
        "```\n",
        "model.fit(x, y)\n",
        "```\n",
        "\n",
        "To use the model, you can use it to predict something with:\n",
        "```\n",
        "y = model.predict(x)\n",
        "```\n",
        "\n",
        "You can actually use the model before you even train it! It just won't perform very well. "
      ]
    },
    {
      "cell_type": "markdown",
      "metadata": {
        "id": "YovNRgfuy0Oq"
      },
      "source": [
        "###(Optional) Exercise: Building a Multi-layer Neural Net Using Keras ✍️\n",
        "\n",
        "![](http://cs231n.github.io/assets/nn1/neural_net2.jpeg)\n",
        "\n",
        "Let's try another, bigger example!\n",
        "\n",
        "Here, we are predicting a house price: regression! Our inputs could be \"year the house was built\", \"home square footage\", and \"lot square footage\", while our output is price (in thousands of dollars).\n",
        "\n",
        "* Input Layer: 3 neurons\n",
        "\n",
        "* Layer 1: 4 neurons that are activated by `'relu' `and take in 3 inputs.\n",
        "\n",
        "* Layer 2: 4 neurons that are activated by `'relu'`\n",
        "\n",
        "* Layer 3 (out): 1 neuron that is activated by `'relu'`\n",
        "\n",
        "Compile the model with\n",
        "`'mean_squared_error'` as both loss and metric, and try making a prediction for some made-up data.\n"
      ]
    },
    {
      "cell_type": "code",
      "metadata": {
        "id": "pm-ylEWqbXrQ"
      },
      "source": [
        "### YOUR CODE HERE\n",
        "\n",
        "### END CODE"
      ],
      "execution_count": null,
      "outputs": []
    },
    {
      "cell_type": "markdown",
      "metadata": {
        "id": "YVCmntRHRjPQ"
      },
      "source": [
        "###(Optional) Exercise: Dogs vs. Roads Using Keras\n",
        "\n",
        "Let's try an even bigger example! Here, we are going to distinguish between images of dogs and roads once again. \n",
        "\n",
        "* Input Layer: 3072 dimensions (32 pixels x 32 pixels x 3 color channels)\n",
        "\n",
        "* Layer 1: 32 neurons that are activated by `'relu' `and take in 3072 inputs.\n",
        "\n",
        "* Layer 2: 16 neurons that are activated by `'relu'`\n",
        "\n",
        "* Layer 3 (out): 2 neurons that is activated by `'sigmoid'`\n",
        "\n",
        "Compile the model with\n",
        "`loss = 'binary_crossentropy'`, and try making predictions on `inputs_train`!\n",
        "\n",
        "Once again, we are not actually training this model - so the predictions won't be any good. Soon we will create a CNN, which we will train!"
      ]
    },
    {
      "cell_type": "code",
      "metadata": {
        "id": "DD2Dc4AYR31r",
        "colab": {
          "base_uri": "https://localhost:8080/"
        },
        "outputId": "79f35db6-4748-4536-9bbf-b1b95f6cd945"
      },
      "source": [
        "### YOUR CODE HERE\n",
        "model_2 = Sequential()\n",
        "model_2.add(InputLayer(input_shape=(3072,)))\n",
        "model_2.add(Dense(32, activation = 'relu'))\n",
        "model_2.add(Dense(16, activation = 'relu'))\n",
        "model_2.add(Dense(2, activation = 'sigmoid'))\n",
        "model_2.compile(loss='binary_crossentropy',\n",
        "                optimizer = 'adam', \n",
        "                metrics = ['accuracy'])\n",
        "model_2.predict(inputs_train[:1])\n",
        "\n",
        "\n",
        "### END CODE"
      ],
      "execution_count": 32,
      "outputs": [
        {
          "output_type": "execute_result",
          "data": {
            "text/plain": [
              "array([[0., 1.]], dtype=float32)"
            ]
          },
          "metadata": {},
          "execution_count": 32
        }
      ]
    },
    {
      "cell_type": "markdown",
      "metadata": {
        "id": "QCbD6siv-Ip-"
      },
      "source": [
        "##Exercise: Building a CNN Using Keras! ✍️\n",
        "\n",
        "Now that we know how to build simple neural networks in Keras, let's build a CNN! The CNN will perform well on our data set of car and road images. \n",
        "\n",
        "Below is Keras code for a CNN. It will run as-is on the conscientious cars dataset. However, the performance is suboptimal. Add more layers and change the neural network hyperparameters so that the performance will be better. **Can you get the train and validation accuracy to both be higher than 95%?**\n",
        "\n",
        "The Keras core layer API may be a useful reference: https://keras.io/layers/core/ \n",
        "\n",
        "In particular and in addition to adding more of the existing convolutional layers and activations, consider using the following layers after a convolution + activation:\n",
        "\n",
        "`Dropout(N)`\n",
        "\n",
        "`MaxPooling2D(pool_size=(N, N))`\n"
      ]
    },
    {
      "cell_type": "code",
      "metadata": {
        "id": "LFVHyPKn-V4N",
        "colab": {
          "base_uri": "https://localhost:8080/",
          "height": 1000
        },
        "outputId": "4a8c77e5-e21e-4fa0-f9e5-2ccea2dfa2f9"
      },
      "source": [
        "model = Sequential()\n",
        "model.add(Reshape((32, 32, 3)))\n",
        "\n",
        "model.add(Conv2D(32, (3, 3), padding='same'))\n",
        "model.add(Activation('relu'))\n",
        "model.add(MaxPooling2D(pool_size=(2, 2)))\n",
        "\n",
        "###\n",
        "###\n",
        "### TODO: ADD MORE LAYERS HERE!!!!!\n",
        "###\n",
        "###\n",
        "\n",
        "model.add(Flatten())\n",
        "model.add(Dense(512))\n",
        "model.add(Activation('relu'))\n",
        "model.add(Dense(2))\n",
        "model.add(Activation('softmax'))\n",
        "\n",
        "# initiate RMSprop optimizer\n",
        "opt = keras.optimizers.RMSprop(learning_rate=0.0001, decay=1e-6)\n",
        "\n",
        "# Let's train the model using RMSprop\n",
        "model.compile(loss='categorical_crossentropy',\n",
        "              optimizer=opt,\n",
        "              metrics=['accuracy'])\n",
        "\n",
        "# Train the CNN and plot accuracy.\n",
        "history = model.fit(inputs_train, labels_train, \\\n",
        "                    validation_data=(inputs_test, labels_test), \\\n",
        "                    epochs=70)\n",
        "plot_acc(history)\n"
      ],
      "execution_count": 33,
      "outputs": [
        {
          "output_type": "stream",
          "name": "stdout",
          "text": [
            "Epoch 1/70\n",
            "30/30 [==============================] - 1s 14ms/step - loss: 46.5303 - accuracy: 0.6365 - val_loss: 5.9565 - val_accuracy: 0.7875\n",
            "Epoch 2/70\n",
            "30/30 [==============================] - 0s 6ms/step - loss: 9.5888 - accuracy: 0.8021 - val_loss: 40.4119 - val_accuracy: 0.5292\n",
            "Epoch 3/70\n",
            "30/30 [==============================] - 0s 6ms/step - loss: 9.3769 - accuracy: 0.7781 - val_loss: 10.7870 - val_accuracy: 0.7042\n",
            "Epoch 4/70\n",
            "30/30 [==============================] - 0s 6ms/step - loss: 4.6694 - accuracy: 0.8656 - val_loss: 0.7579 - val_accuracy: 0.9417\n",
            "Epoch 5/70\n",
            "30/30 [==============================] - 0s 6ms/step - loss: 5.6537 - accuracy: 0.8469 - val_loss: 0.7679 - val_accuracy: 0.9542\n",
            "Epoch 6/70\n",
            "30/30 [==============================] - 0s 6ms/step - loss: 3.4192 - accuracy: 0.8813 - val_loss: 2.1075 - val_accuracy: 0.9167\n",
            "Epoch 7/70\n",
            "30/30 [==============================] - 0s 6ms/step - loss: 3.5762 - accuracy: 0.8677 - val_loss: 17.7142 - val_accuracy: 0.5667\n",
            "Epoch 8/70\n",
            "30/30 [==============================] - 0s 6ms/step - loss: 3.1972 - accuracy: 0.9115 - val_loss: 0.7835 - val_accuracy: 0.9458\n",
            "Epoch 9/70\n",
            "30/30 [==============================] - 0s 6ms/step - loss: 1.8464 - accuracy: 0.9208 - val_loss: 0.9821 - val_accuracy: 0.9458\n",
            "Epoch 10/70\n",
            "30/30 [==============================] - 0s 6ms/step - loss: 1.6829 - accuracy: 0.9177 - val_loss: 1.8356 - val_accuracy: 0.9083\n",
            "Epoch 11/70\n",
            "30/30 [==============================] - 0s 6ms/step - loss: 1.2470 - accuracy: 0.9240 - val_loss: 1.3040 - val_accuracy: 0.9500\n",
            "Epoch 12/70\n",
            "30/30 [==============================] - 0s 6ms/step - loss: 1.1047 - accuracy: 0.9406 - val_loss: 0.9979 - val_accuracy: 0.9458\n",
            "Epoch 13/70\n",
            "30/30 [==============================] - 0s 6ms/step - loss: 1.1967 - accuracy: 0.9438 - val_loss: 1.0814 - val_accuracy: 0.9333\n",
            "Epoch 14/70\n",
            "30/30 [==============================] - 0s 6ms/step - loss: 1.1559 - accuracy: 0.9500 - val_loss: 0.9006 - val_accuracy: 0.9458\n",
            "Epoch 15/70\n",
            "30/30 [==============================] - 0s 6ms/step - loss: 0.5443 - accuracy: 0.9594 - val_loss: 14.3672 - val_accuracy: 0.6042\n",
            "Epoch 16/70\n",
            "30/30 [==============================] - 0s 6ms/step - loss: 0.7483 - accuracy: 0.9594 - val_loss: 1.6977 - val_accuracy: 0.9167\n",
            "Epoch 17/70\n",
            "30/30 [==============================] - 0s 6ms/step - loss: 0.9161 - accuracy: 0.9427 - val_loss: 0.8102 - val_accuracy: 0.9542\n",
            "Epoch 18/70\n",
            "30/30 [==============================] - 0s 7ms/step - loss: 0.0604 - accuracy: 0.9948 - val_loss: 0.6723 - val_accuracy: 0.9542\n",
            "Epoch 19/70\n",
            "30/30 [==============================] - 0s 6ms/step - loss: 0.8770 - accuracy: 0.9625 - val_loss: 0.6915 - val_accuracy: 0.9417\n",
            "Epoch 20/70\n",
            "30/30 [==============================] - 0s 6ms/step - loss: 0.2931 - accuracy: 0.9688 - val_loss: 0.9455 - val_accuracy: 0.9292\n",
            "Epoch 21/70\n",
            "30/30 [==============================] - 0s 6ms/step - loss: 0.1018 - accuracy: 0.9896 - val_loss: 3.3462 - val_accuracy: 0.8625\n",
            "Epoch 22/70\n",
            "30/30 [==============================] - 0s 6ms/step - loss: 0.5820 - accuracy: 0.9604 - val_loss: 0.7536 - val_accuracy: 0.9417\n",
            "Epoch 23/70\n",
            "30/30 [==============================] - 0s 6ms/step - loss: 0.1702 - accuracy: 0.9781 - val_loss: 0.7059 - val_accuracy: 0.9542\n",
            "Epoch 24/70\n",
            "30/30 [==============================] - 0s 6ms/step - loss: 0.4933 - accuracy: 0.9729 - val_loss: 0.9197 - val_accuracy: 0.9375\n",
            "Epoch 25/70\n",
            "30/30 [==============================] - 0s 6ms/step - loss: 0.0612 - accuracy: 0.9937 - val_loss: 0.7387 - val_accuracy: 0.9417\n",
            "Epoch 26/70\n",
            "30/30 [==============================] - 0s 6ms/step - loss: 0.4435 - accuracy: 0.9719 - val_loss: 0.6304 - val_accuracy: 0.9542\n",
            "Epoch 27/70\n",
            "30/30 [==============================] - 0s 7ms/step - loss: 1.0349e-04 - accuracy: 1.0000 - val_loss: 0.6301 - val_accuracy: 0.9542\n",
            "Epoch 28/70\n",
            "30/30 [==============================] - 0s 6ms/step - loss: 3.4754e-05 - accuracy: 1.0000 - val_loss: 0.7335 - val_accuracy: 0.9333\n",
            "Epoch 29/70\n",
            "30/30 [==============================] - 0s 6ms/step - loss: 0.6330 - accuracy: 0.9635 - val_loss: 0.6215 - val_accuracy: 0.9625\n",
            "Epoch 30/70\n",
            "30/30 [==============================] - 0s 6ms/step - loss: 4.1569e-04 - accuracy: 1.0000 - val_loss: 0.5967 - val_accuracy: 0.9542\n",
            "Epoch 31/70\n",
            "30/30 [==============================] - 0s 7ms/step - loss: 2.4925e-05 - accuracy: 1.0000 - val_loss: 0.5900 - val_accuracy: 0.9542\n",
            "Epoch 32/70\n",
            "30/30 [==============================] - 0s 6ms/step - loss: 0.2554 - accuracy: 0.9865 - val_loss: 1.2329 - val_accuracy: 0.9208\n",
            "Epoch 33/70\n",
            "30/30 [==============================] - 0s 6ms/step - loss: 0.0076 - accuracy: 0.9979 - val_loss: 0.7566 - val_accuracy: 0.9458\n",
            "Epoch 34/70\n",
            "30/30 [==============================] - 0s 6ms/step - loss: 1.8653e-05 - accuracy: 1.0000 - val_loss: 0.7064 - val_accuracy: 0.9542\n",
            "Epoch 35/70\n",
            "30/30 [==============================] - 0s 6ms/step - loss: 5.8758e-07 - accuracy: 1.0000 - val_loss: 0.7129 - val_accuracy: 0.9542\n",
            "Epoch 36/70\n",
            "30/30 [==============================] - 0s 6ms/step - loss: 3.7947e-07 - accuracy: 1.0000 - val_loss: 0.7256 - val_accuracy: 0.9500\n",
            "Epoch 37/70\n",
            "30/30 [==============================] - 0s 6ms/step - loss: 0.4378 - accuracy: 0.9823 - val_loss: 0.7155 - val_accuracy: 0.9542\n",
            "Epoch 38/70\n",
            "30/30 [==============================] - 0s 6ms/step - loss: 9.2346e-05 - accuracy: 1.0000 - val_loss: 0.6954 - val_accuracy: 0.9542\n",
            "Epoch 39/70\n",
            "30/30 [==============================] - 0s 6ms/step - loss: 8.6939e-06 - accuracy: 1.0000 - val_loss: 0.7580 - val_accuracy: 0.9458\n",
            "Epoch 40/70\n",
            "30/30 [==============================] - 0s 6ms/step - loss: 0.5795 - accuracy: 0.9750 - val_loss: 0.9967 - val_accuracy: 0.9500\n",
            "Epoch 41/70\n",
            "30/30 [==============================] - 0s 6ms/step - loss: 0.0030 - accuracy: 0.9990 - val_loss: 0.8016 - val_accuracy: 0.9375\n",
            "Epoch 42/70\n",
            "30/30 [==============================] - 0s 6ms/step - loss: 5.2603e-06 - accuracy: 1.0000 - val_loss: 0.8041 - val_accuracy: 0.9375\n",
            "Epoch 43/70\n",
            "30/30 [==============================] - 0s 6ms/step - loss: 2.3982e-06 - accuracy: 1.0000 - val_loss: 0.8052 - val_accuracy: 0.9500\n",
            "Epoch 44/70\n",
            "30/30 [==============================] - 0s 6ms/step - loss: 0.2702 - accuracy: 0.9771 - val_loss: 1.0478 - val_accuracy: 0.9542\n",
            "Epoch 45/70\n",
            "30/30 [==============================] - 0s 6ms/step - loss: 0.1022 - accuracy: 0.9854 - val_loss: 0.9261 - val_accuracy: 0.9458\n",
            "Epoch 46/70\n",
            "30/30 [==============================] - 0s 6ms/step - loss: 0.3087 - accuracy: 0.9802 - val_loss: 0.9129 - val_accuracy: 0.9500\n",
            "Epoch 47/70\n",
            "30/30 [==============================] - 0s 6ms/step - loss: 2.8267e-06 - accuracy: 1.0000 - val_loss: 0.9046 - val_accuracy: 0.9500\n",
            "Epoch 48/70\n",
            "30/30 [==============================] - 0s 6ms/step - loss: 1.0591e-06 - accuracy: 1.0000 - val_loss: 0.9062 - val_accuracy: 0.9500\n",
            "Epoch 49/70\n",
            "30/30 [==============================] - 0s 6ms/step - loss: 6.3623e-07 - accuracy: 1.0000 - val_loss: 0.9054 - val_accuracy: 0.9500\n",
            "Epoch 50/70\n",
            "30/30 [==============================] - 0s 6ms/step - loss: 3.5277e-07 - accuracy: 1.0000 - val_loss: 0.9007 - val_accuracy: 0.9500\n",
            "Epoch 51/70\n",
            "30/30 [==============================] - 0s 6ms/step - loss: 1.4640e-07 - accuracy: 1.0000 - val_loss: 0.8997 - val_accuracy: 0.9458\n",
            "Epoch 52/70\n",
            "30/30 [==============================] - 0s 6ms/step - loss: 0.2549 - accuracy: 0.9844 - val_loss: 1.1006 - val_accuracy: 0.9583\n",
            "Epoch 53/70\n",
            "30/30 [==============================] - 0s 6ms/step - loss: 3.1262e-04 - accuracy: 1.0000 - val_loss: 0.9130 - val_accuracy: 0.9458\n",
            "Epoch 54/70\n",
            "30/30 [==============================] - 0s 6ms/step - loss: 2.1643e-07 - accuracy: 1.0000 - val_loss: 0.9062 - val_accuracy: 0.9458\n",
            "Epoch 55/70\n",
            "30/30 [==============================] - 0s 7ms/step - loss: 8.5308e-08 - accuracy: 1.0000 - val_loss: 0.9008 - val_accuracy: 0.9458\n",
            "Epoch 56/70\n",
            "30/30 [==============================] - 0s 6ms/step - loss: 4.3089e-08 - accuracy: 1.0000 - val_loss: 0.8962 - val_accuracy: 0.9417\n",
            "Epoch 57/70\n",
            "30/30 [==============================] - 0s 6ms/step - loss: 3.2782e-08 - accuracy: 1.0000 - val_loss: 0.9061 - val_accuracy: 0.9458\n",
            "Epoch 58/70\n",
            "30/30 [==============================] - 0s 6ms/step - loss: 0.0042 - accuracy: 0.9979 - val_loss: 6.2192 - val_accuracy: 0.7750\n",
            "Epoch 59/70\n",
            "30/30 [==============================] - 0s 6ms/step - loss: 0.1663 - accuracy: 0.9875 - val_loss: 0.9128 - val_accuracy: 0.9458\n",
            "Epoch 60/70\n",
            "30/30 [==============================] - 0s 6ms/step - loss: 3.9860e-08 - accuracy: 1.0000 - val_loss: 0.9155 - val_accuracy: 0.9375\n",
            "Epoch 61/70\n",
            "30/30 [==============================] - 0s 6ms/step - loss: 1.3411e-08 - accuracy: 1.0000 - val_loss: 0.9161 - val_accuracy: 0.9375\n",
            "Epoch 62/70\n",
            "30/30 [==============================] - 0s 6ms/step - loss: 1.1052e-08 - accuracy: 1.0000 - val_loss: 0.9170 - val_accuracy: 0.9458\n",
            "Epoch 63/70\n",
            "30/30 [==============================] - 0s 6ms/step - loss: 7.2022e-09 - accuracy: 1.0000 - val_loss: 0.9158 - val_accuracy: 0.9458\n",
            "Epoch 64/70\n",
            "30/30 [==============================] - 0s 7ms/step - loss: 5.7121e-09 - accuracy: 1.0000 - val_loss: 0.9184 - val_accuracy: 0.9458\n",
            "Epoch 65/70\n",
            "30/30 [==============================] - 0s 6ms/step - loss: 6.3330e-09 - accuracy: 1.0000 - val_loss: 0.9203 - val_accuracy: 0.9458\n",
            "Epoch 66/70\n",
            "30/30 [==============================] - 0s 6ms/step - loss: 3.9736e-09 - accuracy: 1.0000 - val_loss: 0.9166 - val_accuracy: 0.9417\n",
            "Epoch 67/70\n",
            "30/30 [==============================] - 0s 6ms/step - loss: 0.3896 - accuracy: 0.9812 - val_loss: 1.4351 - val_accuracy: 0.9500\n",
            "Epoch 68/70\n",
            "30/30 [==============================] - 0s 6ms/step - loss: 0.0030 - accuracy: 0.9990 - val_loss: 1.1595 - val_accuracy: 0.9417\n",
            "Epoch 69/70\n",
            "30/30 [==============================] - 0s 6ms/step - loss: 1.5025e-07 - accuracy: 1.0000 - val_loss: 1.1588 - val_accuracy: 0.9417\n",
            "Epoch 70/70\n",
            "30/30 [==============================] - 0s 6ms/step - loss: 7.0656e-08 - accuracy: 1.0000 - val_loss: 1.1509 - val_accuracy: 0.9417\n"
          ]
        },
        {
          "output_type": "display_data",
          "data": {
            "text/plain": [
              "<Figure size 432x288 with 1 Axes>"
            ],
            "image/png": "[encoded data removed]"
          },
          "metadata": {
            "needs_background": "light"
          }
        }
      ]
    },
    {
      "cell_type": "markdown",
      "metadata": {
        "id": "9JFLu0CdXM6K"
      },
      "source": [
        "**What interesting observations** do you make from the graph? How many epochs should you train for?\n",
        "\n",
        "We can also print out the structure of our model. What do the parts of the summary mean?"
      ]
    },
    {
      "cell_type": "code",
      "metadata": {
        "id": "RGwXs3C8YZl-",
        "colab": {
          "base_uri": "https://localhost:8080/"
        },
        "outputId": "d7f3b5cc-adbe-4d27-977a-6972028840cb"
      },
      "source": [
        "model.summary()"
      ],
      "execution_count": 34,
      "outputs": [
        {
          "output_type": "stream",
          "name": "stdout",
          "text": [
            "Model: \"sequential_29\"\n",
            "_________________________________________________________________\n",
            " Layer (type)                Output Shape              Param #   \n",
            "=================================================================\n",
            " reshape_13 (Reshape)        (None, 32, 32, 3)         0         \n",
            "                                                                 \n",
            " conv2d_125 (Conv2D)         (None, 32, 32, 32)        896       \n",
            "                                                                 \n",
            " activation_151 (Activation)  (None, 32, 32, 32)       0         \n",
            "                                                                 \n",
            " max_pooling2d_26 (MaxPoolin  (None, 16, 16, 32)       0         \n",
            " g2D)                                                            \n",
            "                                                                 \n",
            " flatten_13 (Flatten)        (None, 8192)              0         \n",
            "                                                                 \n",
            " dense_59 (Dense)            (None, 512)               4194816   \n",
            "                                                                 \n",
            " activation_152 (Activation)  (None, 512)              0         \n",
            "                                                                 \n",
            " dense_60 (Dense)            (None, 2)                 1026      \n",
            "                                                                 \n",
            " activation_153 (Activation)  (None, 2)                0         \n",
            "                                                                 \n",
            "=================================================================\n",
            "Total params: 4,196,738\n",
            "Trainable params: 4,196,738\n",
            "Non-trainable params: 0\n",
            "_________________________________________________________________\n"
          ]
        }
      ]
    },
    {
      "cell_type": "markdown",
      "metadata": {
        "id": "YXINPAJvRr9W"
      },
      "source": [
        "#Advanced: Cats vs. Dogs with CNN\n",
        "\n",
        "So far, we've trained a CNN to distinguish between small images of cats and small images of dogs. It's more challenging and time-consuming to train CNNs for bigger images or harder tasks, like distinguishing dogs from cats (which look a lot more like dogs than roads do!)\n",
        "\n",
        "In this exercise, you'll adapt your previous model to classify large images of dogs vs. cats, and then try implementing a famous CNN architecture. Along the way, you'll deal with some of the debugging that machine learning engineers often have to handle."
      ]
    },
    {
      "cell_type": "code",
      "metadata": {
        "id": "6gU39z3jNMAt",
        "colab": {
          "base_uri": "https://localhost:8080/"
        },
        "outputId": "8165daae-de78-4877-ceab-ff933acd82c9"
      },
      "source": [
        "#@title Run this to load cat and dog data. { display-mode: \"form\" }\n",
        "\n",
        "#Code here from https://colab.research.google.com/github/google/eng-edu/blob/master/ml/pc/exercises/image_classification_part1.ipynb#scrollTo=4PIP1rkmeAYS\n",
        "\n",
        "import tensorflow as tf\n",
        "import os \n",
        "from tensorflow.keras.preprocessing.image import ImageDataGenerator\n",
        "from google.colab.patches import cv2_imshow\n",
        "import cv2\n",
        "import matplotlib.pyplot as plt\n",
        "\n",
        "try:\n",
        "  road_model = model\n",
        "  road_saved = True\n",
        "except NameError:\n",
        "  road_saved = False\n",
        "\n",
        "IMG_SHAPE  = 150  # Our training data consists of images with width of 150 pixels and height of 150 pixels\n",
        "_URL = 'https://storage.googleapis.com/mledu-datasets/cats_and_dogs_filtered.zip'\n",
        "zip_dir = tf.keras.utils.get_file('cats_and_dogs_filterted.zip', origin=_URL, extract=True)\n",
        "base_dir = os.path.join(os.path.dirname(zip_dir), 'cats_and_dogs_filtered')\n",
        "train_dir = os.path.join(base_dir, 'train')\n",
        "validation_dir = os.path.join(base_dir, 'validation')\n",
        "\n",
        "train_cats_dir = os.path.join(train_dir, 'cats')  # directory with our training cat pictures\n",
        "train_dogs_dir = os.path.join(train_dir, 'dogs')  # directory with our training dog pictures\n",
        "validation_cats_dir = os.path.join(validation_dir, 'cats')  # directory with our validation cat pictures\n",
        "validation_dogs_dir = os.path.join(validation_dir, 'dogs')  # directory with our validation dog pictures\n",
        "train_image_generator      = ImageDataGenerator()  # Generator for our training data\n",
        "validation_image_generator = ImageDataGenerator()  # Generator for our validation data\n",
        "train_data = train_image_generator.flow_from_directory(batch_size=2000,\n",
        "                                                           directory=train_dir,\n",
        "                                                           shuffle=True,\n",
        "                                                           target_size=(IMG_SHAPE,IMG_SHAPE), #(150,150)\n",
        "                                                           class_mode='binary').next()\n",
        "val_data = validation_image_generator.flow_from_directory(batch_size=1000,\n",
        "                                                              directory=validation_dir,\n",
        "                                                              shuffle=False,\n",
        "                                                              target_size=(IMG_SHAPE,IMG_SHAPE), #(150,150)\n",
        "\n",
        "                                                              class_mode='binary').next()\n",
        "cd_train_inputs, cd_train_labels = train_data\n",
        "cd_test_inputs, cd_test_labels = val_data"
      ],
      "execution_count": 35,
      "outputs": [
        {
          "output_type": "stream",
          "name": "stdout",
          "text": [
            "Downloading data from https://storage.googleapis.com/mledu-datasets/cats_and_dogs_filtered.zip\n",
            "68608000/68606236 [==============================] - 0s 0us/step\n",
            "68616192/68606236 [==============================] - 0s 0us/step\n",
            "Found 2000 images belonging to 2 classes.\n",
            "Found 1000 images belonging to 2 classes.\n"
          ]
        }
      ]
    },
    {
      "cell_type": "markdown",
      "metadata": {
        "id": "1y5etOJwScaG"
      },
      "source": [
        "**Run the code below to see the dimensions of our training and validation data. What does each number mean? What is different than our previous dataset?** "
      ]
    },
    {
      "cell_type": "code",
      "metadata": {
        "id": "kjdedJ0VNvWg",
        "colab": {
          "base_uri": "https://localhost:8080/"
        },
        "outputId": "d4f20cf9-4354-4d75-875b-c80a7b51a818"
      },
      "source": [
        "print(cd_train_inputs.shape) \n",
        "print(cd_train_labels.shape) \n",
        "print(cd_test_inputs.shape) \n",
        "print(cd_test_labels.shape) "
      ],
      "execution_count": 36,
      "outputs": [
        {
          "output_type": "stream",
          "name": "stdout",
          "text": [
            "(2000, 150, 150, 3)\n",
            "(2000,)\n",
            "(1000, 150, 150, 3)\n",
            "(1000,)\n"
          ]
        }
      ]
    },
    {
      "cell_type": "markdown",
      "metadata": {
        "id": "qIAkgOqWTAL7"
      },
      "source": [
        "**Run this code to see a random image from our training data (different each time).**"
      ]
    },
    {
      "cell_type": "code",
      "metadata": {
        "id": "HooiJ-RrQPcA",
        "colab": {
          "base_uri": "https://localhost:8080/",
          "height": 287
        },
        "outputId": "d187ea3c-ae96-4f6e-caa5-f0e01b315c05"
      },
      "source": [
        "index = np.random.randint(len(cd_train_inputs))\n",
        "plt.imshow(cd_train_inputs[index]/255)\n",
        "plt.show()\n",
        "print(\"Label:\",cd_train_labels[index])"
      ],
      "execution_count": 37,
      "outputs": [
        {
          "output_type": "display_data",
          "data": {
            "text/plain": [
              "<Figure size 432x288 with 1 Axes>"
            ],
            "image/png": "[encoded data removed]"
          },
          "metadata": {
            "needs_background": "light"
          }
        },
        {
          "output_type": "stream",
          "name": "stdout",
          "text": [
            "Label: 0.0\n"
          ]
        }
      ]
    },
    {
      "cell_type": "markdown",
      "metadata": {
        "id": "HOwP9kX9UshH"
      },
      "source": [
        "**By adapting code from the previous exercise, build, train, and test a CNN to classify cats vs. dogs.**\n",
        "**Hints:**\n",
        "*   Use print(model.summary()) for a useful visualization of your model's architecture. Compare the summary of your cat/road and cat/dog classifiers.\n",
        "*  Substitute the names of the new datasets.\n",
        "*  Get a \"first try\" working by making small adjustments to a previous model before trying to optimize the accuracy. You can temporarily comment out layers as you figure things out.\n",
        "*  The outputs have different shapes betweeen the two datasets. What do you need to change? (You will get an ValueError that suggests how to transform the output to a one-hot encoding.) \n",
        "*  If you run out of memory, restart the notebook and/or use your knowledge of convolution arithmetic to reduce the size of an intermediate output (see [Keras documentation](https://www.tensorflow.org/api_docs/python/tf/keras/layers/Conv2D)).\n",
        "* Dropout layers help reduce overfitting.\n"
      ]
    },
    {
      "cell_type": "code",
      "metadata": {
        "id": "AeuqlzigZZ8I",
        "colab": {
          "base_uri": "https://localhost:8080/",
          "height": 1000
        },
        "outputId": "9a69f2ff-188b-46e8-f6e4-c91a01ce9df3"
      },
      "source": [
        "#TODO: Your code here to build, train, and test a cats vs. dogs CNN!\n",
        "model = Sequential()\n",
        "#model.add(Reshape((32, 32, 3)))\n",
        "\n",
        "model.add(Conv2D(32, (3, 3), padding='same'))\n",
        "model.add(Activation('relu'))\n",
        "model.add(MaxPooling2D(pool_size=(5, 5)))\n",
        "\n",
        "###\n",
        "###\n",
        "### TODO: ADD MORE LAYERS HERE!!!!!\n",
        "model.add(Conv2D(64, (5, 5), padding='same'))\n",
        "model.add(Activation('relu'))\n",
        "model.add(MaxPooling2D(pool_size=(3, 3)))\n",
        "\n",
        "###\n",
        "###\n",
        "\n",
        "model.add(Flatten())\n",
        "model.add(Dense(512))\n",
        "model.add(Activation('relu'))\n",
        "model.add(Dense(2))\n",
        "model.add(Activation('softmax'))\n",
        "\n",
        "# initiate RMSprop optimizer\n",
        "opt = keras.optimizers.RMSprop(learning_rate=0.0001, decay=1e-6)\n",
        "\n",
        "# Let's train the model using RMSprop\n",
        "model.compile(loss='categorical_crossentropy',\n",
        "              optimizer=opt,\n",
        "              metrics=['accuracy'])\n",
        "\n",
        "# Train the CNN and plot accuracy.\n",
        "history = model.fit(cd_train_inputs, to_categorical(cd_train_labels), \\\n",
        "                    validation_data=(cd_test_inputs, to_categorical(cd_test_labels)), \\\n",
        "                    epochs=25)\n",
        "plot_acc(history)\n",
        "\n",
        "#If you run into errors, see the hints above for help debugging! \n",
        "#\n",
        "#\n"
      ],
      "execution_count": 43,
      "outputs": [
        {
          "output_type": "stream",
          "name": "stdout",
          "text": [
            "Epoch 1/25\n",
            "63/63 [==============================] - 3s 30ms/step - loss: 16.1512 - accuracy: 0.5060 - val_loss: 2.2739 - val_accuracy: 0.5800\n",
            "Epoch 2/25\n",
            "63/63 [==============================] - 1s 22ms/step - loss: 1.6573 - accuracy: 0.5945 - val_loss: 1.0998 - val_accuracy: 0.5960\n",
            "Epoch 3/25\n",
            "63/63 [==============================] - 1s 22ms/step - loss: 0.7318 - accuracy: 0.6890 - val_loss: 0.8626 - val_accuracy: 0.6210\n",
            "Epoch 4/25\n",
            "63/63 [==============================] - 1s 22ms/step - loss: 0.4712 - accuracy: 0.7935 - val_loss: 0.9432 - val_accuracy: 0.6330\n",
            "Epoch 5/25\n",
            "63/63 [==============================] - 1s 22ms/step - loss: 0.3306 - accuracy: 0.8560 - val_loss: 0.8891 - val_accuracy: 0.6520\n",
            "Epoch 6/25\n",
            "63/63 [==============================] - 1s 22ms/step - loss: 0.2290 - accuracy: 0.9025 - val_loss: 1.1506 - val_accuracy: 0.6090\n",
            "Epoch 7/25\n",
            "63/63 [==============================] - 1s 22ms/step - loss: 0.1515 - accuracy: 0.9410 - val_loss: 1.2551 - val_accuracy: 0.6350\n",
            "Epoch 8/25\n",
            "63/63 [==============================] - 1s 22ms/step - loss: 0.1246 - accuracy: 0.9505 - val_loss: 1.4571 - val_accuracy: 0.6080\n",
            "Epoch 9/25\n",
            "63/63 [==============================] - 1s 22ms/step - loss: 0.0850 - accuracy: 0.9690 - val_loss: 1.5125 - val_accuracy: 0.6450\n",
            "Epoch 10/25\n",
            "63/63 [==============================] - 1s 22ms/step - loss: 0.0786 - accuracy: 0.9765 - val_loss: 1.1744 - val_accuracy: 0.6720\n",
            "Epoch 11/25\n",
            "63/63 [==============================] - 1s 22ms/step - loss: 0.0411 - accuracy: 0.9860 - val_loss: 1.4014 - val_accuracy: 0.6640\n",
            "Epoch 12/25\n",
            "63/63 [==============================] - 1s 22ms/step - loss: 0.0624 - accuracy: 0.9810 - val_loss: 1.7930 - val_accuracy: 0.6230\n",
            "Epoch 13/25\n",
            "63/63 [==============================] - 1s 22ms/step - loss: 0.0593 - accuracy: 0.9790 - val_loss: 1.4382 - val_accuracy: 0.6770\n",
            "Epoch 14/25\n",
            "63/63 [==============================] - 1s 22ms/step - loss: 0.0487 - accuracy: 0.9875 - val_loss: 1.4125 - val_accuracy: 0.6710\n",
            "Epoch 15/25\n",
            "63/63 [==============================] - 1s 23ms/step - loss: 0.0527 - accuracy: 0.9875 - val_loss: 1.4418 - val_accuracy: 0.6740\n",
            "Epoch 16/25\n",
            "63/63 [==============================] - 1s 22ms/step - loss: 0.0267 - accuracy: 0.9925 - val_loss: 1.5449 - val_accuracy: 0.6790\n",
            "Epoch 17/25\n",
            "63/63 [==============================] - 1s 23ms/step - loss: 0.0438 - accuracy: 0.9910 - val_loss: 1.6198 - val_accuracy: 0.6630\n",
            "Epoch 18/25\n",
            "63/63 [==============================] - 1s 23ms/step - loss: 0.0681 - accuracy: 0.9860 - val_loss: 1.5089 - val_accuracy: 0.6850\n",
            "Epoch 19/25\n",
            "63/63 [==============================] - 1s 23ms/step - loss: 0.0223 - accuracy: 0.9935 - val_loss: 1.5775 - val_accuracy: 0.6890\n",
            "Epoch 20/25\n",
            "63/63 [==============================] - 1s 22ms/step - loss: 0.0478 - accuracy: 0.9910 - val_loss: 1.6256 - val_accuracy: 0.6720\n",
            "Epoch 21/25\n",
            "63/63 [==============================] - 1s 22ms/step - loss: 0.0044 - accuracy: 0.9990 - val_loss: 3.9536 - val_accuracy: 0.6120\n",
            "Epoch 22/25\n",
            "63/63 [==============================] - 1s 22ms/step - loss: 0.0156 - accuracy: 0.9955 - val_loss: 1.7874 - val_accuracy: 0.6650\n",
            "Epoch 23/25\n",
            "63/63 [==============================] - 1s 22ms/step - loss: 0.1124 - accuracy: 0.9865 - val_loss: 1.7351 - val_accuracy: 0.6840\n",
            "Epoch 24/25\n",
            "63/63 [==============================] - 1s 23ms/step - loss: 0.0078 - accuracy: 0.9965 - val_loss: 2.3342 - val_accuracy: 0.6790\n",
            "Epoch 25/25\n",
            "63/63 [==============================] - 1s 22ms/step - loss: 0.0243 - accuracy: 0.9940 - val_loss: 3.2048 - val_accuracy: 0.6130\n"
          ]
        },
        {
          "output_type": "display_data",
          "data": {
            "text/plain": [
              "<Figure size 432x288 with 1 Axes>"
            ],
            "image/png": "[encoded data removed]"
          },
          "metadata": {
            "needs_background": "light"
          }
        }
      ]
    },
    {
      "cell_type": "markdown",
      "metadata": {
        "id": "m6sFSGEqjPwe"
      },
      "source": [
        "#Advanced Challenge: Implementing a Famous Architecture for Cats vs. Dogs\n",
        "\n",
        "Having trouble designing an effective architecture? Try implementing a version of AlexNet, one of the most famous CNNs for image convolution ever. You can find this image and other useful information on this network [here](https://towardsdatascience.com/the-w3h-of-alexnet-vggnet-resnet-and-inception-7baaaecccc96).\n",
        "\n",
        "![](https://lh4.googleusercontent.com/gFAxn9Z-Y1lgkNy2GfsqjXy1DvSuYF8rvP3CslRvmuoP5SUaJMrEOr24YShU_LwalLpYNJFwpJgcDh9whk9XrMOGQ1ADQ9FY_0saicCVH0jsNPDKOYBcTG4YhbqpbPolW4hZSdUsDQ)\n",
        "\n",
        "How do we read this diagram?\n",
        "\n",
        "On the left side, we start with images of dimension 227x227x3 (RGB). We apply a filter composed of 96 kernels of size 11x11, with stride size 4. We end up with data of dimension 55x55x96. We pass through multiple layers of convolution and max pooling as shown, before ending with three dense (fully connected) layers.\n",
        "\n",
        "Not shown: each layer uses ReLU activation, and we include dropout before the first two dense layers. Make sure to include those!\n",
        "\n",
        "You'll want to adjust some of these dimensions, for a few reasons: we're starting with 150x150 rather than 227x227 images, ending with 2 labels rather than 1000, and have limited data and memory. Use your knowledge of convolution arithmetic (see CNN slides) and the [Keras documentation](https://www.tensorflow.org/api_docs/python/tf/keras/layers/Conv2D) to change the stride, kernel, and/or padding.\n",
        "\n",
        "Use model.summary() to understand the dimensions of your data at each step. To speed things up as you're building, you can set the number of epochs to 1."
      ]
    },
    {
      "cell_type": "code",
      "metadata": {
        "id": "8FHg8YTGtQ2t"
      },
      "source": [
        "model = Sequential()\n",
        "#TODO: Your code to run, train, and test AlexNet here:\n"
      ],
      "execution_count": null,
      "outputs": []
    },
    {
      "cell_type": "markdown",
      "metadata": {
        "id": "PlF308hDjwyC"
      },
      "source": [
        "You might find that even AlexNet isn't working that well for you!\n",
        "\n",
        "This is because having a good architecture is only half the battle: AlexNet is a complex model designed to learn from millions of images. We're using a small dataset of only 2000 training images, so it's not surprising that our results aren't great. Our model is overfitting: essentially memorizing the few training images, rather than really learning the difference between a cat and a dog. (The advantage is that our model trains quickly.)\n",
        "\n",
        "To get really good performance, we need more data. If we can't find more, we could use *data augmentation*: inventing new training data by transforming our existing images. You can read more about it at https://blog.keras.io/building-powerful-image-classification-models-using-very-little-data.html."
      ]
    },
    {
      "cell_type": "markdown",
      "metadata": {
        "id": "RVzEpI_xWpE5"
      },
      "source": [
        "![](https://images.pexels.com/photos/316/black-and-white-animal-dog-pet.jpg?auto=compress&cs=tinysrgb&dpr=2&h=650&w=940)"
      ]
    }
  ]
}